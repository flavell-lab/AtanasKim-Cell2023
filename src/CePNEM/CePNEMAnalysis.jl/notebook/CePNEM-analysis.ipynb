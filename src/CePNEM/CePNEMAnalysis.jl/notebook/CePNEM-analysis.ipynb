{
 "cells": [
  {
   "attachments": {},
   "cell_type": "markdown",
   "id": "630c1010",
   "metadata": {},
   "source": [
    "# *CePNEM analysis notebook v1.0.0*\n",
    "\n",
    "This notebook is a guide to interpreting CePNEM model fits on either NeuroPAL or other GCaMP data. It can compute a variety of statistics based on the CePNEM fits, including encoding categorization of neurons, encoding change, variability, and more. After running this notebook, check out the companion notebooks `CePNEM-plots.ipynb` for interactive plotting of the data, `CePNEM-UMAP.ipynb` to compute and visualize UMAP dimensionality reduction, and `CePNEM-auxiliary.ipynb` for other miscallaneous code, such as computing model validation statistics and other controls and small analyses.\n",
    "\n",
    "This notebook is intended to be used after you have already fit the CePNEM model on all of your data; see `CePNEM-fit.ipynb` for an example notebook on how to do this.\n",
    "\n",
    "Note that this notebook will use a lot of memory (1-3GB per dataset). Once you have run it once, you can save the output files to small `JLD2` files and load them in this or other notebooks (these files will use ~15MB per dataset).\n",
    "\n",
    "For more information, see https://flavell-lab.github.io/CePNEMAnalysis.jl and https://flavell-lab.github.io/CePNEM.jl"
   ]
  },
  {
   "attachments": {},
   "cell_type": "markdown",
   "id": "6b57247d",
   "metadata": {},
   "source": [
    "# Initialization\n",
    "\n",
    "This section imports the necessary packages, and initializes the plotting settings.\n",
    "\n",
    "Expected runtime: 1-5 minutes"
   ]
  },
  {
   "cell_type": "code",
   "execution_count": 2,
   "id": "7bbe3082",
   "metadata": {},
   "outputs": [],
   "source": [
    "using CePNEMAnalysis, StatsBase, Plots, Plots.PlotMeasures, ProgressMeter, CePNEM, MultivariateStats,\n",
    "        ColorVectorSpace, MultipleTesting, HDF5, JLD2, Gen, ANTSUNData, FlavellConstants, UMAP, ImageShow, LinearAlgebra,\n",
    "        ImageCore, Clustering, Images, GLMNet, Combinatorics, Distributions, FlavellBase, PyPlot, ANTSUNData, NeuroPALData,\n",
    "        EncoderModel, AnalysisBase, HypothesisTests, MultipleTesting, PyCall, SpecialFunctions, FileIO, StatsPlots, TotalVariation, DelimitedFiles, Interpolations,\n",
    "        GLM, DataFrames, KernelDensity, MultiKDE, Optim, ForwardDiff, HierarchicalPosteriorModel, ColorTypes, Random, DataStructures\n",
    "\n",
    "using ScikitLearn.CrossValidation: cross_val_score"
   ]
  },
  {
   "cell_type": "markdown",
   "id": "128e982e",
   "metadata": {},
   "source": [
    "## Check memory consumption\n",
    "\n",
    "This notebook can consume a large amount of memory - this function allows you to check usage."
   ]
  },
  {
   "cell_type": "code",
   "execution_count": 1,
   "id": "13a2ec54",
   "metadata": {},
   "outputs": [
    {
     "data": {
      "text/plain": [
       "\"374392\""
      ]
     },
     "execution_count": 1,
     "metadata": {},
     "output_type": "execute_result"
    }
   ],
   "source": [
    "function get_memory()\n",
    "    GC.gc()\n",
    "    out = read(`top -bn1 -p $(getpid())`, String)\n",
    "    split(split(out,  \"\\n\")[end-1])[6]\n",
    "end\n",
    "\n",
    "get_memory()"
   ]
  },
  {
   "cell_type": "markdown",
   "id": "1dd3bec3",
   "metadata": {},
   "source": [
    "# Load data\n",
    "\n",
    "This section loads all necessary data, including CePNEM model fits.\n",
    "\n",
    "Expected runtime: 5-20 minutes"
   ]
  },
  {
   "attachments": {},
   "cell_type": "markdown",
   "id": "bbaf61d7",
   "metadata": {},
   "source": [
    "## Load raw CePNEM 10d output data"
   ]
  },
  {
   "attachments": {},
   "cell_type": "markdown",
   "id": "947ebc8d",
   "metadata": {},
   "source": [
    "This section loads the CePNEM output data. It is recommended to keep all parameters at default, but you should change the paths to the CePNEM fits and data files, as well as which datasets you want to use."
   ]
  },
  {
   "cell_type": "code",
   "execution_count": 4,
   "id": "75fd5a89",
   "metadata": {},
   "outputs": [],
   "source": [
    "cepnem_fit_path = \"/data1/prj_kfc/data/gen_data/neuropal_latest_all\"\n",
    "path_analysis_dict = \"/data1/prj_kfc/data/analysis_dict/analysis_dict.jld2\"\n",
    "path_relative_encoding_strength_dict = \"/data1/prj_kfc/data/analysis_dict/relative_encoding_strength.jld2\"\n",
    "path_fit_results = \"/data1/prj_kfc/data/analysis_dict/fit_results.jld2\"\n",
    "path_fit_results_lite = \"/data1/prj_kfc/data/analysis_dict/fit_results_lite.jld2\"\n",
    "path_h5_data = \"/data1/prj_kfc/data/processed_h5\"\n",
    "\n",
    "datasets_gfp = [\"2022-01-07-03\", \"2022-03-16-01\", \"2022-03-16-02\"]\n",
    "datasets_baseline = [\"2021-05-26-07\", \"2021-06-11-01\", \"2021-08-04-06\", \"2021-08-17-01\", \"2021-08-18-01\", \"2021-09-22-05\", \"2021-10-26-01\", \"2021-11-12-01\", \"2021-11-12-05\", \"2022-01-09-01\", \"2022-01-17-01\", \"2022-04-05-01\", \"2022-04-12-04\", \"2022-04-14-04\"]\n",
    "datasets_stim = [\"2021-09-06-09\", \"2021-09-14-01\", \"2021-09-14-05\", \"2021-09-23-01\", \"2021-09-30-01\"]\n",
    "datasets_stim_1600 = [\"2022-02-08-04\", \"2022-02-16-01\", \"2022-02-16-04\", \"2022-03-15-04\", \"2022-03-22-01\", \"2022-04-18-04\"]\n",
    "datasets_neuropal_1600 = [\"2022-06-14-01\", \"2022-06-14-07\", \"2022-06-14-13\", \"2022-06-28-01\", \"2022-06-28-07\", \"2022-07-15-06\", \"2022-07-15-12\", \"2022-07-20-01\", \"2022-07-26-01\", \"2022-08-02-01\", \"2023-01-23-08\", \"2023-01-23-15\", \"2023-01-23-21\", \"2023-01-19-01\", \"2023-01-19-08\", \"2023-01-19-22\", \"2023-01-09-28\", \"2023-01-17-01\", \"2023-01-19-15\", \"2023-01-23-01\", \"2023-03-07-01\"];\n",
    "datasets_neuropal_stim = [\"2022-12-21-06\", \"2023-01-05-01\", \"2023-01-05-18\", \"2023-01-06-01\", \"2023-01-06-08\", \"2023-01-06-15\", \"2023-01-09-08\", \"2023-01-09-15\", \"2023-01-09-22\", \"2023-01-10-07\", \"2023-01-10-14\", \"2023-01-13-07\", \"2023-01-16-01\", \"2023-01-16-08\", \"2023-01-16-15\", \"2023-01-16-22\", \"2023-01-17-07\", \"2023-01-17-14\", \"2023-01-18-01\"]\n",
    "datasets_neuropal_800 = []\n",
    "datasets_baseline_merged = [\"2021-05-26-07\", \"2021-06-11-01\", \"2021-08-04-06\", \"2021-08-17-01\", \"2021-08-18-01\", \"2021-09-22-05\", \"2021-10-26-01\", \"2021-11-12-01\", \"2021-11-12-05\", \"2022-01-09-01\"]\n",
    "datasets_baseline_1600 = [\"2022-01-17-01\", \"2022-04-05-01\", \"2022-04-12-04\", \"2022-04-14-04\"];\n",
    "\n",
    "get_h5_data = dataset -> import_data(joinpath(path_h5_data, \"$(dataset)-data.h5\"))\n",
    "\n",
    "datasets_neuropal = deepcopy(datasets_neuropal_800)\n",
    "append!(datasets_neuropal, datasets_neuropal_1600)\n",
    "append!(datasets_neuropal, datasets_neuropal_stim)\n",
    "\n",
    "datasets_gcamp = String[]\n",
    "datasets_swf415 = String[]\n",
    "datasets = String[]\n",
    "for d in [datasets_baseline, datasets_stim, datasets_stim_1600]\n",
    "    append!(datasets_gcamp, d)\n",
    "    append!(datasets, d)\n",
    "    append!(datasets_swf415, d)\n",
    "end\n",
    "append!(datasets, datasets_neuropal)\n",
    "append!(datasets_gcamp, datasets_neuropal)\n",
    "append!(datasets, datasets_gfp);\n"
   ]
  },
  {
   "cell_type": "code",
   "execution_count": 5,
   "id": "fd327d82",
   "metadata": {},
   "outputs": [],
   "source": [
    "n_params = 11 # set this to the number of parameters in the Gen model. (NL10d has 11.)\n",
    "n_particles = -1 # set this to the number of particles fit.\n",
    "n_samples = 10001 # set this to the number of particles sampled.\n",
    "\n",
    "thresh_artifact = 0.125 # Threshold to not detect motion artifacts as encodings\n",
    "thresh_weak = 0.25 # Threshold to not detect weak, spurious correlations as encodings\n",
    "p = 0.05; # FDR p-value"
   ]
  },
  {
   "cell_type": "markdown",
   "id": "171287a5",
   "metadata": {},
   "source": [
    "If you've already run this notebook and saved the CePNEM fit results in a JLD2 file, you can load it here by uncommenting this code:"
   ]
  },
  {
   "cell_type": "code",
   "execution_count": 6,
   "id": "074723b7",
   "metadata": {},
   "outputs": [],
   "source": [
    "fit_results = Dict()\n",
    "if isfile(path_fit_results)\n",
    "    f = JLD2.jldopen(path_fit_results)\n",
    "    fit_results = f[\"fit_results\"]\n",
    "    close(f)\n",
    "end"
   ]
  },
  {
   "cell_type": "markdown",
   "id": "a96baf74",
   "metadata": {},
   "source": [
    "The analyses in this notebook in the \"Heat stimulus analysis\" section do not require loading the entire CePNEM posterior distributions. You can load a smaller version of `fit_results` here by uncommenting this code:"
   ]
  },
  {
   "cell_type": "code",
   "execution_count": 5,
   "id": "e4c18a80",
   "metadata": {},
   "outputs": [],
   "source": [
    "# fit_results = Dict()\n",
    "# if isfile(path_fit_results_lite)\n",
    "#     f = JLD2.jldopen(path_fit_results_lite)\n",
    "#     fit_results = f[\"fit_results_lite\"]\n",
    "#     close(f)\n",
    "# end"
   ]
  },
  {
   "cell_type": "markdown",
   "id": "b996d0b9",
   "metadata": {},
   "source": [
    "Otherwise, you can load the CePNEM data from the raw CePNEM output:"
   ]
  },
  {
   "cell_type": "code",
   "execution_count": 10,
   "id": "52c88493",
   "metadata": {},
   "outputs": [
    {
     "name": "stderr",
     "output_type": "stream",
     "text": [
      "\u001b[32mProgress: 100%|█████████████████████████████████████████| Time: 0:08:22\u001b[39m\n"
     ]
    },
    {
     "name": "stdout",
     "output_type": "stream",
     "text": [
      "The following code checks for incomplete fits. It should return an empty list.\n",
      "If it doesn't it means that some CePNEM fits have failed to load properly and you may want to check that both all the CePNEM models finished fitting, and that you are loading from the correct directories.\n"
     ]
    },
    {
     "data": {
      "text/plain": [
       "Tuple{String, Any}[]"
      ]
     },
     "execution_count": 10,
     "metadata": {},
     "output_type": "execute_result"
    }
   ],
   "source": [
    "# `fit_results` uses about 20GB memory\n",
    "\n",
    "fit_ranges = Dict()\n",
    "for dataset in datasets_gfp\n",
    "    if dataset == \"2022-03-16-02\"\n",
    "        fit_ranges[dataset] = [1:800, 801:1544]\n",
    "    else\n",
    "        fit_ranges[dataset] = [1:800, 801:1600]\n",
    "    end\n",
    "end\n",
    "\n",
    "for dataset in datasets_baseline\n",
    "    fit_ranges[dataset] = [1:800, 801:1600]\n",
    "end\n",
    "\n",
    "for dataset in datasets_neuropal_1600\n",
    "    fit_ranges[dataset] = [1:800, 801:1600]\n",
    "end\n",
    "\n",
    "for dataset in datasets_neuropal_800\n",
    "    fit_ranges[dataset] = [1:800]\n",
    "end\n",
    "\n",
    "\n",
    "for dataset in datasets_stim\n",
    "    dict = get_h5_data(dataset)\n",
    "    stim = Int(dict[\"stim_begin_confocal\"][1])\n",
    "    fit_ranges[dataset] = [1:stim-1, stim+10:800, 801:1600]\n",
    "end\n",
    "\n",
    "for dataset in datasets_stim_1600\n",
    "    dict = get_h5_data(dataset)\n",
    "    stim = Int(dict[\"stim_begin_confocal\"][1])\n",
    "    fit_ranges[dataset] = [1:stim-1, stim+10:stim+409, stim+410:1600]\n",
    "end\n",
    "\n",
    "fit_ranges[\"2022-12-21-06\"] = [1:800, 812:1609]\n",
    "fit_ranges[\"2023-01-05-01\"] = [1:799, 810:1609]\n",
    "fit_ranges[\"2023-01-05-18\"] = [1:799, 810:1609]\n",
    "fit_ranges[\"2023-01-06-01\"] = [1:799, 810:1609]\n",
    "fit_ranges[\"2023-01-06-08\"] = [1:799, 810:1609]\n",
    "fit_ranges[\"2023-01-06-15\"] = [1:800, 811:1610]\n",
    "fit_ranges[\"2023-01-09-08\"] = [1:799, 810:1609]\n",
    "fit_ranges[\"2023-01-09-15\"] = [1:800, 811:1610]\n",
    "fit_ranges[\"2023-01-09-22\"] = [1:799, 810:1609]\n",
    "fit_ranges[\"2023-01-10-07\"] = [1:799, 810:1609]\n",
    "fit_ranges[\"2023-01-10-14\"] = [1:800, 811:1610]\n",
    "fit_ranges[\"2023-01-13-07\"] = [1:799, 810:1609]\n",
    "fit_ranges[\"2023-01-16-01\"] = [1:800, 811:1610]\n",
    "fit_ranges[\"2023-01-16-08\"] = [1:800, 811:1610]\n",
    "fit_ranges[\"2023-01-16-15\"] = [1:799, 810:1609]\n",
    "fit_ranges[\"2023-01-16-22\"] = [1:799, 810:1609]\n",
    "fit_ranges[\"2023-01-17-07\"] = [1:799, 810:1609]\n",
    "fit_ranges[\"2023-01-17-14\"] = [1:799, 810:1609]\n",
    "fit_ranges[\"2023-01-18-01\"] = [1:799, 810:1609]\n",
    "\n",
    "fit_results, incomplete_datasets = load_CePNEM_output(datasets, fit_ranges, cepnem_fit_path, path_h5_data, n_params, n_particles, n_samples, true);\n",
    "\n",
    "\n",
    "println(\"The following code checks for incomplete fits. It should return an empty list.\")\n",
    "println(\"If it doesn't it means that some CePNEM fits have failed to load properly and you may want to check that both all the CePNEM models finished fitting, and that you are loading from the correct directories.\")\n",
    "[(dataset, sum(incomplete_datasets[dataset])) for dataset in datasets if sum(incomplete_datasets[dataset])>0]\n"
   ]
  },
  {
   "attachments": {},
   "cell_type": "markdown",
   "id": "7deeea56",
   "metadata": {},
   "source": [
    "### Identify new datasets\n",
    "\n",
    "If you later add new datasets and want to run CePNEM analysis on them, set this to the set of new datasets added to avoid recomputing things for datasets you've already analyzed. If you update the code or other methods and want to rerun everything fresh, set this to all datasets."
   ]
  },
  {
   "cell_type": "code",
   "execution_count": 6,
   "id": "e0e00fb3",
   "metadata": {},
   "outputs": [],
   "source": [
    "datasets_compute = datasets;"
   ]
  },
  {
   "cell_type": "code",
   "execution_count": 7,
   "id": "c95e8bbb",
   "metadata": {},
   "outputs": [],
   "source": [
    "datasets_stim_all = deepcopy(datasets_stim)\n",
    "append!(datasets_stim_all, datasets_stim_1600);\n",
    "append!(datasets_stim_all, datasets_neuropal_stim);\n",
    "datasets_neuropal_baseline = [d for d in datasets_neuropal if !(d in datasets_stim_all)];"
   ]
  },
  {
   "cell_type": "code",
   "execution_count": 8,
   "id": "8d25e3d6",
   "metadata": {},
   "outputs": [],
   "source": [
    "fit_results_gcamp = Dict()\n",
    "for dataset in datasets_gcamp\n",
    "    fit_results_gcamp[dataset] = fit_results[dataset]\n",
    "end\n",
    "\n",
    "fit_results_baseline = Dict()\n",
    "for dataset in datasets_baseline\n",
    "    fit_results_baseline[dataset] = fit_results[dataset]\n",
    "end\n",
    "\n",
    "fit_results_neuropal = Dict()\n",
    "for dataset in datasets_neuropal\n",
    "    fit_results_neuropal[dataset] = fit_results[dataset]\n",
    "end\n",
    "\n",
    "fit_results_neuropal_baseline = Dict()\n",
    "for dataset in datasets_neuropal_baseline\n",
    "    fit_results_neuropal_baseline[dataset] = fit_results[dataset]\n",
    "end\n",
    "\n",
    "fit_results_baseline_1600 = Dict()\n",
    "for dataset in datasets_baseline_1600\n",
    "    fit_results_baseline_1600[dataset] = fit_results[dataset]\n",
    "end\n",
    "\n",
    "fit_results_baseline_merged = Dict()\n",
    "for dataset in datasets_baseline_merged\n",
    "    fit_results_baseline_merged[dataset] = fit_results[dataset]\n",
    "end\n",
    "\n",
    "fit_results_stim = Dict()\n",
    "for dataset in datasets_stim_all\n",
    "    fit_results_stim[dataset] = fit_results[dataset]\n",
    "end\n",
    "\n",
    "fit_results_gfp = Dict()\n",
    "for dataset in datasets_gfp\n",
    "    fit_results_gfp[dataset] = fit_results[dataset]\n",
    "end"
   ]
  },
  {
   "attachments": {},
   "cell_type": "markdown",
   "id": "02bb186e",
   "metadata": {},
   "source": [
    "## Identify sign of head curvature"
   ]
  },
  {
   "attachments": {},
   "cell_type": "markdown",
   "id": "61cbfa4a",
   "metadata": {},
   "source": [
    "For each dataset, you need to manually identify whether positive values of `θh` correspond to ventral or dorsal bending. If `θh > 0` corresponds to ventral bending, set that dataset's entry to `true`; otherwise, set it to `false`. To identify this, it is advisable to view time points from the NIR video, and check whether the worm's head is bending ventrally (towards the vulva) or dorsally (away from the vulva) when `θh > 0`. You can also go back and look at the GCaMP data and look for the orientation of the ventral cord."
   ]
  },
  {
   "cell_type": "code",
   "execution_count": 9,
   "id": "be23d6b1",
   "metadata": {},
   "outputs": [],
   "source": [
    "θh_pos_is_ventral = Dict(\n",
    "    \"2021-05-26-07\" => true,\n",
    "    \"2021-06-11-01\" => true,\n",
    "    \"2021-08-04-06\" => false,\n",
    "    \"2021-08-17-01\" => true,\n",
    "    \"2021-08-18-01\" => true,\n",
    "    \"2021-09-06-09\" => true,\n",
    "    \"2021-09-14-01\" => true,\n",
    "    \"2021-09-14-05\" => false,\n",
    "    \"2021-09-22-05\" => true,\n",
    "    \"2021-09-23-01\" => true,\n",
    "    \"2021-09-30-01\" => false,\n",
    "    \"2021-10-26-01\" => false,\n",
    "    \"2021-11-12-01\" => true,\n",
    "    \"2021-11-12-05\" => false,\n",
    "    \"2022-01-07-03\" => true, # NOT ACTUALLY COMPUTED\n",
    "    \"2022-01-09-01\" => false,\n",
    "    \"2022-01-17-01\" => false,\n",
    "    \"2022-01-23-01\" => true,\n",
    "    \"2022-01-26-01\" => true,\n",
    "    \"2022-01-27-01\" => false,\n",
    "    \"2022-01-27-04\" => true,\n",
    "    \"2022-02-08-01\" => true,\n",
    "    \"2022-02-08-04\" => false,\n",
    "    \"2022-02-16-01\" => false,\n",
    "    \"2022-02-16-04\" => true,\n",
    "    \"2022-03-15-04\" => true,\n",
    "    \"2022-03-16-01\" => true, # NOT ACTUALLY COMPUTED\n",
    "    \"2022-03-16-02\" => true, # NOT ACTUALLY COMPUTED\n",
    "    \"2022-03-22-01\" => true,\n",
    "    \"2022-04-05-01\" => true,\n",
    "    \"2022-04-12-04\" => true,\n",
    "    \"2022-04-14-04\" => true,\n",
    "    \"2022-04-18-04\" => false,\n",
    "    \"2022-05-17-01\" => false,\n",
    "    \"2022-05-17-06\" => false,\n",
    "    \"2022-05-25-02\" => false,\n",
    "    \"2022-06-14-01\" => true,\n",
    "    \"2022-06-14-07\" => true,\n",
    "    \"2022-06-14-13\" => true,\n",
    "    \"2022-06-28-01\" => true,\n",
    "    \"2022-06-28-07\" => true,\n",
    "    \"2022-07-15-06\" => true,\n",
    "    \"2022-07-15-12\" => true,\n",
    "    \"2022-07-20-01\" => true,\n",
    "    \"2022-07-26-01\" => true,\n",
    "    \"2022-07-29-08\" => true,\n",
    "    \"2022-08-02-01\" => true,\n",
    "    \"2022-12-21-06\" => true,\n",
    "    \"2023-01-05-01\" => true,\n",
    "    \"2023-01-05-18\" => true,\n",
    "    \"2023-01-06-01\" => true,\n",
    "    \"2023-01-06-08\" => true,\n",
    "    \"2023-01-06-15\" => true,\n",
    "    \"2023-01-09-08\" => true,\n",
    "    \"2023-01-09-15\" => true,\n",
    "    \"2023-01-09-22\" => true,\n",
    "    \"2023-01-09-28\" => true,\n",
    "    \"2023-01-10-07\" => true,\n",
    "    \"2023-01-10-14\" => true,\n",
    "    \"2023-01-13-07\" => true,\n",
    "    \"2023-01-16-01\" => true,\n",
    "    \"2023-01-16-08\" => true,\n",
    "    \"2023-01-16-15\" => true,\n",
    "    \"2023-01-16-22\" => true,\n",
    "    \"2023-01-17-01\" => true,\n",
    "    \"2023-01-17-07\" => true,\n",
    "    \"2023-01-17-14\" => true,\n",
    "    \"2023-01-18-01\" => true,\n",
    "    \"2023-01-19-01\" => false,\n",
    "    \"2023-01-19-08\" => true,\n",
    "    \"2023-01-19-15\" => false,\n",
    "    \"2023-01-19-22\" => true,\n",
    "    \"2023-01-23-01\" => true,\n",
    "    \"2023-01-23-08\" => true,\n",
    "    \"2023-01-23-15\" => true,\n",
    "    \"2023-01-23-21\" => true,\n",
    "    \"2023-03-07-01\" => true\n",
    ");"
   ]
  },
  {
   "cell_type": "markdown",
   "id": "0fe32b8a",
   "metadata": {},
   "source": [
    "## Determine stim times\n",
    "\n",
    "For datasets with heat stimuli, this code determines where in the traces they occur."
   ]
  },
  {
   "cell_type": "code",
   "execution_count": 10,
   "id": "acd861d6",
   "metadata": {},
   "outputs": [],
   "source": [
    "stim_times = Dict()\n",
    "for dataset in datasets_stim_all\n",
    "    stim_times[dataset] = Int(get_h5_data(dataset)[\"stim_begin_confocal\"][1])\n",
    "end"
   ]
  },
  {
   "cell_type": "markdown",
   "id": "11bc403b",
   "metadata": {},
   "source": [
    "## Load previously-computed data\n",
    "\n",
    "You can pick up where you left off by saving your data to a file and loading it here."
   ]
  },
  {
   "cell_type": "code",
   "execution_count": 11,
   "id": "54029314",
   "metadata": {},
   "outputs": [],
   "source": [
    "analysis_dict = Dict()\n",
    "if isfile(path_analysis_dict)\n",
    "    f = JLD2.jldopen(path_analysis_dict)\n",
    "    analysis_dict = f[\"analysis_dict\"]\n",
    "    close(f)\n",
    "end;"
   ]
  },
  {
   "cell_type": "code",
   "execution_count": 25,
   "id": "68f97da9",
   "metadata": {},
   "outputs": [],
   "source": [
    "relative_encoding_strength = Dict()\n",
    "if isfile(path_relative_encoding_strength_dict)\n",
    "    f = JLD2.jldopen(path_relative_encoding_strength_dict)\n",
    "    relative_encoding_strength = f[\"relative_encoding_strength\"]\n",
    "    close(f)\n",
    "end;"
   ]
  },
  {
   "cell_type": "code",
   "execution_count": 13,
   "id": "d4863df9",
   "metadata": {},
   "outputs": [],
   "source": [
    "analysis_dict[\"θh_pos_is_ventral\"] = θh_pos_is_ventral;"
   ]
  },
  {
   "attachments": {},
   "cell_type": "markdown",
   "id": "43efe502",
   "metadata": {},
   "source": [
    "# Neural encoding and encoding change computation\n",
    "\n",
    "This section contains code for converting CePNEM model fits into more intuitive descriptions of neural encoding and encoding change."
   ]
  },
  {
   "attachments": {},
   "cell_type": "markdown",
   "id": "e7c0c83e",
   "metadata": {},
   "source": [
    "## Compute encoding properties"
   ]
  },
  {
   "cell_type": "markdown",
   "id": "5edb3d36",
   "metadata": {},
   "source": [
    "### Extrapolated behaviors"
   ]
  },
  {
   "cell_type": "markdown",
   "id": "b7f21503",
   "metadata": {},
   "source": [
    "To allow for more intuitive interpretations of CePNEM parameters, we project the CePNEM fits into a fictive behavior space consisting of appending together behaviors from multiple animals. In this way, properties of the model parameters in that space can be expressed in units of neural activity.\n",
    "\n",
    "To avoid values changing whenever a new dataset was added, we fixed a set of 12 datasets for this analysis. Uncomment the following line of code to instead create this space using all datasets."
   ]
  },
  {
   "cell_type": "code",
   "execution_count": 28,
   "id": "516c374a",
   "metadata": {},
   "outputs": [],
   "source": [
    "# analysis_dict[\"extrapolated_behaviors\"] = extrapolate_behaviors(fit_results, datasets_baseline, θh_pos_is_ventral);"
   ]
  },
  {
   "attachments": {},
   "cell_type": "markdown",
   "id": "18a30bcf",
   "metadata": {},
   "source": [
    "### Compute neural signal"
   ]
  },
  {
   "cell_type": "markdown",
   "id": "f35b034e",
   "metadata": {},
   "source": [
    "Neural signal is a measurement of how much variability a neuron's calcium signal contains, relative to its overall brightness. It is computed as `std(F) / mean(F)`, where `F` is the ratiometric fluorescence of that neuron over the recording (ie: GCaMP / red channel)."
   ]
  },
  {
   "cell_type": "code",
   "execution_count": 29,
   "id": "82aeeafc",
   "metadata": {},
   "outputs": [],
   "source": [
    "analysis_dict[\"signal\"] = compute_signal(fit_results);"
   ]
  },
  {
   "attachments": {},
   "cell_type": "markdown",
   "id": "c9f1a6b4",
   "metadata": {},
   "source": [
    "### Set CePNEM fit ranges for each neuron\n",
    "\n",
    "These correspond to indices of the CePNEM fits that are used to compute the encoding change properties. The default is to use all of them, but you can change this to use only subsets of the fits."
   ]
  },
  {
   "cell_type": "code",
   "execution_count": 30,
   "id": "a8067cfd",
   "metadata": {},
   "outputs": [],
   "source": [
    "analysis_dict[\"enc_change_rngs\"] = Dict()  \n",
    "for dataset in datasets\n",
    "    if dataset in datasets_stim_all && !(dataset in datasets_neuropal_stim)\n",
    "        analysis_dict[\"enc_change_rngs\"][dataset] = [1,2,3]\n",
    "    elseif dataset in datasets_neuropal_800\n",
    "        analysis_dict[\"enc_change_rngs\"][dataset] = [1]\n",
    "    else\n",
    "        analysis_dict[\"enc_change_rngs\"][dataset] = [1,2]\n",
    "    end\n",
    "end"
   ]
  },
  {
   "attachments": {},
   "cell_type": "markdown",
   "id": "64994786",
   "metadata": {},
   "source": [
    "### Compute deconvolved activity matrices\n",
    "\n",
    "Expected runtime: 5-10 minutes."
   ]
  },
  {
   "attachments": {},
   "cell_type": "markdown",
   "id": "ca5be784",
   "metadata": {},
   "source": [
    "This section computes deconvolved activity matrices. Briefly, they represent the modeled activity of neurons for particular values of behavior, where the EWMA timescale parameter is not included. Importantly, the matrix is computed for every point in the posterior distribution of the model parameters, allowing us to run statistical tests on the deconvolved matrices to determine neural encoding.\n",
    "\n",
    "Note that we do not save `deconvolved_activity` in `analysis_dict` because it is too large, so you will have to run this line of code every time you restart the notebook if you want to be able to use those variables."
   ]
  },
  {
   "cell_type": "code",
   "execution_count": 31,
   "id": "136ee9cc",
   "metadata": {},
   "outputs": [
    {
     "name": "stderr",
     "output_type": "stream",
     "text": [
      "\u001b[32mProgress: 100%|█████████████████████████████████████████| Time: 0:07:06\u001b[39m\n"
     ]
    }
   ],
   "source": [
    "(analysis_dict[\"v_ranges\"], analysis_dict[\"θh_ranges\"], analysis_dict[\"P_ranges\"], deconvolved_activity), (analysis_dict[\"v_ranges_plot\"], analysis_dict[\"θh_ranges_plot\"], analysis_dict[\"P_ranges_plot\"], deconvolved_activity_plot) = make_deconvolved_lattice(fit_results, 25, 5);"
   ]
  },
  {
   "attachments": {},
   "cell_type": "markdown",
   "id": "bc7e085f",
   "metadata": {},
   "source": [
    "### Compute relative encoding strength\n",
    "\n",
    "Expected runtime: 5-10 hours. Multi-threading enabled."
   ]
  },
  {
   "cell_type": "markdown",
   "id": "6a6fab81",
   "metadata": {},
   "source": [
    "Relative encoding strength is a metric of how much a neuron encodes a particular behavior, relative to other behaviors, for each point in the posterior CePNEM fit for that neuron. The function also computes several other metrics that are useful for encoding categorization."
   ]
  },
  {
   "cell_type": "code",
   "execution_count": 27,
   "id": "1a775080",
   "metadata": {},
   "outputs": [
    {
     "name": "stderr",
     "output_type": "stream",
     "text": [
      "\u001b[32mProgress: 100%|█████████████████████████████████████████| Time: 7:39:05\u001b[39m\n"
     ]
    }
   ],
   "source": [
    "let\n",
    "    rel_es = get_relative_encoding_strength(fit_results, datasets_compute);\n",
    "    for dataset in keys(rel_es)\n",
    "        relative_encoding_strength[dataset] = rel_es[dataset]\n",
    "    end\n",
    "end"
   ]
  },
  {
   "cell_type": "markdown",
   "id": "994037d3",
   "metadata": {},
   "source": [
    "#### Save relative encoding strength\n",
    "\n",
    "As with `deconvolved_activity`, the relative encoding strength is not saved in `analysis_dict` because it is too large. Since it's useful in many places, we save it to a file here."
   ]
  },
  {
   "cell_type": "code",
   "execution_count": 41,
   "id": "1a5d2f41",
   "metadata": {},
   "outputs": [],
   "source": [
    "JLD2.@save(path_relative_encoding_strength_dict, relative_encoding_strength);"
   ]
  },
  {
   "attachments": {},
   "cell_type": "markdown",
   "id": "eba1becd",
   "metadata": {},
   "source": [
    "### Compute neuron encoding categorization\n",
    "\n",
    "Expected runtime: 5 minutes."
   ]
  },
  {
   "cell_type": "markdown",
   "id": "047a7219",
   "metadata": {},
   "source": [
    "This code computes which behaviors each neuron encodes in each CePNEM fit."
   ]
  },
  {
   "cell_type": "code",
   "execution_count": 32,
   "id": "c8ef2541",
   "metadata": {},
   "outputs": [
    {
     "name": "stderr",
     "output_type": "stream",
     "text": [
      "\u001b[32mProgress: 100%|█████████████████████████████████████████| Time: 0:02:53\u001b[39m\n"
     ]
    }
   ],
   "source": [
    "analysis_dict[\"neuron_categorization\"], analysis_dict[\"neuron_p\"], analysis_dict[\"neuron_cats_uncorr\"] = categorize_all_neurons(fit_results, deconvolved_activity, analysis_dict[\"P_ranges\"], p, θh_pos_is_ventral, thresh_artifact, thresh_weak, relative_encoding_strength);"
   ]
  },
  {
   "attachments": {},
   "cell_type": "markdown",
   "id": "c6e4b09e",
   "metadata": {},
   "source": [
    "### Compute neuron tuning strength\n",
    "\n",
    "Expected runtime: 5 minutes."
   ]
  },
  {
   "cell_type": "markdown",
   "id": "791b0f96",
   "metadata": {},
   "source": [
    "This section computes metrics of how strongly neurons are tuned to each behavior in each direction, such as forwardness, dorsalness, and feedingness."
   ]
  },
  {
   "cell_type": "code",
   "execution_count": 33,
   "id": "ca492532",
   "metadata": {},
   "outputs": [
    {
     "name": "stderr",
     "output_type": "stream",
     "text": [
      "\u001b[32mProgress: 100%|█████████████████████████████████████████| Time: 0:01:41\u001b[39m\n"
     ]
    }
   ],
   "source": [
    "analysis_dict[\"tuning_strength\"] = get_tuning_strength(fit_results, deconvolved_activity, relative_encoding_strength, θh_pos_is_ventral, \n",
    "        analysis_dict[\"v_ranges\"], analysis_dict[\"θh_ranges\"], analysis_dict[\"P_ranges\"]);"
   ]
  },
  {
   "cell_type": "code",
   "execution_count": 34,
   "id": "758a0493",
   "metadata": {},
   "outputs": [
    {
     "name": "stderr",
     "output_type": "stream",
     "text": [
      "\u001b[32mProgress: 100%|█████████████████████████████████████████| Time: 0:00:41\u001b[39m\n"
     ]
    }
   ],
   "source": [
    "analysis_dict[\"tuning_strength_mean\"] = get_tuning_strength(fit_results, deconvolved_activity, relative_encoding_strength, θh_pos_is_ventral, \n",
    "        analysis_dict[\"v_ranges\"], analysis_dict[\"θh_ranges\"], analysis_dict[\"P_ranges\"], stat=mean);"
   ]
  },
  {
   "cell_type": "code",
   "execution_count": 35,
   "id": "78d00f1f",
   "metadata": {},
   "outputs": [
    {
     "name": "stderr",
     "output_type": "stream",
     "text": [
      "\u001b[32mProgress: 100%|█████████████████████████████████████████| Time: 0:00:42\u001b[39m\n"
     ]
    }
   ],
   "source": [
    "analysis_dict[\"tuning_strength_std\"] = get_tuning_strength(fit_results, deconvolved_activity, relative_encoding_strength, θh_pos_is_ventral, \n",
    "        analysis_dict[\"v_ranges\"], analysis_dict[\"θh_ranges\"], analysis_dict[\"P_ranges\"], stat=std);"
   ]
  },
  {
   "attachments": {},
   "cell_type": "markdown",
   "id": "378426d1",
   "metadata": {},
   "source": [
    "### Compute neuron subcategorization"
   ]
  },
  {
   "cell_type": "markdown",
   "id": "f57aa9f8",
   "metadata": {},
   "source": [
    "This section computes subcategorizations of neuron encoding, such as whether encoding is analog or rectified."
   ]
  },
  {
   "cell_type": "code",
   "execution_count": 36,
   "id": "e6c7aa6c",
   "metadata": {},
   "outputs": [],
   "source": [
    "subcategorize_all_neurons!(fit_results, analysis_dict, datasets_baseline);"
   ]
  },
  {
   "cell_type": "code",
   "execution_count": 48,
   "id": "d25cfff1",
   "metadata": {},
   "outputs": [],
   "source": [
    "JLD2.@save(path_analysis_dict, analysis_dict);"
   ]
  },
  {
   "attachments": {},
   "cell_type": "markdown",
   "id": "66940c0a",
   "metadata": {},
   "source": [
    "## Compute encoding changes"
   ]
  },
  {
   "attachments": {},
   "cell_type": "markdown",
   "id": "0144c25c",
   "metadata": {},
   "source": [
    "### Compute all candidates for encoding change\n",
    "\n",
    "Expected runtime: 5 hours."
   ]
  },
  {
   "cell_type": "markdown",
   "id": "3d967ca9",
   "metadata": {},
   "source": [
    "Look for encoding changes by looking for statistically-significant changes in the model posterior distributions."
   ]
  },
  {
   "cell_type": "code",
   "execution_count": 37,
   "id": "0f68a872",
   "metadata": {},
   "outputs": [
    {
     "name": "stderr",
     "output_type": "stream",
     "text": [
      "\u001b[32mProgress: 100%|█████████████████████████████████████████| Time: 4:02:01\u001b[39m\n"
     ]
    }
   ],
   "source": [
    "let\n",
    "    encoding_changes, encoding_change_p_vals = detect_encoding_changes(fit_results, p, θh_pos_is_ventral, thresh_artifact, analysis_dict[\"enc_change_rngs\"], relative_encoding_strength, datasets_compute);\n",
    "    add_to_analysis_dict!(analysis_dict, encoding_changes, \"encoding_changes\")\n",
    "    add_to_analysis_dict!(analysis_dict, encoding_change_p_vals, \"encoding_change_p_vals\")\n",
    "end"
   ]
  },
  {
   "attachments": {},
   "cell_type": "markdown",
   "id": "04450989",
   "metadata": {},
   "source": [
    "### Prune encoding changes\n",
    "\n",
    "Discard candidates where the neuron failed to encode behavior in either time range (in which case the encoding change is not meaningful), or where the neuron encoded behavior in only one time range and the only source of encoding change was a change in EWMA (since EWMA is only meaningful if the neuron encodes behavior)."
   ]
  },
  {
   "cell_type": "code",
   "execution_count": 38,
   "id": "3b1ce27e",
   "metadata": {},
   "outputs": [],
   "source": [
    "analysis_dict[\"encoding_changes_corrected\"] = correct_encoding_changes(fit_results, analysis_dict);"
   ]
  },
  {
   "attachments": {},
   "cell_type": "markdown",
   "id": "8e4ea42e",
   "metadata": {},
   "source": [
    "### View all encoding changing neurons in a given dataset"
   ]
  },
  {
   "cell_type": "code",
   "execution_count": 39,
   "id": "1968fd02",
   "metadata": {},
   "outputs": [
    {
     "data": {
      "text/plain": [
       "39-element Vector{Int32}:\n",
       "   3\n",
       "  10\n",
       "  11\n",
       "  14\n",
       "  15\n",
       "  17\n",
       "  24\n",
       "  29\n",
       "  32\n",
       "  40\n",
       "  42\n",
       "  46\n",
       "  53\n",
       "   ⋮\n",
       "  91\n",
       "  92\n",
       " 106\n",
       " 107\n",
       " 108\n",
       " 109\n",
       " 110\n",
       " 114\n",
       " 115\n",
       " 117\n",
       " 121\n",
       " 123"
      ]
     },
     "execution_count": 39,
     "metadata": {},
     "output_type": "execute_result"
    }
   ],
   "source": [
    "let\n",
    "    dataset = \"2022-12-21-06\"\n",
    "    range_ec = (1,2)\n",
    "    analysis_dict[\"encoding_changes_corrected\"][dataset][range_ec][\"all\"]\n",
    "end"
   ]
  },
  {
   "cell_type": "code",
   "execution_count": 52,
   "id": "39c7cffe",
   "metadata": {},
   "outputs": [],
   "source": [
    "JLD2.@save(path_analysis_dict, analysis_dict);"
   ]
  },
  {
   "attachments": {},
   "cell_type": "markdown",
   "id": "b0aecc19",
   "metadata": {},
   "source": [
    "## Compute encoding statistics"
   ]
  },
  {
   "attachments": {},
   "cell_type": "markdown",
   "id": "79b321ac",
   "metadata": {},
   "source": [
    "### Compute encoding statistics for each dataset individually\n"
   ]
  },
  {
   "cell_type": "code",
   "execution_count": 40,
   "id": "9857a0e4",
   "metadata": {},
   "outputs": [
    {
     "name": "stderr",
     "output_type": "stream",
     "text": [
      "\u001b[33m\u001b[1m┌ \u001b[22m\u001b[39m\u001b[33m\u001b[1mWarning: \u001b[22m\u001b[39mDataset 2021-10-26-01 has no time ranges with valid pumping information\n",
      "\u001b[33m\u001b[1m└ \u001b[22m\u001b[39m\u001b[90m@ CePNEMAnalysis ~/.julia/packages/CePNEMAnalysis/I4UKk/src/encoding-categorization.jl:652\u001b[39m\n",
      "\u001b[33m\u001b[1m┌ \u001b[22m\u001b[39m\u001b[33m\u001b[1mWarning: \u001b[22m\u001b[39mDataset 2023-01-06-01 has no time ranges with valid pumping information\n",
      "\u001b[33m\u001b[1m└ \u001b[22m\u001b[39m\u001b[90m@ CePNEMAnalysis ~/.julia/packages/CePNEMAnalysis/I4UKk/src/encoding-categorization.jl:652\u001b[39m\n",
      "\u001b[33m\u001b[1m┌ \u001b[22m\u001b[39m\u001b[33m\u001b[1mWarning: \u001b[22m\u001b[39mDataset 2022-04-18-04 has no time ranges with valid pumping information\n",
      "\u001b[33m\u001b[1m└ \u001b[22m\u001b[39m\u001b[90m@ CePNEMAnalysis ~/.julia/packages/CePNEMAnalysis/I4UKk/src/encoding-categorization.jl:652\u001b[39m\n",
      "\u001b[33m\u001b[1m┌ \u001b[22m\u001b[39m\u001b[33m\u001b[1mWarning: \u001b[22m\u001b[39mDataset 2023-01-16-08 has no time ranges with valid pumping information\n",
      "\u001b[33m\u001b[1m└ \u001b[22m\u001b[39m\u001b[90m@ CePNEMAnalysis ~/.julia/packages/CePNEMAnalysis/I4UKk/src/encoding-categorization.jl:652\u001b[39m\n",
      "\u001b[33m\u001b[1m┌ \u001b[22m\u001b[39m\u001b[33m\u001b[1mWarning: \u001b[22m\u001b[39mDataset 2023-01-18-01 has no time ranges with valid pumping information\n",
      "\u001b[33m\u001b[1m└ \u001b[22m\u001b[39m\u001b[90m@ CePNEMAnalysis ~/.julia/packages/CePNEMAnalysis/I4UKk/src/encoding-categorization.jl:652\u001b[39m\n",
      "\u001b[33m\u001b[1m┌ \u001b[22m\u001b[39m\u001b[33m\u001b[1mWarning: \u001b[22m\u001b[39mDataset 2023-01-17-01 has no time ranges with valid pumping information\n",
      "\u001b[33m\u001b[1m└ \u001b[22m\u001b[39m\u001b[90m@ CePNEMAnalysis ~/.julia/packages/CePNEMAnalysis/I4UKk/src/encoding-categorization.jl:652\u001b[39m\n",
      "\u001b[33m\u001b[1m┌ \u001b[22m\u001b[39m\u001b[33m\u001b[1mWarning: \u001b[22m\u001b[39mDataset 2023-01-10-07 has no time ranges with valid pumping information\n",
      "\u001b[33m\u001b[1m└ \u001b[22m\u001b[39m\u001b[90m@ CePNEMAnalysis ~/.julia/packages/CePNEMAnalysis/I4UKk/src/encoding-categorization.jl:652\u001b[39m\n",
      "\u001b[33m\u001b[1m┌ \u001b[22m\u001b[39m\u001b[33m\u001b[1mWarning: \u001b[22m\u001b[39mDataset 2021-09-30-01 has no time ranges with valid pumping information\n",
      "\u001b[33m\u001b[1m└ \u001b[22m\u001b[39m\u001b[90m@ CePNEMAnalysis ~/.julia/packages/CePNEMAnalysis/I4UKk/src/encoding-categorization.jl:652\u001b[39m\n",
      "\u001b[33m\u001b[1m┌ \u001b[22m\u001b[39m\u001b[33m\u001b[1mWarning: \u001b[22m\u001b[39mDataset 2022-06-14-13 has no time ranges with valid pumping information\n",
      "\u001b[33m\u001b[1m└ \u001b[22m\u001b[39m\u001b[90m@ CePNEMAnalysis ~/.julia/packages/CePNEMAnalysis/I4UKk/src/encoding-categorization.jl:652\u001b[39m\n",
      "\u001b[33m\u001b[1m┌ \u001b[22m\u001b[39m\u001b[33m\u001b[1mWarning: \u001b[22m\u001b[39mDataset 2022-01-17-01 has no time ranges with valid pumping information\n",
      "\u001b[33m\u001b[1m└ \u001b[22m\u001b[39m\u001b[90m@ CePNEMAnalysis ~/.julia/packages/CePNEMAnalysis/I4UKk/src/encoding-categorization.jl:652\u001b[39m\n",
      "\u001b[33m\u001b[1m┌ \u001b[22m\u001b[39m\u001b[33m\u001b[1mWarning: \u001b[22m\u001b[39mDataset 2022-04-05-01 has no time ranges with valid pumping information\n",
      "\u001b[33m\u001b[1m└ \u001b[22m\u001b[39m\u001b[90m@ CePNEMAnalysis ~/.julia/packages/CePNEMAnalysis/I4UKk/src/encoding-categorization.jl:652\u001b[39m\n",
      "\u001b[33m\u001b[1m┌ \u001b[22m\u001b[39m\u001b[33m\u001b[1mWarning: \u001b[22m\u001b[39mDataset 2022-02-16-04 has no time ranges with valid pumping information\n",
      "\u001b[33m\u001b[1m└ \u001b[22m\u001b[39m\u001b[90m@ CePNEMAnalysis ~/.julia/packages/CePNEMAnalysis/I4UKk/src/encoding-categorization.jl:652\u001b[39m\n",
      "\u001b[33m\u001b[1m┌ \u001b[22m\u001b[39m\u001b[33m\u001b[1mWarning: \u001b[22m\u001b[39mDataset 2023-01-09-15 has no time ranges with valid pumping information\n",
      "\u001b[33m\u001b[1m└ \u001b[22m\u001b[39m\u001b[90m@ CePNEMAnalysis ~/.julia/packages/CePNEMAnalysis/I4UKk/src/encoding-categorization.jl:652\u001b[39m\n",
      "\u001b[33m\u001b[1m┌ \u001b[22m\u001b[39m\u001b[33m\u001b[1mWarning: \u001b[22m\u001b[39mDataset 2023-01-05-01 has no time ranges with valid pumping information\n",
      "\u001b[33m\u001b[1m└ \u001b[22m\u001b[39m\u001b[90m@ CePNEMAnalysis ~/.julia/packages/CePNEMAnalysis/I4UKk/src/encoding-categorization.jl:652\u001b[39m\n",
      "\u001b[33m\u001b[1m┌ \u001b[22m\u001b[39m\u001b[33m\u001b[1mWarning: \u001b[22m\u001b[39mDataset 2021-09-14-01 has no time ranges with valid pumping information\n",
      "\u001b[33m\u001b[1m└ \u001b[22m\u001b[39m\u001b[90m@ CePNEMAnalysis ~/.julia/packages/CePNEMAnalysis/I4UKk/src/encoding-categorization.jl:652\u001b[39m\n",
      "\u001b[33m\u001b[1m┌ \u001b[22m\u001b[39m\u001b[33m\u001b[1mWarning: \u001b[22m\u001b[39mDataset 2022-06-28-01 has no time ranges with valid pumping information\n",
      "\u001b[33m\u001b[1m└ \u001b[22m\u001b[39m\u001b[90m@ CePNEMAnalysis ~/.julia/packages/CePNEMAnalysis/I4UKk/src/encoding-categorization.jl:652\u001b[39m\n",
      "\u001b[33m\u001b[1m┌ \u001b[22m\u001b[39m\u001b[33m\u001b[1mWarning: \u001b[22m\u001b[39mDataset 2023-01-23-15 has no time ranges with valid pumping information\n",
      "\u001b[33m\u001b[1m└ \u001b[22m\u001b[39m\u001b[90m@ CePNEMAnalysis ~/.julia/packages/CePNEMAnalysis/I4UKk/src/encoding-categorization.jl:652\u001b[39m\n",
      "\u001b[33m\u001b[1m┌ \u001b[22m\u001b[39m\u001b[33m\u001b[1mWarning: \u001b[22m\u001b[39mDataset 2023-01-09-22 has no time ranges with valid pumping information\n",
      "\u001b[33m\u001b[1m└ \u001b[22m\u001b[39m\u001b[90m@ CePNEMAnalysis ~/.julia/packages/CePNEMAnalysis/I4UKk/src/encoding-categorization.jl:652\u001b[39m\n",
      "\u001b[33m\u001b[1m┌ \u001b[22m\u001b[39m\u001b[33m\u001b[1mWarning: \u001b[22m\u001b[39mDataset 2021-08-18-01 has no time ranges with valid pumping information\n",
      "\u001b[33m\u001b[1m└ \u001b[22m\u001b[39m\u001b[90m@ CePNEMAnalysis ~/.julia/packages/CePNEMAnalysis/I4UKk/src/encoding-categorization.jl:652\u001b[39m\n",
      "\u001b[33m\u001b[1m┌ \u001b[22m\u001b[39m\u001b[33m\u001b[1mWarning: \u001b[22m\u001b[39mDataset 2023-03-07-01 has no time ranges with valid pumping information\n",
      "\u001b[33m\u001b[1m└ \u001b[22m\u001b[39m\u001b[90m@ CePNEMAnalysis ~/.julia/packages/CePNEMAnalysis/I4UKk/src/encoding-categorization.jl:652\u001b[39m\n",
      "\u001b[33m\u001b[1m┌ \u001b[22m\u001b[39m\u001b[33m\u001b[1mWarning: \u001b[22m\u001b[39mDataset 2022-07-26-01 has no time ranges with valid pumping information\n",
      "\u001b[33m\u001b[1m└ \u001b[22m\u001b[39m\u001b[90m@ CePNEMAnalysis ~/.julia/packages/CePNEMAnalysis/I4UKk/src/encoding-categorization.jl:652\u001b[39m\n",
      "\u001b[33m\u001b[1m┌ \u001b[22m\u001b[39m\u001b[33m\u001b[1mWarning: \u001b[22m\u001b[39mDataset 2022-07-20-01 has no time ranges with valid pumping information\n",
      "\u001b[33m\u001b[1m└ \u001b[22m\u001b[39m\u001b[90m@ CePNEMAnalysis ~/.julia/packages/CePNEMAnalysis/I4UKk/src/encoding-categorization.jl:652\u001b[39m\n",
      "\u001b[33m\u001b[1m┌ \u001b[22m\u001b[39m\u001b[33m\u001b[1mWarning: \u001b[22m\u001b[39mDataset 2023-01-16-15 has no time ranges with valid pumping information\n",
      "\u001b[33m\u001b[1m└ \u001b[22m\u001b[39m\u001b[90m@ CePNEMAnalysis ~/.julia/packages/CePNEMAnalysis/I4UKk/src/encoding-categorization.jl:652\u001b[39m\n",
      "\u001b[33m\u001b[1m┌ \u001b[22m\u001b[39m\u001b[33m\u001b[1mWarning: \u001b[22m\u001b[39mDataset 2023-01-09-08 has no time ranges with valid pumping information\n",
      "\u001b[33m\u001b[1m└ \u001b[22m\u001b[39m\u001b[90m@ CePNEMAnalysis ~/.julia/packages/CePNEMAnalysis/I4UKk/src/encoding-categorization.jl:652\u001b[39m\n",
      "\u001b[33m\u001b[1m┌ \u001b[22m\u001b[39m\u001b[33m\u001b[1mWarning: \u001b[22m\u001b[39mDataset 2022-03-22-01 has no time ranges with valid pumping information\n",
      "\u001b[33m\u001b[1m└ \u001b[22m\u001b[39m\u001b[90m@ CePNEMAnalysis ~/.julia/packages/CePNEMAnalysis/I4UKk/src/encoding-categorization.jl:652\u001b[39m\n",
      "\u001b[33m\u001b[1m┌ \u001b[22m\u001b[39m\u001b[33m\u001b[1mWarning: \u001b[22m\u001b[39mDataset 2023-01-09-28 has no time ranges with valid pumping information\n",
      "\u001b[33m\u001b[1m└ \u001b[22m\u001b[39m\u001b[90m@ CePNEMAnalysis ~/.julia/packages/CePNEMAnalysis/I4UKk/src/encoding-categorization.jl:652\u001b[39m\n",
      "\u001b[33m\u001b[1m┌ \u001b[22m\u001b[39m\u001b[33m\u001b[1mWarning: \u001b[22m\u001b[39mDataset 2021-09-23-01 has no time ranges with valid pumping information\n",
      "\u001b[33m\u001b[1m└ \u001b[22m\u001b[39m\u001b[90m@ CePNEMAnalysis ~/.julia/packages/CePNEMAnalysis/I4UKk/src/encoding-categorization.jl:652\u001b[39m\n",
      "\u001b[33m\u001b[1m┌ \u001b[22m\u001b[39m\u001b[33m\u001b[1mWarning: \u001b[22m\u001b[39mDataset 2023-01-16-01 has no time ranges with valid pumping information\n",
      "\u001b[33m\u001b[1m└ \u001b[22m\u001b[39m\u001b[90m@ CePNEMAnalysis ~/.julia/packages/CePNEMAnalysis/I4UKk/src/encoding-categorization.jl:652\u001b[39m\n",
      "\u001b[33m\u001b[1m┌ \u001b[22m\u001b[39m\u001b[33m\u001b[1mWarning: \u001b[22m\u001b[39mDataset 2023-01-17-07 has no time ranges with valid pumping information\n",
      "\u001b[33m\u001b[1m└ \u001b[22m\u001b[39m\u001b[90m@ CePNEMAnalysis ~/.julia/packages/CePNEMAnalysis/I4UKk/src/encoding-categorization.jl:652\u001b[39m\n",
      "\u001b[33m\u001b[1m┌ \u001b[22m\u001b[39m\u001b[33m\u001b[1mWarning: \u001b[22m\u001b[39mDataset 2022-06-14-01 has no time ranges with valid pumping information\n",
      "\u001b[33m\u001b[1m└ \u001b[22m\u001b[39m\u001b[90m@ CePNEMAnalysis ~/.julia/packages/CePNEMAnalysis/I4UKk/src/encoding-categorization.jl:652\u001b[39m\n"
     ]
    }
   ],
   "source": [
    "analysis_dict[\"enc_stat_dict\"], _ = get_enc_stats(fit_results, analysis_dict[\"neuron_p\"], analysis_dict[\"P_ranges\"], rngs_valid=analysis_dict[\"enc_change_rngs\"], P_diff_thresh=-1.0); # all datasets\n",
    "\n",
    "analysis_dict[\"enc_stat_dict_pt\"], analysis_dict[\"datasets_invalid_pt\"] = get_enc_stats(fit_results, analysis_dict[\"neuron_p\"], analysis_dict[\"P_ranges\"], rngs_valid=analysis_dict[\"enc_change_rngs\"], P_diff_thresh=0.5); # only datasets with enough pumping variance"
   ]
  },
  {
   "attachments": {},
   "cell_type": "markdown",
   "id": "93eeb754",
   "metadata": {},
   "source": [
    "### Compute encoding summary statistics for each type of dataset\n"
   ]
  },
  {
   "cell_type": "code",
   "execution_count": 42,
   "id": "4d3ce620",
   "metadata": {},
   "outputs": [],
   "source": [
    "analysis_dict[\"n_neurons_beh\"], analysis_dict[\"n_neurons_npred\"], _, _ = get_enc_stats_pool(fit_results_baseline, analysis_dict[\"neuron_p\"], analysis_dict[\"P_ranges\"], rngs_valid=analysis_dict[\"enc_change_rngs\"], P_diff_thresh=-1.0);\n",
    "\n",
    "analysis_dict[\"n_neurons_beh_1600\"], analysis_dict[\"n_neurons_npred_1600\"], _, _ = get_enc_stats_pool(fit_results_baseline_1600, analysis_dict[\"neuron_p\"], analysis_dict[\"P_ranges\"], rngs_valid=analysis_dict[\"enc_change_rngs\"], P_diff_thresh=-1.0);\n",
    "\n",
    "analysis_dict[\"n_neurons_beh_merged\"], analysis_dict[\"n_neurons_npred_merged\"], _, _ = get_enc_stats_pool(fit_results_baseline_merged, analysis_dict[\"neuron_p\"], analysis_dict[\"P_ranges\"], rngs_valid=analysis_dict[\"enc_change_rngs\"], P_diff_thresh=-1.0);\n",
    "\n",
    "analysis_dict[\"n_neurons_beh_neuropal_baseline\"], analysis_dict[\"n_neurons_npred_neuropal_baseline\"], _, _ = get_enc_stats_pool(fit_results_neuropal_baseline, analysis_dict[\"neuron_p\"], analysis_dict[\"P_ranges\"], rngs_valid=analysis_dict[\"enc_change_rngs\"], P_diff_thresh=-1.0);\n",
    "\n",
    "analysis_dict[\"n_neurons_beh_gfp\"], analysis_dict[\"n_neurons_npred_gfp\"], _, _ = get_enc_stats_pool(fit_results_gfp, analysis_dict[\"neuron_p\"], analysis_dict[\"P_ranges\"], rngs_valid=analysis_dict[\"enc_change_rngs\"], P_diff_thresh=-1.0);\n",
    "\n",
    "analysis_dict[\"n_neurons_beh_stim\"], analysis_dict[\"n_neurons_npred_stim\"], _, _ = get_enc_stats_pool(fit_results_stim, analysis_dict[\"neuron_p\"], analysis_dict[\"P_ranges\"], rngs_valid=analysis_dict[\"enc_change_rngs\"], P_diff_thresh=-1.0);"
   ]
  },
  {
   "attachments": {},
   "cell_type": "markdown",
   "id": "2197650b",
   "metadata": {},
   "source": [
    "### Compute encoding change statistics for each dataset"
   ]
  },
  {
   "cell_type": "code",
   "execution_count": null,
   "id": "4476b3c1",
   "metadata": {},
   "outputs": [
    {
     "name": "stderr",
     "output_type": "stream",
     "text": [
      "\u001b[33m\u001b[1m┌ \u001b[22m\u001b[39m\u001b[33m\u001b[1mWarning: \u001b[22m\u001b[39mDataset 2022-04-18-04 has no time ranges with valid pumping information\n",
      "\u001b[33m\u001b[1m└ \u001b[22m\u001b[39m\u001b[90m@ CePNEMAnalysis ~/.julia/packages/CePNEMAnalysis/9nGJ5/src/encoding-categorization.jl:748\u001b[39m\n",
      "\u001b[33m\u001b[1m┌ \u001b[22m\u001b[39m\u001b[33m\u001b[1mWarning: \u001b[22m\u001b[39mDataset 2023-01-17-01 has no time ranges with valid pumping information\n",
      "\u001b[33m\u001b[1m└ \u001b[22m\u001b[39m\u001b[90m@ CePNEMAnalysis ~/.julia/packages/CePNEMAnalysis/9nGJ5/src/encoding-categorization.jl:748\u001b[39m\n",
      "\u001b[33m\u001b[1m┌ \u001b[22m\u001b[39m\u001b[33m\u001b[1mWarning: \u001b[22m\u001b[39mDataset 2023-01-10-07 has no time ranges with valid pumping information\n",
      "\u001b[33m\u001b[1m└ \u001b[22m\u001b[39m\u001b[90m@ CePNEMAnalysis ~/.julia/packages/CePNEMAnalysis/9nGJ5/src/encoding-categorization.jl:748\u001b[39m\n",
      "\u001b[33m\u001b[1m┌ \u001b[22m\u001b[39m\u001b[33m\u001b[1mWarning: \u001b[22m\u001b[39mDataset 2022-06-14-13 has no time ranges with valid pumping information\n",
      "\u001b[33m\u001b[1m└ \u001b[22m\u001b[39m\u001b[90m@ CePNEMAnalysis ~/.julia/packages/CePNEMAnalysis/9nGJ5/src/encoding-categorization.jl:748\u001b[39m\n",
      "\u001b[33m\u001b[1m┌ \u001b[22m\u001b[39m\u001b[33m\u001b[1mWarning: \u001b[22m\u001b[39mDataset 2022-01-17-01 has no time ranges with valid pumping information\n",
      "\u001b[33m\u001b[1m└ \u001b[22m\u001b[39m\u001b[90m@ CePNEMAnalysis ~/.julia/packages/CePNEMAnalysis/9nGJ5/src/encoding-categorization.jl:748\u001b[39m\n",
      "\u001b[33m\u001b[1m┌ \u001b[22m\u001b[39m\u001b[33m\u001b[1mWarning: \u001b[22m\u001b[39mDataset 2022-06-28-01 has no time ranges with valid pumping information\n",
      "\u001b[33m\u001b[1m└ \u001b[22m\u001b[39m\u001b[90m@ CePNEMAnalysis ~/.julia/packages/CePNEMAnalysis/9nGJ5/src/encoding-categorization.jl:748\u001b[39m\n",
      "\u001b[33m\u001b[1m┌ \u001b[22m\u001b[39m\u001b[33m\u001b[1mWarning: \u001b[22m\u001b[39mDataset 2023-01-09-22 has no time ranges with valid pumping information\n",
      "\u001b[33m\u001b[1m└ \u001b[22m\u001b[39m\u001b[90m@ CePNEMAnalysis ~/.julia/packages/CePNEMAnalysis/9nGJ5/src/encoding-categorization.jl:748\u001b[39m\n",
      "\u001b[33m\u001b[1m┌ \u001b[22m\u001b[39m\u001b[33m\u001b[1mWarning: \u001b[22m\u001b[39mDataset 2022-07-20-01 has no time ranges with valid pumping information\n",
      "\u001b[33m\u001b[1m└ \u001b[22m\u001b[39m\u001b[90m@ CePNEMAnalysis ~/.julia/packages/CePNEMAnalysis/9nGJ5/src/encoding-categorization.jl:748\u001b[39m\n",
      "\u001b[33m\u001b[1m┌ \u001b[22m\u001b[39m\u001b[33m\u001b[1mWarning: \u001b[22m\u001b[39mDataset 2023-01-09-08 has no time ranges with valid pumping information\n",
      "\u001b[33m\u001b[1m└ \u001b[22m\u001b[39m\u001b[90m@ CePNEMAnalysis ~/.julia/packages/CePNEMAnalysis/9nGJ5/src/encoding-categorization.jl:748\u001b[39m\n",
      "\u001b[33m\u001b[1m┌ \u001b[22m\u001b[39m\u001b[33m\u001b[1mWarning: \u001b[22m\u001b[39mDataset 2022-03-22-01 has no time ranges with valid pumping information\n",
      "\u001b[33m\u001b[1m└ \u001b[22m\u001b[39m\u001b[90m@ CePNEMAnalysis ~/.julia/packages/CePNEMAnalysis/9nGJ5/src/encoding-categorization.jl:748\u001b[39m\n",
      "\u001b[33m\u001b[1m┌ \u001b[22m\u001b[39m\u001b[33m\u001b[1mWarning: \u001b[22m\u001b[39mDataset 2021-09-23-01 has no time ranges with valid pumping information\n",
      "\u001b[33m\u001b[1m└ \u001b[22m\u001b[39m\u001b[90m@ CePNEMAnalysis ~/.julia/packages/CePNEMAnalysis/9nGJ5/src/encoding-categorization.jl:748\u001b[39m\n",
      "\u001b[33m\u001b[1m┌ \u001b[22m\u001b[39m\u001b[33m\u001b[1mWarning: \u001b[22m\u001b[39mDataset 2023-01-16-01 has no time ranges with valid pumping information\n",
      "\u001b[33m\u001b[1m└ \u001b[22m\u001b[39m\u001b[90m@ CePNEMAnalysis ~/.julia/packages/CePNEMAnalysis/9nGJ5/src/encoding-categorization.jl:748\u001b[39m\n",
      "\u001b[33m\u001b[1m┌ \u001b[22m\u001b[39m\u001b[33m\u001b[1mWarning: \u001b[22m\u001b[39mDataset 2021-10-26-01 has no time ranges with valid pumping information\n",
      "\u001b[33m\u001b[1m└ \u001b[22m\u001b[39m\u001b[90m@ CePNEMAnalysis ~/.julia/packages/CePNEMAnalysis/9nGJ5/src/encoding-categorization.jl:748\u001b[39m\n",
      "\u001b[33m\u001b[1m┌ \u001b[22m\u001b[39m\u001b[33m\u001b[1mWarning: \u001b[22m\u001b[39mDataset 2023-01-06-01 has no time ranges with valid pumping information\n",
      "\u001b[33m\u001b[1m└ \u001b[22m\u001b[39m\u001b[90m@ CePNEMAnalysis ~/.julia/packages/CePNEMAnalysis/9nGJ5/src/encoding-categorization.jl:748\u001b[39m\n",
      "\u001b[33m\u001b[1m┌ \u001b[22m\u001b[39m\u001b[33m\u001b[1mWarning: \u001b[22m\u001b[39mDataset 2022-05-17-01 has no time ranges with valid pumping information\n",
      "\u001b[33m\u001b[1m└ \u001b[22m\u001b[39m\u001b[90m@ CePNEMAnalysis ~/.julia/packages/CePNEMAnalysis/9nGJ5/src/encoding-categorization.jl:748\u001b[39m\n",
      "\u001b[33m\u001b[1m┌ \u001b[22m\u001b[39m\u001b[33m\u001b[1mWarning: \u001b[22m\u001b[39mDataset 2023-01-16-08 has no time ranges with valid pumping information\n",
      "\u001b[33m\u001b[1m└ \u001b[22m\u001b[39m\u001b[90m@ CePNEMAnalysis ~/.julia/packages/CePNEMAnalysis/9nGJ5/src/encoding-categorization.jl:748\u001b[39m\n",
      "\u001b[33m\u001b[1m┌ \u001b[22m\u001b[39m\u001b[33m\u001b[1mWarning: \u001b[22m\u001b[39mDataset 2023-01-18-01 has no time ranges with valid pumping information\n",
      "\u001b[33m\u001b[1m└ \u001b[22m\u001b[39m\u001b[90m@ CePNEMAnalysis ~/.julia/packages/CePNEMAnalysis/9nGJ5/src/encoding-categorization.jl:748\u001b[39m\n",
      "\u001b[33m\u001b[1m┌ \u001b[22m\u001b[39m\u001b[33m\u001b[1mWarning: \u001b[22m\u001b[39mDataset 2021-09-30-01 has no time ranges with valid pumping information\n",
      "\u001b[33m\u001b[1m└ \u001b[22m\u001b[39m\u001b[90m@ CePNEMAnalysis ~/.julia/packages/CePNEMAnalysis/9nGJ5/src/encoding-categorization.jl:748\u001b[39m\n",
      "\u001b[33m\u001b[1m┌ \u001b[22m\u001b[39m\u001b[33m\u001b[1mWarning: \u001b[22m\u001b[39mDataset 2022-04-05-01 has no time ranges with valid pumping information\n",
      "\u001b[33m\u001b[1m└ \u001b[22m\u001b[39m\u001b[90m@ CePNEMAnalysis ~/.julia/packages/CePNEMAnalysis/9nGJ5/src/encoding-categorization.jl:748\u001b[39m\n",
      "\u001b[33m\u001b[1m┌ \u001b[22m\u001b[39m\u001b[33m\u001b[1mWarning: \u001b[22m\u001b[39mDataset 2022-02-16-04 has no time ranges with valid pumping information\n",
      "\u001b[33m\u001b[1m└ \u001b[22m\u001b[39m\u001b[90m@ CePNEMAnalysis ~/.julia/packages/CePNEMAnalysis/9nGJ5/src/encoding-categorization.jl:748\u001b[39m\n",
      "\u001b[33m\u001b[1m┌ \u001b[22m\u001b[39m\u001b[33m\u001b[1mWarning: \u001b[22m\u001b[39mDataset 2023-01-09-15 has no time ranges with valid pumping information\n",
      "\u001b[33m\u001b[1m└ \u001b[22m\u001b[39m\u001b[90m@ CePNEMAnalysis ~/.julia/packages/CePNEMAnalysis/9nGJ5/src/encoding-categorization.jl:748\u001b[39m\n",
      "\u001b[33m\u001b[1m┌ \u001b[22m\u001b[39m\u001b[33m\u001b[1mWarning: \u001b[22m\u001b[39mDataset 2023-01-05-01 has no time ranges with valid pumping information\n",
      "\u001b[33m\u001b[1m└ \u001b[22m\u001b[39m\u001b[90m@ CePNEMAnalysis ~/.julia/packages/CePNEMAnalysis/9nGJ5/src/encoding-categorization.jl:748\u001b[39m\n",
      "\u001b[33m\u001b[1m┌ \u001b[22m\u001b[39m\u001b[33m\u001b[1mWarning: \u001b[22m\u001b[39mDataset 2021-09-14-01 has no time ranges with valid pumping information\n",
      "\u001b[33m\u001b[1m└ \u001b[22m\u001b[39m\u001b[90m@ CePNEMAnalysis ~/.julia/packages/CePNEMAnalysis/9nGJ5/src/encoding-categorization.jl:748\u001b[39m\n",
      "\u001b[33m\u001b[1m┌ \u001b[22m\u001b[39m\u001b[33m\u001b[1mWarning: \u001b[22m\u001b[39mDataset 2023-01-23-15 has no time ranges with valid pumping information\n",
      "\u001b[33m\u001b[1m└ \u001b[22m\u001b[39m\u001b[90m@ CePNEMAnalysis ~/.julia/packages/CePNEMAnalysis/9nGJ5/src/encoding-categorization.jl:748\u001b[39m\n",
      "\u001b[33m\u001b[1m┌ \u001b[22m\u001b[39m\u001b[33m\u001b[1mWarning: \u001b[22m\u001b[39mDataset 2021-08-18-01 has no time ranges with valid pumping information\n",
      "\u001b[33m\u001b[1m└ \u001b[22m\u001b[39m\u001b[90m@ CePNEMAnalysis ~/.julia/packages/CePNEMAnalysis/9nGJ5/src/encoding-categorization.jl:748\u001b[39m\n",
      "\u001b[33m\u001b[1m┌ \u001b[22m\u001b[39m\u001b[33m\u001b[1mWarning: \u001b[22m\u001b[39mDataset 2023-03-07-01 has no time ranges with valid pumping information\n",
      "\u001b[33m\u001b[1m└ \u001b[22m\u001b[39m\u001b[90m@ CePNEMAnalysis ~/.julia/packages/CePNEMAnalysis/9nGJ5/src/encoding-categorization.jl:748\u001b[39m\n",
      "\u001b[33m\u001b[1m┌ \u001b[22m\u001b[39m\u001b[33m\u001b[1mWarning: \u001b[22m\u001b[39mDataset 2022-07-26-01 has no time ranges with valid pumping information\n",
      "\u001b[33m\u001b[1m└ \u001b[22m\u001b[39m\u001b[90m@ CePNEMAnalysis ~/.julia/packages/CePNEMAnalysis/9nGJ5/src/encoding-categorization.jl:748\u001b[39m\n",
      "\u001b[33m\u001b[1m┌ \u001b[22m\u001b[39m\u001b[33m\u001b[1mWarning: \u001b[22m\u001b[39mDataset 2023-01-16-15 has no time ranges with valid pumping information\n",
      "\u001b[33m\u001b[1m└ \u001b[22m\u001b[39m\u001b[90m@ CePNEMAnalysis ~/.julia/packages/CePNEMAnalysis/9nGJ5/src/encoding-categorization.jl:748\u001b[39m\n",
      "\u001b[33m\u001b[1m┌ \u001b[22m\u001b[39m\u001b[33m\u001b[1mWarning: \u001b[22m\u001b[39mDataset 2023-01-09-28 has no time ranges with valid pumping information\n",
      "\u001b[33m\u001b[1m└ \u001b[22m\u001b[39m\u001b[90m@ CePNEMAnalysis ~/.julia/packages/CePNEMAnalysis/9nGJ5/src/encoding-categorization.jl:748\u001b[39m\n",
      "\u001b[33m\u001b[1m┌ \u001b[22m\u001b[39m\u001b[33m\u001b[1mWarning: \u001b[22m\u001b[39mDataset 2023-01-17-07 has no time ranges with valid pumping information\n",
      "\u001b[33m\u001b[1m└ \u001b[22m\u001b[39m\u001b[90m@ CePNEMAnalysis ~/.julia/packages/CePNEMAnalysis/9nGJ5/src/encoding-categorization.jl:748\u001b[39m\n",
      "\u001b[33m\u001b[1m┌ \u001b[22m\u001b[39m\u001b[33m\u001b[1mWarning: \u001b[22m\u001b[39mDataset 2022-06-14-01 has no time ranges with valid pumping information\n",
      "\u001b[33m\u001b[1m└ \u001b[22m\u001b[39m\u001b[90m@ CePNEMAnalysis ~/.julia/packages/CePNEMAnalysis/9nGJ5/src/encoding-categorization.jl:748\u001b[39m\n"
     ]
    }
   ],
   "source": [
    "## TODO: Add `get_enc_change_stats` method here\n",
    "# analysis_dict[\"enc_stat_dict_enc_change\"], _ = get_enc_stats(fit_results, analysis_dict[\"neuron_p\"], analysis_dict[\"P_ranges\"], encoding_changes=analysis_dict[\"encoding_changing_neurons_msecorrect_mh\"], P_diff_thresh=0.5);"
   ]
  },
  {
   "cell_type": "code",
   "execution_count": 43,
   "id": "ba2751bc",
   "metadata": {},
   "outputs": [],
   "source": [
    "JLD2.@save(path_analysis_dict, analysis_dict);"
   ]
  },
  {
   "cell_type": "code",
   "execution_count": 45,
   "id": "1a8b6c68",
   "metadata": {},
   "outputs": [
    {
     "data": {
      "text/plain": [
       "\"127.0g\""
      ]
     },
     "execution_count": 45,
     "metadata": {},
     "output_type": "execute_result"
    }
   ],
   "source": [
    "get_memory()"
   ]
  },
  {
   "attachments": {},
   "cell_type": "markdown",
   "id": "6f71dad6",
   "metadata": {},
   "source": [
    "# Load NeuroPAL neural identities\n",
    "\n",
    "This section reads the NeuroPAL identities of each neuron. Note that it must be run after the neural encoding and encoding change computation sections.\n",
    "\n",
    "Expected runtime: 2-10 minutes\n",
    "\n",
    "For more information, see https://github.com/flavell-lab/NeuroPALData.jl, https://github.com/flavell-lab/ANTSUNData.jl, and https://github.com/flavell-lab/ANTSUNDataJLD2.jl"
   ]
  },
  {
   "cell_type": "markdown",
   "id": "56096e1e",
   "metadata": {},
   "source": [
    "## Setup instructions\n",
    "\n",
    "In order for the following code to run correctly, set `path_neuropal_label` to point to a JLD2 file containing a dictionary `dict_neuropal_label` that maps datasets to the NeuroPAL labels for those datasets. See the `import_neuropal_label` function from the `NeuroPALData.jl` package for more details, and to help generate this file from `csv` labels.\n",
    "\n",
    "Also, set `path_neuropal_order` to point to a JLD2 file containing an ordering for the different neuron classes."
   ]
  },
  {
   "cell_type": "code",
   "execution_count": 46,
   "id": "3651e8e9",
   "metadata": {},
   "outputs": [
    {
     "name": "stdout",
     "output_type": "stream",
     "text": [
      "Loading immobilized to freely-moving registrations...\n"
     ]
    },
    {
     "name": "stderr",
     "output_type": "stream",
     "text": [
      "\u001b[32mProgress: 100%|█████████████████████████████████████████| Time: 0:00:10\u001b[39m\n",
      "\u001b[33m\u001b[1m┌ \u001b[22m\u001b[39m\u001b[33m\u001b[1mWarning: \u001b[22m\u001b[39mclass ASE is not in the orderling file\n",
      "\u001b[33m\u001b[1m└ \u001b[22m\u001b[39m\u001b[90m@ NeuroPALData ~/.julia/packages/NeuroPALData/P9Wwv/src/class.jl:100\u001b[39m\n",
      "\u001b[33m\u001b[1m┌ \u001b[22m\u001b[39m\u001b[33m\u001b[1mWarning: \u001b[22m\u001b[39mclass IL1 is not in the orderling file\n",
      "\u001b[33m\u001b[1m└ \u001b[22m\u001b[39m\u001b[90m@ NeuroPALData ~/.julia/packages/NeuroPALData/P9Wwv/src/class.jl:100\u001b[39m\n",
      "\u001b[33m\u001b[1m┌ \u001b[22m\u001b[39m\u001b[33m\u001b[1mWarning: \u001b[22m\u001b[39mclass IL2 is not in the orderling file\n",
      "\u001b[33m\u001b[1m└ \u001b[22m\u001b[39m\u001b[90m@ NeuroPALData ~/.julia/packages/NeuroPALData/P9Wwv/src/class.jl:100\u001b[39m\n",
      "\u001b[33m\u001b[1m┌ \u001b[22m\u001b[39m\u001b[33m\u001b[1mWarning: \u001b[22m\u001b[39mclass RMH is not in the orderling file\n",
      "\u001b[33m\u001b[1m└ \u001b[22m\u001b[39m\u001b[90m@ NeuroPALData ~/.julia/packages/NeuroPALData/P9Wwv/src/class.jl:100\u001b[39m\n",
      "\u001b[33m\u001b[1m┌ \u001b[22m\u001b[39m\u001b[33m\u001b[1mWarning: \u001b[22m\u001b[39mclass SAAD is not in the orderling file\n",
      "\u001b[33m\u001b[1m└ \u001b[22m\u001b[39m\u001b[90m@ NeuroPALData ~/.julia/packages/NeuroPALData/P9Wwv/src/class.jl:100\u001b[39m\n",
      "\u001b[33m\u001b[1m┌ \u001b[22m\u001b[39m\u001b[33m\u001b[1mWarning: \u001b[22m\u001b[39mclass SABV is not in the orderling file\n",
      "\u001b[33m\u001b[1m└ \u001b[22m\u001b[39m\u001b[90m@ NeuroPALData ~/.julia/packages/NeuroPALData/P9Wwv/src/class.jl:100\u001b[39m\n"
     ]
    },
    {
     "name": "stdout",
     "output_type": "stream",
     "text": [
      "missing (in the ordering file but not in the matches): Any[\"AVG\", \"RIG\", \"DB02\", \"DD01\", \"VB01\", \"ADF\"]\n",
      "n(class): 97\n"
     ]
    },
    {
     "data": {
      "text/plain": [
       "(Any[(Dict{Any, Any}(5 => Dict{String, Any}(\"label\" => \"RMDL\", \"neuron_class\" => \"RMD\", \"LR\" => \"L\", \"region\" => \"Lateral Ganglion\", \"roi_id\" => [120], \"confidence\" => 3.0, \"DV\" => \"undefined\"), 56 => Dict{String, Any}(\"label\" => \"SMDDR\", \"neuron_class\" => \"SMD\", \"LR\" => \"R\", \"region\" => \"Ventral Ganglion\", \"roi_id\" => [59], \"confidence\" => 4.0, \"DV\" => \"D\"), 55 => Dict{String, Any}(\"label\" => \"ASHL\", \"neuron_class\" => \"ASH\", \"LR\" => \"L\", \"region\" => \"Lateral Ganglion\", \"roi_id\" => [43], \"confidence\" => 3.0, \"DV\" => \"undefined\"), 35 => Dict{String, Any}(\"label\" => \"ASEL\", \"neuron_class\" => \"ASE\", \"LR\" => \"L\", \"region\" => \"Lateral Ganglion\", \"roi_id\" => [157], \"confidence\" => 4.0, \"DV\" => \"undefined\"), 30 => Dict{String, Any}(\"label\" => \"URYDR\", \"neuron_class\" => \"URY\", \"LR\" => \"R\", \"region\" => \"Anterior Ganglion\", \"roi_id\" => [21], \"confidence\" => 4.0, \"DV\" => \"D\"), 32 => Dict{String, Any}(\"label\" => \"CEPVR\", \"neuron_class\" => \"CEP\", \"LR\" => \"R\", \"region\" => \"Anterior Ganglion\", \"roi_id\" => [174], \"confidence\" => 5.0, \"DV\" => \"V\"), 6 => Dict{String, Any}(\"label\" => \"AUAL\", \"neuron_class\" => \"AUA\", \"LR\" => \"L\", \"region\" => missing, \"roi_id\" => [116], \"confidence\" => 4.0, \"DV\" => \"undefined\"), 67 => Dict{String, Any}(\"label\" => \"AWBL\", \"neuron_class\" => \"AWB\", \"LR\" => \"L\", \"region\" => \"Lateral Ganglion\", \"roi_id\" => [75], \"confidence\" => 4.0, \"DV\" => \"undefined\"), 64 => Dict{String, Any}(\"label\" => \"AVL\", \"neuron_class\" => \"AVL\", \"LR\" => \"undefined\", \"region\" => \"Ventral Ganglion\", \"roi_id\" => [140], \"confidence\" => 3.0, \"DV\" => \"undefined\"), 90 => Dict{String, Any}(\"label\" => \"NSML\", \"neuron_class\" => \"NSM\", \"LR\" => \"L\", \"region\" => \"Anterior Pharyngeal Bulb\", \"roi_id\" => [20], \"confidence\" => 4.0, \"DV\" => \"undefined\")…), Dict{Any, Any}(\"RID\" => Any[(Dict{String, Any}(\"label\" => \"RID\", \"neuron_class\" => \"RID\", \"LR\" => \"undefined\", \"region\" => \"Dorsal Ganglion\", \"roi_id\" => [109], \"confidence\" => 3.0, \"DV\" => \"undefined\"), 4, 41.45722318007953)], \"SAADR\" => Any[(Dict{String, Any}(\"label\" => \"SAADR\", \"neuron_class\" => \"SAA\", \"LR\" => \"R\", \"region\" => missing, \"roi_id\" => [101], \"confidence\" => 3.0, \"DV\" => \"D\"), 81, 38.36541955685894)], \"SMBD\" => Any[(Dict{String, Any}(\"label\" => \"SMBDL\", \"neuron_class\" => \"SMB\", \"LR\" => \"L\", \"region\" => \"Ventral Ganglion\", \"roi_id\" => [152], \"confidence\" => 3.0, \"DV\" => \"D\"), 83, 26.752914049304987), (Dict{String, Any}(\"label\" => \"SMBDR\", \"neuron_class\" => \"SMB\", \"LR\" => \"R\", \"region\" => missing, \"roi_id\" => [169], \"confidence\" => 3.0, \"DV\" => \"D\"), 57, 7.49998769291093)], \"ASH\" => Any[(Dict{String, Any}(\"label\" => \"ASHL\", \"neuron_class\" => \"ASH\", \"LR\" => \"L\", \"region\" => \"Lateral Ganglion\", \"roi_id\" => [43], \"confidence\" => 3.0, \"DV\" => \"undefined\"), 55, 58.875346995810325)], \"OLQD\" => Any[(Dict{String, Any}(\"label\" => \"OLQDL\", \"neuron_class\" => \"OLQ\", \"LR\" => \"L\", \"region\" => \"Anterior Ganglion\", \"roi_id\" => [3, 48], \"confidence\" => 5.0, \"DV\" => \"D\"), 49, 34.74721812466134), (Dict{String, Any}(\"label\" => \"OLQDR\", \"neuron_class\" => \"OLQ\", \"LR\" => \"R\", \"region\" => \"Anterior Ganglion\", \"roi_id\" => [154], \"confidence\" => 5.0, \"DV\" => \"D\"), 53, 41.04961892515043)], \"RMD\" => Any[(Dict{String, Any}(\"label\" => \"RMDL\", \"neuron_class\" => \"RMD\", \"LR\" => \"L\", \"region\" => \"Lateral Ganglion\", \"roi_id\" => [120], \"confidence\" => 3.0, \"DV\" => \"undefined\"), 5, 29.287736825212175), (Dict{String, Any}(\"label\" => \"RMDR\", \"neuron_class\" => \"RMD\", \"LR\" => \"R\", \"region\" => \"Lateral Ganglion\", \"roi_id\" => [165], \"confidence\" => 3.0, \"DV\" => \"undefined\"), 109, 61.2627408783722)], \"SIAV\" => Any[(Dict{String, Any}(\"label\" => \"SIA?L\", \"neuron_class\" => \"SIA\", \"LR\" => \"L\", \"region\" => missing, \"roi_id\" => [131], \"confidence\" => 4.0, \"DV\" => \"missing\"), 21, 38.933456750647444)], \"SAAV\" => Any[(Dict{String, Any}(\"label\" => \"SAAVL\", \"neuron_class\" => \"SAA\", \"LR\" => \"L\", \"region\" => \"Lateral Ganglion\", \"roi_id\" => [93], \"confidence\" => 4.0, \"DV\" => \"V\"), 20, 39.23841327282612)], \"SMDD\" => Any[(Dict{String, Any}(\"label\" => \"SMDDL\", \"neuron_class\" => \"SMD\", \"LR\" => \"L\", \"region\" => \"Ventral Ganglion\", \"roi_id\" => [199], \"confidence\" => 4.0, \"DV\" => \"D\"), 98, 29.445285888084015), (Dict{String, Any}(\"label\" => \"SMDDR\", \"neuron_class\" => \"SMD\", \"LR\" => \"R\", \"region\" => \"Ventral Ganglion\", \"roi_id\" => [59], \"confidence\" => 4.0, \"DV\" => \"D\"), 56, 60.128656943084444)], \"IL2V\" => Any[(Dict{String, Any}(\"label\" => \"IL2VL\", \"neuron_class\" => \"IL2\", \"LR\" => \"L\", \"region\" => \"Anterior Ganglion\", \"roi_id\" => [117, 201], \"confidence\" => 5.0, \"DV\" => \"V\"), 74, 8.027141729539872), (Dict{String, Any}(\"label\" => \"IL2VR\", \"neuron_class\" => \"IL2\", \"LR\" => \"R\", \"region\" => \"Anterior Ganglion\", \"roi_id\" => [98], \"confidence\" => 3.0, \"DV\" => \"V\"), 72, 23.352802875623485)]…)), (Dict{Any, Any}(56 => Dict{String, Any}(\"label\" => \"OLLL\", \"neuron_class\" => \"OLL\", \"LR\" => \"L\", \"region\" => \"Anterior Ganglion\", \"roi_id\" => [105], \"confidence\" => 5.0, \"DV\" => \"undefined\"), 35 => Dict{String, Any}(\"label\" => \"SAAVL\", \"neuron_class\" => \"SAA\", \"LR\" => \"L\", \"region\" => \"Lateral Ganglion\", \"roi_id\" => [132], \"confidence\" => 5.0, \"DV\" => \"V\"), 55 => Dict{String, Any}(\"label\" => \"IL2R\", \"neuron_class\" => \"IL2\", \"LR\" => \"R\", \"region\" => \"Anterior Ganglion\", \"roi_id\" => [39], \"confidence\" => 5.0, \"DV\" => \"undefined\"), 60 => Dict{String, Any}(\"label\" => \"I1R\", \"neuron_class\" => \"I1\", \"LR\" => \"R\", \"region\" => \"Anterior Pharyngeal Bulb\", \"roi_id\" => [120, 21], \"confidence\" => 5.0, \"DV\" => \"undefined\"), 30 => Dict{String, Any}(\"label\" => \"IL2VL\", \"neuron_class\" => \"IL2\", \"LR\" => \"L\", \"region\" => \"Anterior Ganglion\", \"roi_id\" => [160], \"confidence\" => 5.0, \"DV\" => \"V\"), 32 => Dict{String, Any}(\"label\" => \"CEPDR\", \"neuron_class\" => \"CEP\", \"LR\" => \"R\", \"region\" => \"Dorsal Ganglion\", \"roi_id\" => [29], \"confidence\" => 5.0, \"DV\" => \"D\"), 6 => Dict{String, Any}(\"label\" => \"RIML\", \"neuron_class\" => \"RIM\", \"LR\" => \"L\", \"region\" => \"Lateral Ganglion\", \"roi_id\" => [150], \"confidence\" => 3.0, \"DV\" => \"undefined\"), 117 => Dict{String, Any}(\"label\" => \"M4\", \"neuron_class\" => \"M4\", \"LR\" => \"undefined\", \"region\" => missing, \"roi_id\" => [157], \"confidence\" => 4.0, \"DV\" => \"undefined\"), 73 => Dict{String, Any}(\"label\" => \"AIZL\", \"neuron_class\" => \"AIZ\", \"LR\" => \"L\", \"region\" => \"Lateral Ganglion\", \"roi_id\" => [72], \"confidence\" => 4.0, \"DV\" => \"undefined\"), 112 => Dict{String, Any}(\"label\" => \"RMEL\", \"neuron_class\" => \"RME\", \"LR\" => \"L\", \"region\" => \"Anterior Ganglion\", \"roi_id\" => [77], \"confidence\" => 5.0, \"DV\" => \"undefined\")…), Dict{Any, Any}(\"SMBD\" => Any[(Dict{String, Any}(\"label\" => \"SMBDR\", \"neuron_class\" => \"SMB\", \"LR\" => \"R\", \"region\" => missing, \"roi_id\" => [65], \"confidence\" => 3.0, \"DV\" => \"D\"), 16, 36.418613368702935)], \"ASH\" => Any[(Dict{String, Any}(\"label\" => \"ASHL\", \"neuron_class\" => \"ASH\", \"LR\" => \"L\", \"region\" => \"Lateral Ganglion\", \"roi_id\" => [28], \"confidence\" => 3.0, \"DV\" => \"undefined\"), 43, 7.400253811717308)], \"URYV\" => Any[(Dict{String, Any}(\"label\" => \"URYVL\", \"neuron_class\" => \"URY\", \"LR\" => \"L\", \"region\" => \"Anterior Ganglion\", \"roi_id\" => [101], \"confidence\" => 5.0, \"DV\" => \"V\"), 101, 55.86762056072368)], \"OLQD\" => Any[(Dict{String, Any}(\"label\" => \"OLQDL\", \"neuron_class\" => \"OLQ\", \"LR\" => \"L\", \"region\" => \"Anterior Ganglion\", \"roi_id\" => [5], \"confidence\" => 5.0, \"DV\" => \"D\"), 78, 103.1692617226967), (Dict{String, Any}(\"label\" => \"OLQDR\", \"neuron_class\" => \"OLQ\", \"LR\" => \"R\", \"region\" => \"Anterior Ganglion\", \"roi_id\" => [80], \"confidence\" => 5.0, \"DV\" => \"D\"), 48, 50.04006085648484)], \"RMD\" => Any[(Dict{String, Any}(\"label\" => \"RMDL\", \"neuron_class\" => \"RMD\", \"LR\" => \"L\", \"region\" => \"Lateral Ganglion\", \"roi_id\" => [164], \"confidence\" => 3.0, \"DV\" => \"undefined\"), 50, 42.88954951872496)], \"AWA\" => Any[(Dict{String, Any}(\"label\" => \"AWAL\", \"neuron_class\" => \"AWA\", \"LR\" => \"L\", \"region\" => \"Lateral Ganglion\", \"roi_id\" => [97], \"confidence\" => 5.0, \"DV\" => \"undefined\"), 95, 14.033664257387908), (Dict{String, Any}(\"label\" => \"AWAR\", \"neuron_class\" => \"AWA\", \"LR\" => \"R\", \"region\" => \"Lateral Ganglion\", \"roi_id\" => [125], \"confidence\" => 3.0, \"DV\" => \"undefined\"), 124, 16.637392034672462)], \"SAAV\" => Any[(Dict{String, Any}(\"label\" => \"SAAVL\", \"neuron_class\" => \"SAA\", \"LR\" => \"L\", \"region\" => \"Lateral Ganglion\", \"roi_id\" => [132], \"confidence\" => 5.0, \"DV\" => \"V\"), 35, 32.58039101446306), (Dict{String, Any}(\"label\" => \"SAAVR\", \"neuron_class\" => \"SAA\", \"LR\" => \"R\", \"region\" => \"Lateral Ganglion\", \"roi_id\" => [55], \"confidence\" => 5.0, \"DV\" => \"V\"), 122, 23.945985269516378)], \"ADA\" => Any[(Dict{String, Any}(\"label\" => \"ADAL\", \"neuron_class\" => \"ADA\", \"LR\" => \"L\", \"region\" => \"Lateral Ganglion\", \"roi_id\" => [178], \"confidence\" => 3.0, \"DV\" => \"undefined\"), 104, 44.815904477192966)], \"SMDD\" => Any[(Dict{String, Any}(\"label\" => \"SMDDR\", \"neuron_class\" => \"SMD\", \"LR\" => \"R\", \"region\" => \"Ventral Ganglion\", \"roi_id\" => [40], \"confidence\" => 3.0, \"DV\" => \"D\"), 129, 73.3548183594843), (Dict{String, Any}(\"label\" => \"SMDDL\", \"neuron_class\" => \"SMD\", \"LR\" => \"L\", \"region\" => \"Ventral Ganglion\", \"roi_id\" => [24], \"confidence\" => 3.0, \"DV\" => \"D\"), 82, 76.10372212574879)], \"IL2V\" => Any[(Dict{String, Any}(\"label\" => \"IL2VL\", \"neuron_class\" => \"IL2\", \"LR\" => \"L\", \"region\" => \"Anterior Ganglion\", \"roi_id\" => [160], \"confidence\" => 5.0, \"DV\" => \"V\"), 30, 27.367234820098812), (Dict{String, Any}(\"label\" => \"IL2VR\", \"neuron_class\" => \"IL2\", \"LR\" => \"R\", \"region\" => \"Anterior Ganglion\", \"roi_id\" => [4], \"confidence\" => 5.0, \"DV\" => \"V\"), 84, 8.020949143838786)]…)), (Dict{Any, Any}(5 => Dict{String, Any}(\"label\" => \"ASHL\", \"neuron_class\" => \"ASH\", \"LR\" => \"L\", \"region\" => missing, \"roi_id\" => [177], \"confidence\" => 4.0, \"DV\" => \"undefined\"), 56 => Dict{String, Any}(\"label\" => \"IL1L\", \"neuron_class\" => \"IL1\", \"LR\" => \"L\", \"region\" => missing, \"roi_id\" => [11], \"confidence\" => 5.0, \"DV\" => \"undefined\"), 35 => Dict{String, Any}(\"label\" => \"AUAR\", \"neuron_class\" => \"AUA\", \"LR\" => \"R\", \"region\" => missing, \"roi_id\" => [116], \"confidence\" => 3.0, \"DV\" => \"undefined\"), 55 => Dict{String, Any}(\"label\" => \"CEPVL\", \"neuron_class\" => \"CEP\", \"LR\" => \"L\", \"region\" => missing, \"roi_id\" => [130], \"confidence\" => 5.0, \"DV\" => \"V\"), 60 => Dict{String, Any}(\"label\" => \"IL2VL\", \"neuron_class\" => \"IL2\", \"LR\" => \"L\", \"region\" => missing, \"roi_id\" => [126], \"confidence\" => 5.0, \"DV\" => \"V\"), 30 => Dict{String, Any}(\"label\" => \"SMDVR\", \"neuron_class\" => \"SMD\", \"LR\" => \"R\", \"region\" => missing, \"roi_id\" => [190], \"confidence\" => 5.0, \"DV\" => \"V\"), 6 => Dict{String, Any}(\"label\" => \"NSML\", \"neuron_class\" => \"NSM\", \"LR\" => \"L\", \"region\" => missing, \"roi_id\" => [206, 150], \"confidence\" => 5.0, \"DV\" => \"undefined\"), 117 => Dict{String, Any}(\"label\" => \"RMDL\", \"neuron_class\" => \"RMD\", \"LR\" => \"L\", \"region\" => missing, \"roi_id\" => [142], \"confidence\" => 5.0, \"DV\" => \"undefined\"), 67 => Dict{String, Any}(\"label\" => \"RMEV\", \"neuron_class\" => \"RME\", \"LR\" => \"undefined\", \"region\" => missing, \"roi_id\" => [76], \"confidence\" => 3.0, \"DV\" => \"V\"), 112 => Dict{String, Any}(\"label\" => \"OLQDR\", \"neuron_class\" => \"OLQ\", \"LR\" => \"R\", \"region\" => missing, \"roi_id\" => [192], \"confidence\" => 5.0, \"DV\" => \"D\")…), Dict{Any, Any}(\"RID\" => Any[(Dict{String, Any}(\"label\" => \"RID\", \"neuron_class\" => \"RID\", \"LR\" => \"undefined\", \"region\" => missing, \"roi_id\" => [164], \"confidence\" => 5.0, \"DV\" => \"undefined\"), 33, 53.83644417678711)], \"ASH\" => Any[(Dict{String, Any}(\"label\" => \"ASHL\", \"neuron_class\" => \"ASH\", \"LR\" => \"L\", \"region\" => missing, \"roi_id\" => [177], \"confidence\" => 4.0, \"DV\" => \"undefined\"), 5, 15.876838913654225)], \"URYV\" => Any[(Dict{String, Any}(\"label\" => \"URYVL\", \"neuron_class\" => \"URY\", \"LR\" => \"L\", \"region\" => missing, \"roi_id\" => [50], \"confidence\" => 5.0, \"DV\" => \"V\"), 36, 61.486173260863374), (Dict{String, Any}(\"label\" => \"URYVR\", \"neuron_class\" => \"URY\", \"LR\" => \"R\", \"region\" => missing, \"roi_id\" => [49], \"confidence\" => 5.0, \"DV\" => \"V\"), 68, 35.218689967292924)], \"OLQD\" => Any[(Dict{String, Any}(\"label\" => \"OLQDL\", \"neuron_class\" => \"OLQ\", \"LR\" => \"L\", \"region\" => missing, \"roi_id\" => [154], \"confidence\" => 5.0, \"DV\" => \"D\"), 101, 78.30225516687999), (Dict{String, Any}(\"label\" => \"OLQDR\", \"neuron_class\" => \"OLQ\", \"LR\" => \"R\", \"region\" => missing, \"roi_id\" => [192], \"confidence\" => 5.0, \"DV\" => \"D\"), 112, 74.43043710468307)], \"RMD\" => Any[(Dict{String, Any}(\"label\" => \"RMDL\", \"neuron_class\" => \"RMD\", \"LR\" => \"L\", \"region\" => missing, \"roi_id\" => [142], \"confidence\" => 5.0, \"DV\" => \"undefined\"), 117, 33.73977336062045)], \"M5\" => Any[(Dict{String, Any}(\"label\" => \"M5\", \"neuron_class\" => \"M5\", \"LR\" => \"undefined\", \"region\" => missing, \"roi_id\" => [39], \"confidence\" => 3.0, \"DV\" => \"undefined\"), 27, 7.984057334338532)], \"AWA\" => Any[(Dict{String, Any}(\"label\" => \"AWAL\", \"neuron_class\" => \"AWA\", \"LR\" => \"L\", \"region\" => missing, \"roi_id\" => [59], \"confidence\" => 4.0, \"DV\" => \"undefined\"), 51, 14.389916279503264), (Dict{String, Any}(\"label\" => \"AWAR\", \"neuron_class\" => \"AWA\", \"LR\" => \"R\", \"region\" => missing, \"roi_id\" => [174], \"confidence\" => 3.0, \"DV\" => \"undefined\"), 121, 62.097271183359474)], \"SAAV\" => Any[(Dict{String, Any}(\"label\" => \"SAAVL\", \"neuron_class\" => \"SAA\", \"LR\" => \"L\", \"region\" => missing, \"roi_id\" => [112], \"confidence\" => 5.0, \"DV\" => \"V\"), 126, 48.60488981321477), (Dict{String, Any}(\"label\" => \"SAAVR\", \"neuron_class\" => \"SAA\", \"LR\" => \"R\", \"region\" => missing, \"roi_id\" => [151], \"confidence\" => 5.0, \"DV\" => \"V\"), 125, 47.87935667882432)], \"ADA\" => Any[(Dict{String, Any}(\"label\" => \"ADAL\", \"neuron_class\" => \"ADA\", \"LR\" => \"L\", \"region\" => missing, \"roi_id\" => [30], \"confidence\" => 5.0, \"DV\" => \"undefined\"), 113, 37.08435433916948)], \"RIS\" => Any[(Dict{String, Any}(\"label\" => \"RIS\", \"neuron_class\" => \"RIS\", \"LR\" => \"undefined\", \"region\" => missing, \"roi_id\" => [100], \"confidence\" => 3.0, \"DV\" => \"undefined\"), 97, 42.36407026670014)]…)), (Dict{Any, Any}(56 => Dict{String, Any}(\"label\" => \"AVER\", \"neuron_class\" => \"AVE\", \"LR\" => \"R\", \"region\" => missing, \"roi_id\" => [151], \"confidence\" => 4.0, \"DV\" => \"undefined\"), 55 => Dict{String, Any}(\"label\" => \"AIA?\", \"neuron_class\" => \"AIA\", \"LR\" => \"missing\", \"region\" => missing, \"roi_id\" => [72], \"confidence\" => 3.0, \"DV\" => \"undefined\"), 35 => Dict{String, Any}(\"label\" => \"URBL\", \"neuron_class\" => \"URB\", \"LR\" => \"L\", \"region\" => missing, \"roi_id\" => [120], \"confidence\" => 3.0, \"DV\" => \"undefined\"), 114 => Dict{String, Any}(\"label\" => \"OLQDL\", \"neuron_class\" => \"OLQ\", \"LR\" => \"L\", \"region\" => missing, \"roi_id\" => [52], \"confidence\" => 5.0, \"DV\" => \"D\"), 123 => Dict{String, Any}(\"label\" => \"IL2DR\", \"neuron_class\" => \"IL2\", \"LR\" => \"R\", \"region\" => missing, \"roi_id\" => [94], \"confidence\" => 3.0, \"DV\" => \"D\"), 117 => Dict{String, Any}(\"label\" => \"I3\", \"neuron_class\" => \"I3\", \"LR\" => \"undefined\", \"region\" => missing, \"roi_id\" => [74], \"confidence\" => 3.0, \"DV\" => \"undefined\"), 45 => Dict{String, Any}(\"label\" => \"NSMR\", \"neuron_class\" => \"NSM\", \"LR\" => \"R\", \"region\" => missing, \"roi_id\" => [3], \"confidence\" => 5.0, \"DV\" => \"undefined\"), 73 => Dict{String, Any}(\"label\" => \"URYDL\", \"neuron_class\" => \"URY\", \"LR\" => \"L\", \"region\" => missing, \"roi_id\" => [113], \"confidence\" => 5.0, \"DV\" => \"D\"), 4 => Dict{String, Any}(\"label\" => \"M4\", \"neuron_class\" => \"M4\", \"LR\" => \"undefined\", \"region\" => missing, \"roi_id\" => [99], \"confidence\" => 4.0, \"DV\" => \"undefined\"), 63 => Dict{String, Any}(\"label\" => \"AVDL\", \"neuron_class\" => \"AVD\", \"LR\" => \"L\", \"region\" => missing, \"roi_id\" => [15], \"confidence\" => 5.0, \"DV\" => \"undefined\")…), Dict{Any, Any}(\"RID\" => Any[(Dict{String, Any}(\"label\" => \"RID\", \"neuron_class\" => \"RID\", \"LR\" => \"undefined\", \"region\" => missing, \"roi_id\" => [178], \"confidence\" => 4.0, \"DV\" => \"undefined\"), 109, 44.758941396035475)], \"SMBD\" => Any[(Dict{String, Any}(\"label\" => \"SMB?L\", \"neuron_class\" => \"SMB\", \"LR\" => \"L\", \"region\" => missing, \"roi_id\" => [87], \"confidence\" => 3.0, \"DV\" => \"missing\"), 129, 26.76126543392865)], \"URYV\" => Any[(Dict{String, Any}(\"label\" => \"URYVR\", \"neuron_class\" => \"URY\", \"LR\" => \"R\", \"region\" => missing, \"roi_id\" => [177], \"confidence\" => 5.0, \"DV\" => \"V\"), 78, 39.754225407738325)], \"OLQD\" => Any[(Dict{String, Any}(\"label\" => \"OLQDR\", \"neuron_class\" => \"OLQ\", \"LR\" => \"R\", \"region\" => missing, \"roi_id\" => [168], \"confidence\" => 5.0, \"DV\" => \"D\"), 10, 29.874301324989105), (Dict{String, Any}(\"label\" => \"OLQDL\", \"neuron_class\" => \"OLQ\", \"LR\" => \"L\", \"region\" => missing, \"roi_id\" => [52], \"confidence\" => 5.0, \"DV\" => \"D\"), 114, 26.86760436179328)], \"RMD\" => Any[(Dict{String, Any}(\"label\" => \"RMDL\", \"neuron_class\" => \"RMD\", \"LR\" => \"L\", \"region\" => missing, \"roi_id\" => [175, 188], \"confidence\" => 5.0, \"DV\" => \"undefined\"), 106, 9.567331957059336), (Dict{String, Any}(\"label\" => \"RMDR\", \"neuron_class\" => \"RMD\", \"LR\" => \"R\", \"region\" => missing, \"roi_id\" => [10], \"confidence\" => 3.0, \"DV\" => \"undefined\"), 120, 28.81042229888304)], \"AWA\" => Any[(Dict{String, Any}(\"label\" => \"AWAR\", \"neuron_class\" => \"AWA\", \"LR\" => \"R\", \"region\" => missing, \"roi_id\" => [62], \"confidence\" => 3.0, \"DV\" => \"undefined\"), 24, 9.696928105127844)], \"ADA\" => Any[(Dict{String, Any}(\"label\" => \"ADAL\", \"neuron_class\" => \"ADA\", \"LR\" => \"L\", \"region\" => missing, \"roi_id\" => [55], \"confidence\" => 4.0, \"DV\" => \"undefined\"), 132, 66.59402406824793)], \"SMDD\" => Any[(Dict{String, Any}(\"label\" => \"SMDDL\", \"neuron_class\" => \"SMD\", \"LR\" => \"L\", \"region\" => missing, \"roi_id\" => [149], \"confidence\" => 3.0, \"DV\" => \"D\"), 135, 56.814989626622115), (Dict{String, Any}(\"label\" => \"SMDDR\", \"neuron_class\" => \"SMD\", \"LR\" => \"R\", \"region\" => missing, \"roi_id\" => [137], \"confidence\" => 3.0, \"DV\" => \"D\"), 87, 31.32368873361091)], \"IL2V\" => Any[(Dict{String, Any}(\"label\" => \"IL2VL\", \"neuron_class\" => \"IL2\", \"LR\" => \"L\", \"region\" => missing, \"roi_id\" => [114], \"confidence\" => 5.0, \"DV\" => \"V\"), 23, 11.44800322760941), (Dict{String, Any}(\"label\" => \"IL2VR\", \"neuron_class\" => \"IL2\", \"LR\" => \"R\", \"region\" => missing, \"roi_id\" => [104], \"confidence\" => 5.0, \"DV\" => \"V\"), 11, 3.1712752176758734)], \"AWB\" => Any[(Dict{String, Any}(\"label\" => \"AWBL\", \"neuron_class\" => \"AWB\", \"LR\" => \"L\", \"region\" => missing, \"roi_id\" => [154], \"confidence\" => 3.0, \"DV\" => \"undefined\"), 77, 22.875669694001086)]…)), (Dict{Any, Any}(35 => Dict{String, Any}(\"label\" => \"SMDVL\", \"neuron_class\" => \"SMD\", \"LR\" => \"L\", \"region\" => missing, \"roi_id\" => [18], \"confidence\" => 5.0, \"DV\" => \"V\"), 110 => Dict{String, Any}(\"label\" => \"AVER\", \"neuron_class\" => \"AVE\", \"LR\" => \"R\", \"region\" => missing, \"roi_id\" => [114], \"confidence\" => 5.0, \"DV\" => \"undefined\"), 30 => Dict{String, Any}(\"label\" => \"ASEL\", \"neuron_class\" => \"ASE\", \"LR\" => \"L\", \"region\" => missing, \"roi_id\" => [124], \"confidence\" => 4.0, \"DV\" => \"undefined\"), 6 => Dict{String, Any}(\"label\" => \"OLQDR\", \"neuron_class\" => \"OLQ\", \"LR\" => \"R\", \"region\" => missing, \"roi_id\" => [139], \"confidence\" => 5.0, \"DV\" => \"D\"), 117 => Dict{String, Any}(\"label\" => \"I2R\", \"neuron_class\" => \"I2\", \"LR\" => \"R\", \"region\" => missing, \"roi_id\" => [136], \"confidence\" => 5.0, \"DV\" => \"undefined\"), 45 => Dict{String, Any}(\"label\" => \"RMEV\", \"neuron_class\" => \"RME\", \"LR\" => \"undefined\", \"region\" => missing, \"roi_id\" => [53], \"confidence\" => 4.0, \"DV\" => \"V\"), 73 => Dict{String, Any}(\"label\" => \"SMBVR\", \"neuron_class\" => \"SMB\", \"LR\" => \"R\", \"region\" => missing, \"roi_id\" => [6], \"confidence\" => 3.0, \"DV\" => \"V\"), 112 => Dict{String, Any}(\"label\" => \"AIBL\", \"neuron_class\" => \"AIB\", \"LR\" => \"L\", \"region\" => missing, \"roi_id\" => [95], \"confidence\" => 4.0, \"DV\" => \"undefined\"), 90 => Dict{String, Any}(\"label\" => \"CEPVL\", \"neuron_class\" => \"CEP\", \"LR\" => \"L\", \"region\" => missing, \"roi_id\" => [70], \"confidence\" => 5.0, \"DV\" => \"V\"), 13 => Dict{String, Any}(\"label\" => \"SMDDR\", \"neuron_class\" => \"SMD\", \"LR\" => \"R\", \"region\" => missing, \"roi_id\" => [117, 166], \"confidence\" => 3.0, \"DV\" => \"D\")…), Dict{Any, Any}(\"RID\" => Any[(Dict{String, Any}(\"label\" => \"RID\", \"neuron_class\" => \"RID\", \"LR\" => \"undefined\", \"region\" => missing, \"roi_id\" => [34], \"confidence\" => 4.0, \"DV\" => \"undefined\"), 8, 22.913426593641756)], \"SMBD\" => Any[(Dict{String, Any}(\"label\" => \"SMBVL\", \"neuron_class\" => \"SMB\", \"LR\" => \"L\", \"region\" => missing, \"roi_id\" => [2], \"confidence\" => 3.0, \"DV\" => \"V\"), 63, 48.722431612512835), (Dict{String, Any}(\"label\" => \"SMBVR\", \"neuron_class\" => \"SMB\", \"LR\" => \"R\", \"region\" => missing, \"roi_id\" => [6], \"confidence\" => 3.0, \"DV\" => \"V\"), 73, 33.90497060278781)], \"ASH\" => Any[(Dict{String, Any}(\"label\" => \"ASHL\", \"neuron_class\" => \"ASH\", \"LR\" => \"L\", \"region\" => missing, \"roi_id\" => [67], \"confidence\" => 3.0, \"DV\" => \"undefined\"), 103, 4.408605446350161)], \"I4\" => Any[(Dict{String, Any}(\"label\" => \"I4\", \"neuron_class\" => \"I4\", \"LR\" => \"undefined\", \"region\" => missing, \"roi_id\" => [17], \"confidence\" => 3.0, \"DV\" => \"undefined\"), 100, 9.671653030955301)], \"URYV\" => Any[(Dict{String, Any}(\"label\" => \"URYVL\", \"neuron_class\" => \"URY\", \"LR\" => \"L\", \"region\" => missing, \"roi_id\" => [28], \"confidence\" => 5.0, \"DV\" => \"V\"), 137, 33.969183609740746)], \"OLQD\" => Any[(Dict{String, Any}(\"label\" => \"OLQDR\", \"neuron_class\" => \"OLQ\", \"LR\" => \"R\", \"region\" => missing, \"roi_id\" => [139], \"confidence\" => 5.0, \"DV\" => \"D\"), 6, 33.21558343264517), (Dict{String, Any}(\"label\" => \"OLQDL\", \"neuron_class\" => \"OLQ\", \"LR\" => \"L\", \"region\" => missing, \"roi_id\" => [41], \"confidence\" => 5.0, \"DV\" => \"D\"), 138, 43.06251722065862)], \"RMD\" => Any[(Dict{String, Any}(\"label\" => \"RMDL\", \"neuron_class\" => \"RMD\", \"LR\" => \"L\", \"region\" => missing, \"roi_id\" => [109], \"confidence\" => 5.0, \"DV\" => \"undefined\"), 72, 30.52202492033303), (Dict{String, Any}(\"label\" => \"RMDR\", \"neuron_class\" => \"RMD\", \"LR\" => \"R\", \"region\" => missing, \"roi_id\" => [159], \"confidence\" => 5.0, \"DV\" => \"undefined\"), 37, 71.97790867033466)], \"M5\" => Any[(Dict{String, Any}(\"label\" => \"M5\", \"neuron_class\" => \"M5\", \"LR\" => \"undefined\", \"region\" => missing, \"roi_id\" => [82], \"confidence\" => 4.0, \"DV\" => \"undefined\"), 134, 12.345125401151517)], \"AWA\" => Any[(Dict{String, Any}(\"label\" => \"AWAR\", \"neuron_class\" => \"AWA\", \"LR\" => \"R\", \"region\" => missing, \"roi_id\" => [170], \"confidence\" => 4.0, \"DV\" => \"undefined\"), 132, 8.197706672320454)], \"SAAV\" => Any[(Dict{String, Any}(\"label\" => \"SAAVR\", \"neuron_class\" => \"SAA\", \"LR\" => \"R\", \"region\" => missing, \"roi_id\" => [15], \"confidence\" => 4.0, \"DV\" => \"V\"), 89, 12.590768967209724)]…)), (Dict{Any, Any}(56 => Dict{String, Any}(\"label\" => \"URAVL\", \"neuron_class\" => \"URA\", \"LR\" => \"L\", \"region\" => missing, \"roi_id\" => [97], \"confidence\" => 3.0, \"DV\" => \"V\"), 114 => Dict{String, Any}(\"label\" => \"RMEV\", \"neuron_class\" => \"RME\", \"LR\" => \"undefined\", \"region\" => missing, \"roi_id\" => [13], \"confidence\" => 4.5, \"DV\" => \"V\"), 55 => Dict{String, Any}(\"label\" => \"IL1L\", \"neuron_class\" => \"IL1\", \"LR\" => \"L\", \"region\" => \"Anterior Ganglion\", \"roi_id\" => [192], \"confidence\" => 5.0, \"DV\" => \"undefined\"), 35 => Dict{String, Any}(\"label\" => \"ADLL\", \"neuron_class\" => \"ADL\", \"LR\" => \"L\", \"region\" => missing, \"roi_id\" => [105], \"confidence\" => 3.0, \"DV\" => \"undefined\"), 60 => Dict{String, Any}(\"label\" => \"IL1DL\", \"neuron_class\" => \"IL1\", \"LR\" => \"L\", \"region\" => \"Anterior Ganglion\", \"roi_id\" => [176], \"confidence\" => 5.0, \"DV\" => \"D\"), 30 => Dict{String, Any}(\"label\" => \"AUAL\", \"neuron_class\" => \"AUA\", \"LR\" => \"L\", \"region\" => missing, \"roi_id\" => [110], \"confidence\" => 3.0, \"DV\" => \"undefined\"), 32 => Dict{String, Any}(\"label\" => \"AVDL\", \"neuron_class\" => \"AVD\", \"LR\" => \"L\", \"region\" => missing, \"roi_id\" => [99], \"confidence\" => 4.0, \"DV\" => \"undefined\"), 6 => Dict{String, Any}(\"label\" => \"IL2VR\", \"neuron_class\" => \"IL2\", \"LR\" => \"R\", \"region\" => \"Anterior Ganglion\", \"roi_id\" => [217, 74], \"confidence\" => 5.0, \"DV\" => \"V\"), 117 => Dict{String, Any}(\"label\" => \"RMER\", \"neuron_class\" => \"RME\", \"LR\" => \"R\", \"region\" => \"Anterior Ganglion\", \"roi_id\" => [165], \"confidence\" => 5.0, \"DV\" => \"undefined\"), 67 => Dict{String, Any}(\"label\" => \"AQR\", \"neuron_class\" => \"AQR\", \"LR\" => \"undefined\", \"region\" => missing, \"roi_id\" => [73], \"confidence\" => 3.0, \"DV\" => \"undefined\")…), Dict{Any, Any}(\"RID\" => Any[(Dict{String, Any}(\"label\" => \"RID\", \"neuron_class\" => \"RID\", \"LR\" => \"undefined\", \"region\" => \"Dorsal Ganglion\", \"roi_id\" => [139], \"confidence\" => 5.0, \"DV\" => \"undefined\"), 80, 50.11118801879688)], \"SMBD\" => Any[(Dict{String, Any}(\"label\" => \"SMB?L\", \"neuron_class\" => \"SMB\", \"LR\" => \"L\", \"region\" => missing, \"roi_id\" => [41], \"confidence\" => 3.0, \"DV\" => \"missing\"), 62, 29.708595936002943)], \"URYV\" => Any[(Dict{String, Any}(\"label\" => \"URYVR\", \"neuron_class\" => \"URY\", \"LR\" => \"R\", \"region\" => missing, \"roi_id\" => [10], \"confidence\" => 4.0, \"DV\" => \"V\"), 22, 10.344342647063488)], \"OLQD\" => Any[(Dict{String, Any}(\"label\" => \"OLQDR\", \"neuron_class\" => \"OLQ\", \"LR\" => \"R\", \"region\" => \"Anterior Ganglion\", \"roi_id\" => [106], \"confidence\" => 5.0, \"DV\" => \"D\"), 53, 59.69629829906914), (Dict{String, Any}(\"label\" => \"OLQDL\", \"neuron_class\" => \"OLQ\", \"LR\" => \"L\", \"region\" => \"Anterior Ganglion\", \"roi_id\" => [113], \"confidence\" => 5.0, \"DV\" => \"D\"), 92, 43.10122997251308)], \"RMD\" => Any[(Dict{String, Any}(\"label\" => \"RMDR\", \"neuron_class\" => \"RMD\", \"LR\" => \"R\", \"region\" => missing, \"roi_id\" => [148], \"confidence\" => 4.0, \"DV\" => \"undefined\"), 48, 22.977433698836737), (Dict{String, Any}(\"label\" => \"RMDL\", \"neuron_class\" => \"RMD\", \"LR\" => \"L\", \"region\" => missing, \"roi_id\" => [131], \"confidence\" => 4.0, \"DV\" => \"undefined\"), 58, 60.52595998725633)], \"AWA\" => Any[(Dict{String, Any}(\"label\" => \"AWAL\", \"neuron_class\" => \"AWA\", \"LR\" => \"L\", \"region\" => missing, \"roi_id\" => [36], \"confidence\" => 4.0, \"DV\" => \"undefined\"), 113, 35.01766064197344)], \"ADA\" => Any[(Dict{String, Any}(\"label\" => \"ADAL\", \"neuron_class\" => \"ADA\", \"LR\" => \"L\", \"region\" => missing, \"roi_id\" => [202], \"confidence\" => 4.0, \"DV\" => \"undefined\"), 54, 70.92725441279083)], \"IL2V\" => Any[(Dict{String, Any}(\"label\" => \"IL2VR\", \"neuron_class\" => \"IL2\", \"LR\" => \"R\", \"region\" => \"Anterior Ganglion\", \"roi_id\" => [217, 74], \"confidence\" => 5.0, \"DV\" => \"V\"), 6, 5.788630748145742)], \"AWB\" => Any[(Dict{String, Any}(\"label\" => \"AWBL\", \"neuron_class\" => \"AWB\", \"LR\" => \"L\", \"region\" => missing, \"roi_id\" => [19], \"confidence\" => 4.0, \"DV\" => \"undefined\"), 105, 60.189764811707064)], \"RIV\" => Any[(Dict{String, Any}(\"label\" => \"RIVL\", \"neuron_class\" => \"RIV\", \"LR\" => \"L\", \"region\" => missing, \"roi_id\" => [79], \"confidence\" => 4.0, \"DV\" => \"undefined\"), 63, 82.29622813181567)]…)), (Dict{Any, Any}(5 => Dict{String, Any}(\"label\" => \"OLLR\", \"neuron_class\" => \"OLL\", \"LR\" => \"R\", \"region\" => \"Anterior Ganglion\", \"roi_id\" => [197, 81], \"confidence\" => 4.0, \"DV\" => \"undefined\"), 56 => Dict{String, Any}(\"label\" => \"AVJL\", \"neuron_class\" => \"AVJ\", \"LR\" => \"L\", \"region\" => \"Lateral Ganglion\", \"roi_id\" => [166], \"confidence\" => 5.0, \"DV\" => \"undefined\"), 123 => Dict{String, Any}(\"label\" => \"URBL\", \"neuron_class\" => \"URB\", \"LR\" => \"L\", \"region\" => missing, \"roi_id\" => [115], \"confidence\" => 3.0, \"DV\" => \"undefined\"), 35 => Dict{String, Any}(\"label\" => \"OLQVR\", \"neuron_class\" => \"OLQ\", \"LR\" => \"R\", \"region\" => \"Anterior Ganglion\", \"roi_id\" => [151], \"confidence\" => 5.0, \"DV\" => \"V\"), 114 => Dict{String, Any}(\"label\" => \"IL2VL\", \"neuron_class\" => \"IL2\", \"LR\" => \"L\", \"region\" => \"Anterior Ganglion\", \"roi_id\" => [54], \"confidence\" => 5.0, \"DV\" => \"V\"), 55 => Dict{String, Any}(\"label\" => \"I1L\", \"neuron_class\" => \"I1\", \"LR\" => \"L\", \"region\" => \"Anterior Pharyngeal Bulb\", \"roi_id\" => [117], \"confidence\" => 5.0, \"DV\" => \"undefined\"), 60 => Dict{String, Any}(\"label\" => \"IL2VR\", \"neuron_class\" => \"IL2\", \"LR\" => \"R\", \"region\" => \"Anterior Ganglion\", \"roi_id\" => [140], \"confidence\" => 5.0, \"DV\" => \"V\"), 30 => Dict{String, Any}(\"label\" => \"CEPVL\", \"neuron_class\" => \"CEP\", \"LR\" => \"L\", \"region\" => \"Anterior Ganglion\", \"roi_id\" => [171], \"confidence\" => 5.0, \"DV\" => \"V\"), 32 => Dict{String, Any}(\"label\" => \"I2R\", \"neuron_class\" => \"I2\", \"LR\" => \"R\", \"region\" => \"Anterior Pharyngeal Bulb\", \"roi_id\" => [61], \"confidence\" => 5.0, \"DV\" => \"undefined\"), 6 => Dict{String, Any}(\"label\" => \"MCL\", \"neuron_class\" => \"MC\", \"LR\" => \"L\", \"region\" => \"Anterior Pharyngeal Bulb\", \"roi_id\" => [123], \"confidence\" => 3.0, \"DV\" => \"undefined\")…), Dict{Any, Any}(\"RID\" => Any[(Dict{String, Any}(\"label\" => \"RID\", \"neuron_class\" => \"RID\", \"LR\" => \"undefined\", \"region\" => missing, \"roi_id\" => [157], \"confidence\" => 3.0, \"DV\" => \"undefined\"), 83, 69.4813690870209)], \"URYV\" => Any[(Dict{String, Any}(\"label\" => \"URYVL\", \"neuron_class\" => \"URY\", \"LR\" => \"L\", \"region\" => \"Anterior Ganglion\", \"roi_id\" => [111], \"confidence\" => 4.0, \"DV\" => \"V\"), 70, 54.80283297416142), (Dict{String, Any}(\"label\" => \"URYVR\", \"neuron_class\" => \"URY\", \"LR\" => \"R\", \"region\" => \"Anterior Ganglion\", \"roi_id\" => [7], \"confidence\" => 4.0, \"DV\" => \"V\"), 68, 31.548042797055107)], \"OLQD\" => Any[(Dict{String, Any}(\"label\" => \"OLQDL\", \"neuron_class\" => \"OLQ\", \"LR\" => \"L\", \"region\" => \"Anterior Ganglion\", \"roi_id\" => [47], \"confidence\" => 5.0, \"DV\" => \"D\"), 72, 43.214746116901516), (Dict{String, Any}(\"label\" => \"OLQDR\", \"neuron_class\" => \"OLQ\", \"LR\" => \"R\", \"region\" => \"Anterior Ganglion\", \"roi_id\" => [69], \"confidence\" => 5.0, \"DV\" => \"D\"), 3, 62.90250981387149)], \"RIR\" => Any[(Dict{String, Any}(\"label\" => \"RIR\", \"neuron_class\" => \"RIR\", \"LR\" => \"undefined\", \"region\" => \"Ventral Ganglion\", \"roi_id\" => [64], \"confidence\" => 3.0, \"DV\" => \"undefined\"), 73, 76.68463481056911)], \"RMD\" => Any[(Dict{String, Any}(\"label\" => \"RMDR\", \"neuron_class\" => \"RMD\", \"LR\" => \"R\", \"region\" => \"Lateral Ganglion\", \"roi_id\" => [50], \"confidence\" => 4.0, \"DV\" => \"undefined\"), 44, 40.40075824392951)], \"AWA\" => Any[(Dict{String, Any}(\"label\" => \"AWAL\", \"neuron_class\" => \"AWA\", \"LR\" => \"L\", \"region\" => \"Lateral Ganglion\", \"roi_id\" => [164], \"confidence\" => 4.0, \"DV\" => \"undefined\"), 112, 43.163699444793046), (Dict{String, Any}(\"label\" => \"AWAR\", \"neuron_class\" => \"AWA\", \"LR\" => \"R\", \"region\" => \"Lateral Ganglion\", \"roi_id\" => [43], \"confidence\" => 3.0, \"DV\" => \"undefined\"), 90, 26.463475161282243)], \"SAAV\" => Any[(Dict{String, Any}(\"label\" => \"SAAVL\", \"neuron_class\" => \"SAA\", \"LR\" => \"L\", \"region\" => \"Lateral Ganglion\", \"roi_id\" => [146], \"confidence\" => 4.0, \"DV\" => \"V\"), 121, 47.24332126460452), (Dict{String, Any}(\"label\" => \"SAAVR\", \"neuron_class\" => \"SAA\", \"LR\" => \"R\", \"region\" => \"Lateral Ganglion\", \"roi_id\" => [5], \"confidence\" => 3.0, \"DV\" => \"V\"), 50, 9.758492888657418)], \"ADA\" => Any[(Dict{String, Any}(\"label\" => \"ADAL\", \"neuron_class\" => \"ADA\", \"LR\" => \"L\", \"region\" => \"Lateral Ganglion\", \"roi_id\" => [36], \"confidence\" => 4.0, \"DV\" => \"undefined\"), 82, 68.5104895802662)], \"RIS\" => Any[(Dict{String, Any}(\"label\" => \"RIS\", \"neuron_class\" => \"RIS\", \"LR\" => \"undefined\", \"region\" => missing, \"roi_id\" => [85], \"confidence\" => 3.0, \"DV\" => \"undefined\"), 20, 53.934934276764494)], \"SMDD\" => Any[(Dict{String, Any}(\"label\" => \"SMDDR\", \"neuron_class\" => \"SMD\", \"LR\" => \"R\", \"region\" => \"Ventral Ganglion\", \"roi_id\" => [23], \"confidence\" => 4.0, \"DV\" => \"D\"), 57, 60.5692521959443), (Dict{String, Any}(\"label\" => \"SMDDL\", \"neuron_class\" => \"SMD\", \"LR\" => \"L\", \"region\" => \"Ventral Ganglion\", \"roi_id\" => [122], \"confidence\" => 3.0, \"DV\" => \"D\"), 81, 95.63516705418738)]…)), (Dict{Any, Any}(56 => Dict{String, Any}(\"label\" => \"NSML\", \"neuron_class\" => \"NSM\", \"LR\" => \"L\", \"region\" => \"Anterior Pharyngeal Bulb\", \"roi_id\" => [166], \"confidence\" => 5.0, \"DV\" => \"undefined\"), 35 => Dict{String, Any}(\"label\" => \"ASEL\", \"neuron_class\" => \"ASE\", \"LR\" => \"L\", \"region\" => \"Lateral Ganglion\", \"roi_id\" => [227, 106], \"confidence\" => 3.0, \"DV\" => \"undefined\"), 55 => Dict{String, Any}(\"label\" => \"AWBR\", \"neuron_class\" => \"AWB\", \"LR\" => \"R\", \"region\" => \"Lateral Ganglion\", \"roi_id\" => [183], \"confidence\" => 3.0, \"DV\" => \"undefined\"), 60 => Dict{String, Any}(\"label\" => \"RIVR\", \"neuron_class\" => \"RIV\", \"LR\" => \"R\", \"region\" => \"Lateral Ganglion\", \"roi_id\" => [120], \"confidence\" => 4.0, \"DV\" => \"undefined\"), 30 => Dict{String, Any}(\"label\" => \"CEPDR\", \"neuron_class\" => \"CEP\", \"LR\" => \"R\", \"region\" => \"Dorsal Ganglion\", \"roi_id\" => [185], \"confidence\" => 5.0, \"DV\" => \"D\"), 32 => Dict{String, Any}(\"label\" => \"RMDR\", \"neuron_class\" => \"RMD\", \"LR\" => \"R\", \"region\" => missing, \"roi_id\" => [41], \"confidence\" => 5.0, \"DV\" => \"undefined\"), 136 => Dict{String, Any}(\"label\" => \"IL1L\", \"neuron_class\" => \"IL1\", \"LR\" => \"L\", \"region\" => \"Anterior Ganglion\", \"roi_id\" => [194], \"confidence\" => 4.0, \"DV\" => \"undefined\"), 67 => Dict{String, Any}(\"label\" => \"RIVL\", \"neuron_class\" => \"RIV\", \"LR\" => \"L\", \"region\" => \"Lateral Ganglion\", \"roi_id\" => [188], \"confidence\" => 4.0, \"DV\" => \"undefined\"), 117 => Dict{String, Any}(\"label\" => \"ADEL\", \"neuron_class\" => \"ADE\", \"LR\" => \"L\", \"region\" => \"Lateral Ganglion\", \"roi_id\" => [70], \"confidence\" => 5.0, \"DV\" => \"undefined\"), 73 => Dict{String, Any}(\"label\" => \"NSMR\", \"neuron_class\" => \"NSM\", \"LR\" => \"R\", \"region\" => \"Anterior Pharyngeal Bulb\", \"roi_id\" => [156], \"confidence\" => 5.0, \"DV\" => \"undefined\")…), Dict{Any, Any}(\"I5\" => Any[(Dict{String, Any}(\"label\" => \"I5\", \"neuron_class\" => \"I5\", \"LR\" => \"undefined\", \"region\" => missing, \"roi_id\" => [85], \"confidence\" => 3.0, \"DV\" => \"undefined\"), 112, 6.544169624070644)], \"RID\" => Any[(Dict{String, Any}(\"label\" => \"RID\", \"neuron_class\" => \"RID\", \"LR\" => \"undefined\", \"region\" => \"Dorsal Ganglion\", \"roi_id\" => [87], \"confidence\" => 4.0, \"DV\" => \"undefined\"), 48, 51.79581468851617)], \"ASH\" => Any[(Dict{String, Any}(\"label\" => \"ASHR\", \"neuron_class\" => \"ASH\", \"LR\" => \"R\", \"region\" => \"Lateral Ganglion\", \"roi_id\" => [60], \"confidence\" => 3.0, \"DV\" => \"undefined\"), 12, 45.16430628951003), (Dict{String, Any}(\"label\" => \"ASHL\", \"neuron_class\" => \"ASH\", \"LR\" => \"L\", \"region\" => \"Lateral Ganglion\", \"roi_id\" => [172], \"confidence\" => 3.0, \"DV\" => \"undefined\"), 26, 51.874364060532535)], \"URYV\" => Any[(Dict{String, Any}(\"label\" => \"URYVL\", \"neuron_class\" => \"URY\", \"LR\" => \"L\", \"region\" => \"Anterior Ganglion\", \"roi_id\" => [83], \"confidence\" => 5.0, \"DV\" => \"V\"), 34, 51.317871431588195), (Dict{String, Any}(\"label\" => \"URYVR\", \"neuron_class\" => \"URY\", \"LR\" => \"R\", \"region\" => \"Anterior Ganglion\", \"roi_id\" => [2], \"confidence\" => 3.0, \"DV\" => \"V\"), 40, 51.65993350690906)], \"OLQD\" => Any[(Dict{String, Any}(\"label\" => \"OLQDL\", \"neuron_class\" => \"OLQ\", \"LR\" => \"L\", \"region\" => \"Anterior Ganglion\", \"roi_id\" => [77], \"confidence\" => 5.0, \"DV\" => \"D\"), 54, 80.0896201167462), (Dict{String, Any}(\"label\" => \"OLQDR\", \"neuron_class\" => \"OLQ\", \"LR\" => \"R\", \"region\" => \"Anterior Ganglion\", \"roi_id\" => [39], \"confidence\" => 4.0, \"DV\" => \"D\"), 11, 64.85825345569131)], \"RMD\" => Any[(Dict{String, Any}(\"label\" => \"RMDR\", \"neuron_class\" => \"RMD\", \"LR\" => \"R\", \"region\" => missing, \"roi_id\" => [41], \"confidence\" => 5.0, \"DV\" => \"undefined\"), 32, 36.254611213147896), (Dict{String, Any}(\"label\" => \"RMDL\", \"neuron_class\" => \"RMD\", \"LR\" => \"L\", \"region\" => missing, \"roi_id\" => [239], \"confidence\" => 3.0, \"DV\" => \"undefined\"), 25, 44.16057507191865)], \"AWA\" => Any[(Dict{String, Any}(\"label\" => \"AWAR\", \"neuron_class\" => \"AWA\", \"LR\" => \"R\", \"region\" => \"Lateral Ganglion\", \"roi_id\" => [134, 243], \"confidence\" => 4.0, \"DV\" => \"undefined\"), 106, 20.3739019637891), (Dict{String, Any}(\"label\" => \"AWAL\", \"neuron_class\" => \"AWA\", \"LR\" => \"L\", \"region\" => \"Lateral Ganglion\", \"roi_id\" => [8], \"confidence\" => 3.0, \"DV\" => \"undefined\"), 142, 64.47079135705388)], \"SAAV\" => Any[(Dict{String, Any}(\"label\" => \"SAAVL\", \"neuron_class\" => \"SAA\", \"LR\" => \"L\", \"region\" => \"Lateral Ganglion\", \"roi_id\" => [13], \"confidence\" => 5.0, \"DV\" => \"V\"), 58, 40.12141353433034), (Dict{String, Any}(\"label\" => \"SAAVR\", \"neuron_class\" => \"SAA\", \"LR\" => \"R\", \"region\" => \"Lateral Ganglion\", \"roi_id\" => [157], \"confidence\" => 5.0, \"DV\" => \"V\"), 47, 40.35349504183973)], \"ADA\" => Any[(Dict{String, Any}(\"label\" => \"ADAL\", \"neuron_class\" => \"ADA\", \"LR\" => \"L\", \"region\" => \"Lateral Ganglion\", \"roi_id\" => [46, 232], \"confidence\" => 5.0, \"DV\" => \"undefined\"), 139, 75.96149193647416)], \"RIS\" => Any[(Dict{String, Any}(\"label\" => \"RIS\", \"neuron_class\" => \"RIS\", \"LR\" => \"undefined\", \"region\" => missing, \"roi_id\" => [86], \"confidence\" => 4.0, \"DV\" => \"undefined\"), 57, 77.33397155566367)]…)), (Dict{Any, Any}(5 => Dict{String, Any}(\"label\" => \"URXL\", \"neuron_class\" => \"URX\", \"LR\" => \"L\", \"region\" => \"Dorsal Ganglion\", \"roi_id\" => [14], \"confidence\" => 5.0, \"DV\" => \"undefined\"), 56 => Dict{String, Any}(\"label\" => \"ASHL\", \"neuron_class\" => \"ASH\", \"LR\" => \"L\", \"region\" => \"Lateral Ganglion\", \"roi_id\" => [31], \"confidence\" => 3.0, \"DV\" => \"undefined\"), 55 => Dict{String, Any}(\"label\" => \"RMEL\", \"neuron_class\" => \"RME\", \"LR\" => \"L\", \"region\" => \"Anterior Ganglion\", \"roi_id\" => [93], \"confidence\" => 5.0, \"DV\" => \"undefined\"), 123 => Dict{String, Any}(\"label\" => \"URXR\", \"neuron_class\" => \"URX\", \"LR\" => \"R\", \"region\" => \"Dorsal Ganglion\", \"roi_id\" => [24], \"confidence\" => 5.0, \"DV\" => \"undefined\"), 114 => Dict{String, Any}(\"label\" => \"M3L\", \"neuron_class\" => \"M3\", \"LR\" => \"L\", \"region\" => \"Anterior Pharyngeal Bulb\", \"roi_id\" => [72], \"confidence\" => 5.0, \"DV\" => \"undefined\"), 30 => Dict{String, Any}(\"label\" => \"IL2DL\", \"neuron_class\" => \"IL2\", \"LR\" => \"L\", \"region\" => \"Anterior Ganglion\", \"roi_id\" => [171], \"confidence\" => 5.0, \"DV\" => \"D\"), 32 => Dict{String, Any}(\"label\" => \"RMDR\", \"neuron_class\" => \"RMD\", \"LR\" => \"R\", \"region\" => \"Lateral Ganglion\", \"roi_id\" => [80], \"confidence\" => 3.0, \"DV\" => \"undefined\"), 6 => Dict{String, Any}(\"label\" => \"RICL\", \"neuron_class\" => \"RIC\", \"LR\" => \"L\", \"region\" => \"Lateral Ganglion\", \"roi_id\" => [98], \"confidence\" => 4.0, \"DV\" => \"undefined\"), 67 => Dict{String, Any}(\"label\" => \"SMDVR\", \"neuron_class\" => \"SMD\", \"LR\" => \"R\", \"region\" => \"Lateral Ganglion\", \"roi_id\" => [183], \"confidence\" => 5.0, \"DV\" => \"V\"), 73 => Dict{String, Any}(\"label\" => \"OLQDR\", \"neuron_class\" => \"OLQ\", \"LR\" => \"R\", \"region\" => \"Anterior Ganglion\", \"roi_id\" => [79], \"confidence\" => 5.0, \"DV\" => \"D\")…), Dict{Any, Any}(\"RID\" => Any[(Dict{String, Any}(\"label\" => \"RID\", \"neuron_class\" => \"RID\", \"LR\" => \"undefined\", \"region\" => \"Dorsal Ganglion\", \"roi_id\" => [174], \"confidence\" => 4.0, \"DV\" => \"undefined\"), 82, 32.32421365907409)], \"ASH\" => Any[(Dict{String, Any}(\"label\" => \"ASHL\", \"neuron_class\" => \"ASH\", \"LR\" => \"L\", \"region\" => \"Lateral Ganglion\", \"roi_id\" => [31], \"confidence\" => 3.0, \"DV\" => \"undefined\"), 56, 15.470479582512361)], \"URYV\" => Any[(Dict{String, Any}(\"label\" => \"URYVL\", \"neuron_class\" => \"URY\", \"LR\" => \"L\", \"region\" => \"Anterior Ganglion\", \"roi_id\" => [29], \"confidence\" => 5.0, \"DV\" => \"V\"), 52, 35.710902368622726), (Dict{String, Any}(\"label\" => \"URYVR\", \"neuron_class\" => \"URY\", \"LR\" => \"R\", \"region\" => \"Anterior Ganglion\", \"roi_id\" => [110], \"confidence\" => 5.0, \"DV\" => \"V\"), 75, 18.443013311525657)], \"OLQD\" => Any[(Dict{String, Any}(\"label\" => \"OLQDR\", \"neuron_class\" => \"OLQ\", \"LR\" => \"R\", \"region\" => \"Anterior Ganglion\", \"roi_id\" => [79], \"confidence\" => 5.0, \"DV\" => \"D\"), 73, 31.69086821750038), (Dict{String, Any}(\"label\" => \"OLQDL\", \"neuron_class\" => \"OLQ\", \"LR\" => \"L\", \"region\" => \"Anterior Ganglion\", \"roi_id\" => [18], \"confidence\" => 5.0, \"DV\" => \"D\"), 120, 24.32314975647751)], \"RMD\" => Any[(Dict{String, Any}(\"label\" => \"RMDL\", \"neuron_class\" => \"RMD\", \"LR\" => \"L\", \"region\" => \"Lateral Ganglion\", \"roi_id\" => [120], \"confidence\" => 5.0, \"DV\" => \"undefined\"), 2, 26.21320279354759), (Dict{String, Any}(\"label\" => \"RMDR\", \"neuron_class\" => \"RMD\", \"LR\" => \"R\", \"region\" => \"Lateral Ganglion\", \"roi_id\" => [80], \"confidence\" => 3.0, \"DV\" => \"undefined\"), 32, 8.946781733338145)], \"SMDD\" => Any[(Dict{String, Any}(\"label\" => \"SMDD?\", \"neuron_class\" => \"SMD\", \"LR\" => \"missing\", \"region\" => \"Ventral Ganglion\", \"roi_id\" => [114], \"confidence\" => 3.0, \"DV\" => \"D\"), 16, 31.28087505928034)], \"IL2V\" => Any[(Dict{String, Any}(\"label\" => \"IL2VL\", \"neuron_class\" => \"IL2\", \"LR\" => \"L\", \"region\" => \"Anterior Ganglion\", \"roi_id\" => [172], \"confidence\" => 5.0, \"DV\" => \"V\"), 72, 20.91040996990463), (Dict{String, Any}(\"label\" => \"IL2VR\", \"neuron_class\" => \"IL2\", \"LR\" => \"R\", \"region\" => \"Anterior Ganglion\", \"roi_id\" => [46], \"confidence\" => 5.0, \"DV\" => \"V\"), 132, 27.148868041259917)], \"IL1D\" => Any[(Dict{String, Any}(\"label\" => \"IL1DL\", \"neuron_class\" => \"IL1\", \"LR\" => \"L\", \"region\" => \"Anterior Ganglion\", \"roi_id\" => [155], \"confidence\" => 5.0, \"DV\" => \"D\"), 76, 42.80033752529446), (Dict{String, Any}(\"label\" => \"IL1DR\", \"neuron_class\" => \"IL1\", \"LR\" => \"R\", \"region\" => \"Anterior Ganglion\", \"roi_id\" => [161], \"confidence\" => 5.0, \"DV\" => \"D\"), 21, 22.096093764074464)], \"OLL\" => Any[(Dict{String, Any}(\"label\" => \"OLLL\", \"neuron_class\" => \"OLL\", \"LR\" => \"L\", \"region\" => \"Anterior Ganglion\", \"roi_id\" => [152], \"confidence\" => 5.0, \"DV\" => \"undefined\"), 78, 27.031377440949168), (Dict{String, Any}(\"label\" => \"OLLR\", \"neuron_class\" => \"OLL\", \"LR\" => \"R\", \"region\" => \"Anterior Ganglion\", \"roi_id\" => [61], \"confidence\" => 5.0, \"DV\" => \"undefined\"), 57, 41.649162507529304)], \"IL1L\" => Any[(Dict{String, Any}(\"label\" => \"IL1L\", \"neuron_class\" => \"IL1\", \"LR\" => \"L\", \"region\" => \"Anterior Ganglion\", \"roi_id\" => [119], \"confidence\" => 5.0, \"DV\" => \"undefined\"), 103, 18.42843289031303)]…)), (Dict{Any, Any}(56 => Dict{String, Any}(\"label\" => \"FLPR\", \"neuron_class\" => \"FLP\", \"LR\" => \"R\", \"region\" => missing, \"roi_id\" => [103], \"confidence\" => 4.0, \"DV\" => \"undefined\"), 55 => Dict{String, Any}(\"label\" => \"AVAR\", \"neuron_class\" => \"AVA\", \"LR\" => \"R\", \"region\" => missing, \"roi_id\" => [124], \"confidence\" => 5.0, \"DV\" => \"undefined\"), 123 => Dict{String, Any}(\"label\" => \"SAAVR\", \"neuron_class\" => \"SAA\", \"LR\" => \"R\", \"region\" => missing, \"roi_id\" => [85], \"confidence\" => 5.0, \"DV\" => \"V\"), 110 => Dict{String, Any}(\"label\" => \"IL1DR\", \"neuron_class\" => \"IL1\", \"LR\" => \"R\", \"region\" => \"Anterior Ganglion\", \"roi_id\" => [38], \"confidence\" => 5.0, \"DV\" => \"D\"), 60 => Dict{String, Any}(\"label\" => \"SMBVR\", \"neuron_class\" => \"SMB\", \"LR\" => \"R\", \"region\" => missing, \"roi_id\" => [108], \"confidence\" => 3.0, \"DV\" => \"V\"), 30 => Dict{String, Any}(\"label\" => \"IL2VR\", \"neuron_class\" => \"IL2\", \"LR\" => \"R\", \"region\" => \"Anterior Ganglion\", \"roi_id\" => [66], \"confidence\" => 5.0, \"DV\" => \"V\"), 32 => Dict{String, Any}(\"label\" => \"URXL\", \"neuron_class\" => \"URX\", \"LR\" => \"L\", \"region\" => \"Dorsal Ganglion\", \"roi_id\" => [150], \"confidence\" => 5.0, \"DV\" => \"undefined\"), 136 => Dict{String, Any}(\"label\" => \"AVDL\", \"neuron_class\" => \"AVD\", \"LR\" => \"L\", \"region\" => missing, \"roi_id\" => [126], \"confidence\" => 4.0, \"DV\" => \"undefined\"), 67 => Dict{String, Any}(\"label\" => \"ADAL\", \"neuron_class\" => \"ADA\", \"LR\" => \"L\", \"region\" => missing, \"roi_id\" => [117], \"confidence\" => 5.0, \"DV\" => \"undefined\"), 117 => Dict{String, Any}(\"label\" => \"URYDR\", \"neuron_class\" => \"URY\", \"LR\" => \"R\", \"region\" => \"Anterior Ganglion\", \"roi_id\" => [105], \"confidence\" => 5.0, \"DV\" => \"D\")…), Dict{Any, Any}(\"RID\" => Any[(Dict{String, Any}(\"label\" => \"RID\", \"neuron_class\" => \"RID\", \"LR\" => \"undefined\", \"region\" => \"Dorsal Ganglion\", \"roi_id\" => [139], \"confidence\" => 4.0, \"DV\" => \"undefined\"), 105, 45.9302490388957)], \"SAADR\" => Any[(Dict{String, Any}(\"label\" => \"SAADR\", \"neuron_class\" => \"SAA\", \"LR\" => \"R\", \"region\" => missing, \"roi_id\" => [102], \"confidence\" => 3.0, \"DV\" => \"D\"), 1, 29.990385093048463)], \"SMBD\" => Any[(Dict{String, Any}(\"label\" => \"SMBDR\", \"neuron_class\" => \"SMB\", \"LR\" => \"R\", \"region\" => missing, \"roi_id\" => [88], \"confidence\" => 3.0, \"DV\" => \"D\"), 87, 43.17387137146352), (Dict{String, Any}(\"label\" => \"SMBDL\", \"neuron_class\" => \"SMB\", \"LR\" => \"L\", \"region\" => missing, \"roi_id\" => [39], \"confidence\" => 3.0, \"DV\" => \"D\"), 90, 7.292283449165446)], \"ASH\" => Any[(Dict{String, Any}(\"label\" => \"ASHL\", \"neuron_class\" => \"ASH\", \"LR\" => \"L\", \"region\" => missing, \"roi_id\" => [7], \"confidence\" => 3.0, \"DV\" => \"undefined\"), 75, 4.932135783267499)], \"URYV\" => Any[(Dict{String, Any}(\"label\" => \"URYVL\", \"neuron_class\" => \"URY\", \"LR\" => \"L\", \"region\" => \"Anterior Ganglion\", \"roi_id\" => [13], \"confidence\" => 5.0, \"DV\" => \"V\"), 104, 68.7866072511242), (Dict{String, Any}(\"label\" => \"URYVR\", \"neuron_class\" => \"URY\", \"LR\" => \"R\", \"region\" => \"Anterior Ganglion\", \"roi_id\" => [2], \"confidence\" => 5.0, \"DV\" => \"V\"), 133, 42.2265617138541)], \"OLQD\" => Any[(Dict{String, Any}(\"label\" => \"OLQDR\", \"neuron_class\" => \"OLQ\", \"LR\" => \"R\", \"region\" => missing, \"roi_id\" => [55], \"confidence\" => 5.0, \"DV\" => \"D\"), 43, 49.48816407998233), (Dict{String, Any}(\"label\" => \"OLQDL\", \"neuron_class\" => \"OLQ\", \"LR\" => \"L\", \"region\" => missing, \"roi_id\" => [53], \"confidence\" => 5.0, \"DV\" => \"D\"), 151, 54.841847017567204)], \"RMD\" => Any[(Dict{String, Any}(\"label\" => \"RMDL\", \"neuron_class\" => \"RMD\", \"LR\" => \"L\", \"region\" => missing, \"roi_id\" => [152, 213], \"confidence\" => 5.0, \"DV\" => \"undefined\"), 119, 20.019562849564558), (Dict{String, Any}(\"label\" => \"RMDR\", \"neuron_class\" => \"RMD\", \"LR\" => \"R\", \"region\" => missing, \"roi_id\" => [29], \"confidence\" => 5.0, \"DV\" => \"undefined\"), 11, 41.46696678049543)], \"SIAV\" => Any[(Dict{String, Any}(\"label\" => \"SIA?L\", \"neuron_class\" => \"SIA\", \"LR\" => \"L\", \"region\" => missing, \"roi_id\" => [54], \"confidence\" => 4.0, \"DV\" => \"missing\"), 47, 55.51266039393342)], \"M5\" => Any[(Dict{String, Any}(\"label\" => \"M5\", \"neuron_class\" => \"M5\", \"LR\" => \"undefined\", \"region\" => missing, \"roi_id\" => [52], \"confidence\" => 4.0, \"DV\" => \"undefined\"), 51, 14.08312341392707)], \"AWA\" => Any[(Dict{String, Any}(\"label\" => \"AWAR\", \"neuron_class\" => \"AWA\", \"LR\" => \"R\", \"region\" => missing, \"roi_id\" => [161, 209], \"confidence\" => 4.0, \"DV\" => \"undefined\"), 4, 14.138774352873586)]…))  …  (Dict{Any, Any}(56 => Dict{String, Any}(\"label\" => \"I2L\", \"neuron_class\" => \"I2\", \"LR\" => \"L\", \"region\" => missing, \"roi_id\" => [86], \"confidence\" => 5.0, \"DV\" => \"undefined\"), 114 => Dict{String, Any}(\"label\" => \"AIM?\", \"neuron_class\" => \"AIM\", \"LR\" => \"missing\", \"region\" => missing, \"roi_id\" => [104], \"confidence\" => 3.0, \"DV\" => \"undefined\"), 35 => Dict{String, Any}(\"label\" => \"VB02\", \"neuron_class\" => \"VB02\", \"LR\" => \"undefined\", \"region\" => missing, \"roi_id\" => [28], \"confidence\" => 3.0, \"DV\" => \"undefined\"), 110 => Dict{String, Any}(\"label\" => \"AVBR\", \"neuron_class\" => \"AVB\", \"LR\" => \"R\", \"region\" => missing, \"roi_id\" => [69], \"confidence\" => 3.0, \"DV\" => \"undefined\"), 60 => Dict{String, Any}(\"label\" => \"ASGL\", \"neuron_class\" => \"ASG\", \"LR\" => \"L\", \"region\" => missing, \"roi_id\" => [11], \"confidence\" => 4.0, \"DV\" => \"undefined\"), 30 => Dict{String, Any}(\"label\" => \"CEPDL\", \"neuron_class\" => \"CEP\", \"LR\" => \"L\", \"region\" => missing, \"roi_id\" => [44], \"confidence\" => 5.0, \"DV\" => \"D\"), 32 => Dict{String, Any}(\"label\" => \"I1L\", \"neuron_class\" => \"I1\", \"LR\" => \"L\", \"region\" => missing, \"roi_id\" => [62], \"confidence\" => 5.0, \"DV\" => \"undefined\"), 6 => Dict{String, Any}(\"label\" => \"AVER\", \"neuron_class\" => \"AVE\", \"LR\" => \"R\", \"region\" => missing, \"roi_id\" => [88], \"confidence\" => 5.0, \"DV\" => \"undefined\"), 117 => Dict{String, Any}(\"label\" => \"OLLR\", \"neuron_class\" => \"OLL\", \"LR\" => \"R\", \"region\" => missing, \"roi_id\" => [23], \"confidence\" => 5.0, \"DV\" => \"undefined\"), 45 => Dict{String, Any}(\"label\" => \"AVK?\", \"neuron_class\" => \"AVK\", \"LR\" => \"missing\", \"region\" => missing, \"roi_id\" => [8], \"confidence\" => 4.0, \"DV\" => \"undefined\")…), Dict{Any, Any}(\"RID\" => Any[(Dict{String, Any}(\"label\" => \"RID\", \"neuron_class\" => \"RID\", \"LR\" => \"undefined\", \"region\" => missing, \"roi_id\" => [35], \"confidence\" => 5.0, \"DV\" => \"undefined\"), 3, 12.253587050875105)], \"SAADR\" => Any[(Dict{String, Any}(\"label\" => \"SAADR\", \"neuron_class\" => \"SAA\", \"LR\" => \"R\", \"region\" => missing, \"roi_id\" => [163], \"confidence\" => 3.0, \"DV\" => \"D\"), 66, 28.77705842488375)], \"URYV\" => Any[(Dict{String, Any}(\"label\" => \"URYVL\", \"neuron_class\" => \"URY\", \"LR\" => \"L\", \"region\" => missing, \"roi_id\" => [195], \"confidence\" => 5.0, \"DV\" => \"V\"), 41, 41.314149079668475), (Dict{String, Any}(\"label\" => \"URYVR\", \"neuron_class\" => \"URY\", \"LR\" => \"R\", \"region\" => missing, \"roi_id\" => [126], \"confidence\" => 5.0, \"DV\" => \"V\"), 101, 10.170663384347113)], \"OLQD\" => Any[(Dict{String, Any}(\"label\" => \"OLQDL\", \"neuron_class\" => \"OLQ\", \"LR\" => \"L\", \"region\" => missing, \"roi_id\" => [91], \"confidence\" => 5.0, \"DV\" => \"D\"), 23, 33.068937321794465), (Dict{String, Any}(\"label\" => \"OLQDR\", \"neuron_class\" => \"OLQ\", \"LR\" => \"R\", \"region\" => missing, \"roi_id\" => [143], \"confidence\" => 5.0, \"DV\" => \"D\"), 8, 85.62200518737038)], \"RIR\" => Any[(Dict{String, Any}(\"label\" => \"RIR\", \"neuron_class\" => \"RIR\", \"LR\" => \"undefined\", \"region\" => missing, \"roi_id\" => [166], \"confidence\" => 3.0, \"DV\" => \"undefined\"), 119, 94.28651352981281)], \"RMD\" => Any[(Dict{String, Any}(\"label\" => \"RMDL\", \"neuron_class\" => \"RMD\", \"LR\" => \"L\", \"region\" => missing, \"roi_id\" => [127], \"confidence\" => 5.0, \"DV\" => \"undefined\"), 76, 70.47051404665785)], \"SIAV\" => Any[(Dict{String, Any}(\"label\" => \"SIA?L\", \"neuron_class\" => \"SIA\", \"LR\" => \"L\", \"region\" => missing, \"roi_id\" => [66], \"confidence\" => 3.0, \"DV\" => \"missing\"), 68, 10.744439595478374)], \"M5\" => Any[(Dict{String, Any}(\"label\" => \"M5\", \"neuron_class\" => \"M5\", \"LR\" => \"undefined\", \"region\" => missing, \"roi_id\" => [81], \"confidence\" => 3.0, \"DV\" => \"undefined\"), 13, 16.662066453316847)], \"AWA\" => Any[(Dict{String, Any}(\"label\" => \"AWAR\", \"neuron_class\" => \"AWA\", \"LR\" => \"R\", \"region\" => missing, \"roi_id\" => [210], \"confidence\" => 3.0, \"DV\" => \"undefined\"), 37, 23.69051886669199), (Dict{String, Any}(\"label\" => \"AWAL\", \"neuron_class\" => \"AWA\", \"LR\" => \"L\", \"region\" => missing, \"roi_id\" => [202], \"confidence\" => 4.0, \"DV\" => \"undefined\"), 49, 33.28316917815386)], \"SAAV\" => Any[(Dict{String, Any}(\"label\" => \"SAAVR\", \"neuron_class\" => \"SAA\", \"LR\" => \"R\", \"region\" => missing, \"roi_id\" => [191], \"confidence\" => 5.0, \"DV\" => \"V\"), 139, 17.241543363067628)]…)), (Dict{Any, Any}(56 => Dict{String, Any}(\"label\" => \"M3L\", \"neuron_class\" => \"M3\", \"LR\" => \"L\", \"region\" => missing, \"roi_id\" => [80], \"confidence\" => 5.0, \"DV\" => \"undefined\"), 35 => Dict{String, Any}(\"label\" => \"AVAL\", \"neuron_class\" => \"AVA\", \"LR\" => \"L\", \"region\" => missing, \"roi_id\" => [204], \"confidence\" => 5.0, \"DV\" => \"undefined\"), 123 => Dict{String, Any}(\"label\" => \"AIBR\", \"neuron_class\" => \"AIB\", \"LR\" => \"R\", \"region\" => missing, \"roi_id\" => [39], \"confidence\" => 5.0, \"DV\" => \"undefined\"), 114 => Dict{String, Any}(\"label\" => \"SMDVL\", \"neuron_class\" => \"SMD\", \"LR\" => \"L\", \"region\" => missing, \"roi_id\" => [89], \"confidence\" => 5.0, \"DV\" => \"V\"), 55 => Dict{String, Any}(\"label\" => \"AWBL\", \"neuron_class\" => \"AWB\", \"LR\" => \"L\", \"region\" => missing, \"roi_id\" => [206], \"confidence\" => 4.0, \"DV\" => \"undefined\"), 60 => Dict{String, Any}(\"label\" => \"CEPVR\", \"neuron_class\" => \"CEP\", \"LR\" => \"R\", \"region\" => missing, \"roi_id\" => [72], \"confidence\" => 5.0, \"DV\" => \"V\"), 30 => Dict{String, Any}(\"label\" => \"RMDL\", \"neuron_class\" => \"RMD\", \"LR\" => \"L\", \"region\" => missing, \"roi_id\" => [33], \"confidence\" => 5.0, \"DV\" => \"undefined\"), 6 => Dict{String, Any}(\"label\" => \"AINR\", \"neuron_class\" => \"AIN\", \"LR\" => \"R\", \"region\" => missing, \"roi_id\" => [129], \"confidence\" => 3.0, \"DV\" => \"undefined\"), 117 => Dict{String, Any}(\"label\" => \"AINL\", \"neuron_class\" => \"AIN\", \"LR\" => \"L\", \"region\" => missing, \"roi_id\" => [125], \"confidence\" => 4.0, \"DV\" => \"undefined\"), 136 => Dict{String, Any}(\"label\" => \"RMDDR\", \"neuron_class\" => \"RMD\", \"LR\" => \"R\", \"region\" => missing, \"roi_id\" => [4], \"confidence\" => 4.0, \"DV\" => \"D\")…), Dict{Any, Any}(\"RID\" => Any[(Dict{String, Any}(\"label\" => \"RID\", \"neuron_class\" => \"RID\", \"LR\" => \"undefined\", \"region\" => missing, \"roi_id\" => [90, 219], \"confidence\" => 5.0, \"DV\" => \"undefined\"), 89, 7.659645691825311)], \"SMBD\" => Any[(Dict{String, Any}(\"label\" => \"SMBV?\", \"neuron_class\" => \"SMB\", \"LR\" => \"missing\", \"region\" => missing, \"roi_id\" => [222], \"confidence\" => 3.0, \"DV\" => \"V\"), 53, 33.85277148245024), (Dict{String, Any}(\"label\" => \"SMBV?\", \"neuron_class\" => \"SMB\", \"LR\" => \"missing\", \"region\" => missing, \"roi_id\" => [91], \"confidence\" => 3.0, \"DV\" => \"V\"), 96, 23.638283259122492)], \"URYV\" => Any[(Dict{String, Any}(\"label\" => \"URYVL\", \"neuron_class\" => \"URY\", \"LR\" => \"L\", \"region\" => missing, \"roi_id\" => [117], \"confidence\" => 4.0, \"DV\" => \"V\"), 51, 38.6416263244831), (Dict{String, Any}(\"label\" => \"URYVR\", \"neuron_class\" => \"URY\", \"LR\" => \"R\", \"region\" => missing, \"roi_id\" => [59], \"confidence\" => 4.0, \"DV\" => \"V\"), 129, 32.35073335816771)], \"OLQD\" => Any[(Dict{String, Any}(\"label\" => \"OLQDR\", \"neuron_class\" => \"OLQ\", \"LR\" => \"R\", \"region\" => missing, \"roi_id\" => [195], \"confidence\" => 5.0, \"DV\" => \"D\"), 48, 64.82129009675401), (Dict{String, Any}(\"label\" => \"OLQDL\", \"neuron_class\" => \"OLQ\", \"LR\" => \"L\", \"region\" => missing, \"roi_id\" => [139], \"confidence\" => 5.0, \"DV\" => \"D\"), 39, 82.38518909659771)], \"RMD\" => Any[(Dict{String, Any}(\"label\" => \"RMDL\", \"neuron_class\" => \"RMD\", \"LR\" => \"L\", \"region\" => missing, \"roi_id\" => [33], \"confidence\" => 5.0, \"DV\" => \"undefined\"), 30, 52.05824849463566)], \"M5\" => Any[(Dict{String, Any}(\"label\" => \"M5\", \"neuron_class\" => \"M5\", \"LR\" => \"undefined\", \"region\" => missing, \"roi_id\" => [124], \"confidence\" => 5.0, \"DV\" => \"undefined\"), 59, 20.11452145129737)], \"AWA\" => Any[(Dict{String, Any}(\"label\" => \"AWAL\", \"neuron_class\" => \"AWA\", \"LR\" => \"L\", \"region\" => missing, \"roi_id\" => [118], \"confidence\" => 4.0, \"DV\" => \"undefined\"), 66, 30.145990695120474), (Dict{String, Any}(\"label\" => \"AWAR\", \"neuron_class\" => \"AWA\", \"LR\" => \"R\", \"region\" => missing, \"roi_id\" => [95], \"confidence\" => 4.0, \"DV\" => \"undefined\"), 1, 84.50106616342796)], \"ADA\" => Any[(Dict{String, Any}(\"label\" => \"ADAR\", \"neuron_class\" => \"ADA\", \"LR\" => \"R\", \"region\" => missing, \"roi_id\" => [175], \"confidence\" => 5.0, \"DV\" => \"undefined\"), 33, 21.291780174378744)], \"SMDD\" => Any[(Dict{String, Any}(\"label\" => \"SMDD?\", \"neuron_class\" => \"SMD\", \"LR\" => \"missing\", \"region\" => missing, \"roi_id\" => [22], \"confidence\" => 3.0, \"DV\" => \"D\"), 97, 45.6024338256228)], \"IL2V\" => Any[(Dict{String, Any}(\"label\" => \"IL2VL\", \"neuron_class\" => \"IL2\", \"LR\" => \"L\", \"region\" => missing, \"roi_id\" => [45], \"confidence\" => 5.0, \"DV\" => \"V\"), 38, 45.54291615015135), (Dict{String, Any}(\"label\" => \"IL2VR\", \"neuron_class\" => \"IL2\", \"LR\" => \"R\", \"region\" => missing, \"roi_id\" => [165], \"confidence\" => 5.0, \"DV\" => \"V\"), 29, 34.479212108988854)]…)), (Dict{Any, Any}(56 => Dict{String, Any}(\"label\" => \"M3R\", \"neuron_class\" => \"M3\", \"LR\" => \"R\", \"region\" => missing, \"roi_id\" => [188], \"confidence\" => 5.0, \"DV\" => \"undefined\"), 114 => Dict{String, Any}(\"label\" => \"RMEV\", \"neuron_class\" => \"RME\", \"LR\" => \"undefined\", \"region\" => missing, \"roi_id\" => [198], \"confidence\" => 3.0, \"DV\" => \"V\"), 35 => Dict{String, Any}(\"label\" => \"M3L\", \"neuron_class\" => \"M3\", \"LR\" => \"L\", \"region\" => missing, \"roi_id\" => [129, 246], \"confidence\" => 5.0, \"DV\" => \"undefined\"), 110 => Dict{String, Any}(\"label\" => \"IL2VR\", \"neuron_class\" => \"IL2\", \"LR\" => \"R\", \"region\" => missing, \"roi_id\" => [20, 222], \"confidence\" => 5.0, \"DV\" => \"V\"), 60 => Dict{String, Any}(\"label\" => \"ASIR\", \"neuron_class\" => \"ASI\", \"LR\" => \"R\", \"region\" => missing, \"roi_id\" => [174], \"confidence\" => 4.0, \"DV\" => \"undefined\"), 30 => Dict{String, Any}(\"label\" => \"AWBR\", \"neuron_class\" => \"AWB\", \"LR\" => \"R\", \"region\" => missing, \"roi_id\" => [167], \"confidence\" => 3.0, \"DV\" => \"undefined\"), 32 => Dict{String, Any}(\"label\" => \"IL2L\", \"neuron_class\" => \"IL2\", \"LR\" => \"L\", \"region\" => missing, \"roi_id\" => [231, 44], \"confidence\" => 3.0, \"DV\" => \"undefined\"), 6 => Dict{String, Any}(\"label\" => \"FLPL\", \"neuron_class\" => \"FLP\", \"LR\" => \"L\", \"region\" => missing, \"roi_id\" => [35], \"confidence\" => 4.0, \"DV\" => \"undefined\"), 67 => Dict{String, Any}(\"label\" => \"ADAL\", \"neuron_class\" => \"ADA\", \"LR\" => \"L\", \"region\" => missing, \"roi_id\" => [112], \"confidence\" => 5.0, \"DV\" => \"undefined\"), 45 => Dict{String, Any}(\"label\" => \"AVEL\", \"neuron_class\" => \"AVE\", \"LR\" => \"L\", \"region\" => missing, \"roi_id\" => [196], \"confidence\" => 5.0, \"DV\" => \"undefined\")…), Dict{Any, Any}(\"SAADR\" => Any[(Dict{String, Any}(\"label\" => \"SAADR\", \"neuron_class\" => \"SAA\", \"LR\" => \"R\", \"region\" => missing, \"roi_id\" => [93], \"confidence\" => 3.0, \"DV\" => \"D\"), 28, 85.67782857166634)], \"URYV\" => Any[(Dict{String, Any}(\"label\" => \"URYVR\", \"neuron_class\" => \"URY\", \"LR\" => \"R\", \"region\" => missing, \"roi_id\" => [36], \"confidence\" => 5.0, \"DV\" => \"V\"), 84, 68.05342498051586), (Dict{String, Any}(\"label\" => \"URYVL\", \"neuron_class\" => \"URY\", \"LR\" => \"L\", \"region\" => missing, \"roi_id\" => [7], \"confidence\" => 5.0, \"DV\" => \"V\"), 109, 82.29733868416673)], \"RMD\" => Any[(Dict{String, Any}(\"label\" => \"RMDL\", \"neuron_class\" => \"RMD\", \"LR\" => \"L\", \"region\" => missing, \"roi_id\" => [115], \"confidence\" => 5.0, \"DV\" => \"undefined\"), 72, 37.712320015973646)], \"M5\" => Any[(Dict{String, Any}(\"label\" => \"M5\", \"neuron_class\" => \"M5\", \"LR\" => \"undefined\", \"region\" => missing, \"roi_id\" => [19], \"confidence\" => 4.0, \"DV\" => \"undefined\"), 41, 62.456729422774565)], \"AWA\" => Any[(Dict{String, Any}(\"label\" => \"AWAL\", \"neuron_class\" => \"AWA\", \"LR\" => \"L\", \"region\" => missing, \"roi_id\" => [120], \"confidence\" => 4.0, \"DV\" => \"undefined\"), 16, 16.842176442752383), (Dict{String, Any}(\"label\" => \"AWAR\", \"neuron_class\" => \"AWA\", \"LR\" => \"R\", \"region\" => missing, \"roi_id\" => [81], \"confidence\" => 4.0, \"DV\" => \"undefined\"), 96, 48.277816966119246)], \"SAAV\" => Any[(Dict{String, Any}(\"label\" => \"SAAVR\", \"neuron_class\" => \"SAA\", \"LR\" => \"R\", \"region\" => missing, \"roi_id\" => [184], \"confidence\" => 3.0, \"DV\" => \"V\"), 29, 47.58001875251489), (Dict{String, Any}(\"label\" => \"SAAVL\", \"neuron_class\" => \"SAA\", \"LR\" => \"L\", \"region\" => missing, \"roi_id\" => [137], \"confidence\" => 3.0, \"DV\" => \"V\"), 39, 45.912099399238976)], \"ADA\" => Any[(Dict{String, Any}(\"label\" => \"ADAL\", \"neuron_class\" => \"ADA\", \"LR\" => \"L\", \"region\" => missing, \"roi_id\" => [112], \"confidence\" => 5.0, \"DV\" => \"undefined\"), 67, 82.00494658531085)], \"SMDD\" => Any[(Dict{String, Any}(\"label\" => \"SMDDR\", \"neuron_class\" => \"SMD\", \"LR\" => \"R\", \"region\" => missing, \"roi_id\" => [107], \"confidence\" => 3.0, \"DV\" => \"D\"), 51, 65.71374399751252), (Dict{String, Any}(\"label\" => \"SMDDL\", \"neuron_class\" => \"SMD\", \"LR\" => \"L\", \"region\" => missing, \"roi_id\" => [154], \"confidence\" => 3.0, \"DV\" => \"D\"), 75, 58.32073303757989)], \"IL2V\" => Any[(Dict{String, Any}(\"label\" => \"IL2VR\", \"neuron_class\" => \"IL2\", \"LR\" => \"R\", \"region\" => missing, \"roi_id\" => [20, 222], \"confidence\" => 5.0, \"DV\" => \"V\"), 110, 37.41766689798341)], \"AWB\" => Any[(Dict{String, Any}(\"label\" => \"AWBL\", \"neuron_class\" => \"AWB\", \"LR\" => \"L\", \"region\" => missing, \"roi_id\" => [27], \"confidence\" => 3.0, \"DV\" => \"undefined\"), 88, 42.684622017421944), (Dict{String, Any}(\"label\" => \"AWBR\", \"neuron_class\" => \"AWB\", \"LR\" => \"R\", \"region\" => missing, \"roi_id\" => [167], \"confidence\" => 3.0, \"DV\" => \"undefined\"), 30, 88.91133257693862)]…)), (Dict{Any, Any}(5 => Dict{String, Any}(\"label\" => \"AWBR\", \"neuron_class\" => \"AWB\", \"LR\" => \"R\", \"region\" => missing, \"roi_id\" => [249], \"confidence\" => 3.0, \"DV\" => \"undefined\"), 123 => Dict{String, Any}(\"label\" => \"ASGR\", \"neuron_class\" => \"ASG\", \"LR\" => \"R\", \"region\" => missing, \"roi_id\" => [32], \"confidence\" => 5.0, \"DV\" => \"undefined\"), 114 => Dict{String, Any}(\"label\" => \"M3L\", \"neuron_class\" => \"M3\", \"LR\" => \"L\", \"region\" => missing, \"roi_id\" => [71], \"confidence\" => 5.0, \"DV\" => \"undefined\"), 110 => Dict{String, Any}(\"label\" => \"IL1L\", \"neuron_class\" => \"IL1\", \"LR\" => \"L\", \"region\" => missing, \"roi_id\" => [39], \"confidence\" => 5.0, \"DV\" => \"undefined\"), 60 => Dict{String, Any}(\"label\" => \"AIM?\", \"neuron_class\" => \"AIM\", \"LR\" => \"missing\", \"region\" => missing, \"roi_id\" => [121], \"confidence\" => 4.0, \"DV\" => \"undefined\"), 32 => Dict{String, Any}(\"label\" => \"IL2DL\", \"neuron_class\" => \"IL2\", \"LR\" => \"L\", \"region\" => missing, \"roi_id\" => [145], \"confidence\" => 4.0, \"DV\" => \"D\"), 136 => Dict{String, Any}(\"label\" => \"RIVR\", \"neuron_class\" => \"RIV\", \"LR\" => \"R\", \"region\" => missing, \"roi_id\" => [221], \"confidence\" => 5.0, \"DV\" => \"undefined\"), 67 => Dict{String, Any}(\"label\" => \"CEPVR\", \"neuron_class\" => \"CEP\", \"LR\" => \"R\", \"region\" => missing, \"roi_id\" => [91], \"confidence\" => 5.0, \"DV\" => \"V\"), 45 => Dict{String, Any}(\"label\" => \"M3R\", \"neuron_class\" => \"M3\", \"LR\" => \"R\", \"region\" => missing, \"roi_id\" => [72], \"confidence\" => 5.0, \"DV\" => \"undefined\"), 73 => Dict{String, Any}(\"label\" => \"AWCR\", \"neuron_class\" => \"AWC\", \"LR\" => \"R\", \"region\" => missing, \"roi_id\" => [208], \"confidence\" => 4.0, \"DV\" => \"undefined\")…), Dict{Any, Any}(\"RID\" => Any[(Dict{String, Any}(\"label\" => \"RID\", \"neuron_class\" => \"RID\", \"LR\" => \"undefined\", \"region\" => missing, \"roi_id\" => [196], \"confidence\" => 3.0, \"DV\" => \"undefined\"), 120, 42.90567812409446)], \"I4\" => Any[(Dict{String, Any}(\"label\" => \"I4\", \"neuron_class\" => \"I4\", \"LR\" => \"undefined\", \"region\" => missing, \"roi_id\" => [204], \"confidence\" => 3.0, \"DV\" => \"undefined\"), 18, 3.2349245581629233)], \"URYV\" => Any[(Dict{String, Any}(\"label\" => \"URYVR\", \"neuron_class\" => \"URY\", \"LR\" => \"R\", \"region\" => missing, \"roi_id\" => [194], \"confidence\" => 3.0, \"DV\" => \"V\"), 76, 30.834812664567103), (Dict{String, Any}(\"label\" => \"URYVL\", \"neuron_class\" => \"URY\", \"LR\" => \"L\", \"region\" => missing, \"roi_id\" => [173], \"confidence\" => 4.0, \"DV\" => \"V\"), 48, 22.309182899460104)], \"OLQD\" => Any[(Dict{String, Any}(\"label\" => \"OLQDL\", \"neuron_class\" => \"OLQ\", \"LR\" => \"L\", \"region\" => missing, \"roi_id\" => [128], \"confidence\" => 5.0, \"DV\" => \"D\"), 8, 91.58720933499744), (Dict{String, Any}(\"label\" => \"OLQDR\", \"neuron_class\" => \"OLQ\", \"LR\" => \"R\", \"region\" => missing, \"roi_id\" => [177], \"confidence\" => 5.0, \"DV\" => \"D\"), 15, 82.55047064101782)], \"M5\" => Any[(Dict{String, Any}(\"label\" => \"M5\", \"neuron_class\" => \"M5\", \"LR\" => \"undefined\", \"region\" => missing, \"roi_id\" => [209], \"confidence\" => 4.0, \"DV\" => \"undefined\"), 24, 5.28730284195445)], \"AWA\" => Any[(Dict{String, Any}(\"label\" => \"AWAL\", \"neuron_class\" => \"AWA\", \"LR\" => \"L\", \"region\" => missing, \"roi_id\" => [125], \"confidence\" => 4.0, \"DV\" => \"undefined\"), 85, 69.85626069828928)], \"SAAV\" => Any[(Dict{String, Any}(\"label\" => \"SAAVL\", \"neuron_class\" => \"SAA\", \"LR\" => \"L\", \"region\" => missing, \"roi_id\" => [35], \"confidence\" => 5.0, \"DV\" => \"V\"), 112, 35.00808582204882)], \"ADA\" => Any[(Dict{String, Any}(\"label\" => \"ADAL\", \"neuron_class\" => \"ADA\", \"LR\" => \"L\", \"region\" => missing, \"roi_id\" => [206], \"confidence\" => 4.0, \"DV\" => \"undefined\"), 92, 85.02022697394507)], \"SMDD\" => Any[(Dict{String, Any}(\"label\" => \"SMDDR\", \"neuron_class\" => \"SMD\", \"LR\" => \"R\", \"region\" => missing, \"roi_id\" => [181], \"confidence\" => 3.0, \"DV\" => \"D\"), 29, 90.09235131099129), (Dict{String, Any}(\"label\" => \"SMDDL\", \"neuron_class\" => \"SMD\", \"LR\" => \"L\", \"region\" => missing, \"roi_id\" => [4], \"confidence\" => 3.0, \"DV\" => \"D\"), 42, 55.52441414519287)], \"AWB\" => Any[(Dict{String, Any}(\"label\" => \"AWBR\", \"neuron_class\" => \"AWB\", \"LR\" => \"R\", \"region\" => missing, \"roi_id\" => [249], \"confidence\" => 3.0, \"DV\" => \"undefined\"), 5, 53.31153647180919), (Dict{String, Any}(\"label\" => \"AWBL\", \"neuron_class\" => \"AWB\", \"LR\" => \"L\", \"region\" => missing, \"roi_id\" => [159], \"confidence\" => 5.0, \"DV\" => \"undefined\"), 31, 88.14589039188587)]…)), (Dict{Any, Any}(5 => Dict{String, Any}(\"label\" => \"RMER\", \"neuron_class\" => \"RME\", \"LR\" => \"R\", \"region\" => missing, \"roi_id\" => [146], \"confidence\" => 4.0, \"DV\" => \"undefined\"), 56 => Dict{String, Any}(\"label\" => \"ASEL\", \"neuron_class\" => \"ASE\", \"LR\" => \"L\", \"region\" => missing, \"roi_id\" => [199], \"confidence\" => 4.0, \"DV\" => \"undefined\"), 114 => Dict{String, Any}(\"label\" => \"IL1DR\", \"neuron_class\" => \"IL1\", \"LR\" => \"R\", \"region\" => missing, \"roi_id\" => [241], \"confidence\" => 5.0, \"DV\" => \"D\"), 123 => Dict{String, Any}(\"label\" => \"AWAR\", \"neuron_class\" => \"AWA\", \"LR\" => \"R\", \"region\" => missing, \"roi_id\" => [105], \"confidence\" => 4.0, \"DV\" => \"undefined\"), 110 => Dict{String, Any}(\"label\" => \"IL1DL\", \"neuron_class\" => \"IL1\", \"LR\" => \"L\", \"region\" => missing, \"roi_id\" => [18], \"confidence\" => 5.0, \"DV\" => \"D\"), 60 => Dict{String, Any}(\"label\" => \"I1R\", \"neuron_class\" => \"I1\", \"LR\" => \"R\", \"region\" => missing, \"roi_id\" => [249, 98], \"confidence\" => 5.0, \"DV\" => \"undefined\"), 32 => Dict{String, Any}(\"label\" => \"I6\", \"neuron_class\" => \"I6\", \"LR\" => \"undefined\", \"region\" => missing, \"roi_id\" => [184], \"confidence\" => 4.0, \"DV\" => \"undefined\"), 136 => Dict{String, Any}(\"label\" => \"RIBL\", \"neuron_class\" => \"RIB\", \"LR\" => \"L\", \"region\" => missing, \"roi_id\" => [224], \"confidence\" => 3.0, \"DV\" => \"undefined\"), 117 => Dict{String, Any}(\"label\" => \"AVJL\", \"neuron_class\" => \"AVJ\", \"LR\" => \"L\", \"region\" => missing, \"roi_id\" => [89], \"confidence\" => 4.0, \"DV\" => \"undefined\"), 6 => Dict{String, Any}(\"label\" => \"CEPDR\", \"neuron_class\" => \"CEP\", \"LR\" => \"R\", \"region\" => missing, \"roi_id\" => [152], \"confidence\" => 5.0, \"DV\" => \"D\")…), Dict{Any, Any}(\"I5\" => Any[(Dict{String, Any}(\"label\" => \"I5\", \"neuron_class\" => \"I5\", \"LR\" => \"undefined\", \"region\" => missing, \"roi_id\" => [107], \"confidence\" => 3.0, \"DV\" => \"undefined\"), 84, 26.413498991015274)], \"RID\" => Any[(Dict{String, Any}(\"label\" => \"RID\", \"neuron_class\" => \"RID\", \"LR\" => \"undefined\", \"region\" => missing, \"roi_id\" => [176], \"confidence\" => 4.0, \"DV\" => \"undefined\"), 93, 52.609418668821675)], \"SAADR\" => Any[(Dict{String, Any}(\"label\" => \"SAADR\", \"neuron_class\" => \"SAA\", \"LR\" => \"R\", \"region\" => missing, \"roi_id\" => [156], \"confidence\" => 3.0, \"DV\" => \"D\"), 2, 45.459885396857665)], \"I4\" => Any[(Dict{String, Any}(\"label\" => \"I4\", \"neuron_class\" => \"I4\", \"LR\" => \"undefined\", \"region\" => missing, \"roi_id\" => [102], \"confidence\" => 3.0, \"DV\" => \"undefined\"), 91, 7.498673064080986)], \"URYV\" => Any[(Dict{String, Any}(\"label\" => \"URYVL\", \"neuron_class\" => \"URY\", \"LR\" => \"L\", \"region\" => missing, \"roi_id\" => [113], \"confidence\" => 5.0, \"DV\" => \"V\"), 52, 64.42174660898092)], \"OLQD\" => Any[(Dict{String, Any}(\"label\" => \"OLQDL\", \"neuron_class\" => \"OLQ\", \"LR\" => \"L\", \"region\" => missing, \"roi_id\" => [13], \"confidence\" => 5.0, \"DV\" => \"D\"), 119, 81.3090494742745), (Dict{String, Any}(\"label\" => \"OLQDR\", \"neuron_class\" => \"OLQ\", \"LR\" => \"R\", \"region\" => missing, \"roi_id\" => [28], \"confidence\" => 5.0, \"DV\" => \"D\"), 76, 67.78053395329673)], \"RMD\" => Any[(Dict{String, Any}(\"label\" => \"RMDR\", \"neuron_class\" => \"RMD\", \"LR\" => \"R\", \"region\" => missing, \"roi_id\" => [183], \"confidence\" => 5.0, \"DV\" => \"undefined\"), 85, 96.39341605586786), (Dict{String, Any}(\"label\" => \"RMDL\", \"neuron_class\" => \"RMD\", \"LR\" => \"L\", \"region\" => missing, \"roi_id\" => [228], \"confidence\" => 5.0, \"DV\" => \"undefined\"), 65, 50.246695652974815)], \"AWA\" => Any[(Dict{String, Any}(\"label\" => \"AWAR\", \"neuron_class\" => \"AWA\", \"LR\" => \"R\", \"region\" => missing, \"roi_id\" => [105], \"confidence\" => 4.0, \"DV\" => \"undefined\"), 123, 65.46580830438864), (Dict{String, Any}(\"label\" => \"AWAL\", \"neuron_class\" => \"AWA\", \"LR\" => \"L\", \"region\" => missing, \"roi_id\" => [222], \"confidence\" => 3.0, \"DV\" => \"undefined\"), 33, 28.027969933083984)], \"SAAV\" => Any[(Dict{String, Any}(\"label\" => \"SAAVL\", \"neuron_class\" => \"SAA\", \"LR\" => \"L\", \"region\" => missing, \"roi_id\" => [54], \"confidence\" => 4.0, \"DV\" => \"V\"), 48, 19.037701416819704)], \"ADA\" => Any[(Dict{String, Any}(\"label\" => \"ADAL\", \"neuron_class\" => \"ADA\", \"LR\" => \"L\", \"region\" => missing, \"roi_id\" => [230], \"confidence\" => 3.0, \"DV\" => \"undefined\"), 132, 51.4112965702682)]…)), (Dict{Any, Any}(56 => Dict{String, Any}(\"label\" => \"OLQVR\", \"neuron_class\" => \"OLQ\", \"LR\" => \"R\", \"region\" => missing, \"roi_id\" => [60], \"confidence\" => 5.0, \"DV\" => \"V\"), 114 => Dict{String, Any}(\"label\" => \"BAGL\", \"neuron_class\" => \"BAG\", \"LR\" => \"L\", \"region\" => missing, \"roi_id\" => [104], \"confidence\" => 3.0, \"DV\" => \"undefined\"), 123 => Dict{String, Any}(\"label\" => \"OLLR\", \"neuron_class\" => \"OLL\", \"LR\" => \"R\", \"region\" => missing, \"roi_id\" => [97, 148], \"confidence\" => 3.0, \"DV\" => \"undefined\"), 110 => Dict{String, Any}(\"label\" => \"RMDVL\", \"neuron_class\" => \"RMD\", \"LR\" => \"L\", \"region\" => missing, \"roi_id\" => [61], \"confidence\" => 5.0, \"DV\" => \"V\"), 55 => Dict{String, Any}(\"label\" => \"URXL\", \"neuron_class\" => \"URX\", \"LR\" => \"L\", \"region\" => missing, \"roi_id\" => [29], \"confidence\" => 5.0, \"DV\" => \"undefined\"), 32 => Dict{String, Any}(\"label\" => \"RIR\", \"neuron_class\" => \"RIR\", \"LR\" => \"undefined\", \"region\" => missing, \"roi_id\" => [46], \"confidence\" => 3.0, \"DV\" => \"undefined\"), 67 => Dict{String, Any}(\"label\" => \"ASGR\", \"neuron_class\" => \"ASG\", \"LR\" => \"R\", \"region\" => missing, \"roi_id\" => [34], \"confidence\" => 4.0, \"DV\" => \"undefined\"), 117 => Dict{String, Any}(\"label\" => \"I1R\", \"neuron_class\" => \"I1\", \"LR\" => \"R\", \"region\" => missing, \"roi_id\" => [105], \"confidence\" => 3.0, \"DV\" => \"undefined\"), 45 => Dict{String, Any}(\"label\" => \"M4\", \"neuron_class\" => \"M4\", \"LR\" => \"undefined\", \"region\" => missing, \"roi_id\" => [121], \"confidence\" => 5.0, \"DV\" => \"undefined\"), 73 => Dict{String, Any}(\"label\" => \"AIBR\", \"neuron_class\" => \"AIB\", \"LR\" => \"R\", \"region\" => missing, \"roi_id\" => [99], \"confidence\" => 5.0, \"DV\" => \"undefined\")…), Dict{Any, Any}(\"RID\" => Any[(Dict{String, Any}(\"label\" => \"RID\", \"neuron_class\" => \"RID\", \"LR\" => \"undefined\", \"region\" => missing, \"roi_id\" => [66], \"confidence\" => 5.0, \"DV\" => \"undefined\"), 87, 41.60224583160983)], \"SMBD\" => Any[(Dict{String, Any}(\"label\" => \"SMB?L\", \"neuron_class\" => \"SMB\", \"LR\" => \"L\", \"region\" => missing, \"roi_id\" => [108], \"confidence\" => 3.0, \"DV\" => \"missing\"), 120, 37.74842702625745)], \"URYV\" => Any[(Dict{String, Any}(\"label\" => \"URYVR\", \"neuron_class\" => \"URY\", \"LR\" => \"R\", \"region\" => missing, \"roi_id\" => [39], \"confidence\" => 3.0, \"DV\" => \"V\"), 115, 43.72214283186265), (Dict{String, Any}(\"label\" => \"URYVL\", \"neuron_class\" => \"URY\", \"LR\" => \"L\", \"region\" => missing, \"roi_id\" => [56], \"confidence\" => 4.0, \"DV\" => \"V\"), 37, 78.25698424135929)], \"OLQD\" => Any[(Dict{String, Any}(\"label\" => \"OLQDL\", \"neuron_class\" => \"OLQ\", \"LR\" => \"L\", \"region\" => missing, \"roi_id\" => [87], \"confidence\" => 5.0, \"DV\" => \"D\"), 108, 72.57918741956222), (Dict{String, Any}(\"label\" => \"OLQDR\", \"neuron_class\" => \"OLQ\", \"LR\" => \"R\", \"region\" => missing, \"roi_id\" => [19], \"confidence\" => 5.0, \"DV\" => \"D\"), 4, 55.81020176446836)], \"RIR\" => Any[(Dict{String, Any}(\"label\" => \"RIR\", \"neuron_class\" => \"RIR\", \"LR\" => \"undefined\", \"region\" => missing, \"roi_id\" => [46], \"confidence\" => 3.0, \"DV\" => \"undefined\"), 32, 16.812449886348773)], \"SIAV\" => Any[(Dict{String, Any}(\"label\" => \"SIA?R\", \"neuron_class\" => \"SIA\", \"LR\" => \"R\", \"region\" => missing, \"roi_id\" => [135, 28], \"confidence\" => 3.0, \"DV\" => \"missing\"), 91, 17.03453493217539)], \"M5\" => Any[(Dict{String, Any}(\"label\" => \"M5\", \"neuron_class\" => \"M5\", \"LR\" => \"undefined\", \"region\" => missing, \"roi_id\" => [44], \"confidence\" => 3.0, \"DV\" => \"undefined\"), 20, 17.293231645490607)], \"AWA\" => Any[(Dict{String, Any}(\"label\" => \"AWAL\", \"neuron_class\" => \"AWA\", \"LR\" => \"L\", \"region\" => missing, \"roi_id\" => [47], \"confidence\" => 4.0, \"DV\" => \"undefined\"), 8, 42.0373679792031), (Dict{String, Any}(\"label\" => \"AWAR\", \"neuron_class\" => \"AWA\", \"LR\" => \"R\", \"region\" => missing, \"roi_id\" => [95], \"confidence\" => 3.0, \"DV\" => \"undefined\"), 61, 21.391385281731953)], \"SAAV\" => Any[(Dict{String, Any}(\"label\" => \"SAAVL\", \"neuron_class\" => \"SAA\", \"LR\" => \"L\", \"region\" => missing, \"roi_id\" => [80], \"confidence\" => 5.0, \"DV\" => \"V\"), 74, 52.27539468266321)], \"SMDD\" => Any[(Dict{String, Any}(\"label\" => \"SMDDR\", \"neuron_class\" => \"SMD\", \"LR\" => \"R\", \"region\" => missing, \"roi_id\" => [25], \"confidence\" => 3.0, \"DV\" => \"D\"), 48, 57.28560489108693)]…)), (Dict{Any, Any}(5 => Dict{String, Any}(\"label\" => \"AVDL\", \"neuron_class\" => \"AVD\", \"LR\" => \"L\", \"region\" => missing, \"roi_id\" => [109], \"confidence\" => 4.0, \"DV\" => \"undefined\"), 56 => Dict{String, Any}(\"label\" => \"RIVL\", \"neuron_class\" => \"RIV\", \"LR\" => \"L\", \"region\" => missing, \"roi_id\" => [110], \"confidence\" => 5.0, \"DV\" => \"undefined\"), 114 => Dict{String, Any}(\"label\" => \"URYDL\", \"neuron_class\" => \"URY\", \"LR\" => \"L\", \"region\" => missing, \"roi_id\" => [99], \"confidence\" => 4.0, \"DV\" => \"D\"), 123 => Dict{String, Any}(\"label\" => \"OLQDR\", \"neuron_class\" => \"OLQ\", \"LR\" => \"R\", \"region\" => missing, \"roi_id\" => [187, 215], \"confidence\" => 5.0, \"DV\" => \"D\"), 110 => Dict{String, Any}(\"label\" => \"AIZR\", \"neuron_class\" => \"AIZ\", \"LR\" => \"R\", \"region\" => missing, \"roi_id\" => [164, 136], \"confidence\" => 4.0, \"DV\" => \"undefined\"), 35 => Dict{String, Any}(\"label\" => \"ASEL\", \"neuron_class\" => \"ASE\", \"LR\" => \"L\", \"region\" => missing, \"roi_id\" => [154], \"confidence\" => 4.0, \"DV\" => \"undefined\"), 60 => Dict{String, Any}(\"label\" => \"RMDVR\", \"neuron_class\" => \"RMD\", \"LR\" => \"R\", \"region\" => missing, \"roi_id\" => [155], \"confidence\" => 4.0, \"DV\" => \"V\"), 32 => Dict{String, Any}(\"label\" => \"RMDL\", \"neuron_class\" => \"RMD\", \"LR\" => \"L\", \"region\" => missing, \"roi_id\" => [3], \"confidence\" => 5.0, \"DV\" => \"undefined\"), 6 => Dict{String, Any}(\"label\" => \"RICR\", \"neuron_class\" => \"RIC\", \"LR\" => \"R\", \"region\" => missing, \"roi_id\" => [163], \"confidence\" => 4.0, \"DV\" => \"undefined\"), 67 => Dict{String, Any}(\"label\" => \"OLLR\", \"neuron_class\" => \"OLL\", \"LR\" => \"R\", \"region\" => missing, \"roi_id\" => [229, 48], \"confidence\" => 4.0, \"DV\" => \"undefined\")…), Dict{Any, Any}(\"SAADR\" => Any[(Dict{String, Any}(\"label\" => \"SAADR\", \"neuron_class\" => \"SAA\", \"LR\" => \"R\", \"region\" => missing, \"roi_id\" => [13], \"confidence\" => 3.0, \"DV\" => \"D\"), 59, 84.98403447393486)], \"ASH\" => Any[(Dict{String, Any}(\"label\" => \"ASHL\", \"neuron_class\" => \"ASH\", \"LR\" => \"L\", \"region\" => missing, \"roi_id\" => [5], \"confidence\" => 3.0, \"DV\" => \"undefined\"), 122, 13.514584074034524)], \"I4\" => Any[(Dict{String, Any}(\"label\" => \"I4\", \"neuron_class\" => \"I4\", \"LR\" => \"undefined\", \"region\" => missing, \"roi_id\" => [50], \"confidence\" => 3.0, \"DV\" => \"undefined\"), 28, 5.4597640249150325)], \"URYV\" => Any[(Dict{String, Any}(\"label\" => \"URYVR\", \"neuron_class\" => \"URY\", \"LR\" => \"R\", \"region\" => missing, \"roi_id\" => [41], \"confidence\" => 5.0, \"DV\" => \"V\"), 70, 55.95210595462729), (Dict{String, Any}(\"label\" => \"URYVL\", \"neuron_class\" => \"URY\", \"LR\" => \"L\", \"region\" => missing, \"roi_id\" => [38], \"confidence\" => 5.0, \"DV\" => \"V\"), 125, 72.60891177243803)], \"OLQD\" => Any[(Dict{String, Any}(\"label\" => \"OLQDL\", \"neuron_class\" => \"OLQ\", \"LR\" => \"L\", \"region\" => missing, \"roi_id\" => [129], \"confidence\" => 5.0, \"DV\" => \"D\"), 86, 84.44501209236175), (Dict{String, Any}(\"label\" => \"OLQDR\", \"neuron_class\" => \"OLQ\", \"LR\" => \"R\", \"region\" => missing, \"roi_id\" => [187, 215], \"confidence\" => 5.0, \"DV\" => \"D\"), 123, 24.120023377776903)], \"RMD\" => Any[(Dict{String, Any}(\"label\" => \"RMDL\", \"neuron_class\" => \"RMD\", \"LR\" => \"L\", \"region\" => missing, \"roi_id\" => [3], \"confidence\" => 5.0, \"DV\" => \"undefined\"), 32, 72.61058856218423)], \"M5\" => Any[(Dict{String, Any}(\"label\" => \"M5\", \"neuron_class\" => \"M5\", \"LR\" => \"undefined\", \"region\" => missing, \"roi_id\" => [166], \"confidence\" => 3.0, \"DV\" => \"undefined\"), 42, 7.936639947538197)], \"RIS\" => Any[(Dict{String, Any}(\"label\" => \"RIS\", \"neuron_class\" => \"RIS\", \"LR\" => \"undefined\", \"region\" => missing, \"roi_id\" => [24], \"confidence\" => 3.0, \"DV\" => \"undefined\"), 84, 92.57981987675016)], \"SMDD\" => Any[(Dict{String, Any}(\"label\" => \"SMDD?\", \"neuron_class\" => \"SMD\", \"LR\" => \"missing\", \"region\" => missing, \"roi_id\" => [12], \"confidence\" => 3.0, \"DV\" => \"D\"), 104, 73.53704394039636), (Dict{String, Any}(\"label\" => \"SMDD?\", \"neuron_class\" => \"SMD\", \"LR\" => \"missing\", \"region\" => missing, \"roi_id\" => [157], \"confidence\" => 3.0, \"DV\" => \"D\"), 109, 80.09198835582606)], \"IL2V\" => Any[(Dict{String, Any}(\"label\" => \"IL2VR\", \"neuron_class\" => \"IL2\", \"LR\" => \"R\", \"region\" => missing, \"roi_id\" => [144], \"confidence\" => 5.0, \"DV\" => \"V\"), 36, 52.48144081246606), (Dict{String, Any}(\"label\" => \"IL2VL\", \"neuron_class\" => \"IL2\", \"LR\" => \"L\", \"region\" => missing, \"roi_id\" => [233], \"confidence\" => 5.0, \"DV\" => \"V\"), 63, 20.358716886803194)]…)), (Dict{Any, Any}(5 => Dict{String, Any}(\"label\" => \"I2R\", \"neuron_class\" => \"I2\", \"LR\" => \"R\", \"region\" => missing, \"roi_id\" => [134], \"confidence\" => 5.0, \"DV\" => \"undefined\"), 56 => Dict{String, Any}(\"label\" => \"RMER\", \"neuron_class\" => \"RME\", \"LR\" => \"R\", \"region\" => missing, \"roi_id\" => [219, 171], \"confidence\" => 4.0, \"DV\" => \"undefined\"), 123 => Dict{String, Any}(\"label\" => \"I4\", \"neuron_class\" => \"I4\", \"LR\" => \"undefined\", \"region\" => missing, \"roi_id\" => [28], \"confidence\" => 3.0, \"DV\" => \"undefined\"), 110 => Dict{String, Any}(\"label\" => \"URXR\", \"neuron_class\" => \"URX\", \"LR\" => \"R\", \"region\" => missing, \"roi_id\" => [274], \"confidence\" => 4.0, \"DV\" => \"undefined\"), 60 => Dict{String, Any}(\"label\" => \"CEPDR\", \"neuron_class\" => \"CEP\", \"LR\" => \"R\", \"region\" => missing, \"roi_id\" => [195], \"confidence\" => 5.0, \"DV\" => \"D\"), 30 => Dict{String, Any}(\"label\" => \"RMEL\", \"neuron_class\" => \"RME\", \"LR\" => \"L\", \"region\" => missing, \"roi_id\" => [113], \"confidence\" => 4.0, \"DV\" => \"undefined\"), 32 => Dict{String, Any}(\"label\" => \"AVJL\", \"neuron_class\" => \"AVJ\", \"LR\" => \"L\", \"region\" => missing, \"roi_id\" => [258], \"confidence\" => 5.0, \"DV\" => \"undefined\"), 6 => Dict{String, Any}(\"label\" => \"ADAL\", \"neuron_class\" => \"ADA\", \"LR\" => \"L\", \"region\" => missing, \"roi_id\" => [268], \"confidence\" => 4.0, \"DV\" => \"undefined\"), 67 => Dict{String, Any}(\"label\" => \"RIVL\", \"neuron_class\" => \"RIV\", \"LR\" => \"L\", \"region\" => missing, \"roi_id\" => [205], \"confidence\" => 5.0, \"DV\" => \"undefined\"), 45 => Dict{String, Any}(\"label\" => \"AWAL\", \"neuron_class\" => \"AWA\", \"LR\" => \"L\", \"region\" => missing, \"roi_id\" => [127], \"confidence\" => 4.0, \"DV\" => \"undefined\")…), Dict{Any, Any}(\"RID\" => Any[(Dict{String, Any}(\"label\" => \"RID\", \"neuron_class\" => \"RID\", \"LR\" => \"undefined\", \"region\" => missing, \"roi_id\" => [60], \"confidence\" => 5.0, \"DV\" => \"undefined\"), 137, 129.09566911012024)], \"I4\" => Any[(Dict{String, Any}(\"label\" => \"I4\", \"neuron_class\" => \"I4\", \"LR\" => \"undefined\", \"region\" => missing, \"roi_id\" => [28], \"confidence\" => 3.0, \"DV\" => \"undefined\"), 123, 4.599291498245806)], \"URYV\" => Any[(Dict{String, Any}(\"label\" => \"URYVL\", \"neuron_class\" => \"URY\", \"LR\" => \"L\", \"region\" => missing, \"roi_id\" => [30], \"confidence\" => 5.0, \"DV\" => \"V\"), 126, 77.4059869855383), (Dict{String, Any}(\"label\" => \"URYVR\", \"neuron_class\" => \"URY\", \"LR\" => \"R\", \"region\" => missing, \"roi_id\" => [164], \"confidence\" => 5.0, \"DV\" => \"V\"), 127, 14.922096529822811)], \"OLQD\" => Any[(Dict{String, Any}(\"label\" => \"OLQDR\", \"neuron_class\" => \"OLQ\", \"LR\" => \"R\", \"region\" => missing, \"roi_id\" => [43, 291], \"confidence\" => 5.0, \"DV\" => \"D\"), 8, 8.4958527605542), (Dict{String, Any}(\"label\" => \"OLQDL\", \"neuron_class\" => \"OLQ\", \"LR\" => \"L\", \"region\" => missing, \"roi_id\" => [96], \"confidence\" => 5.0, \"DV\" => \"D\"), 108, 62.369401677571126)], \"RMD\" => Any[(Dict{String, Any}(\"label\" => \"RMDL\", \"neuron_class\" => \"RMD\", \"LR\" => \"L\", \"region\" => missing, \"roi_id\" => [301, 126], \"confidence\" => 4.0, \"DV\" => \"undefined\"), 80, 8.82364403082422)], \"M5\" => Any[(Dict{String, Any}(\"label\" => \"M5\", \"neuron_class\" => \"M5\", \"LR\" => \"undefined\", \"region\" => missing, \"roi_id\" => [93], \"confidence\" => 3.0, \"DV\" => \"undefined\"), 64, 9.71623556529456)], \"AWA\" => Any[(Dict{String, Any}(\"label\" => \"AWAR\", \"neuron_class\" => \"AWA\", \"LR\" => \"R\", \"region\" => missing, \"roi_id\" => [267], \"confidence\" => 4.0, \"DV\" => \"undefined\"), 118, 76.07536349010894), (Dict{String, Any}(\"label\" => \"AWAL\", \"neuron_class\" => \"AWA\", \"LR\" => \"L\", \"region\" => missing, \"roi_id\" => [127], \"confidence\" => 4.0, \"DV\" => \"undefined\"), 45, 16.49353684104864)], \"SAAV\" => Any[(Dict{String, Any}(\"label\" => \"SAAVL\", \"neuron_class\" => \"SAA\", \"LR\" => \"L\", \"region\" => missing, \"roi_id\" => [142], \"confidence\" => 4.0, \"DV\" => \"V\"), 92, 20.556833704764408)], \"ADA\" => Any[(Dict{String, Any}(\"label\" => \"ADAL\", \"neuron_class\" => \"ADA\", \"LR\" => \"L\", \"region\" => missing, \"roi_id\" => [268], \"confidence\" => 4.0, \"DV\" => \"undefined\"), 6, 92.05636681185807)], \"SMDD\" => Any[(Dict{String, Any}(\"label\" => \"SMDDL\", \"neuron_class\" => \"SMD\", \"LR\" => \"L\", \"region\" => missing, \"roi_id\" => [262], \"confidence\" => 3.0, \"DV\" => \"D\"), 87, 90.47501856622799)]…)), (Dict{Any, Any}(114 => Dict{String, Any}(\"label\" => \"AIYL\", \"neuron_class\" => \"AIY\", \"LR\" => \"L\", \"region\" => missing, \"roi_id\" => [82], \"confidence\" => 3.0, \"DV\" => \"undefined\"), 55 => Dict{String, Any}(\"label\" => \"IL1VR\", \"neuron_class\" => \"IL1\", \"LR\" => \"R\", \"region\" => missing, \"roi_id\" => [11], \"confidence\" => 3.0, \"DV\" => \"V\"), 35 => Dict{String, Any}(\"label\" => \"CEPDL\", \"neuron_class\" => \"CEP\", \"LR\" => \"L\", \"region\" => missing, \"roi_id\" => [132], \"confidence\" => 5.0, \"DV\" => \"D\"), 123 => Dict{String, Any}(\"label\" => \"AWAL\", \"neuron_class\" => \"AWA\", \"LR\" => \"L\", \"region\" => missing, \"roi_id\" => [217, 70], \"confidence\" => 3.0, \"DV\" => \"undefined\"), 110 => Dict{String, Any}(\"label\" => \"I3\", \"neuron_class\" => \"I3\", \"LR\" => \"undefined\", \"region\" => missing, \"roi_id\" => [73], \"confidence\" => 5.0, \"DV\" => \"undefined\"), 60 => Dict{String, Any}(\"label\" => \"RMDDR\", \"neuron_class\" => \"RMD\", \"LR\" => \"R\", \"region\" => missing, \"roi_id\" => [102], \"confidence\" => 4.0, \"DV\" => \"D\"), 6 => Dict{String, Any}(\"label\" => \"I2R\", \"neuron_class\" => \"I2\", \"LR\" => \"R\", \"region\" => missing, \"roi_id\" => [108], \"confidence\" => 5.0, \"DV\" => \"undefined\"), 117 => Dict{String, Any}(\"label\" => \"AIMR\", \"neuron_class\" => \"AIM\", \"LR\" => \"R\", \"region\" => missing, \"roi_id\" => [86], \"confidence\" => 3.0, \"DV\" => \"undefined\"), 73 => Dict{String, Any}(\"label\" => \"URADR\", \"neuron_class\" => \"URA\", \"LR\" => \"R\", \"region\" => missing, \"roi_id\" => [25], \"confidence\" => 5.0, \"DV\" => \"D\"), 115 => Dict{String, Any}(\"label\" => \"OLQVR\", \"neuron_class\" => \"OLQ\", \"LR\" => \"R\", \"region\" => missing, \"roi_id\" => [156], \"confidence\" => 3.0, \"DV\" => \"V\")…), Dict{Any, Any}(\"RID\" => Any[(Dict{String, Any}(\"label\" => \"RID\", \"neuron_class\" => \"RID\", \"LR\" => \"undefined\", \"region\" => missing, \"roi_id\" => [154], \"confidence\" => 5.0, \"DV\" => \"undefined\"), 76, 5.29368616364505)], \"ASH\" => Any[(Dict{String, Any}(\"label\" => \"ASHL\", \"neuron_class\" => \"ASH\", \"LR\" => \"L\", \"region\" => missing, \"roi_id\" => [72], \"confidence\" => 4.0, \"DV\" => \"undefined\"), 27, 36.75879776502535)], \"URYV\" => Any[(Dict{String, Any}(\"label\" => \"URYVR\", \"neuron_class\" => \"URY\", \"LR\" => \"R\", \"region\" => missing, \"roi_id\" => [205], \"confidence\" => 5.0, \"DV\" => \"V\"), 70, 48.87506434230533), (Dict{String, Any}(\"label\" => \"URYVL\", \"neuron_class\" => \"URY\", \"LR\" => \"L\", \"region\" => missing, \"roi_id\" => [80], \"confidence\" => 5.0, \"DV\" => \"V\"), 37, 79.43096908586747)], \"OLQD\" => Any[(Dict{String, Any}(\"label\" => \"OLQDL\", \"neuron_class\" => \"OLQ\", \"LR\" => \"L\", \"region\" => missing, \"roi_id\" => [125], \"confidence\" => 5.0, \"DV\" => \"D\"), 62, 59.06112452195335), (Dict{String, Any}(\"label\" => \"OLQDR\", \"neuron_class\" => \"OLQ\", \"LR\" => \"R\", \"region\" => missing, \"roi_id\" => [186, 158], \"confidence\" => 5.0, \"DV\" => \"D\"), 17, 45.785196617323145)], \"RMD\" => Any[(Dict{String, Any}(\"label\" => \"RMDL\", \"neuron_class\" => \"RMD\", \"LR\" => \"L\", \"region\" => missing, \"roi_id\" => [76], \"confidence\" => 5.0, \"DV\" => \"undefined\"), 109, 28.521158031026253)], \"SIAV\" => Any[(Dict{String, Any}(\"label\" => \"SIA?R\", \"neuron_class\" => \"SIA\", \"LR\" => \"R\", \"region\" => missing, \"roi_id\" => [100], \"confidence\" => 3.0, \"DV\" => \"missing\"), 28, 35.9050859945911)], \"M5\" => Any[(Dict{String, Any}(\"label\" => \"M5\", \"neuron_class\" => \"M5\", \"LR\" => \"undefined\", \"region\" => missing, \"roi_id\" => [21], \"confidence\" => 3.0, \"DV\" => \"undefined\"), 84, 3.1528717627388545)], \"AWA\" => Any[(Dict{String, Any}(\"label\" => \"AWAL\", \"neuron_class\" => \"AWA\", \"LR\" => \"L\", \"region\" => missing, \"roi_id\" => [217, 70], \"confidence\" => 3.0, \"DV\" => \"undefined\"), 123, 18.24952935022324)], \"SAAV\" => Any[(Dict{String, Any}(\"label\" => \"SAAVL\", \"neuron_class\" => \"SAA\", \"LR\" => \"L\", \"region\" => missing, \"roi_id\" => [137], \"confidence\" => 4.0, \"DV\" => \"V\"), 52, 35.64324954380361)], \"ADA\" => Any[(Dict{String, Any}(\"label\" => \"ADAL\", \"neuron_class\" => \"ADA\", \"LR\" => \"L\", \"region\" => missing, \"roi_id\" => [110], \"confidence\" => 4.0, \"DV\" => \"undefined\"), 128, 12.342052629100282)]…)), (Dict{Any, Any}(5 => Dict{String, Any}(\"label\" => \"I2L\", \"neuron_class\" => \"I2\", \"LR\" => \"L\", \"region\" => missing, \"roi_id\" => [193], \"confidence\" => 5.0, \"DV\" => \"undefined\"), 35 => Dict{String, Any}(\"label\" => \"AVEL\", \"neuron_class\" => \"AVE\", \"LR\" => \"L\", \"region\" => missing, \"roi_id\" => [154], \"confidence\" => 5.0, \"DV\" => \"undefined\"), 55 => Dict{String, Any}(\"label\" => \"RMDL\", \"neuron_class\" => \"RMD\", \"LR\" => \"L\", \"region\" => missing, \"roi_id\" => [5], \"confidence\" => 5.0, \"DV\" => \"undefined\"), 114 => Dict{String, Any}(\"label\" => \"IL2L\", \"neuron_class\" => \"IL2\", \"LR\" => \"L\", \"region\" => missing, \"roi_id\" => [6], \"confidence\" => 5.0, \"DV\" => \"undefined\"), 110 => Dict{String, Any}(\"label\" => \"I1L\", \"neuron_class\" => \"I1\", \"LR\" => \"L\", \"region\" => missing, \"roi_id\" => [166], \"confidence\" => 5.0, \"DV\" => \"undefined\"), 60 => Dict{String, Any}(\"label\" => \"SMDD?\", \"neuron_class\" => \"SMD\", \"LR\" => \"missing\", \"region\" => missing, \"roi_id\" => [104], \"confidence\" => 3.0, \"DV\" => \"D\"), 32 => Dict{String, Any}(\"label\" => \"ASGR\", \"neuron_class\" => \"ASG\", \"LR\" => \"R\", \"region\" => missing, \"roi_id\" => [177], \"confidence\" => 4.0, \"DV\" => \"undefined\"), 6 => Dict{String, Any}(\"label\" => \"IL2DL\", \"neuron_class\" => \"IL2\", \"LR\" => \"L\", \"region\" => missing, \"roi_id\" => [8], \"confidence\" => 5.0, \"DV\" => \"D\"), 117 => Dict{String, Any}(\"label\" => \"SAAD?\", \"neuron_class\" => \"SAA\", \"LR\" => \"missing\", \"region\" => missing, \"roi_id\" => [17], \"confidence\" => 3.0, \"DV\" => \"D\"), 45 => Dict{String, Any}(\"label\" => \"IL1DL\", \"neuron_class\" => \"IL1\", \"LR\" => \"L\", \"region\" => missing, \"roi_id\" => [39], \"confidence\" => 5.0, \"DV\" => \"D\")…), Dict{Any, Any}(\"RID\" => Any[(Dict{String, Any}(\"label\" => \"RID\", \"neuron_class\" => \"RID\", \"LR\" => \"undefined\", \"region\" => missing, \"roi_id\" => [44], \"confidence\" => 5.0, \"DV\" => \"undefined\"), 34, 42.83250575288506)], \"SMBD\" => Any[(Dict{String, Any}(\"label\" => \"SMBD?\", \"neuron_class\" => \"SMB\", \"LR\" => \"missing\", \"region\" => missing, \"roi_id\" => [144], \"confidence\" => 3.0, \"DV\" => \"D\"), 72, 48.545680868432555), (Dict{String, Any}(\"label\" => \"SMB??\", \"neuron_class\" => \"SMB\", \"LR\" => \"missing\", \"region\" => missing, \"roi_id\" => [174], \"confidence\" => 3.0, \"DV\" => \"missing\"), 109, 41.486072863741754)], \"ASH\" => Any[(Dict{String, Any}(\"label\" => \"ASHL\", \"neuron_class\" => \"ASH\", \"LR\" => \"L\", \"region\" => missing, \"roi_id\" => [121], \"confidence\" => 4.0, \"DV\" => \"undefined\"), 39, 34.18071464093803)], \"I4\" => Any[(Dict{String, Any}(\"label\" => \"I4\", \"neuron_class\" => \"I4\", \"LR\" => \"undefined\", \"region\" => missing, \"roi_id\" => [65], \"confidence\" => 3.0, \"DV\" => \"undefined\"), 126, 2.4819994969262593)], \"URYV\" => Any[(Dict{String, Any}(\"label\" => \"URYVL\", \"neuron_class\" => \"URY\", \"LR\" => \"L\", \"region\" => missing, \"roi_id\" => [96], \"confidence\" => 5.0, \"DV\" => \"V\"), 10, 45.06015807237658)], \"OLQD\" => Any[(Dict{String, Any}(\"label\" => \"OLQDL\", \"neuron_class\" => \"OLQ\", \"LR\" => \"L\", \"region\" => missing, \"roi_id\" => [213, 63], \"confidence\" => 5.0, \"DV\" => \"D\"), 113, 8.266304157914696), (Dict{String, Any}(\"label\" => \"OLQDR\", \"neuron_class\" => \"OLQ\", \"LR\" => \"R\", \"region\" => missing, \"roi_id\" => [218], \"confidence\" => 5.0, \"DV\" => \"D\"), 99, 15.644747409701885)], \"RMD\" => Any[(Dict{String, Any}(\"label\" => \"RMDR\", \"neuron_class\" => \"RMD\", \"LR\" => \"R\", \"region\" => missing, \"roi_id\" => [142], \"confidence\" => 5.0, \"DV\" => \"undefined\"), 86, 10.04331308620148), (Dict{String, Any}(\"label\" => \"RMDL\", \"neuron_class\" => \"RMD\", \"LR\" => \"L\", \"region\" => missing, \"roi_id\" => [5], \"confidence\" => 5.0, \"DV\" => \"undefined\"), 55, 49.03379198712064)], \"SIAV\" => Any[(Dict{String, Any}(\"label\" => \"SIA??\", \"neuron_class\" => \"SIA\", \"LR\" => \"missing\", \"region\" => missing, \"roi_id\" => [90], \"confidence\" => 3.0, \"DV\" => \"missing\"), 28, 2.413949187032914)], \"M5\" => Any[(Dict{String, Any}(\"label\" => \"M5\", \"neuron_class\" => \"M5\", \"LR\" => \"undefined\", \"region\" => missing, \"roi_id\" => [152], \"confidence\" => 4.0, \"DV\" => \"undefined\"), 62, 14.440037942267104)], \"ADA\" => Any[(Dict{String, Any}(\"label\" => \"ADAL\", \"neuron_class\" => \"ADA\", \"LR\" => \"L\", \"region\" => missing, \"roi_id\" => [42], \"confidence\" => 5.0, \"DV\" => \"undefined\"), 47, 97.08109373003919)]…))], Tuple[(\"AVB\", \"AVB\", nothing, nothing), (\"RIB\", \"RIB\", nothing, nothing), (\"RIC\", \"RIC\", nothing, nothing), (\"RID\", \"RID\", nothing, \"undefined\"), (\"AUA\", \"AUA\", nothing, nothing), (\"AVJ\", \"AVJ\", nothing, nothing), (\"AVK\", \"AVK\", nothing, nothing), (\"AIM\", \"AIM\", nothing, nothing), (\"AIY\", \"AIY\", nothing, nothing), (\"AIA\", \"AIA\", nothing, nothing)  …  (\"I5\", \"I5\", nothing, \"undefined\"), (\"I6\", \"I6\", nothing, \"undefined\"), (\"NSM\", \"NSM\", nothing, nothing), (\"M1\", \"M1\", nothing, \"undefined\"), (\"M2\", \"M2\", nothing, nothing), (\"M3\", \"M3\", nothing, nothing), (\"M4\", \"M4\", nothing, \"undefined\"), (\"M5\", \"M5\", nothing, \"undefined\"), (\"MC\", \"MC\", nothing, nothing), (\"MI\", \"MI\", nothing, \"undefined\")], Any[\"AVB\", \"RIB\", \"RIC\", \"RID\", \"AUA\", \"AVJ\", \"AVK\", \"AIM\", \"AIY\", \"AIA\"  …  \"I5\", \"I6\", \"NSM\", \"M1\", \"M2\", \"M3\", \"M4\", \"M5\", \"MC\", \"MI\"], [\"2022-06-14-01\", \"2022-06-14-07\", \"2022-06-14-13\", \"2022-06-28-01\", \"2022-06-28-07\", \"2022-07-15-06\", \"2022-07-15-12\", \"2022-07-20-01\", \"2022-07-26-01\", \"2022-08-02-01\"  …  \"2023-01-10-07\", \"2023-01-10-14\", \"2023-01-13-07\", \"2023-01-16-01\", \"2023-01-16-08\", \"2023-01-16-15\", \"2023-01-16-22\", \"2023-01-17-07\", \"2023-01-17-14\", \"2023-01-18-01\"])"
      ]
     },
     "execution_count": 46,
     "metadata": {},
     "output_type": "execute_result"
    }
   ],
   "source": [
    "path_neuropal_label = \"/data1/prj_kfc/data/analysis_dict/dict_neuropal_label.jld2\"\n",
    "path_neuropal_order = \"/data1/prj_neuropal/data/neuropal_label_prj_kfc/NeuroPAL order LR.csv\"\n",
    "\n",
    "list_match_dict, list_class_ordered, list_class_dv_ordered, list_uid = let\n",
    "    list_uid_baseline = sort([\"2022-06-14-01\", \"2022-06-14-07\",\n",
    "        \"2022-06-14-13\", \"2022-06-28-01\", \"2022-06-28-07\",\n",
    "        \"2022-07-15-06\", \"2022-07-15-12\",\n",
    "        \"2022-07-20-01\", \"2022-07-26-01\", \"2022-08-02-01\",\n",
    "        \"2023-01-09-28\", \"2023-01-17-01\", \"2023-01-19-01\",\n",
    "        \"2023-01-19-08\", \"2023-01-19-15\", \"2023-01-19-22\",\n",
    "        \"2023-01-23-01\", \"2023-01-23-08\", \"2023-01-23-15\", \"2023-01-23-21\",\n",
    "        \"2023-03-07-01\"])\n",
    "\n",
    "    list_uid_heat = [\"2022-12-21-06\", \"2023-01-05-01\", \"2023-01-05-18\",\n",
    "        \"2023-01-06-01\", \"2023-01-06-08\", \"2023-01-06-15\", \"2023-01-09-08\",\n",
    "        \"2023-01-09-15\", \"2023-01-09-22\", \"2023-01-10-07\", \"2023-01-10-14\",\n",
    "        \"2023-01-13-07\", \"2023-01-16-01\", \"2023-01-16-08\", \"2023-01-16-15\",\n",
    "        \"2023-01-16-22\", \"2023-01-17-07\", \"2023-01-17-14\", \"2023-01-18-01\"] |> sort;\n",
    "    list_uid = vcat(list_uid_baseline, list_uid_heat); length(list_uid)\n",
    "\n",
    "    list_data_dict = []\n",
    "    println(\"Loading immobilized to freely-moving registrations...\")\n",
    "    @showprogress for (idx_uid, data_uid) = enumerate(list_uid)\n",
    "        path_data = joinpath(path_h5_data, \"$(data_uid)-data.h5\")\n",
    "        data_dict = import_data(path_data, custom_keys=[\"neuropal_registration\"])\n",
    "\n",
    "        push!(list_data_dict, data_dict)\n",
    "    end\n",
    "\n",
    "    println(\"Parsing labels...\")\n",
    "\n",
    "    dict_neuropal_label = load(path_neuropal_label)[\"dict_neuropal_label\"];\n",
    "    list_neuropal_label = []\n",
    "    for uid = list_uid\n",
    "        push!(list_neuropal_label, dict_neuropal_label[uid])\n",
    "    end\n",
    "\n",
    "    list_dict_fit = []\n",
    "\n",
    "    for uid = list_uid\n",
    "        push!(list_dict_fit, Dict(\"categorization\" => analysis_dict[\"neuron_categorization\"][uid]))\n",
    "    end\n",
    "\n",
    "    list_neuropal_order_info = readdlm(path_neuropal_order,',');\n",
    "    list_class_dv = get_list_class_dv(map(x->x[1],list_neuropal_label));\n",
    "    list_class_ordered = generate_list_class_custom_order(list_neuropal_order_info, list_class_dv);\n",
    "    list_class_classify_dv_enc = [\"SIA\",\"SMB\"] # classify based on D/V tuning\n",
    "\n",
    "    list_match_dict = get_list_match_dict(list_neuropal_label, list_data_dict=list_data_dict, list_dict_fit=list_dict_fit,\n",
    "        list_class_ordered=list_class_ordered,\n",
    "        list_class_classify_dv_enc=list_class_classify_dv_enc, θ_confidence_label=2.5);\n",
    "\n",
    "    list_class_dv_ordered = let\n",
    "        list_all_class = unique(vcat(map(x->collect(keys(x[2])), list_match_dict)...))\n",
    "        list_intersect = intersect(map(x->x[2], list_class_ordered), list_all_class)\n",
    "        println(\"missing (in the ordering file but not in the matches): \", setdiff(setdiff(map(x->x[2], list_class_ordered), list_all_class)))\n",
    "        println(\"n(class): $(length(list_intersect))\")\n",
    "        list_intersect\n",
    "    end\n",
    "\n",
    "    list_match_dict, list_class_ordered, list_class_dv_ordered, list_uid\n",
    "end"
   ]
  },
  {
   "cell_type": "code",
   "execution_count": 47,
   "id": "4f72a180",
   "metadata": {},
   "outputs": [],
   "source": [
    "analysis_dict[\"list_class_dv_ordered\"] = list_class_dv_ordered;"
   ]
  },
  {
   "attachments": {},
   "cell_type": "markdown",
   "id": "b5c8b457",
   "metadata": {},
   "source": [
    "### Compute library of NeuroPAL neuron matches with encoding changes"
   ]
  },
  {
   "cell_type": "code",
   "execution_count": 48,
   "id": "4274b930",
   "metadata": {},
   "outputs": [
    {
     "data": {
      "text/plain": [
       "(Dict{Any, Any}(\"I5\" => Any[(\"2022-07-20-01\", 112), (\"2023-01-19-01\", 3), (\"2023-01-19-08\", 122), (\"2023-01-16-08\", 84)], \"RID\" => Any[(\"2022-06-14-01\", 4), (\"2022-06-14-13\", 33), (\"2022-06-28-01\", 109), (\"2022-06-28-07\", 8), (\"2022-07-15-06\", 80), (\"2022-07-15-12\", 83), (\"2022-07-20-01\", 48), (\"2022-07-26-01\", 82), (\"2022-08-02-01\", 105), (\"2023-01-09-28\", 60)  …  (\"2023-01-09-15\", 108), (\"2023-01-09-22\", 79), (\"2023-01-10-07\", 3), (\"2023-01-10-14\", 89), (\"2023-01-16-01\", 120), (\"2023-01-16-08\", 93), (\"2023-01-16-15\", 87), (\"2023-01-17-07\", 137), (\"2023-01-17-14\", 76), (\"2023-01-18-01\", 34)], \"SAADR\" => Any[(\"2022-06-14-01\", 81), (\"2022-08-02-01\", 1), (\"2023-01-17-01\", 38), (\"2023-01-19-15\", 94), (\"2023-01-19-22\", 148), (\"2023-01-23-08\", 21), (\"2023-01-10-07\", 66), (\"2023-01-13-07\", 28), (\"2023-01-16-08\", 2), (\"2023-01-16-22\", 59)], \"SMBD\" => Any[(\"2022-06-14-01\", 83), (\"2022-06-14-01\", 57), (\"2022-06-14-07\", 16), (\"2022-06-28-01\", 129), (\"2022-06-28-07\", 63), (\"2022-06-28-07\", 73), (\"2022-07-15-06\", 62), (\"2022-08-02-01\", 87), (\"2022-08-02-01\", 90), (\"2023-01-09-28\", 38), (\"2023-01-17-01\", 21), (\"2023-01-17-01\", 129), (\"2023-01-19-01\", 81), (\"2023-01-23-21\", 27), (\"2023-01-06-08\", 106), (\"2023-01-10-14\", 53), (\"2023-01-10-14\", 96), (\"2023-01-16-15\", 120), (\"2023-01-18-01\", 72), (\"2023-01-18-01\", 109)], \"ASH\" => Any[(\"2022-06-14-01\", 55), (\"2022-06-14-07\", 43), (\"2022-06-14-13\", 5), (\"2022-06-28-07\", 103), (\"2022-07-20-01\", 12), (\"2022-07-20-01\", 26), (\"2022-07-26-01\", 56), (\"2022-08-02-01\", 75), (\"2023-01-09-28\", 119), (\"2023-01-17-01\", 104)  …  (\"2023-01-23-21\", 102), (\"2023-03-07-01\", 46), (\"2023-03-07-01\", 42), (\"2023-01-06-01\", 119), (\"2023-01-06-08\", 82), (\"2023-01-06-15\", 90), (\"2023-01-09-22\", 89), (\"2023-01-16-22\", 122), (\"2023-01-17-14\", 27), (\"2023-01-18-01\", 39)], \"I4\" => Any[(\"2022-06-28-07\", 100), (\"2023-01-23-08\", 43), (\"2023-01-05-01\", 138), (\"2023-01-05-18\", 101), (\"2023-01-16-01\", 18), (\"2023-01-16-08\", 91), (\"2023-01-16-22\", 28), (\"2023-01-17-07\", 123), (\"2023-01-18-01\", 126)], \"URYV\" => Any[(\"2022-06-14-07\", 101), (\"2022-06-14-13\", 36), (\"2022-06-14-13\", 68), (\"2022-06-28-01\", 78), (\"2022-06-28-07\", 137), (\"2022-07-15-06\", 22), (\"2022-07-15-12\", 70), (\"2022-07-15-12\", 68), (\"2022-07-20-01\", 34), (\"2022-07-20-01\", 40)  …  (\"2023-01-16-08\", 52), (\"2023-01-16-15\", 115), (\"2023-01-16-15\", 37), (\"2023-01-16-22\", 70), (\"2023-01-16-22\", 125), (\"2023-01-17-07\", 126), (\"2023-01-17-07\", 127), (\"2023-01-17-14\", 70), (\"2023-01-17-14\", 37), (\"2023-01-18-01\", 10)], \"OLQD\" => Any[(\"2022-06-14-01\", 49), (\"2022-06-14-01\", 53), (\"2022-06-14-07\", 78), (\"2022-06-14-07\", 48), (\"2022-06-14-13\", 101), (\"2022-06-14-13\", 112), (\"2022-06-28-01\", 10), (\"2022-06-28-01\", 114), (\"2022-06-28-07\", 6), (\"2022-06-28-07\", 138)  …  (\"2023-01-16-15\", 108), (\"2023-01-16-15\", 4), (\"2023-01-16-22\", 86), (\"2023-01-16-22\", 123), (\"2023-01-17-07\", 8), (\"2023-01-17-07\", 108), (\"2023-01-17-14\", 62), (\"2023-01-17-14\", 17), (\"2023-01-18-01\", 113), (\"2023-01-18-01\", 99)], \"RMD\" => Any[(\"2022-06-14-01\", 5), (\"2022-06-14-01\", 109), (\"2022-06-14-07\", 50), (\"2022-06-14-13\", 117), (\"2022-06-28-01\", 106), (\"2022-06-28-01\", 120), (\"2022-06-28-07\", 72), (\"2022-06-28-07\", 37), (\"2022-07-15-06\", 48), (\"2022-07-15-06\", 58)  …  (\"2023-01-10-07\", 76), (\"2023-01-10-14\", 30), (\"2023-01-13-07\", 72), (\"2023-01-16-08\", 85), (\"2023-01-16-08\", 65), (\"2023-01-16-22\", 32), (\"2023-01-17-07\", 80), (\"2023-01-17-14\", 109), (\"2023-01-18-01\", 86), (\"2023-01-18-01\", 55)], \"RIR\" => Any[(\"2022-07-15-12\", 73), (\"2023-01-19-01\", 76), (\"2023-01-19-22\", 144), (\"2023-01-05-01\", 92), (\"2023-01-06-15\", 36), (\"2023-01-10-07\", 119), (\"2023-01-16-15\", 32)]…), Dict{Any, Any}(\"I5\" => Any[(\"2023-01-16-08\", 84)], \"RID\" => Any[(\"2022-07-15-06\", 80), (\"2023-01-19-08\", 49), (\"2023-01-19-22\", 132), (\"2022-12-21-06\", 15), (\"2023-01-16-01\", 120), (\"2023-01-16-15\", 87)], \"SAADR\" => Any[(\"2023-01-19-22\", 148), (\"2023-01-23-08\", 21)], \"SMBD\" => Any[(\"2023-01-16-15\", 120)], \"ASH\" => Any[(\"2023-01-09-28\", 119), (\"2023-01-23-15\", 111)], \"URYV\" => Any[(\"2022-07-15-12\", 70), (\"2023-01-09-28\", 86), (\"2023-01-19-15\", 105), (\"2023-01-23-01\", 117), (\"2023-01-23-15\", 38), (\"2022-12-21-06\", 121), (\"2023-01-06-08\", 122), (\"2023-01-06-15\", 41), (\"2023-01-16-01\", 48), (\"2023-01-16-15\", 37), (\"2023-01-16-22\", 70), (\"2023-01-17-07\", 126), (\"2023-01-18-01\", 10)], \"OLQD\" => Any[(\"2022-06-14-01\", 49), (\"2022-06-14-13\", 101), (\"2022-07-15-12\", 72), (\"2022-07-15-12\", 3), (\"2022-07-20-01\", 11), (\"2022-08-02-01\", 151), (\"2023-01-09-28\", 83), (\"2023-01-19-01\", 82), (\"2023-01-19-22\", 151), (\"2023-01-23-01\", 13), (\"2023-01-23-08\", 123), (\"2023-01-23-15\", 56), (\"2022-12-21-06\", 88), (\"2023-01-09-15\", 88), (\"2023-01-09-22\", 4), (\"2023-01-16-15\", 4), (\"2023-01-16-22\", 86), (\"2023-01-17-07\", 108), (\"2023-01-18-01\", 99)], \"RMD\" => Any[(\"2022-06-14-01\", 109), (\"2022-06-14-07\", 50), (\"2022-07-15-06\", 58), (\"2023-01-09-28\", 144), (\"2023-01-09-28\", 58), (\"2023-01-19-15\", 72), (\"2023-01-23-08\", 94), (\"2023-03-07-01\", 100), (\"2023-01-06-01\", 118), (\"2023-01-06-15\", 103), (\"2023-01-06-15\", 106), (\"2023-01-13-07\", 72), (\"2023-01-16-08\", 65)], \"RIR\" => Any[(\"2023-01-16-15\", 32)], \"SIAV\" => Any[(\"2023-01-16-15\", 91), (\"2023-01-17-14\", 28)]…))"
      ]
     },
     "execution_count": 48,
     "metadata": {},
     "output_type": "execute_result"
    }
   ],
   "source": [
    "analysis_dict[\"matches\"], analysis_dict[\"matches_ec\"] = neuropal_data_to_dict(fit_results, analysis_dict, collect(map(x->x[2], list_class_ordered)), list_match_dict, list_uid)"
   ]
  },
  {
   "cell_type": "code",
   "execution_count": 54,
   "id": "b5f34643",
   "metadata": {},
   "outputs": [],
   "source": [
    "analysis_dict[\"signal_neuropal\"] = Dict()\n",
    "for neuron in keys(analysis_dict[\"matches\"])\n",
    "    analysis_dict[\"signal_neuropal\"][neuron] = Float64[]\n",
    "    for (dataset, n) in analysis_dict[\"matches\"][neuron]\n",
    "        if dataset in datasets_neuropal_baseline\n",
    "            push!(analysis_dict[\"signal_neuropal\"][neuron], analysis_dict[\"signal\"][dataset][n])\n",
    "        else\n",
    "            trace = fit_results[dataset][\"trace_original\"][n, 1:stim_times[dataset]-1]\n",
    "            push!(analysis_dict[\"signal_neuropal\"][neuron], std(trace) / mean(trace))\n",
    "        end\n",
    "    end\n",
    "end"
   ]
  },
  {
   "cell_type": "code",
   "execution_count": 55,
   "id": "c66078f6",
   "metadata": {},
   "outputs": [],
   "source": [
    "JLD2.@save(path_analysis_dict, analysis_dict);"
   ]
  },
  {
   "attachments": {},
   "cell_type": "markdown",
   "id": "812e5264",
   "metadata": {},
   "source": [
    "# Hierarchical model fit\n",
    "This section fits hierarchical Bayesian models to all observations of each neuron class, allowing more accurate computations of that neuron class's encoding properties and variability across datasets.\n",
    "\n",
    "Expected runtime: 10-20 hours.\n",
    "\n",
    "For more information, see https://flavell-lab.github.io/HierarchicalPosteriorModel.jl"
   ]
  },
  {
   "attachments": {},
   "cell_type": "markdown",
   "id": "5a4c79c3",
   "metadata": {},
   "source": [
    "## Fit the hierarchical models"
   ]
  },
  {
   "cell_type": "code",
   "execution_count": 56,
   "id": "b69297f5",
   "metadata": {},
   "outputs": [
    {
     "name": "stderr",
     "output_type": "stream",
     "text": [
      "\u001b[32mProgress: 100%|█████████████████████████████████████████| Time: 2:25:09\u001b[39m\n"
     ]
    }
   ],
   "source": [
    "let\n",
    "    rngs_use = Dict()\n",
    "    for dataset in datasets_neuropal\n",
    "        if dataset in datasets_neuropal_1600\n",
    "            rngs_use[dataset] = [1,2]\n",
    "        else\n",
    "            rngs_use[dataset] = [1]\n",
    "        end\n",
    "    end\n",
    "\n",
    "    analysis_dict[\"hierarchical_model_params\"] = Dict()\n",
    "    analysis_dict[\"hierarchical_model_fits\"] = Dict()\n",
    "    analysis_dict[\"hierarchical_datasets\"] = Dict()\n",
    "\n",
    "    datasets_use = [d for d in datasets_neuropal if !(d in datasets_neuropal_800)]\n",
    "    @showprogress for neuron = keys(analysis_dict[\"matches\"])\n",
    "        analysis_dict[\"hierarchical_datasets\"][neuron] = get_datasets(fit_results, analysis_dict[\"matches\"][neuron], rngs_use=rngs_use, datasets_use=datasets_use)\n",
    "        if length(analysis_dict[\"matches\"][neuron]) > 1\n",
    "            Ps = get_Ps(fit_results, analysis_dict[\"matches\"][neuron], θh_pos_is_ventral, rngs_use=rngs_use)\n",
    "            params_init = initialize_params(Ps)\n",
    "            analysis_dict[\"hierarchical_model_params\"][neuron], analysis_dict[\"hierarchical_model_fits\"][neuron] = optimize_MAP(Ps, params_init)\n",
    "        end\n",
    "    end\n",
    "end"
   ]
  },
  {
   "cell_type": "code",
   "execution_count": 58,
   "id": "c4f7ec33",
   "metadata": {},
   "outputs": [
    {
     "name": "stderr",
     "output_type": "stream",
     "text": [
      "\u001b[32mProgress: 100%|█████████████████████████████████████████| Time: 0:00:30\u001b[39m\n"
     ]
    }
   ],
   "source": [
    "let\n",
    "    rngs_use = Dict()\n",
    "    for dataset in datasets_neuropal\n",
    "        if dataset in datasets_neuropal_1600\n",
    "            rngs_use[dataset] = [1,2]\n",
    "        else\n",
    "            rngs_use[dataset] = [1]\n",
    "        end\n",
    "    end\n",
    "\n",
    "    analysis_dict[\"hierarchical_model_params_individual\"] = Dict()\n",
    "    analysis_dict[\"hierarchical_model_fits_individual\"] = Dict()\n",
    "\n",
    "    datasets_use = [d for d in datasets_neuropal if !(d in datasets_neuropal_800)]\n",
    "    @showprogress for neuron = keys(analysis_dict[\"matches\"])\n",
    "        analysis_dict[\"hierarchical_model_params_individual\"][neuron] = Dict()\n",
    "        analysis_dict[\"hierarchical_model_fits_individual\"][neuron] = Dict()\n",
    "        for (dataset, n) in analysis_dict[\"matches\"][neuron]\n",
    "            Ps = get_Ps(fit_results, [(dataset, n)], θh_pos_is_ventral)\n",
    "            params_init = initialize_params(Ps)\n",
    "            analysis_dict[\"hierarchical_model_params_individual\"][neuron][(dataset,n)], analysis_dict[\"hierarchical_model_fits_individual\"][neuron][(dataset,n)] = optimize_MAP(Ps, params_init)\n",
    "        end\n",
    "    end\n",
    "end"
   ]
  },
  {
   "cell_type": "code",
   "execution_count": 59,
   "id": "9f70bce5",
   "metadata": {},
   "outputs": [
    {
     "name": "stderr",
     "output_type": "stream",
     "text": [
      "\u001b[32mProgress: 100%|█████████████████████████████████████████| Time: 1:02:22\u001b[39m\n"
     ]
    }
   ],
   "source": [
    "let\n",
    "    rngs_use = Dict()\n",
    "    for dataset in datasets_neuropal\n",
    "        if dataset in datasets_neuropal_stim\n",
    "            rngs_use[dataset] = [1,2]\n",
    "        else\n",
    "            rngs_use[dataset] = []\n",
    "        end\n",
    "    end\n",
    "\n",
    "    suffix = \"stimonly\"\n",
    "    datasets_use = datasets_neuropal_stim\n",
    "    analysis_dict[\"hierarchical_model_params_$suffix\"] = Dict()\n",
    "    analysis_dict[\"hierarchical_model_fits_$suffix\"] = Dict()\n",
    "    analysis_dict[\"hierarchical_datasets_$suffix\"] = Dict()\n",
    "    @showprogress for neuron = keys(analysis_dict[\"matches\"])\n",
    "        analysis_dict[\"hierarchical_datasets_$suffix\"][neuron] = get_datasets(fit_results, analysis_dict[\"matches\"][neuron], datasets_use=datasets_use, rngs_use=rngs_use)\n",
    "        if length(analysis_dict[\"hierarchical_datasets_$suffix\"][neuron]) > 1\n",
    "            Ps = get_Ps(fit_results, analysis_dict[\"matches\"][neuron], θh_pos_is_ventral, datasets_use=datasets_use, rngs_use=rngs_use)\n",
    "            params_init = initialize_params(Ps)\n",
    "            analysis_dict[\"hierarchical_model_params_$suffix\"][neuron], analysis_dict[\"hierarchical_model_fits_$suffix\"][neuron] = optimize_MAP(Ps, params_init)\n",
    "        end\n",
    "    end\n",
    "end"
   ]
  },
  {
   "cell_type": "code",
   "execution_count": 60,
   "id": "37503e8b",
   "metadata": {},
   "outputs": [
    {
     "name": "stderr",
     "output_type": "stream",
     "text": [
      "\u001b[32mProgress: 100%|█████████████████████████████████████████| Time: 0:56:40\u001b[39m\n"
     ]
    }
   ],
   "source": [
    "let\n",
    "    rngs_use = Dict()\n",
    "    for dataset in datasets_neuropal\n",
    "        if dataset in datasets_neuropal_1600\n",
    "            rngs_use[dataset] = [1,2]\n",
    "        elseif dataset in datasets_neuropal_baseline\n",
    "            rngs_use[dataset] = [1]\n",
    "        else\n",
    "            rngs_use[dataset] = []\n",
    "        end\n",
    "    end\n",
    "\n",
    "    suffix = \"baselineonly\"\n",
    "    datasets_use = datasets_neuropal_1600\n",
    "    analysis_dict[\"hierarchical_model_params_$suffix\"] = Dict()\n",
    "    analysis_dict[\"hierarchical_model_fits_$suffix\"] = Dict()\n",
    "    analysis_dict[\"hierarchical_datasets_$suffix\"] = Dict()\n",
    "    @showprogress for neuron = keys(analysis_dict[\"matches\"])\n",
    "        analysis_dict[\"hierarchical_datasets_$suffix\"][neuron] = get_datasets(fit_results, analysis_dict[\"matches\"][neuron], datasets_use=datasets_use, rngs_use=rngs_use)\n",
    "        if length(analysis_dict[\"hierarchical_datasets_$suffix\"][neuron]) > 1\n",
    "            Ps = get_Ps(fit_results, analysis_dict[\"matches\"][neuron], θh_pos_is_ventral, datasets_use=datasets_use, rngs_use=rngs_use)\n",
    "            params_init = initialize_params(Ps)\n",
    "            analysis_dict[\"hierarchical_model_params_$suffix\"][neuron], analysis_dict[\"hierarchical_model_fits_$suffix\"][neuron] = optimize_MAP(Ps, params_init)\n",
    "        end\n",
    "    end\n",
    "end"
   ]
  },
  {
   "cell_type": "code",
   "execution_count": 63,
   "id": "a1de5ac9",
   "metadata": {},
   "outputs": [
    {
     "name": "stderr",
     "output_type": "stream",
     "text": [
      "\u001b[32mProgress: 100%|█████████████████████████████████████████| Time: 6:48:26\u001b[39m\n"
     ]
    }
   ],
   "source": [
    "let\n",
    "    rngs_use = Dict()\n",
    "    for dataset in datasets_neuropal\n",
    "        if dataset in datasets_neuropal_800\n",
    "            rngs_use[dataset] = [1]\n",
    "        else\n",
    "            rngs_use[dataset] = [1,2]\n",
    "        end\n",
    "    end\n",
    "\n",
    "    suffix = \"all\"\n",
    "    datasets_use = [d for d in datasets_neuropal if !(d in datasets_neuropal_800)]\n",
    "    analysis_dict[\"hierarchical_model_params_$suffix\"] = Dict()\n",
    "    analysis_dict[\"hierarchical_model_fits_$suffix\"] = Dict()\n",
    "    analysis_dict[\"hierarchical_datasets_$suffix\"] = Dict()\n",
    "    @showprogress for neuron = keys(analysis_dict[\"matches\"])\n",
    "        analysis_dict[\"hierarchical_datasets_$suffix\"][neuron] = get_datasets(fit_results, analysis_dict[\"matches\"][neuron], datasets_use=datasets_use, rngs_use=rngs_use)\n",
    "        if length(analysis_dict[\"hierarchical_datasets_$suffix\"][neuron]) > 1\n",
    "            Ps = get_Ps(fit_results, analysis_dict[\"matches\"][neuron], θh_pos_is_ventral, datasets_use=datasets_use, rngs_use=rngs_use)\n",
    "            params_init = initialize_params(Ps)\n",
    "            analysis_dict[\"hierarchical_model_params_$suffix\"][neuron], analysis_dict[\"hierarchical_model_fits_$suffix\"][neuron] = optimize_MAP(Ps, params_init)\n",
    "        end\n",
    "    end\n",
    "end"
   ]
  },
  {
   "cell_type": "code",
   "execution_count": 61,
   "id": "039a0633",
   "metadata": {},
   "outputs": [
    {
     "name": "stderr",
     "output_type": "stream",
     "text": [
      "\u001b[32mProgress:  16%|██████▊                                  |  ETA: 0:02:29\u001b[39m"
     ]
    },
    {
     "name": "stderr",
     "output_type": "stream",
     "text": [
      "\u001b[32mProgress: 100%|█████████████████████████████████████████| Time: 0:08:16\u001b[39m\n"
     ]
    }
   ],
   "source": [
    "let\n",
    "    rngs_use = Dict()\n",
    "    for dataset in datasets_neuropal\n",
    "        if dataset in datasets_neuropal_stim\n",
    "            rngs_use[dataset] = [2]\n",
    "        else\n",
    "            rngs_use[dataset] = []\n",
    "        end\n",
    "    end\n",
    "\n",
    "    suffix = \"stim2\"\n",
    "    datasets_use = datasets_neuropal_stim\n",
    "    analysis_dict[\"hierarchical_model_params_$suffix\"] = Dict()\n",
    "    analysis_dict[\"hierarchical_model_fits_$suffix\"] = Dict()\n",
    "    analysis_dict[\"hierarchical_datasets_$suffix\"] = Dict()\n",
    "    @showprogress for neuron = keys(analysis_dict[\"matches\"])\n",
    "        analysis_dict[\"hierarchical_datasets_$suffix\"][neuron] = get_datasets(fit_results, analysis_dict[\"matches\"][neuron], datasets_use=datasets_use, rngs_use=rngs_use)\n",
    "        if length(analysis_dict[\"hierarchical_datasets_$suffix\"][neuron]) > 1\n",
    "            Ps = get_Ps(fit_results, analysis_dict[\"matches\"][neuron], θh_pos_is_ventral, datasets_use=datasets_use, rngs_use=rngs_use)\n",
    "            params_init = initialize_params(Ps)\n",
    "            analysis_dict[\"hierarchical_model_params_$suffix\"][neuron], analysis_dict[\"hierarchical_model_fits_$suffix\"][neuron] = optimize_MAP(Ps, params_init)\n",
    "        end\n",
    "    end\n",
    "end"
   ]
  },
  {
   "attachments": {},
   "cell_type": "markdown",
   "id": "071fe895",
   "metadata": {},
   "source": [
    "### Check if the model fits converged"
   ]
  },
  {
   "attachments": {},
   "cell_type": "markdown",
   "id": "ea0bbf23",
   "metadata": {},
   "source": [
    "It doesn't necessarily mean that the model failed if it didn't converge, but it should be double-checked.\n",
    "The main situation where the model fit won't converge is if the neuron's variability is extremely low, which can cause gradients to be very large. However, as long as the model parameters don't change much between iterations, it should be fine to use."
   ]
  },
  {
   "cell_type": "code",
   "execution_count": 62,
   "id": "89229b3c",
   "metadata": {},
   "outputs": [],
   "source": [
    "converged = String[]\n",
    "failed_to_converge = String[]\n",
    "time_run = Dict()\n",
    "for neuron in keys(analysis_dict[\"hierarchical_model_fits\"])\n",
    "    if Optim.converged(analysis_dict[\"hierarchical_model_fits\"][neuron])\n",
    "        push!(converged, neuron)\n",
    "    else\n",
    "        push!(failed_to_converge, neuron)\n",
    "    end\n",
    "    time_run[neuron] = analysis_dict[\"hierarchical_model_fits\"][neuron].time_run\n",
    "end"
   ]
  },
  {
   "attachments": {},
   "cell_type": "markdown",
   "id": "8bc03385",
   "metadata": {},
   "source": [
    "## Compute neuron variability"
   ]
  },
  {
   "cell_type": "markdown",
   "id": "5110acbb",
   "metadata": {},
   "source": [
    "This section computes the variability index for each neuron class, which is a measure of how much the neuron's encoding properties vary across datasets. It also computes intra-dataset variability, which describes how much the neuron varies across time within an animal, and inter-dataset variability, which describes how much the neuron varies across animals."
   ]
  },
  {
   "cell_type": "code",
   "execution_count": 12,
   "id": "cd9605a6",
   "metadata": {},
   "outputs": [
    {
     "name": "stderr",
     "output_type": "stream",
     "text": [
      "\u001b[33m\u001b[1m┌ \u001b[22m\u001b[39m\u001b[33m\u001b[1mWarning: \u001b[22m\u001b[39mCannot have more than 2 detections of the same neuron SIAV in a dataset 2023-01-06-08\n",
      "\u001b[33m\u001b[1m└ \u001b[22m\u001b[39m\u001b[90m@ HierarchicalPosteriorModel ~/.julia/packages/HierarchicalPosteriorModel/ZocIU/src/variability.jl:165\u001b[39m\n",
      "\u001b[33m\u001b[1m┌ \u001b[22m\u001b[39m\u001b[33m\u001b[1mWarning: \u001b[22m\u001b[39mCannot have more than 2 detections of the same neuron SIAV in a dataset 2023-01-06-08\n",
      "\u001b[33m\u001b[1m└ \u001b[22m\u001b[39m\u001b[90m@ HierarchicalPosteriorModel ~/.julia/packages/HierarchicalPosteriorModel/ZocIU/src/variability.jl:165\u001b[39m\n",
      "\u001b[33m\u001b[1m┌ \u001b[22m\u001b[39m\u001b[33m\u001b[1mWarning: \u001b[22m\u001b[39mCannot have more than 2 detections of the same neuron SIAV in a dataset 2023-01-06-08\n",
      "\u001b[33m\u001b[1m└ \u001b[22m\u001b[39m\u001b[90m@ HierarchicalPosteriorModel ~/.julia/packages/HierarchicalPosteriorModel/ZocIU/src/variability.jl:165\u001b[39m\n",
      "\u001b[33m\u001b[1m┌ \u001b[22m\u001b[39m\u001b[33m\u001b[1mWarning: \u001b[22m\u001b[39mCannot have more than 2 detections of the same neuron SIAV in a dataset 2023-01-06-08\n",
      "\u001b[33m\u001b[1m└ \u001b[22m\u001b[39m\u001b[90m@ HierarchicalPosteriorModel ~/.julia/packages/HierarchicalPosteriorModel/ZocIU/src/variability.jl:165\u001b[39m\n"
     ]
    }
   ],
   "source": [
    "for key = [\"\", \"_stimonly\", \"_all\", \"_baselineonly\", \"_stim2\"]\n",
    "    analysis_dict[\"variability$(key)\"] = Dict()\n",
    "    analysis_dict[\"inter_variability$(key)\"] = Dict()\n",
    "    analysis_dict[\"intra_variability$(key)\"] = Dict()\n",
    "    analysis_dict[\"intra_variability$(key)_n\"] = Dict()\n",
    "    analysis_dict[\"LR_variability$(key)\"] = Dict()\n",
    "    for neuron in keys(analysis_dict[\"hierarchical_model_params$(key)\"])\n",
    "        analysis_dict[\"variability$(key)\"][neuron] = get_variability(analysis_dict[\"hierarchical_model_params$(key)\"][neuron].sigma)\n",
    "        inter, intra, LR, inter_, intra_, LR_ = get_variability_subtypes(analysis_dict[\"hierarchical_datasets$(key)\"][neuron], analysis_dict[\"hierarchical_model_params$(key)\"][neuron]; neuron=neuron)\n",
    "        analysis_dict[\"inter_variability$(key)\"][neuron] = inter\n",
    "        analysis_dict[\"intra_variability$(key)\"][neuron] = intra\n",
    "        analysis_dict[\"LR_variability$(key)\"][neuron] = LR\n",
    "        analysis_dict[\"intra_variability$(key)_n\"][neuron] = length(intra_)\n",
    "    end \n",
    "end\n"
   ]
  },
  {
   "cell_type": "code",
   "execution_count": 13,
   "id": "f887b6e4",
   "metadata": {},
   "outputs": [],
   "source": [
    "for key = [\"_individual\"]\n",
    "    analysis_dict[\"variability$(key)\"] = Dict()\n",
    "    analysis_dict[\"inter_variability$(key)\"] = Dict()\n",
    "    analysis_dict[\"intra_variability$(key)\"] = Dict()\n",
    "    analysis_dict[\"intra_variability$(key)_n\"] = Dict()\n",
    "    analysis_dict[\"LR_variability$(key)\"] = Dict()\n",
    "    for neuron in keys(analysis_dict[\"hierarchical_model_params$(key)\"])\n",
    "        analysis_dict[\"variability$(key)\"][neuron] = Dict()\n",
    "        for k in keys(analysis_dict[\"hierarchical_model_params$(key)\"][neuron])\n",
    "            analysis_dict[\"variability$(key)\"][neuron][k] = get_variability(analysis_dict[\"hierarchical_model_params$(key)\"][neuron][k].sigma)\n",
    "        end\n",
    "    end \n",
    "end\n"
   ]
  },
  {
   "cell_type": "code",
   "execution_count": 14,
   "id": "776cb1ee",
   "metadata": {},
   "outputs": [
    {
     "name": "stdout",
     "output_type": "stream",
     "text": [
      "IL2D: overall 0.0, inter 0.0, intra 0.0, LR 0.0, unique fits 97\n",
      "MC: overall 0.0, inter 0.0, intra 0.276, LR 0.057, unique fits 62\n",
      "I4: overall 0.003, inter 0.0, intra 0.0, LR NaN, unique fits 11\n",
      "I5: overall 0.02, inter 0.001, intra 0.18, LR NaN, unique fits 7\n",
      "SMBD: overall 0.278, inter 0.372, intra 0.246, LR 0.383, unique fits 34\n",
      "IL1R: overall 0.29, inter 0.399, intra 0.333, LR NaN, unique fits 50\n",
      "RIB: overall 0.346, inter 0.366, intra 0.312, LR 0.292, unique fits 31\n",
      "RID: overall 0.349, inter 0.386, intra 0.328, LR NaN, unique fits 51\n",
      "RIM: overall 0.357, inter 0.372, intra 0.38, LR 0.254, unique fits 37\n",
      "AVB: overall 0.362, inter 0.329, intra 0.383, LR NaN, unique fits 16\n",
      "AVH: overall 0.383, inter 0.452, intra 0.401, LR NaN, unique fits 30\n",
      "NSM: overall 0.431, inter 0.429, intra 0.481, LR 0.365, unique fits 112\n",
      "M3: overall 0.437, inter 0.563, intra 0.515, LR 0.365, unique fits 117\n",
      "SIAV: overall 0.443, inter 0.602, intra 0.418, LR NaN, unique fits 13\n",
      "AVA: overall 0.472, inter 0.452, intra 0.414, LR 0.303, unique fits 101\n",
      "VB02: overall 0.493, inter 0.687, intra 0.541, LR NaN, unique fits 27\n",
      "ASG: overall 0.57, inter 0.654, intra 0.424, LR 0.206, unique fits 84\n",
      "AQR: overall 0.577, inter 0.786, intra 0.588, LR NaN, unique fits 27\n",
      "I6: overall 0.614, inter 0.903, intra 0.401, LR NaN, unique fits 16\n",
      "AWA: overall 0.614, inter 0.682, intra 0.591, LR 0.513, unique fits 75\n",
      "ASH: overall 0.618, inter 0.819, intra 0.424, LR 0.428, unique fits 41\n",
      "ASK: overall 0.63, inter 0.758, intra 0.681, LR 0.588, unique fits 10\n",
      "I2: overall 0.635, inter 0.773, intra 0.722, LR 0.456, unique fits 107\n",
      "SMDV: overall 0.639, inter 0.667, intra 0.492, LR 0.498, unique fits 95\n",
      "RMG: overall 0.641, inter 0.872, intra 0.622, LR NaN, unique fits 37\n",
      "I3: overall 0.642, inter 0.78, intra 0.734, LR NaN, unique fits 59\n",
      "URAD: overall 0.642, inter 0.873, intra 0.699, LR 0.449, unique fits 41\n",
      "SAAV: overall 0.644, inter 0.827, intra 0.435, LR 0.54, unique fits 49\n",
      "AIB: overall 0.653, inter 0.693, intra 0.582, LR 0.307, unique fits 109\n",
      "AVE: overall 0.656, inter 0.654, intra 0.514, LR 0.32, unique fits 99\n",
      "RIV: overall 0.672, inter 0.604, intra 0.584, LR 0.527, unique fits 98\n",
      "ALA: overall 0.677, inter 0.864, intra 0.697, LR NaN, unique fits 8\n",
      "ADE: overall 0.69, inter 0.904, intra 0.565, LR 0.712, unique fits 75\n",
      "IL2R: overall 0.704, inter 0.836, intra 0.725, LR NaN, unique fits 37\n",
      "I1: overall 0.727, inter 0.88, intra 0.648, LR 0.412, unique fits 97\n",
      "MI: overall 0.742, inter 0.892, intra 0.645, LR NaN, unique fits 48\n",
      "RMED: overall 0.769, inter 0.705, intra 0.734, LR NaN, unique fits 21\n",
      "AVD: overall 0.773, inter 0.854, intra 0.804, LR 0.735, unique fits 95\n",
      "URAV: overall 0.786, inter 0.907, intra 0.813, LR 0.783, unique fits 31\n",
      "ASER: overall 0.822, inter 1.018, intra 0.76, LR NaN, unique fits 30\n",
      "ADA: overall 0.825, inter 0.979, intra 0.881, LR 0.83, unique fits 56\n",
      "AWB: overall 0.837, inter 0.939, intra 0.743, LR 0.767, unique fits 79\n",
      "IL2V: overall 0.844, inter 0.926, intra 0.859, LR 0.658, unique fits 93\n",
      "FLP: overall 0.845, inter 1.024, intra 0.808, LR 0.756, unique fits 72\n",
      "ASJ: overall 0.86, inter 1.025, intra NaN, LR NaN, unique fits 4\n",
      "ASEL: overall 0.893, inter 1.065, intra 0.754, LR NaN, unique fits 49\n",
      "M1: overall 0.894, inter 1.135, intra 0.809, LR NaN, unique fits 27\n",
      "AIN: overall 0.899, inter 1.081, intra 0.706, LR 0.734, unique fits 65\n",
      "AIM: overall 0.986, inter 1.03, intra 0.686, LR 1.045, unique fits 68\n",
      "M5: overall 1.018, inter 1.213, intra 0.751, LR NaN, unique fits 33\n",
      "SIAD: overall 1.028, inter 1.188, intra 1.157, LR NaN, unique fits 9\n",
      "AUA: overall 1.116, inter 1.241, intra 0.934, LR 1.019, unique fits 74\n",
      "RIF: overall 1.119, inter NaN, intra NaN, LR NaN, unique fits 4\n",
      "CEPD: overall 1.14, inter 0.989, intra 0.758, LR 0.976, unique fits 110\n",
      "BAG: overall 1.149, inter 1.177, intra 0.887, LR 0.514, unique fits 38\n",
      "M4: overall 1.206, inter 1.437, intra 1.01, LR NaN, unique fits 46\n",
      "AIA: overall 1.211, inter 1.31, intra 0.58, LR 1.364, unique fits 18\n",
      "URYV: overall 1.216, inter 1.227, intra 0.834, LR 1.017, unique fits 101\n",
      "SMBV: overall 1.236, inter 1.38, intra 0.695, LR 1.296, unique fits 38\n",
      "AWC: overall 1.285, inter 1.313, intra 1.036, LR 1.228, unique fits 79\n",
      "ADL: overall 1.3, inter 1.372, intra 0.853, LR 0.855, unique fits 39\n",
      "RMEV: overall 1.308, inter 1.517, intra 0.844, LR NaN, unique fits 34\n",
      "ASI: overall 1.316, inter 1.325, intra 1.349, LR 0.658, unique fits 23\n",
      "RIC: overall 1.331, inter 1.397, intra 1.153, LR 0.784, unique fits 86\n",
      "IL2L: overall 1.347, inter 1.595, intra 1.028, LR NaN, unique fits 42\n",
      "AIY: overall 1.347, inter 1.454, intra 1.011, LR 0.975, unique fits 71\n",
      "RMF: overall 1.458, inter 1.814, intra 0.915, LR 0.996, unique fits 30\n",
      "RIA: overall 1.481, inter 1.724, intra 1.17, LR 1.131, unique fits 62\n",
      "URYD: overall 1.492, inter 1.612, intra 0.988, LR 1.035, unique fits 78\n",
      "IL1L: overall 1.518, inter 1.668, intra 1.039, LR NaN, unique fits 52\n",
      "SAADL: overall 1.519, inter 1.801, intra 1.184, LR NaN, unique fits 13\n",
      "RME: overall 1.525, inter 1.168, intra 1.095, LR 1.287, unique fits 112\n",
      "AIZ: overall 1.535, inter 1.552, intra 1.214, LR 1.332, unique fits 91\n",
      "RIS: overall 1.612, inter 1.883, intra 0.975, LR NaN, unique fits 15\n",
      "AVJ: overall 1.633, inter 1.577, intra 1.194, LR 1.132, unique fits 101\n",
      "SMDD: overall 1.637, inter 1.617, intra 1.047, LR 1.288, unique fits 62\n",
      "RMD: overall 1.664, inter 1.691, intra 1.039, LR 1.273, unique fits 94\n",
      "SIBV: overall 1.723, inter 1.329, intra 1.376, LR 1.745, unique fits 14\n",
      "IL1V: overall 1.728, inter 1.61, intra 1.43, LR 1.234, unique fits 75\n",
      "SIBD: overall 1.731, inter 2.053, intra 1.364, LR NaN, unique fits 6\n",
      "AVL: overall 1.779, inter 1.894, intra 1.045, LR NaN, unique fits 32\n",
      "RMDV: overall 1.787, inter 1.73, intra 1.145, LR 1.33, unique fits 102\n",
      "RIR: overall 1.842, inter 2.217, intra 0.986, LR NaN, unique fits 10\n",
      "SAADR: overall 1.861, inter 2.016, intra 1.364, LR NaN, unique fits 16\n",
      "URB: overall 1.993, inter 1.737, intra 1.385, LR 1.581, unique fits 89\n",
      "URX: overall 2.004, inter 1.683, intra 1.389, LR 1.432, unique fits 104\n",
      "RMDD: overall 2.02, inter 1.731, intra 1.64, LR 1.642, unique fits 101\n",
      "CEPV: overall 2.031, inter 2.057, intra 1.048, LR 1.327, unique fits 96\n",
      "RIH: overall 2.055, inter 2.44, intra 0.931, LR NaN, unique fits 36\n",
      "IL1D: overall 2.07, inter 2.044, intra 1.339, LR 1.258, unique fits 99\n",
      "AVK: overall 2.195, inter 2.225, intra 1.555, LR 1.378, unique fits 27\n",
      "OLL: overall 2.516, inter 2.418, intra 1.262, LR 1.244, unique fits 103\n",
      "OLQV: overall 2.581, inter 2.378, intra 1.239, LR 1.479, unique fits 98\n",
      "OLQD: overall 2.595, inter 2.151, intra 1.759, LR 1.617, unique fits 115\n"
     ]
    }
   ],
   "source": [
    "let\n",
    "    variability = analysis_dict[\"variability\"]\n",
    "    intra_variability = analysis_dict[\"intra_variability\"]\n",
    "    inter_variability = analysis_dict[\"inter_variability\"]\n",
    "    LR_variability = analysis_dict[\"LR_variability\"]\n",
    "    sorted_variability = sort(collect(keys(variability)), by=x->variability[x])\n",
    "    for neuron in sorted_variability\n",
    "        println(\"$(neuron): overall $(round(variability[neuron], digits=3)), inter $(round(inter_variability[neuron], digits=3)), intra $(round(intra_variability[neuron], digits=3)), LR $(round(LR_variability[neuron], digits=3)), unique fits $(length(analysis_dict[\"hierarchical_model_params\"][neuron].x))\")\n",
    "    end\n",
    "end"
   ]
  },
  {
   "attachments": {},
   "cell_type": "markdown",
   "id": "85b5dc4d",
   "metadata": {},
   "source": [
    "## Compute neuron mean encoding properties and tunings"
   ]
  },
  {
   "cell_type": "markdown",
   "id": "18bacc9c",
   "metadata": {},
   "source": [
    "The hierarchical model can be used to compute more accurate estimates of the mean encoding properties and tunings of each neuron class."
   ]
  },
  {
   "cell_type": "code",
   "execution_count": 19,
   "id": "02ce775a",
   "metadata": {},
   "outputs": [],
   "source": [
    "analysis_dict[\"hierarchical_relative_encoding_strength\"] = Dict()\n",
    "for neuron in keys(analysis_dict[\"hierarchical_model_params\"])\n",
    "    params = analysis_dict[\"hierarchical_model_params\"][neuron]\n",
    "    dsets = analysis_dict[\"hierarchical_datasets\"][neuron]\n",
    "    analysis_dict[\"hierarchical_relative_encoding_strength\"][neuron] = get_relative_encoding_strength!(compute_cartesian_average(params), convert_hbdatasets_to_behs(fit_results, dsets, θh_pos_is_ventral)...)\n",
    "end"
   ]
  },
  {
   "cell_type": "code",
   "execution_count": 21,
   "id": "d2bd637a",
   "metadata": {},
   "outputs": [
    {
     "name": "stderr",
     "output_type": "stream",
     "text": [
      "\u001b[32mProgress: 100%|█████████████████████████████████████████| Time: 0:00:04\u001b[39m\n"
     ]
    }
   ],
   "source": [
    "analysis_dict[\"hierarchical_tunings\"] = Dict()\n",
    "analysis_dict[\"hierarchical_tunings_zstd\"] = Dict()\n",
    "\n",
    "@showprogress for neuron = keys(analysis_dict[\"hierarchical_model_params\"])\n",
    "    v, θh, P = convert_hbdatasets_to_behs(fit_results, analysis_dict[\"hierarchical_datasets\"][neuron], θh_pos_is_ventral)\n",
    "    v_range = compute_range(v, 25, 1)\n",
    "    θh_range = compute_range(θh, 25, 2)\n",
    "    P_range = compute_range(P, 25, 3)\n",
    "    θh_is_ventral = true\n",
    "    relative_encoding_strength = analysis_dict[\"hierarchical_relative_encoding_strength\"][neuron]\n",
    "    sampled_trace_params = zeros(1,8)\n",
    "\n",
    "    params = analysis_dict[\"hierarchical_model_params\"][neuron]\n",
    "    dsets = analysis_dict[\"hierarchical_datasets\"][neuron]\n",
    "    sampled_trace_params[1,:] .= compute_cartesian_average(params)\n",
    "    neuron_deconv = get_deconvolved_activity(sampled_trace_params, v_range, θh_range, P_range)\n",
    "\n",
    "    # println(neuron_deconv)\n",
    "    signal = mean(analysis_dict[\"signal_neuropal\"][neuron])\n",
    "\n",
    "    analysis_dict[\"hierarchical_tunings\"][neuron] = calculate_tuning_strength_per_neuron(neuron_deconv, relative_encoding_strength, signal, v_range, θh_range, P_range, θh_is_ventral)\n",
    "    analysis_dict[\"hierarchical_tunings_zstd\"][neuron] = calculate_tuning_strength_per_neuron(neuron_deconv, relative_encoding_strength, 1.0, v_range, θh_range, P_range, θh_is_ventral)\n",
    "end"
   ]
  },
  {
   "cell_type": "code",
   "execution_count": 18,
   "id": "49a58200",
   "metadata": {},
   "outputs": [],
   "source": [
    "JLD2.@save(path_analysis_dict, analysis_dict); "
   ]
  },
  {
   "attachments": {},
   "cell_type": "markdown",
   "id": "c0af7c5a",
   "metadata": {},
   "source": [
    "# Heat stimulus analysis"
   ]
  },
  {
   "cell_type": "markdown",
   "id": "65a23aff",
   "metadata": {},
   "source": [
    "## Find state neuron candidates"
   ]
  },
  {
   "cell_type": "code",
   "execution_count": 12,
   "id": "a2ddaaf4",
   "metadata": {},
   "outputs": [
    {
     "name": "stderr",
     "output_type": "stream",
     "text": [
      "\u001b[32mProgress:  33%|█████████████▋                           |  ETA: 0:00:52\u001b[39m\u001b[33m\u001b[1m┌ \u001b[22m\u001b[39m\u001b[33m\u001b[1mWarning: \u001b[22m\u001b[39mDataset 2022-04-18-04, neuron 50: ErrorException(\"step-halving failed at beta0 = [-0.9176698908866996, 2.5554970334528133]\")\n",
      "\u001b[33m\u001b[1m└ \u001b[22m\u001b[39m\u001b[90m@ CePNEMAnalysis ~/.julia/packages/CePNEMAnalysis/H1QOO/src/state.jl:143\u001b[39m\n",
      "\u001b[32mProgress:  50%|████████████████████▌                    |  ETA: 0:00:34\u001b[39m\u001b[33m\u001b[1m┌ \u001b[22m\u001b[39m\u001b[33m\u001b[1mWarning: \u001b[22m\u001b[39mDataset 2023-01-06-08, neuron 109: ErrorException(\"step-halving failed at beta0 = [1.6160732218395903, 4.001098278091926]\")\n",
      "\u001b[33m\u001b[1m└ \u001b[22m\u001b[39m\u001b[90m@ CePNEMAnalysis ~/.julia/packages/CePNEMAnalysis/H1QOO/src/state.jl:143\u001b[39m\n",
      "\u001b[32mProgress:  60%|████████████████████████▋                |  ETA: 0:00:26\u001b[39m\u001b[33m\u001b[1m┌ \u001b[22m\u001b[39m\u001b[33m\u001b[1mWarning: \u001b[22m\u001b[39mDataset 2023-01-09-15, neuron 123: ErrorException(\"step-halving failed at beta0 = [1.9382146409381995, 4.796460498570374]\")\n",
      "\u001b[33m\u001b[1m└ \u001b[22m\u001b[39m\u001b[90m@ CePNEMAnalysis ~/.julia/packages/CePNEMAnalysis/H1QOO/src/state.jl:143\u001b[39m\n",
      "\u001b[32mProgress:  73%|██████████████████████████████▏          |  ETA: 0:00:16\u001b[39m\u001b[33m\u001b[1m┌ \u001b[22m\u001b[39m\u001b[33m\u001b[1mWarning: \u001b[22m\u001b[39mDataset 2023-01-13-07, neuron 41: ErrorException(\"step-halving failed at beta0 = [0.19151560831947773, 5.683409406525767]\")\n",
      "\u001b[33m\u001b[1m└ \u001b[22m\u001b[39m\u001b[90m@ CePNEMAnalysis ~/.julia/packages/CePNEMAnalysis/H1QOO/src/state.jl:130\u001b[39m\n",
      "\u001b[32mProgress: 100%|█████████████████████████████████████████| Time: 0:00:56\u001b[39m\n"
     ]
    }
   ],
   "source": [
    "analysis_dict[\"state_neuron_candidates_findall\"] = compute_state_neuron_candidates(analysis_dict, fit_results, datasets_stim_all, \"findall\", stim_times);"
   ]
  },
  {
   "attachments": {},
   "cell_type": "markdown",
   "id": "24414fa7",
   "metadata": {},
   "source": [
    "## Feeding encoding change analysis"
   ]
  },
  {
   "cell_type": "markdown",
   "id": "35e41577",
   "metadata": {},
   "source": [
    "This analysis aims to find feeding-related encoding changes. Such encoding changes can't be detected with the CePNEM model because the feeding parameter can't be constrained on post-stimulus data (when the worm doesn't pump). Thus, we instead look for those encoding changes by training decoder models on the baseline data, and evaluate whether there is a performance degradation between the pre-stim and post-stim data."
   ]
  },
  {
   "cell_type": "code",
   "execution_count": 14,
   "id": "ee767ea6",
   "metadata": {},
   "outputs": [
    {
     "name": "stderr",
     "output_type": "stream",
     "text": [
      "\u001b[32mProgress: 100%|█████████████████████████████████████████| Time: 0:00:03\u001b[39m\n"
     ]
    }
   ],
   "source": [
    "analysis_dict[\"pumping_degradation\"] = compute_feeding_encoding_changes(analysis_dict, fit_results, datasets_neuropal_baseline, datasets_neuropal_stim, stim_times);"
   ]
  },
  {
   "cell_type": "code",
   "execution_count": 15,
   "id": "41a162c3",
   "metadata": {},
   "outputs": [
    {
     "name": "stdout",
     "output_type": "stream",
     "text": [
      "Neurons to be considered: [\"AIN\", \"AQR\", \"I2\", \"I3\", \"I6\", \"IL2L\", \"M1\", \"M3\", \"M4\", \"M5\", \"MC\", \"MI\", \"RIH\", \"RIR\", \"RMG\", \"SIBV\"]\n",
      "AIN, p = 0.00723, training MSE diff = 0.021\n",
      "M3, p = 2.0e-5, training MSE diff = 0.067\n",
      "MC, p = 0.00171, training MSE diff = 0.078\n",
      "M4, p = 0.01172, training MSE diff = 0.011\n"
     ]
    }
   ],
   "source": [
    "let\n",
    "    min_n = 3 # minimum number of detections (in both baseline and heat-stim) to consider neuron for analysis\n",
    "    thresh = 0.0075 # minimum performance (MSE of model - null model) on training data to consider neuron for analysis\n",
    "    verbose = false # set to `true` to print details for all neurons being considered in the analysis\n",
    "\n",
    "    dict_use = analysis_dict[\"pumping_degradation\"]\n",
    "    \n",
    "    neuron_test_list = [n for n in keys(dict_use[\"p_val\"]) if length([d for d in analysis_dict[\"matches\"][n] if d[1] in datasets_neuropal_baseline]) >= min_n &&\n",
    "        length(dict_use[\"mse_prestim\"][n]) >= min_n && dict_use[\"mse_train_null\"][n] - dict_use[\"mse_train\"][n] >= thresh]\n",
    "\n",
    "    println(\"Neurons to be considered: $(sort(neuron_test_list))\")\n",
    "\n",
    "    p_value_list = [min(1.0, dict_use[\"p_val\"][n]) for n in neuron_test_list]\n",
    "\n",
    "    if verbose\n",
    "        for (i, neuron) in enumerate(neuron_test_list)\n",
    "            train_mse_diff = dict_use[\"mse_train_null\"][neuron] - dict_use[\"mse_train\"][neuron]\n",
    "            prestim_mse_diff = mean(dict_use[\"mse_prestim_null\"][neuron]) - mean(dict_use[\"mse_prestim\"][neuron])\n",
    "            poststim_mse_diff = mean(dict_use[\"mse_poststim_null\"][neuron]) - mean(dict_use[\"mse_poststim\"][neuron])\n",
    "            frac_prestim_better = sum(dict_use[\"mse_poststim_null\"][neuron] .- dict_use[\"mse_poststim\"][neuron] .< dict_use[\"mse_prestim_null\"][neuron] .- dict_use[\"mse_prestim\"][neuron]) / length(dict_use[\"mse_prestim_null\"][neuron])\n",
    "            println(neuron, \", training MSE diff = \", round(train_mse_diff, digits=3), \", prestim MSE diff = \", round(prestim_mse_diff, digits=3), \", poststim MSE diff = \", round(poststim_mse_diff, digits=3), \", diff = \", round(poststim_mse_diff - prestim_mse_diff, digits=3), \", prestim better frac = \", round(frac_prestim_better, digits=3), \", p = \", p_value_list[i])\n",
    "        end\n",
    "    end\n",
    "\n",
    "    mh_corrected = adjust(p_value_list, BenjaminiHochberg()) # multiple-hypothesis correct p-values over set of neurons being considered\n",
    "\n",
    "    p_thresh = 0.05 # threshold to display neurons as significant\n",
    "    significant_neurons = neuron_test_list[mh_corrected .< p_thresh]\n",
    "\n",
    "    for (i, neuron) in enumerate(significant_neurons)\n",
    "        println(neuron, \", p = \", round(mh_corrected[mh_corrected .< p_thresh][i], digits=5), \", training MSE diff = \", round(dict_use[\"mse_train_null\"][neuron] - dict_use[\"mse_train\"][neuron], digits=3))\n",
    "    end\n",
    "end"
   ]
  },
  {
   "attachments": {},
   "cell_type": "markdown",
   "id": "38d4ae34",
   "metadata": {},
   "source": [
    "# Save your data"
   ]
  },
  {
   "cell_type": "code",
   "execution_count": 16,
   "id": "d1a9e090",
   "metadata": {},
   "outputs": [],
   "source": [
    "JLD2.@save(path_analysis_dict, analysis_dict); "
   ]
  },
  {
   "cell_type": "markdown",
   "id": "9838aa64",
   "metadata": {},
   "source": [
    "This code saves the full `fit_results` to a JLD2 file to make it easier to load the CePNEM fit results.\n",
    "\n",
    "**DO NOT RUN THIS CODE IF YOU HAVE A LITE VERSION OF `fit_results` LOADED.**"
   ]
  },
  {
   "cell_type": "code",
   "execution_count": 57,
   "id": "a8dfe64e",
   "metadata": {},
   "outputs": [],
   "source": [
    "# JLD2.@save(path_fit_results, fit_results);"
   ]
  },
  {
   "cell_type": "markdown",
   "id": "63db79f7",
   "metadata": {},
   "source": [
    "### Create version of `fit_results` lacking posterior information\n",
    "\n",
    "This version will be much smaller and faster to load for tasks that do not require access to the posterior distributions."
   ]
  },
  {
   "cell_type": "code",
   "execution_count": 8,
   "id": "66aa2c3b",
   "metadata": {},
   "outputs": [],
   "source": [
    "let\n",
    "    fit_results_lite = Dict()\n",
    "    for dataset = keys(fit_results)\n",
    "        fit_results_lite[dataset] = Dict()\n",
    "        for key in keys(fit_results[dataset])\n",
    "            if !(key in [\"sampled_trace_params\", \"trace_params\", \"log_weights\", \"trace_scores\", \"log_ml_est\"])\n",
    "                fit_results_lite[dataset][key] = deepcopy(fit_results[dataset][key])\n",
    "                continue\n",
    "            end\n",
    "        end\n",
    "    end\n",
    "    JLD2.@save(path_fit_results_lite, fit_results_lite)\n",
    "end"
   ]
  }
 ],
 "metadata": {
  "@webio": {
   "lastCommId": null,
   "lastKernelId": null
  },
  "kernelspec": {
   "display_name": "Julia 1.9.0-beta3",
   "language": "julia",
   "name": "julia-1.9"
  },
  "language_info": {
   "file_extension": ".jl",
   "mimetype": "application/julia",
   "name": "julia",
   "version": "1.9.0"
  }
 },
 "nbformat": 4,
 "nbformat_minor": 5
}
