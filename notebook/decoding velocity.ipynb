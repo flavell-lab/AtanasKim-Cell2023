{
 "cells": [
  {
   "cell_type": "markdown",
   "id": "edc0b5a1-7ecf-4004-9c5a-f521f19a4794",
   "metadata": {},
   "source": [
    "# Future velocity decoding - avg - time bin"
   ]
  },
  {
   "cell_type": "markdown",
   "id": "667bf1eb-580d-4917-8f6b-749a586c915e",
   "metadata": {},
   "source": [
    "## Set up"
   ]
  },
  {
   "cell_type": "code",
   "execution_count": 1,
   "id": "249ce4d3-ab4b-4642-b94c-2b16623b6e2d",
   "metadata": {},
   "outputs": [
    {
     "data": {
      "application/vnd.webio.node+json": {
       "children": [],
       "instanceArgs": {
        "namespace": "html",
        "tag": "div"
       },
       "nodeType": "DOM",
       "props": {},
       "type": "node"
      },
      "text/html": [
       "<div style=\"padding: 1em; background-color: #f8d6da; border: 1px solid #f5c6cb; font-weight: bold;\">\n",
       "<p>The WebIO Jupyter extension was not detected. See the\n",
       "<a href=\"https://juliagizmos.github.io/WebIO.jl/latest/providers/ijulia/\" target=\"_blank\">\n",
       "    WebIO Jupyter integration documentation\n",
       "</a>\n",
       "for more information.\n",
       "</div>\n"
      ],
      "text/plain": [
       "WebIO._IJuliaInit()"
      ]
     },
     "metadata": {
      "@webio": {
       "kernelId": "aa22978a-34b2-4cd8-a3a6-1e0601907f3f"
      }
     },
     "output_type": "display_data"
    }
   ],
   "source": [
    "using PyCall, Statistics, StatsBase, HDF5, FlavellBase, PyPlot, ProgressMeter, AnalysisBase,\n",
    "    LinearAlgebra, Distributions, MLJLinearModels, ANTSUNData, Interpolations, Lasso"
   ]
  },
  {
   "cell_type": "markdown",
   "id": "12b2a272-a853-475b-8e0e-e4b3aa92ddd0",
   "metadata": {},
   "source": [
    "### Functions"
   ]
  },
  {
   "cell_type": "markdown",
   "id": "8ee21157-a6bb-4796-b92c-b529815b172b",
   "metadata": {},
   "source": [
    "#### fit"
   ]
  },
  {
   "cell_type": "code",
   "execution_count": 2,
   "id": "01cf5ff8-58a0-4410-a44f-fde205df6e09",
   "metadata": {},
   "outputs": [
    {
     "data": {
      "text/plain": [
       "fit_linear_lasso (generic function with 1 method)"
      ]
     },
     "execution_count": 2,
     "metadata": {},
     "output_type": "execute_result"
    }
   ],
   "source": [
    "zstd = FlavellBase.standardize\n",
    "function cost_mse(y, y_pred)\n",
    "    mean((y .- y_pred) .^ 2)\n",
    "end\n",
    "\n",
    "function fit_linear_L2(x::Array, y::Vector; λ=0.)\n",
    "    # x: (n, n_f) n: number of examples, n_f: number of features. first column: ones\n",
    "    # y: vector of n where n is number of examples\n",
    "    b = (x' * x + I * λ) \\ (x' * y)\n",
    "    \n",
    "    y_pred = x * b        \n",
    "\n",
    "    return b, y_pred\n",
    "end\n",
    "\n",
    "function fit_linear_L2(x::Array, y::Vector, x_test::Array, y_test::Vector;\n",
    "        λ=0., f_cost::Function)\n",
    "    # x: (n, n_f) n: number of examples, n_f: number of features. first column: ones\n",
    "    # y: vector of n where n is number of examples\n",
    "    b = (x' * x + I * λ) \\ (x' * y)\n",
    "\n",
    "    y_pred = x * b        \n",
    "    y_pred_test = x_test * b\n",
    "    \n",
    "    cost_train = f_cost(y, y_pred)\n",
    "    cost_test = f_cost(y_test, y_pred_test)\n",
    "\n",
    "    return b, y_pred, y_pred_test, cost_train, cost_test\n",
    "end\n",
    "\n",
    "function fit_linear_mlj(x::Array, y::Vector, x_test::Array, y_test::Vector; model, f_cost, solver=nothing)\n",
    "    # x: (n, n_f) n: number of examples, n_f: number of features. bias is automatically added\n",
    "    # y: vector of n where n is number of examples\n",
    "    θ = isnothing(solver) ? MLJLinearModels.fit(model, x, y) :\n",
    "        MLJLinearModels.fit(model, x, y, solver=solver)\n",
    "    \n",
    "    y_pred = hcat(x, ones(length(y))) * θ       \n",
    "    y_pred_test = hcat(x_test, ones(length(y_test))) * θ\n",
    "    \n",
    "    cost_train = f_cost(y, y_pred)\n",
    "    cost_test = f_cost(y_test, y_pred_test)\n",
    "\n",
    "    return θ, y_pred, y_pred_test, cost_train, cost_test\n",
    "end\n",
    "\n",
    "function fit_linear_lasso(x::Array, y::Vector, x_test::Array, y_test::Vector;\n",
    "        f_cost, lasso_α=0.5, lasso_select=MinBIC(), nλ=100)\n",
    "    lasso_fit = Lasso.fit(LassoPath, x, y, α=lasso_α, nλ=nλ)\n",
    "\n",
    "    b = coef(lasso_fit, lasso_select)\n",
    "    \n",
    "    y_pred = predict(lasso_fit, x, select=lasso_select)\n",
    "    y_pred_test = predict(lasso_fit, x_test, select=lasso_select)\n",
    "    \n",
    "    cost_train = f_cost(y, y_pred)\n",
    "    cost_test = f_cost(y_test, y_pred_test)\n",
    "    \n",
    "    b, y_pred, y_pred_test, cost_train, cost_test, lasso_fit\n",
    "end"
   ]
  },
  {
   "cell_type": "markdown",
   "id": "a2271677-b393-487a-bb69-e0f835b71adf",
   "metadata": {},
   "source": [
    "#### future"
   ]
  },
  {
   "cell_type": "code",
   "execution_count": 3,
   "id": "be7cecf2-0a55-4710-8966-0d21e2ca35f6",
   "metadata": {},
   "outputs": [
    {
     "data": {
      "text/plain": [
       "get_data_aggergate_nobias_future (generic function with 1 method)"
      ]
     },
     "execution_count": 3,
     "metadata": {},
     "output_type": "execute_result"
    }
   ],
   "source": [
    "function get_data_future(x,y; list_idx_neuron, rg_x_Δt=0,\n",
    "        Δt_pred::Int, idx_train, idx_test)\n",
    "    if sort(idx_train)[end] + Δt_pred > length(y)\n",
    "        error(\"idx_train is not compatible with Δt_pred\")\n",
    "    end\n",
    "    if sort(idx_test)[end] + Δt_pred > length(y)\n",
    "        error(\"idx_test is not compatible with Δt_pred\")\n",
    "    end\n",
    "    \n",
    "    y_train = y[idx_train .+ Δt_pred]\n",
    "    y_test = y[idx_test .+ Δt_pred]\n",
    "    x_train = ones(length(idx_train), length(list_idx_neuron) * length(rg_x_Δt) + 1)\n",
    "    x_test = ones(length(idx_test), length(list_idx_neuron) * length(rg_x_Δt) + 1)\n",
    "    \n",
    "    n_neuron = length(list_idx_neuron)\n",
    "    \n",
    "    for (i,t) = enumerate(idx_train)\n",
    "        for (j,Δt) = enumerate(rg_x_Δt)\n",
    "            start_ = 2 + (j-1) * n_neuron\n",
    "            stop_ = 1 + j * n_neuron\n",
    "            x_train[i,start_:stop_] = x[list_idx_neuron, t+Δt]\n",
    "        end\n",
    "    end\n",
    "    \n",
    "    for (i,t) = enumerate(idx_test)\n",
    "        for (j,Δt) = enumerate(rg_x_Δt)\n",
    "            start_ = 2 + (j-1) * n_neuron\n",
    "            stop_ = 1 + j * n_neuron\n",
    "            x_test[i,start_:stop_] = x[list_idx_neuron, t+Δt]\n",
    "        end\n",
    "    end\n",
    "\n",
    "    x_train, y_train, x_test, y_test\n",
    "end\n",
    "\n",
    "function get_data_aggergate_future(x::Array, y::Vector; list_idx_neuron, rg_x_Δt=0,\n",
    "        Δt_pred::Int, n_window::Int, f_aggregate::Function, idx_train, idx_test)\n",
    "    if sort(idx_train)[end] + Δt_pred > length(y)\n",
    "        error(\"idx_train is not compatible with Δt_pred\")\n",
    "    end\n",
    "    if sort(idx_test)[end] + Δt_pred > length(y)\n",
    "        error(\"idx_test is not compatible with Δt_pred\")\n",
    "    end\n",
    "    \n",
    "    y_train = zeros(length(idx_train))\n",
    "    y_test = zeros(length(idx_test))\n",
    "    \n",
    "    x_train = ones(length(idx_train), length(list_idx_neuron) * length(rg_x_Δt) + 1)\n",
    "    x_test = ones(length(idx_test), length(list_idx_neuron) * length(rg_x_Δt) + 1)\n",
    "    n_neuron = length(list_idx_neuron)\n",
    "    \n",
    "    for (i,t) = enumerate(idx_train)\n",
    "        t1 = t+Δt_pred-(ceil(Int, n_window/2)-1)\n",
    "        t2 = t+Δt_pred+floor(Int, n_window/2)\n",
    "        y_train[i] = f_aggregate(y[t1:t2])\n",
    "        for (j,Δt) = enumerate(rg_x_Δt)\n",
    "            start_ = 2 + (j-1) * n_neuron\n",
    "            stop_ = 1 + j * n_neuron\n",
    "            x_train[i,start_:stop_] = x[list_idx_neuron, t+Δt]\n",
    "        end\n",
    "    end\n",
    "    \n",
    "    for (i,t) = enumerate(idx_test)\n",
    "        t1 = t+Δt_pred-(ceil(Int, n_window/2)-1)\n",
    "        t2 = t+Δt_pred+floor(Int, n_window/2)\n",
    "        y_test[i] = f_aggregate(y[t1:t2])\n",
    "        for (j,Δt) = enumerate(rg_x_Δt)\n",
    "            start_ = 2 + (j-1) * n_neuron\n",
    "            stop_ = 1 + j * n_neuron\n",
    "            x_test[i,start_:stop_] = x[list_idx_neuron, t+Δt]\n",
    "        end\n",
    "    end\n",
    "\n",
    "    x_train, y_train, x_test, y_test\n",
    "end\n",
    "\n",
    "function get_data_aggergate_nobias_future(x::Array, y::Vector; list_idx_neuron, rg_x_Δt=0,\n",
    "        Δt_pred::Int, n_window::Int, f_aggregate::Function, idx_train, idx_test)\n",
    "    if sort(idx_train)[end] + Δt_pred > length(y)\n",
    "        error(\"idx_train is not compatible with Δt_pred\")\n",
    "    end\n",
    "    if sort(idx_test)[end] + Δt_pred > length(y)\n",
    "        error(\"idx_test is not compatible with Δt_pred\")\n",
    "    end\n",
    "    \n",
    "    y_train = zeros(length(idx_train))\n",
    "    y_test = zeros(length(idx_test))\n",
    "    \n",
    "    x_train = ones(length(idx_train), length(list_idx_neuron) * length(rg_x_Δt))\n",
    "    x_test = ones(length(idx_test), length(list_idx_neuron) * length(rg_x_Δt))\n",
    "    n_neuron = length(list_idx_neuron)\n",
    "    \n",
    "    for (i,t) = enumerate(idx_train)\n",
    "        t1 = t+Δt_pred-(ceil(Int, n_window/2)-1)\n",
    "        t2 = t+Δt_pred+floor(Int, n_window/2)\n",
    "        y_train[i] = f_aggregate(y[t1:t2])\n",
    "        for (j,Δt) = enumerate(rg_x_Δt)\n",
    "            start_ = 1 + (j-1) * n_neuron\n",
    "            stop_ = 0 + j * n_neuron\n",
    "            x_train[i,start_:stop_] = x[list_idx_neuron, t+Δt]\n",
    "        end\n",
    "    end\n",
    "    \n",
    "    for (i,t) = enumerate(idx_test)\n",
    "        t1 = t+Δt_pred-(ceil(Int, n_window/2)-1)\n",
    "        t2 = t+Δt_pred+floor(Int, n_window/2)\n",
    "        y_test[i] = f_aggregate(y[t1:t2])\n",
    "        for (j,Δt) = enumerate(rg_x_Δt)\n",
    "            start_ = 1 + (j-1) * n_neuron\n",
    "            stop_ = 0 + j * n_neuron\n",
    "            x_test[i,start_:stop_] = x[list_idx_neuron, t+Δt]\n",
    "        end\n",
    "    end\n",
    "\n",
    "    x_train, y_train, x_test, y_test\n",
    "end"
   ]
  },
  {
   "cell_type": "markdown",
   "id": "293abe9c-cfb9-4167-84a8-2c68c850ce45",
   "metadata": {},
   "source": [
    "#### past"
   ]
  },
  {
   "cell_type": "code",
   "execution_count": 4,
   "id": "ce155287-9006-4978-b830-f457f9440835",
   "metadata": {},
   "outputs": [
    {
     "data": {
      "text/plain": [
       "get_data_aggergate_nobias (generic function with 1 method)"
      ]
     },
     "execution_count": 4,
     "metadata": {},
     "output_type": "execute_result"
    }
   ],
   "source": [
    "function get_data(x::Array, y::Vector; list_idx_neuron, rg_x_Δt=0,\n",
    "        Δt_pred::Int, idx_train, idx_test)\n",
    "    if sort(idx_train)[1] - Δt_pred < 1\n",
    "        error(\"idx_train is not compatible with Δt_pred\")\n",
    "    end\n",
    "    if sort(idx_test)[1] - Δt_pred < 1\n",
    "        error(\"idx_test is not compatible with Δt_pred\")\n",
    "    end\n",
    "    \n",
    "    y_train = y[idx_train .- Δt_pred]\n",
    "    y_test = y[idx_test .- Δt_pred]\n",
    "    x_train = ones(length(idx_train), length(list_idx_neuron) * length(rg_x_Δt) + 1)\n",
    "    x_test = ones(length(idx_test), length(list_idx_neuron) * length(rg_x_Δt) + 1)\n",
    "    n_neuron = length(list_idx_neuron)\n",
    "    \n",
    "    for (i,t) = enumerate(idx_train)\n",
    "        for (j,Δt) = enumerate(rg_x_Δt)\n",
    "            start_ = 2 + (j-1) * n_neuron\n",
    "            stop_ = 1 + j * n_neuron\n",
    "            x_train[i,start_:stop_] = x[list_idx_neuron, t+Δt]\n",
    "        end\n",
    "    end\n",
    "    \n",
    "    for (i,t) = enumerate(idx_test)\n",
    "        for (j,Δt) = enumerate(rg_x_Δt)\n",
    "            start_ = 2 + (j-1) * n_neuron\n",
    "            stop_ = 1 + j * n_neuron\n",
    "            x_test[i,start_:stop_] = x[list_idx_neuron, t+Δt]\n",
    "        end\n",
    "    end\n",
    "\n",
    "    x_train, y_train, x_test, y_test\n",
    "end\n",
    "\n",
    "function get_data_aggergate(x::Array, y::Vector; list_idx_neuron, rg_x_Δt=0,\n",
    "        Δt_pred::Int, n_window::Int, f_aggregate::Function, idx_train, idx_test)\n",
    "    if sort(idx_train)[1] - Δt_pred < 1\n",
    "        error(\"idx_train is not compatible with Δt_pred\")\n",
    "    end\n",
    "    if sort(idx_test)[1] - Δt_pred < 1\n",
    "        error(\"idx_test is not compatible with Δt_pred\")\n",
    "    end\n",
    "    \n",
    "    y_train = zeros(length(idx_train))\n",
    "    y_test = zeros(length(idx_test))\n",
    "    \n",
    "    x_train = ones(length(idx_train), length(list_idx_neuron) * length(rg_x_Δt) + 1)\n",
    "    x_test = ones(length(idx_test), length(list_idx_neuron) * length(rg_x_Δt) + 1)\n",
    "    n_neuron = length(list_idx_neuron)\n",
    "    \n",
    "    for (i,t) = enumerate(idx_train)\n",
    "        t1 = t-Δt_pred-(ceil(Int, n_window/2)-1)\n",
    "        t2 = t-Δt_pred+floor(Int, n_window/2)\n",
    "        y_train[i] = f_aggregate(y[t1:t2])\n",
    "        for (j,Δt) = enumerate(rg_x_Δt)\n",
    "            start_ = 2 + (j-1) * n_neuron\n",
    "            stop_ = 1 + j * n_neuron\n",
    "            x_train[i,start_:stop_] = x[list_idx_neuron, t+Δt]\n",
    "        end\n",
    "    end\n",
    "    \n",
    "    for (i,t) = enumerate(idx_test)\n",
    "        t1 = t-Δt_pred-(ceil(Int, n_window/2)-1)\n",
    "        t2 = t-Δt_pred+floor(Int, n_window/2)\n",
    "        y_test[i] = f_aggregate(y[t1:t2])\n",
    "        for (j,Δt) = enumerate(rg_x_Δt)\n",
    "            start_ = 2 + (j-1) * n_neuron\n",
    "            stop_ = 1 + j * n_neuron\n",
    "            x_test[i,start_:stop_] = x[list_idx_neuron, t+Δt]\n",
    "        end\n",
    "    end\n",
    "\n",
    "    x_train, y_train, x_test, y_test\n",
    "end\n",
    "\n",
    "function get_data_aggergate_nobias(x::Array, y::Vector; list_idx_neuron, rg_x_Δt=0,\n",
    "        Δt_pred::Int, n_window::Int, f_aggregate::Function, idx_train, idx_test)\n",
    "    if sort(idx_train)[1] - Δt_pred < 1\n",
    "        error(\"idx_train is not compatible with Δt_pred\")\n",
    "    end\n",
    "    if sort(idx_test)[1] - Δt_pred < 1\n",
    "        error(\"idx_test is not compatible with Δt_pred\")\n",
    "    end\n",
    "    \n",
    "    y_train = zeros(length(idx_train))\n",
    "    y_test = zeros(length(idx_test))\n",
    "    \n",
    "    x_train = ones(length(idx_train), length(list_idx_neuron) * length(rg_x_Δt))\n",
    "    x_test = ones(length(idx_test), length(list_idx_neuron) * length(rg_x_Δt))\n",
    "    n_neuron = length(list_idx_neuron)\n",
    "    \n",
    "    for (i,t) = enumerate(idx_train)\n",
    "        t1 = t-Δt_pred-(ceil(Int, n_window/2)-1)\n",
    "        t2 = t-Δt_pred+floor(Int, n_window/2)\n",
    "        y_train[i] = f_aggregate(y[t1:t2])\n",
    "        for (j,Δt) = enumerate(rg_x_Δt)\n",
    "            start_ = 1 + (j-1) * n_neuron\n",
    "            stop_ = 0 + j * n_neuron\n",
    "            x_train[i,start_:stop_] = x[list_idx_neuron, t+Δt]\n",
    "        end\n",
    "    end\n",
    "    \n",
    "    for (i,t) = enumerate(idx_test)\n",
    "        t1 = t-Δt_pred-(ceil(Int, n_window/2)-1)\n",
    "        t2 = t-Δt_pred+floor(Int, n_window/2)\n",
    "        y_test[i] = f_aggregate(y[t1:t2])\n",
    "        for (j,Δt) = enumerate(rg_x_Δt)\n",
    "            start_ = 1 + (j-1) * n_neuron\n",
    "            stop_ = 0 + j * n_neuron\n",
    "            x_test[i,start_:stop_] = x[list_idx_neuron, t+Δt]\n",
    "        end\n",
    "    end\n",
    "\n",
    "    x_train, y_train, x_test, y_test\n",
    "end"
   ]
  },
  {
   "cell_type": "markdown",
   "id": "429501aa-fa32-4124-8318-8c7482fc40dc",
   "metadata": {},
   "source": [
    "#### misc"
   ]
  },
  {
   "cell_type": "code",
   "execution_count": 5,
   "id": "b660e372-adc7-4720-beef-7d0b0acc8e40",
   "metadata": {},
   "outputs": [
    {
     "data": {
      "text/plain": [
       "plot_discontinuous (generic function with 2 methods)"
      ]
     },
     "execution_count": 5,
     "metadata": {},
     "output_type": "execute_result"
    }
   ],
   "source": [
    "function mark_train_test(list_train, list_test; color_train=\"gray\", color_test=\"gray\",\n",
    "        alpha_train=0.3, alpha_test=0.1)\n",
    "    # train\n",
    "    x_start = list_train[1]\n",
    "    x_end = 0\n",
    "    for idx_gap = findall(diff(list_train) .> 1)\n",
    "        x_end = list_train[idx_gap]\n",
    "        \n",
    "        axvspan(x_start, x_end, alpha=alpha_train,\n",
    "            color=color_train, linewidth=0)\n",
    "        x_start = list_train[idx_gap + 1]\n",
    "    end\n",
    "    x_end = list_train[end]\n",
    "    axvspan(x_start, x_end, alpha=alpha_train,\n",
    "        color=color_train, linewidth=0)\n",
    "\n",
    "    # test\n",
    "    x_start = list_test[1]\n",
    "    x_end = 0\n",
    "    for idx_gap = findall(diff(list_test) .> 1)\n",
    "        x_end = list_test[idx_gap]\n",
    "        \n",
    "        axvspan(x_start, x_end, alpha=alpha_test,\n",
    "            color=color_test, linewidth=0)\n",
    "        x_start = list_test[idx_gap + 1]\n",
    "    end\n",
    "    x_end = list_test[end]\n",
    "    axvspan(x_start, x_end, alpha=alpha_test,\n",
    "        color=color_test, linewidth=0)\n",
    "end\n",
    "\n",
    "function plot_discontinuous(x, y, θ_x=1; kwargs...)\n",
    "    x_start = 1\n",
    "    x_end = 0\n",
    "    for idx_gap = findall(diff(x) .> 1)\n",
    "        x_end = idx_gap\n",
    "        \n",
    "        x_ = x[x_start:x_end]\n",
    "        y_ = y[x_start:x_end]\n",
    "        plot(x_, y_; kwargs...)\n",
    "        \n",
    "        x_start = idx_gap + 1\n",
    "    end\n",
    "    x_end = length(x)\n",
    "    x_ = x[x_start:x_end]\n",
    "    y_ = y[x_start:x_end]\n",
    "    plot(x_, y_; kwargs...)\n",
    "end"
   ]
  },
  {
   "cell_type": "markdown",
   "id": "54c947dc-6244-4eb4-b585-cfcda5fb6ac7",
   "metadata": {},
   "source": [
    "### Import data"
   ]
  },
  {
   "cell_type": "code",
   "execution_count": 6,
   "id": "769802d2-5d01-4bf5-8f61-a8191203c589",
   "metadata": {},
   "outputs": [],
   "source": [
    "path_h5_enc = \"/scratch/prj_kfc/2022-10-14-baseline-enc.h5\"\n",
    "datasets_baseline_merged = [\"2021-05-26-07\", \"2021-06-11-01\", \"2021-08-04-06\", \"2021-08-17-01\", \"2021-08-18-01\", \"2021-09-22-05\", \"2021-10-26-01\", \"2021-11-12-01\", \"2021-11-12-05\", \"2022-01-09-01\"]\n",
    "datasets_baseline_1600 = [\"2022-01-17-01\", \"2022-04-05-01\", \"2022-04-12-04\", \"2022-04-14-04\"];\n",
    "list_uid = sort(vcat(datasets_baseline_merged, datasets_baseline_1600))\n",
    "\n",
    "list_dict_fit = h5read.(path_h5_enc, list_uid);\n",
    "list_data_dict = []\n",
    "for (idx_uid, data_uid) = enumerate(list_uid)\n",
    "    path_data = \"/scratch/prj_kfc/processed_h5/$(data_uid)-data.h5\"\n",
    "    data_dict = import_data(path_data)\n",
    "\n",
    "    push!(list_data_dict, data_dict)\n",
    "end"
   ]
  },
  {
   "cell_type": "markdown",
   "id": "0a7ff1c7-e502-40cc-be9c-4837598f8057",
   "metadata": {},
   "source": [
    "### Set up fitting and CV"
   ]
  },
  {
   "cell_type": "code",
   "execution_count": 7,
   "id": "8d78f3c0-6d90-48a2-8cee-73ee5ef46931",
   "metadata": {},
   "outputs": [
    {
     "data": {
      "text/plain": [
       "16"
      ]
     },
     "execution_count": 7,
     "metadata": {},
     "output_type": "execute_result"
    }
   ],
   "source": [
    "rg_Δt_pred = 0:100\n",
    "n_window = 16"
   ]
  },
  {
   "cell_type": "code",
   "execution_count": 8,
   "id": "6a16ac6b-606b-42ec-9746-8178940a46ef",
   "metadata": {},
   "outputs": [
    {
     "data": {
      "text/plain": [
       "5-element Vector{Any}:\n",
       " ([441, 442, 443, 444, 445, 446, 447, 448, 449, 450  …  1483, 1484, 1485, 1486, 1487, 1488, 1489, 1490, 1491, 1492], [108, 109, 110, 111, 112, 113, 114, 115, 116, 117  …  331, 332, 333, 334, 335, 336, 337, 338, 339, 340])\n",
       " ([108, 109, 110, 111, 112, 113, 114, 115, 116, 117  …  1483, 1484, 1485, 1486, 1487, 1488, 1489, 1490, 1491, 1492], [341, 342, 343, 344, 345, 346, 347, 348, 349, 350  …  564, 565, 566, 567, 568, 569, 570, 571, 572, 573])\n",
       " ([108, 109, 110, 111, 112, 113, 114, 115, 116, 117  …  1483, 1484, 1485, 1486, 1487, 1488, 1489, 1490, 1491, 1492], [574, 575, 576, 577, 578, 579, 580, 581, 582, 583  …  1013, 1014, 1015, 1016, 1017, 1018, 1019, 1020, 1021, 1022])\n",
       " ([108, 109, 110, 111, 112, 113, 114, 115, 116, 117  …  1483, 1484, 1485, 1486, 1487, 1488, 1489, 1490, 1491, 1492], [1023, 1024, 1025, 1026, 1027, 1028, 1029, 1030, 1031, 1032  …  1246, 1247, 1248, 1249, 1250, 1251, 1252, 1253, 1254, 1255])\n",
       " ([108, 109, 110, 111, 112, 113, 114, 115, 116, 117  …  1146, 1147, 1148, 1149, 1150, 1151, 1152, 1153, 1154, 1155], [1256, 1257, 1258, 1259, 1260, 1261, 1262, 1263, 1264, 1265  …  1479, 1480, 1481, 1482, 1483, 1484, 1485, 1486, 1487, 1488])"
      ]
     },
     "execution_count": 8,
     "metadata": {},
     "output_type": "execute_result"
    }
   ],
   "source": [
    "list_cv = let\n",
    "    k=5\n",
    "    trim = 100\n",
    "    gap = 100\n",
    "    idx_splits=[ceil(Int, n_window/2):(800-gap-ceil(Int, n_window/2)),(801+ceil(Int, n_window/2)):(1600-gap-ceil(Int, n_window/2))]\n",
    "    \n",
    "    list_t_split_trim = []\n",
    "    for i = 1:length(idx_splits)\n",
    "        rg = idx_splits[i]\n",
    "        rg = (rg[1]+trim):rg[end]\n",
    "        push!(list_t_split_trim, rg)\n",
    "    end\n",
    "    rg_combined = union(list_t_split_trim...)\n",
    "    list_cv = []\n",
    "    n_data = length(rg_combined)\n",
    "    n_test = floor(Int, n_data / k)\n",
    "    n_train = n_data - n_test\n",
    "\n",
    "    for i = 1:k\n",
    "        start_ = (i-1) * n_test + 1\n",
    "        stop_ = i * n_test\n",
    "        idx_test = rg_combined[start_:stop_]\n",
    "        idx_train = setdiff(rg_combined, idx_test)\n",
    "        idx_train = setdiff(idx_train, idx_test[end]:(idx_test[end] + gap))\n",
    "        idx_train = setdiff(idx_train, (idx_test[1] - gap):idx_test[1])\n",
    "        push!(list_cv, (idx_train, idx_test))\n",
    "    end\n",
    "    \n",
    "    list_cv\n",
    "end"
   ]
  },
  {
   "cell_type": "code",
   "execution_count": 9,
   "id": "68672ffb-1ee4-4c49-b502-28141f5c632e",
   "metadata": {},
   "outputs": [
    {
     "name": "stdout",
     "output_type": "stream",
     "text": [
      "[836, 233]\n",
      "[736, 233]\n",
      "[736, 233]\n",
      "[736, 233]\n",
      "[832, 233]\n"
     ]
    },
    {
     "data": {
      "image/png": "[encoded data removed]",
      "text/plain": [
       "Figure(PyObject <Figure size 600x100 with 1 Axes>)"
      ]
     },
     "metadata": {},
     "output_type": "display_data"
    },
    {
     "data": {
      "image/png": "[encoded data removed]",
      "text/plain": [
       "Figure(PyObject <Figure size 600x100 with 1 Axes>)"
      ]
     },
     "metadata": {},
     "output_type": "display_data"
    },
    {
     "data": {
      "image/png": "[encoded data removed]",
      "text/plain": [
       "Figure(PyObject <Figure size 600x100 with 1 Axes>)"
      ]
     },
     "metadata": {},
     "output_type": "display_data"
    },
    {
     "data": {
      "image/png": "[encoded data removed]",
      "text/plain": [
       "Figure(PyObject <Figure size 600x100 with 1 Axes>)"
      ]
     },
     "metadata": {},
     "output_type": "display_data"
    },
    {
     "data": {
      "image/png": "[encoded data removed]",
      "text/plain": [
       "Figure(PyObject <Figure size 600x100 with 1 Axes>)"
      ]
     },
     "metadata": {},
     "output_type": "display_data"
    }
   ],
   "source": [
    "let\n",
    "    for i = 1:length(list_cv)\n",
    "        figure(figsize=(6,1))\n",
    "        idx_train, idx_test = list_cv[i]\n",
    "        mark_train_test(idx_train, idx_test, color_test=\"red\")\n",
    "        xlim(0,1600)\n",
    "        xticks(0:100:1600)\n",
    "        println(length.([idx_train, idx_test]))\n",
    "    end\n",
    "end"
   ]
  },
  {
   "cell_type": "markdown",
   "id": "8c33c0ec-38db-4e61-9d4c-6bc1f1924674",
   "metadata": {},
   "source": [
    "## Model fitting - velocity"
   ]
  },
  {
   "cell_type": "code",
   "execution_count": 10,
   "id": "717320db-f3b3-453c-9205-9a297eb2f4f4",
   "metadata": {},
   "outputs": [],
   "source": [
    "lasso_select = MinAIC()\n",
    "lasso_α=0.5\n",
    "# noise_11_max = 0.75\n",
    "list_τ_bin = [[0,5],[5,20],[20,300]] # [t1, t2)\n",
    "n_τ_bin = 2;"
   ]
  },
  {
   "cell_type": "markdown",
   "id": "fe7e0443-ad84-4b11-a9ad-374407654aed",
   "metadata": {},
   "source": [
    "### control - velocity"
   ]
  },
  {
   "cell_type": "code",
   "execution_count": 11,
   "id": "35a77924-e5cd-4fde-aeb4-c639e5206533",
   "metadata": {},
   "outputs": [
    {
     "name": "stderr",
     "output_type": "stream",
     "text": [
      "\u001b[32mProgress: 100%|█████████████████████████████████████████| Time: 0:00:07\u001b[39m\n"
     ]
    }
   ],
   "source": [
    "list_cost_control_v = zeros(2, length(list_uid), length(rg_Δt_pred), length(list_cv), 2)\n",
    "\n",
    "@showprogress for (idx_uid, data_uid) = enumerate(list_uid)\n",
    "    data_uid = list_uid[idx_uid]    \n",
    "    data_dict = list_data_dict[idx_uid]\n",
    "\n",
    "    n_neuron = data_dict[\"n_neuron\"]\n",
    "    idx_splits = data_dict[\"idx_splits\"]\n",
    "    trace_array = data_dict[\"trace_array\"]\n",
    "    n_t = size(trace_array, 2)\n",
    "\n",
    "    trace_array = reshape(data_dict[\"velocity\"] |> zstd, (1, n_t))\n",
    "    v = data_dict[\"velocity\"]\n",
    "\n",
    "    list_idx_neuron = 1:1\n",
    "\n",
    "    for (i_Δt, Δt_pred) = enumerate(rg_Δt_pred)\n",
    "        for (i_cv, (idx_train, idx_test)) = enumerate(list_cv)\n",
    "            for (i_f, f_data) = enumerate([get_data_aggergate_nobias, get_data_aggergate_nobias_future])\n",
    "                x_train, y_train, x_test, y_test = f_data(trace_array, v,\n",
    "                    list_idx_neuron=list_idx_neuron,\n",
    "                    rg_x_Δt=0, Δt_pred=Δt_pred, idx_test=idx_test, idx_train=idx_train,\n",
    "                    n_window=n_window, f_aggregate=mean)\n",
    "\n",
    "                b, y_pred, y_pred_test, cost_train, cost_test = fit_linear_lasso(x_train, y_train,\n",
    "                    x_test, y_test, f_cost=cost_mse, lasso_select=lasso_select, lasso_α=lasso_α)\n",
    "                list_cost_control_v[i_f, idx_uid, i_Δt, i_cv, :] .= cost_train, cost_test\n",
    "            end\n",
    "        end\n",
    "    end\n",
    "end"
   ]
  },
  {
   "cell_type": "code",
   "execution_count": 12,
   "id": "44705202-e555-4ef8-b027-77d05553e39c",
   "metadata": {},
   "outputs": [],
   "source": [
    "opt_cost_control_v = meanprj(list_cost_control_v, dims=4);"
   ]
  },
  {
   "cell_type": "markdown",
   "id": "fdd55c35-8541-48a0-9312-ba5c77ceb0c3",
   "metadata": {},
   "source": [
    "### control - velocity current"
   ]
  },
  {
   "cell_type": "code",
   "execution_count": 13,
   "id": "578461a9-6aed-40c0-820a-87751d6f9410",
   "metadata": {},
   "outputs": [
    {
     "name": "stderr",
     "output_type": "stream",
     "text": [
      "\u001b[32mProgress: 100%|█████████████████████████████████████████| Time: 0:00:25\u001b[39m\n"
     ]
    }
   ],
   "source": [
    "list_cost_control_v_current = zeros(2, length(list_uid), length(rg_Δt_pred), length(list_cv), 2)\n",
    "\n",
    "@showprogress for (idx_uid, data_uid) = enumerate(list_uid)\n",
    "    data_uid = list_uid[idx_uid]    \n",
    "    data_dict = list_data_dict[idx_uid]\n",
    "\n",
    "    n_neuron = data_dict[\"n_neuron\"]\n",
    "    idx_splits = data_dict[\"idx_splits\"]\n",
    "    v = data_dict[\"velocity\"]\n",
    "    n_t = length(v)\n",
    "    \n",
    "    v_std = zstd(v)\n",
    "\n",
    "    trace_array = zeros(length(rg_Δt_pred)-1 + n_window, n_t)\n",
    "    for (i,t) = enumerate(-n_window÷2:size(trace_array,1)-1-n_window÷2)\n",
    "        trace_array[i, length(rg_Δt_pred)-1+n_window÷2:1600-n_window÷2] .= v_std[length(rg_Δt_pred)-1+n_window÷2-t:1600-n_window÷2-t]\n",
    "    end\n",
    "    \n",
    "    list_idx_neuron = 1:size(trace_array,1)\n",
    "\n",
    "    for (i_Δt, Δt_pred) = enumerate(rg_Δt_pred)\n",
    "        for (i_cv, (idx_train, idx_test)) = enumerate(list_cv)\n",
    "            for (i_f, f_data) = enumerate([get_data_aggergate_nobias, get_data_aggergate_nobias_future])\n",
    "                x_train, y_train, x_test, y_test = get_data_aggergate_nobias(trace_array, v,\n",
    "                    list_idx_neuron=list_idx_neuron,\n",
    "                    rg_x_Δt=0, Δt_pred=Δt_pred, idx_test=idx_test, idx_train=idx_train,\n",
    "                    n_window=n_window, f_aggregate=mean)\n",
    "\n",
    "                b, y_pred, y_pred_test, cost_train, cost_test = fit_linear_lasso(x_train, y_train,\n",
    "                    x_test, y_test, f_cost=cost_mse, lasso_select=lasso_select, lasso_α=lasso_α)\n",
    "                list_cost_control_v_current[i_f, idx_uid, i_Δt, i_cv, :] .= cost_train, cost_test\n",
    "            end\n",
    "        end\n",
    "    end\n",
    "end"
   ]
  },
  {
   "cell_type": "code",
   "execution_count": 14,
   "id": "1a67e009-2cd9-488e-9c7f-1fafed9dc3f0",
   "metadata": {},
   "outputs": [],
   "source": [
    "opt_cost_control_v_current = meanprj(list_cost_control_v_current, dims=4);"
   ]
  },
  {
   "cell_type": "markdown",
   "id": "c9973410-0c21-4885-b0be-43d3fe18ff2a",
   "metadata": {},
   "source": [
    "### neural - all"
   ]
  },
  {
   "cell_type": "code",
   "execution_count": 15,
   "id": "5acc1538-caa3-48c3-ab1f-4d7dce68c7f3",
   "metadata": {},
   "outputs": [
    {
     "name": "stderr",
     "output_type": "stream",
     "text": [
      "\u001b[32mProgress: 100%|█████████████████████████████████████████| Time: 0:00:11\u001b[39m\n"
     ]
    }
   ],
   "source": [
    "list_cost_all = zeros(2, length(list_uid), length(rg_Δt_pred), length(list_cv), 2)\n",
    "@showprogress for (idx_uid, data_uid) = enumerate(list_uid)\n",
    "    data_uid = list_uid[idx_uid]    \n",
    "    data_dict = list_data_dict[idx_uid]\n",
    "    dict_fit = list_dict_fit[idx_uid]\n",
    "    \n",
    "    n_neuron = data_dict[\"n_neuron\"]\n",
    "    idx_splits = data_dict[\"idx_splits\"]\n",
    "    trace_array = data_dict[\"trace_array\"]\n",
    "    n_t = size(trace_array, 2)\n",
    "\n",
    "    v = data_dict[\"velocity\"]\n",
    "    \n",
    "    list_idx_neuron = 1:n_neuron\n",
    "    list_noise = median(list_dict_fit[idx_uid][\"ps\"][:,:,:,11], dims=(3,1))[:]\n",
    "    list_τ = median(median(dict_fit[\"tau\"], dims=3), dims=1)[:]\n",
    "    \n",
    "    list_neuron = Int[]\n",
    "    for (τ_low, τ_high) = list_τ_bin\n",
    "        idx_τ = findall(τ_low .<= list_τ .< τ_high)\n",
    "        idx_noise_ = sortperm(list_noise[idx_τ])\n",
    "        append!(list_neuron, idx_τ[idx_noise_][1:n_τ_bin])\n",
    "    end\n",
    "        \n",
    "    list_idx_neuron = list_neuron\n",
    "    \n",
    "    for (i_Δt, Δt_pred) = enumerate(rg_Δt_pred)\n",
    "        for (i_cv, (idx_train, idx_test)) = enumerate(list_cv)\n",
    "            for (i_f, f_data) = enumerate([get_data_aggergate_nobias, get_data_aggergate_nobias_future])\n",
    "                x_train, y_train, x_test, y_test = f_data(trace_array, v,\n",
    "                    list_idx_neuron=list_idx_neuron,\n",
    "                    rg_x_Δt=0, Δt_pred=Δt_pred, idx_test=idx_test, idx_train=idx_train,\n",
    "                    n_window=n_window, f_aggregate=mean)\n",
    "\n",
    "                b, y_pred, y_pred_test, cost_train, cost_test = fit_linear_lasso(x_train, y_train,\n",
    "                    x_test, y_test, f_cost=cost_mse, lasso_select=lasso_select, lasso_α=lasso_α)\n",
    "                list_cost_all[i_f, idx_uid, i_Δt, i_cv, :] .= cost_train, cost_test\n",
    "            end\n",
    "        end\n",
    "    end\n",
    "end"
   ]
  },
  {
   "cell_type": "code",
   "execution_count": 16,
   "id": "0458397f-9517-45b6-bdeb-86c616f1c7a9",
   "metadata": {},
   "outputs": [],
   "source": [
    "opt_cost_all = meanprj(list_cost_all, dims=4);"
   ]
  },
  {
   "cell_type": "markdown",
   "id": "ad0886e8-72dd-4392-9662-929b18242852",
   "metadata": {},
   "source": [
    "### neural - velocity"
   ]
  },
  {
   "cell_type": "code",
   "execution_count": 17,
   "id": "50953198-0414-4f9e-9d33-f4d67105fff6",
   "metadata": {},
   "outputs": [
    {
     "name": "stderr",
     "output_type": "stream",
     "text": [
      "\u001b[32mProgress: 100%|█████████████████████████████████████████| Time: 0:00:15\u001b[39m\n"
     ]
    }
   ],
   "source": [
    "list_cost_v_all = zeros(2, length(list_uid), length(rg_Δt_pred), length(list_cv), 2)\n",
    "@showprogress for (idx_uid, data_uid) = enumerate(list_uid)\n",
    "    data_uid = list_uid[idx_uid]    \n",
    "    data_dict = list_data_dict[idx_uid]\n",
    "    dict_fit = list_dict_fit[idx_uid]\n",
    "    n_neuron = data_dict[\"n_neuron\"]\n",
    "    idx_splits = data_dict[\"idx_splits\"]\n",
    "    trace_array = data_dict[\"trace_array\"]\n",
    "    n_t = size(trace_array, 2)\n",
    "\n",
    "    v = data_dict[\"velocity\"]\n",
    "\n",
    "    list_idx_v = Array{Int}[]\n",
    "    for idx_rg = 1:2\n",
    "        categorization = dict_fit[\"categorization\"][\"$idx_rg\"]\n",
    "        idx_v = categorization[\"v\"][\"all\"]\n",
    "        push!(list_idx_v, idx_v)\n",
    "    end    \n",
    "\n",
    "    list_idx_neuron = intersect(list_idx_v...)\n",
    "\n",
    "    for (i_Δt, Δt_pred) = enumerate(rg_Δt_pred)\n",
    "        for (i_cv, (idx_train, idx_test)) = enumerate(list_cv)\n",
    "            for (i_f, f_data) = enumerate([get_data_aggergate_nobias, get_data_aggergate_nobias_future])\n",
    "                x_train, y_train, x_test, y_test = f_data(trace_array, v, list_idx_neuron=list_idx_neuron,\n",
    "                    rg_x_Δt=0, Δt_pred=Δt_pred, idx_test=idx_test, idx_train=idx_train,\n",
    "                    n_window=n_window, f_aggregate=mean)\n",
    "\n",
    "                b, y_pred, y_pred_test, cost_train, cost_test = fit_linear_lasso(x_train, y_train,\n",
    "                    x_test, y_test, f_cost=cost_mse, lasso_select=lasso_select, lasso_α=lasso_α)\n",
    "                list_cost_v_all[i_f, idx_uid, i_Δt, i_cv, :] .= cost_train, cost_test\n",
    "            end\n",
    "        end\n",
    "    end\n",
    "end"
   ]
  },
  {
   "cell_type": "code",
   "execution_count": 18,
   "id": "487f1aee-34a4-47c3-9262-4c246320b893",
   "metadata": {},
   "outputs": [],
   "source": [
    "opt_cost_v_all = meanprj(list_cost_v_all, dims=4);"
   ]
  },
  {
   "cell_type": "markdown",
   "id": "160cff62-a1b3-467b-afff-c7dc60afb0cf",
   "metadata": {},
   "source": [
    "## Model fitting - shift control"
   ]
  },
  {
   "cell_type": "code",
   "execution_count": 19,
   "id": "bb9f4f88-967e-4816-86fb-6851dbc59186",
   "metadata": {},
   "outputs": [
    {
     "data": {
      "text/plain": [
       "rand_shift_sampler (generic function with 1 method)"
      ]
     },
     "execution_count": 19,
     "metadata": {},
     "output_type": "execute_result"
    }
   ],
   "source": [
    "function rand_shift_sampler(x, rg_shift; max_cor=0.2, max_attempt=1000)\n",
    "    attempt = 1\n",
    "    while attempt < max_attempt\n",
    "        shift = rand([-1,1]) * rand(rg_shift)\n",
    "        cor_shifted = cor(x, circshift(x,shift))\n",
    "        if abs(cor_shifted) < max_cor\n",
    "            return shift, cor_shifted, attempt\n",
    "        end\n",
    "        attempt += 1\n",
    "    end\n",
    "    \n",
    "    error(\"could not find a shift that meets the condition. max attempt (n=$max_attempt) reached\")\n",
    "end"
   ]
  },
  {
   "cell_type": "code",
   "execution_count": 20,
   "id": "00ea9605-5c4c-40bb-a7f2-a1aeb152b369",
   "metadata": {},
   "outputs": [
    {
     "data": {
      "text/plain": [
       "50"
      ]
     },
     "execution_count": 20,
     "metadata": {},
     "output_type": "execute_result"
    }
   ],
   "source": [
    "n_shift = 50"
   ]
  },
  {
   "cell_type": "markdown",
   "id": "08c2c107-09b4-4d79-abe8-f11119725dbc",
   "metadata": {},
   "source": [
    "### velocity - shift"
   ]
  },
  {
   "cell_type": "code",
   "execution_count": null,
   "id": "44515789-9092-4a66-a315-e328311d72b4",
   "metadata": {},
   "outputs": [],
   "source": [
    "list_cost_shift_control_v = zeros(2, length(list_uid), length(rg_Δt_pred), length(list_cv), n_shift, 2)\n",
    "\n",
    "@showprogress for (idx_uid, data_uid) = enumerate(list_uid)\n",
    "    data_uid = list_uid[idx_uid]    \n",
    "    data_dict = list_data_dict[idx_uid]\n",
    "\n",
    "    n_neuron = data_dict[\"n_neuron\"]\n",
    "    idx_splits = data_dict[\"idx_splits\"]\n",
    "    trace_array = data_dict[\"trace_array\"]\n",
    "    n_t = size(trace_array, 2)\n",
    "\n",
    "    trace_array = reshape(data_dict[\"velocity\"] |> zstd, (1, n_t))\n",
    "    v = data_dict[\"velocity\"]\n",
    "\n",
    "    list_idx_neuron = 1:1\n",
    " \n",
    "    for i_shift = 1:n_shift\n",
    "        shift, _ = rand_shift_sampler(v, 125:600)\n",
    "        v_shifted = circshift(v, shift)\n",
    "\n",
    "        for (i_Δt, Δt_pred) = enumerate(rg_Δt_pred)\n",
    "            for (i_cv, (idx_train, idx_test)) = enumerate(list_cv)\n",
    "                for (i_f, f_data) = enumerate([get_data_aggergate_nobias, get_data_aggergate_nobias_future])\n",
    "                    x_train, y_train, x_test, y_test = f_data(trace_array, v_shifted, list_idx_neuron=list_idx_neuron,\n",
    "                        rg_x_Δt=0, Δt_pred=Δt_pred, idx_test=idx_test, idx_train=idx_train,\n",
    "                        n_window=n_window, f_aggregate=mean)\n",
    "\n",
    "                    b, y_pred, y_pred_test, cost_train, cost_test = fit_linear_lasso(x_train, y_train,\n",
    "                        x_test, y_test, f_cost=cost_mse, lasso_select=lasso_select, lasso_α=lasso_α)\n",
    "                    list_cost_shift_control_v[i_f, idx_uid, i_Δt, i_cv, i_shift, :] .= cost_train, cost_test\n",
    "                end\n",
    "            end\n",
    "        end\n",
    "    end\n",
    "end"
   ]
  },
  {
   "cell_type": "code",
   "execution_count": null,
   "id": "06302126-c259-470f-961c-d45a448741cb",
   "metadata": {},
   "outputs": [],
   "source": [
    "opt_cost_shift_control_v = meanprj(meanprj(list_cost_shift_control_v, dims=5), dims=4);"
   ]
  },
  {
   "cell_type": "markdown",
   "id": "cb5444ae-dc79-40bd-aa90-2cc31e4cf6de",
   "metadata": {},
   "source": [
    "### velocity - current - shift"
   ]
  },
  {
   "cell_type": "code",
   "execution_count": 26,
   "id": "40f93858-28ea-47c1-8d08-66b408c3d55b",
   "metadata": {},
   "outputs": [
    {
     "name": "stderr",
     "output_type": "stream",
     "text": [
      "\u001b[32mProgress: 100%|█████████████████████████████████████████| Time: 0:25:34\u001b[39m\n"
     ]
    }
   ],
   "source": [
    "list_cost_shift_control_v_current = zeros(2, length(list_uid), length(rg_Δt_pred), length(list_cv), n_shift, 2)\n",
    "\n",
    "@showprogress for (idx_uid, data_uid) = enumerate(list_uid)\n",
    "    data_uid = list_uid[idx_uid]    \n",
    "    data_dict = list_data_dict[idx_uid]\n",
    "\n",
    "    n_neuron = data_dict[\"n_neuron\"]\n",
    "    idx_splits = data_dict[\"idx_splits\"]\n",
    "    v = data_dict[\"velocity\"]\n",
    "    n_t = length(v)\n",
    "    \n",
    "    v_std = zstd(v)\n",
    "\n",
    "    trace_array = zeros(length(rg_Δt_pred)-1 + n_window, n_t)\n",
    "    for (i,t) = enumerate(-n_window÷2:size(trace_array,1)-1-n_window÷2)\n",
    "        trace_array[i, length(rg_Δt_pred)-1+n_window÷2:1600-n_window÷2] .= v_std[length(rg_Δt_pred)-1+n_window÷2-t:1600-n_window÷2-t]\n",
    "    end\n",
    "    \n",
    "    list_idx_neuron = 1:size(trace_array,1)\n",
    "\n",
    "    for i_shift = 1:n_shift\n",
    "        shift, _ = rand_shift_sampler(v, 125:600)\n",
    "        v_shifted = circshift(v, shift)\n",
    "\n",
    "        for (i_Δt, Δt_pred) = enumerate(rg_Δt_pred)\n",
    "            for (i_cv, (idx_train, idx_test)) = enumerate(list_cv)\n",
    "                for (i_f, f_data) = enumerate([get_data_aggergate_nobias, get_data_aggergate_nobias_future])\n",
    "                    x_train, y_train, x_test, y_test = get_data_aggergate_nobias(trace_array, v_shifted,\n",
    "                        list_idx_neuron=list_idx_neuron,\n",
    "                        rg_x_Δt=0, Δt_pred=Δt_pred, idx_test=idx_test, idx_train=idx_train,\n",
    "                        n_window=n_window, f_aggregate=mean)\n",
    "\n",
    "                    b, y_pred, y_pred_test, cost_train, cost_test = fit_linear_lasso(x_train, y_train,\n",
    "                        x_test, y_test, f_cost=cost_mse, lasso_select=lasso_select, lasso_α=lasso_α)\n",
    "                    list_cost_shift_control_v_current[i_f, idx_uid, i_Δt, i_cv, i_shift, :] .= cost_train, cost_test\n",
    "                end\n",
    "            end\n",
    "        end\n",
    "    end\n",
    "end"
   ]
  },
  {
   "cell_type": "code",
   "execution_count": 27,
   "id": "378db0f0-fe34-4acf-bacc-e8232212a692",
   "metadata": {},
   "outputs": [],
   "source": [
    "opt_cost_shift_control_v_current = meanprj(meanprj(list_cost_shift_control_v_current, dims=5), dims=4);"
   ]
  },
  {
   "cell_type": "markdown",
   "id": "ee185496-a9b7-4908-805a-ff1504d325ba",
   "metadata": {},
   "source": [
    "### neural - all - shift"
   ]
  },
  {
   "cell_type": "code",
   "execution_count": 28,
   "id": "d9cd27e0-9e45-4998-b2ca-86af6b15cbaf",
   "metadata": {},
   "outputs": [
    {
     "name": "stderr",
     "output_type": "stream",
     "text": [
      "\u001b[32mProgress: 100%|█████████████████████████████████████████| Time: 0:04:06\u001b[39m\n"
     ]
    }
   ],
   "source": [
    "list_cost_shift_all = zeros(2, length(list_uid), length(rg_Δt_pred), length(list_cv), n_shift, 2)\n",
    "@showprogress for (idx_uid, data_uid) = enumerate(list_uid)\n",
    "    data_uid = list_uid[idx_uid]    \n",
    "    data_dict = list_data_dict[idx_uid]\n",
    "    dict_fit = list_dict_fit[idx_uid]\n",
    "    \n",
    "    n_neuron = data_dict[\"n_neuron\"]\n",
    "    idx_splits = data_dict[\"idx_splits\"]\n",
    "    trace_array = data_dict[\"trace_array\"]\n",
    "    n_t = size(trace_array, 2)\n",
    "\n",
    "    v = data_dict[\"velocity\"]\n",
    "    \n",
    "    list_idx_neuron = 1:n_neuron\n",
    "    list_noise = median(list_dict_fit[idx_uid][\"ps\"][:,:,:,11], dims=(3,1))[:]\n",
    "    list_τ = median(median(dict_fit[\"tau\"], dims=3), dims=1)[:]\n",
    "    \n",
    "    list_neuron = Int[]\n",
    "    for (τ_low, τ_high) = list_τ_bin\n",
    "        idx_τ = findall(τ_low .<= list_τ .< τ_high)\n",
    "        idx_noise_ = sortperm(list_noise[idx_τ])\n",
    "        append!(list_neuron, idx_τ[idx_noise_][1:n_τ_bin])\n",
    "    end\n",
    "        \n",
    "    list_idx_neuron = list_neuron\n",
    "    \n",
    "    for i_shift = 1:n_shift\n",
    "        shift, _ = rand_shift_sampler(v, 125:600)\n",
    "        v_shifted = circshift(v, shift)\n",
    "\n",
    "        for (i_Δt, Δt_pred) = enumerate(rg_Δt_pred)\n",
    "            for (i_cv, (idx_train, idx_test)) = enumerate(list_cv)\n",
    "                for (i_f, f_data) = enumerate([get_data_aggergate_nobias, get_data_aggergate_nobias_future])\n",
    "                    x_train, y_train, x_test, y_test = f_data(trace_array, v_shifted, list_idx_neuron=list_idx_neuron,\n",
    "                        rg_x_Δt=0, Δt_pred=Δt_pred, idx_test=idx_test, idx_train=idx_train,\n",
    "                        n_window=n_window, f_aggregate=mean)\n",
    "\n",
    "                    b, y_pred, y_pred_test, cost_train, cost_test = fit_linear_lasso(x_train, y_train,\n",
    "                        x_test, y_test, f_cost=cost_mse, lasso_select=lasso_select, lasso_α=lasso_α)\n",
    "                    list_cost_shift_all[i_f, idx_uid, i_Δt, i_cv, i_shift, :] .= cost_train, cost_test\n",
    "                end\n",
    "            end\n",
    "        end\n",
    "    end\n",
    "end"
   ]
  },
  {
   "cell_type": "code",
   "execution_count": 29,
   "id": "fb3c7c7b-08d9-4398-baca-547887e7457b",
   "metadata": {},
   "outputs": [],
   "source": [
    "opt_cost_shift_all = meanprj(meanprj(list_cost_shift_all, dims=5), dims=4);"
   ]
  },
  {
   "cell_type": "markdown",
   "id": "2d0f768b-c7b1-4428-8106-49e5d8319170",
   "metadata": {},
   "source": [
    "### neural - velocity - shift"
   ]
  },
  {
   "cell_type": "code",
   "execution_count": 30,
   "id": "bd5815c2-1839-476b-b637-addf3286a973",
   "metadata": {},
   "outputs": [
    {
     "name": "stderr",
     "output_type": "stream",
     "text": [
      "\u001b[32mProgress: 100%|█████████████████████████████████████████| Time: 0:13:11\u001b[39m\n"
     ]
    }
   ],
   "source": [
    "list_cost_shift_v_all = zeros(2, length(list_uid), length(rg_Δt_pred), length(list_cv), n_shift, 2)\n",
    "@showprogress for (idx_uid, data_uid) = enumerate(list_uid)\n",
    "    data_uid = list_uid[idx_uid]    \n",
    "    data_dict = list_data_dict[idx_uid]\n",
    "    dict_fit = list_dict_fit[idx_uid]\n",
    "    n_neuron = data_dict[\"n_neuron\"]\n",
    "    idx_splits = data_dict[\"idx_splits\"]\n",
    "    trace_array = data_dict[\"trace_array\"]\n",
    "    n_t = size(trace_array, 2)\n",
    "\n",
    "    v = data_dict[\"velocity\"]\n",
    "\n",
    "    list_idx_v = Array{Int}[]\n",
    "    for idx_rg = 1:2\n",
    "        categorization = dict_fit[\"categorization\"][\"$idx_rg\"]\n",
    "        idx_v = categorization[\"v\"][\"all\"]\n",
    "        push!(list_idx_v, idx_v)\n",
    "    end    \n",
    "\n",
    "    list_idx_neuron = intersect(list_idx_v...)\n",
    "\n",
    "    for i_shift = 1:n_shift\n",
    "        shift, _ = rand_shift_sampler(v, 125:600)\n",
    "        v_shifted = circshift(v, shift)\n",
    "\n",
    "        for (i_Δt, Δt_pred) = enumerate(rg_Δt_pred)\n",
    "            for (i_cv, (idx_train, idx_test)) = enumerate(list_cv)\n",
    "                for (i_f, f_data) = enumerate([get_data_aggergate_nobias, get_data_aggergate_nobias_future])\n",
    "                    x_train, y_train, x_test, y_test = f_data(trace_array, v_shifted, list_idx_neuron=list_idx_neuron,\n",
    "                        rg_x_Δt=0, Δt_pred=Δt_pred, idx_test=idx_test, idx_train=idx_train,\n",
    "                        n_window=n_window, f_aggregate=mean)\n",
    "\n",
    "                    b, y_pred, y_pred_test, cost_train, cost_test = fit_linear_lasso(x_train, y_train,\n",
    "                        x_test, y_test, f_cost=cost_mse, lasso_select=lasso_select, lasso_α=lasso_α)\n",
    "                    list_cost_shift_v_all[i_f, idx_uid, i_Δt, i_cv, i_shift, :] .= cost_train, cost_test\n",
    "                end\n",
    "            end\n",
    "        end\n",
    "    end\n",
    "end"
   ]
  },
  {
   "cell_type": "code",
   "execution_count": 31,
   "id": "c2fb180e-706e-45c2-88d1-cf9196f0a4e6",
   "metadata": {},
   "outputs": [],
   "source": [
    "opt_cost_shift_v_all = meanprj(meanprj(list_cost_shift_v_all, dims=5), dims=4);"
   ]
  },
  {
   "cell_type": "markdown",
   "id": "a6be6068-7f44-44b2-894f-e656ab5438e8",
   "metadata": {},
   "source": [
    "## Analysis"
   ]
  },
  {
   "cell_type": "code",
   "execution_count": 36,
   "id": "e373e31a-b7f2-4ff9-af85-c86626e6e0b1",
   "metadata": {},
   "outputs": [
    {
     "data": {
      "image/png": "[encoded data removed]",
      "text/plain": [
       "Figure(PyObject <Figure size 400x300 with 1 Axes>)"
      ]
     },
     "metadata": {},
     "output_type": "display_data"
    },
    {
     "data": {
      "text/plain": [
       "PyObject Text(0.5, 23.999999999999993, 'Δt (s)')"
      ]
     },
     "execution_count": 36,
     "metadata": {},
     "output_type": "execute_result"
    }
   ],
   "source": [
    "let\n",
    "    rg_t = 0:60\n",
    "    list_cost = [(opt_cost_control_v_current, opt_cost_shift_control_v_current, \"gray\"),\n",
    "        (opt_cost_control_v, opt_cost_shift_control_v, \"k\"),\n",
    "        (opt_cost_v_all, opt_cost_shift_v_all, \"C5\")]\n",
    "    rg_idx_uid = 1:length(list_uid)\n",
    "    \n",
    "    figure(figsize=(4,3))\n",
    "    \n",
    "    for (i,(cost,cost_control,color_)) = enumerate(list_cost)\n",
    "        Δcost = zeros(length(list_uid), length(rg_t))\n",
    "        for (i_uid, idx_uid) = enumerate(rg_idx_uid)\n",
    "            timestep = list_dict_fit[idx_uid][\"timestep\"]\n",
    "            xs = collect(rg_Δt_pred) * timestep\n",
    "            ys = sqrt.(cost_control[1,idx_uid,:,2]) .- sqrt.(cost[1,idx_uid,:,2])\n",
    "            intp = LinearInterpolation(xs,ys)\n",
    "\n",
    "            Δcost[i_uid,:] = intp.(rg_t)\n",
    "        end\n",
    "        u = meanprj(Δcost, dims=1)\n",
    "        s = std(Δcost, dims=1)[:] / sqrt(length(rg_idx_uid)-1)\n",
    "        y1 = u .- s\n",
    "        y2 = u\n",
    "        y3 = u .+ s\n",
    "        plot(rg_t, y2, color=color_)\n",
    "        fill_between(rg_t, y1, y3, color=color_, alpha=0.2, linewidth=0)\n",
    "    end\n",
    "    \n",
    "    axhline(0, color=\"k\", linewidth=0.75)\n",
    "    ylim(-0.01, 0.05)\n",
    "    yticks(-0.01:0.01:0.05)\n",
    "    xlim(0,60)\n",
    "    title(\"Backward\")\n",
    "    ylabel(\"performance (mm/s)\")\n",
    "    xlabel(\"Δt (s)\")\n",
    "    # legend()\n",
    "    # fix_plot()\n",
    "\n",
    "end"
   ]
  },
  {
   "cell_type": "code",
   "execution_count": 37,
   "id": "0e47aa6e-5815-481c-9cc9-ca7323fdde77",
   "metadata": {},
   "outputs": [
    {
     "data": {
      "text/plain": [
       "0:100"
      ]
     },
     "execution_count": 37,
     "metadata": {},
     "output_type": "execute_result"
    }
   ],
   "source": [
    "rg_Δt_pred"
   ]
  },
  {
   "cell_type": "code",
   "execution_count": 38,
   "id": "0c73822c-5d1d-428b-832c-cf22a1560ae4",
   "metadata": {},
   "outputs": [
    {
     "data": {
      "image/png": "[encoded data removed]",
      "text/plain": [
       "Figure(PyObject <Figure size 400x300 with 1 Axes>)"
      ]
     },
     "metadata": {},
     "output_type": "display_data"
    },
    {
     "data": {
      "text/plain": [
       "PyObject Text(0.5, 23.999999999999993, 'Δt (s)')"
      ]
     },
     "execution_count": 38,
     "metadata": {},
     "output_type": "execute_result"
    }
   ],
   "source": [
    "let\n",
    "    rg_t = 0:60\n",
    "    list_cost = [(opt_cost_control_v_current, opt_cost_shift_control_v_current, \"gray\"),\n",
    "        (opt_cost_control_v, opt_cost_shift_control_v, \"k\"),\n",
    "        (opt_cost_v_all, opt_cost_shift_v_all, \"C5\")]\n",
    "    rg_idx_uid = 1:length(list_uid)\n",
    "    \n",
    "    figure(figsize=(4,3))\n",
    "    \n",
    "    for (i,(cost,cost_control,color_)) = enumerate(list_cost)\n",
    "        Δcost = zeros(length(list_uid), length(rg_t))\n",
    "        for (i_uid, idx_uid) = enumerate(rg_idx_uid)\n",
    "            timestep = list_dict_fit[idx_uid][\"timestep\"]\n",
    "            xs = collect(rg_Δt_pred) * timestep\n",
    "            ys = sqrt.(cost_control[2,idx_uid,:,2]) .- sqrt.(cost[2,idx_uid,:,2])\n",
    "            intp = LinearInterpolation(xs,ys)\n",
    "\n",
    "            Δcost[i_uid,:] = intp.(rg_t)\n",
    "        end\n",
    "        u = meanprj(Δcost, dims=1)\n",
    "        s = std(Δcost, dims=1)[:] / sqrt(length(rg_idx_uid)-1)\n",
    "        y1 = u .- s\n",
    "        y2 = u\n",
    "        y3 = u .+ s\n",
    "        plot(rg_t, y2, color=color_)\n",
    "        fill_between(rg_t, y1, y3, color=color_, alpha=0.2, linewidth=0)\n",
    "    end\n",
    "    \n",
    "    axhline(0, color=\"k\", linewidth=0.75)\n",
    "    ylim(-0.01, 0.05)\n",
    "    yticks(-0.01:0.01:0.05)\n",
    "    xlim(0,60)\n",
    "    title(\"Forward\")\n",
    "    ylabel(\"performance (mm/s)\")\n",
    "    xlabel(\"Δt (s)\")\n",
    "end"
   ]
  },
  {
   "cell_type": "code",
   "execution_count": 39,
   "id": "c71f0391-891c-40d7-95fa-38b210df17d2",
   "metadata": {},
   "outputs": [
    {
     "data": {
      "image/png": "[encoded data removed]",
      "text/plain": [
       "Figure(PyObject <Figure size 400x300 with 1 Axes>)"
      ]
     },
     "metadata": {},
     "output_type": "display_data"
    },
    {
     "data": {
      "text/plain": [
       "PyObject Text(0.5, 23.999999999999993, 'Δt (s)')"
      ]
     },
     "execution_count": 39,
     "metadata": {},
     "output_type": "execute_result"
    }
   ],
   "source": [
    "let\n",
    "    rg_t = -60:60\n",
    "    list_cost = [(opt_cost_control_v_current, opt_cost_shift_control_v_current, \"gray\"),\n",
    "        (opt_cost_control_v, opt_cost_shift_control_v, \"k\"),\n",
    "        (opt_cost_v_all, opt_cost_shift_v_all, \"C5\")]\n",
    "    rg_idx_uid = 1:length(list_uid)\n",
    "    \n",
    "    figure(figsize=(4,3))\n",
    "    \n",
    "    for (i,(cost,cost_control,color_)) = enumerate(list_cost)\n",
    "        Δcost = zeros(length(list_uid), length(rg_t))\n",
    "        for (i_uid, idx_uid) = enumerate(rg_idx_uid)\n",
    "            timestep = list_dict_fit[idx_uid][\"timestep\"]\n",
    "            xs = collect(rg_Δt_pred) * timestep\n",
    "            y_past_ = (sqrt.(cost_control[1,idx_uid,:,2]) .- sqrt.(cost[1,idx_uid,:,2]))\n",
    "            y_past = LinearInterpolation(xs,y_past_).(0:60)\n",
    "            y_future_ = sqrt.(cost_control[2,idx_uid,:,2]) .- sqrt.(cost[2,idx_uid,:,2])\n",
    "            y_future = LinearInterpolation(xs,y_future_).(0:60)\n",
    "\n",
    "            ys = vcat(reverse(y_past),y_future[2:end])\n",
    "            Δcost[i_uid,:] = ys\n",
    "        end\n",
    "        u = meanprj(Δcost, dims=1)\n",
    "        s = std(Δcost, dims=1)[:] / sqrt(length(rg_idx_uid)-1)\n",
    "        y1 = u .- s\n",
    "        y2 = u\n",
    "        y3 = u .+ s\n",
    "        plot(rg_t, y2, color=color_)\n",
    "        fill_between(rg_t, y1, y3, color=color_, alpha=0.2, linewidth=0)\n",
    "    end\n",
    "    \n",
    "    axhline(0, color=\"k\", linewidth=0.75)\n",
    "    axvline(0, color=\"k\", linewidth=0.75)\n",
    "    ylim(-0.01, 0.05)\n",
    "    yticks(-0.01:0.01:0.05)\n",
    "    xticks(-60:10:60)\n",
    "    xlim(-60,60)\n",
    "    ylabel(\"performance (mm/s)\")\n",
    "    xlabel(\"Δt (s)\")\n",
    "end"
   ]
  },
  {
   "cell_type": "code",
   "execution_count": 42,
   "id": "e22c9705-0052-45d9-bbf4-6e838bae4f00",
   "metadata": {},
   "outputs": [
    {
     "data": {
      "text/plain": [
       "\"/data1/prj_kfc/data/2023-04-18-decoder-time-pred-result.h5\""
      ]
     },
     "execution_count": 42,
     "metadata": {},
     "output_type": "execute_result"
    }
   ],
   "source": [
    "path_h5 = \"/data1/prj_kfc/data/2023-04-18-decoder-time-pred-result.h5\""
   ]
  },
  {
   "cell_type": "code",
   "execution_count": 45,
   "id": "ebfd6c73-38b5-4cad-8e7d-b703dd6d109a",
   "metadata": {},
   "outputs": [],
   "source": [
    "rm(path_h5)"
   ]
  },
  {
   "cell_type": "code",
   "execution_count": 46,
   "id": "c5060f13-98f1-4bc8-a31c-b680a6382ef4",
   "metadata": {},
   "outputs": [],
   "source": [
    "b = \"v\"\n",
    "h5write(path_h5, \"$b/control_b_current\", opt_cost_control_v_current)\n",
    "h5write(path_h5, \"$b/shift_control_b_current\", opt_cost_shift_control_v_current)\n",
    "h5write(path_h5, \"$b/control_b\", opt_cost_control_v)\n",
    "h5write(path_h5, \"$b/shift_control_b\", opt_cost_shift_control_v)\n",
    "h5write(path_h5, \"$b/b_all\", opt_cost_v_all)\n",
    "h5write(path_h5, \"$b/shift_b_all\", opt_cost_shift_v_all)"
   ]
  },
  {
   "cell_type": "code",
   "execution_count": 47,
   "id": "252fdae8-100c-45c8-a418-40fd31e41833",
   "metadata": {},
   "outputs": [
    {
     "data": {
      "text/plain": [
       "Dict{String, Any} with 6 entries:\n",
       "  \"shift_b_all\"             => [0.000449925 0.000435597 … 0.00135656 0.00125693…\n",
       "  \"b_all\"                   => [0.000201923 0.000204511 … 0.000417361 0.0004648…\n",
       "  \"control_b\"               => [0.00036492 0.000359299 … 0.000572569 0.00076456…\n",
       "  \"shift_control_b_current\" => [0.000609932 0.000684108 … 0.00191102 0.00207988…\n",
       "  \"shift_control_b\"         => [0.000699505 0.000780948 … 0.002208 0.00219046; …\n",
       "  \"control_b_current\"       => [8.16724e-7 7.63861e-7 … 2.02742e-6 2.29045e-6; …"
      ]
     },
     "execution_count": 47,
     "metadata": {},
     "output_type": "execute_result"
    }
   ],
   "source": [
    "h5read(path_h5, \"v\")"
   ]
  },
  {
   "cell_type": "code",
   "execution_count": 48,
   "id": "9ade3689-e2cd-4d58-add1-8529c8efd043",
   "metadata": {},
   "outputs": [
    {
     "data": {
      "text/plain": [
       "Dict{String, Any} with 6 entries:\n",
       "  \"shift_b_all\"             => [0.0977221 0.0270459 … 0.0154142 0.0194027; 0.09…\n",
       "  \"b_all\"                   => [0.0584303 0.0162396 … 0.00871388 0.0154399; 0.0…\n",
       "  \"control_b\"               => [0.0847986 0.0210337 … 0.0121417 0.0201372; 0.08…\n",
       "  \"shift_control_b_current\" => [0.125591 0.0314907 … 0.016693 0.0205526; 0.1255…\n",
       "  \"shift_control_b\"         => [0.137119 0.0326992 … 0.0171164 0.0206523; 0.137…\n",
       "  \"control_b_current\"       => [0.000148562 2.64281e-5 … 1.13251e-5 1.91497e-5;…"
      ]
     },
     "execution_count": 48,
     "metadata": {},
     "output_type": "execute_result"
    }
   ],
   "source": [
    "h5read(path_h5, \"hc\")"
   ]
  },
  {
   "cell_type": "code",
   "execution_count": 49,
   "id": "e3c17590-ef1a-44bf-97e2-4bf760273718",
   "metadata": {},
   "outputs": [
    {
     "data": {
      "text/plain": [
       "Dict{String, Any} with 6 entries:\n",
       "  \"shift_b_all\"             => [3.11567 0.840645 … 1.53592 1.23212; 3.11567 0.8…\n",
       "  \"b_all\"                   => [2.68295 1.0134 … 1.50329 0.854314; 2.68295 1.01…\n",
       "  \"control_b\"               => [0.0219361 0.0659923 … 0.0517796 0.0383239; 0.02…\n",
       "  \"shift_control_b_current\" => [2.16958 0.577931 … 1.1601 1.02863; 2.16958 0.57…\n",
       "  \"shift_control_b\"         => [2.83795 0.715047 … 1.31554 1.11788; 2.83795 0.7…\n",
       "  \"control_b_current\"       => [0.00239913 0.000916196 … 0.00132544 0.000733043…"
      ]
     },
     "execution_count": 49,
     "metadata": {},
     "output_type": "execute_result"
    }
   ],
   "source": [
    "h5read(path_h5, \"p\")"
   ]
  },
  {
   "cell_type": "code",
   "execution_count": null,
   "id": "81351d5e-2922-40ad-9271-3f7237556a99",
   "metadata": {},
   "outputs": [],
   "source": []
  }
 ],
 "metadata": {
  "@webio": {
   "lastCommId": "91d0bfa4-d4a4-4075-a2e7-d8954b065b41",
   "lastKernelId": "aa22978a-34b2-4cd8-a3a6-1e0601907f3f"
  },
  "kernelspec": {
   "display_name": "Julia (01t) 1.9.0-beta3",
   "language": "julia",
   "name": "julia-_01t_-1.9"
  },
  "language_info": {
   "file_extension": ".jl",
   "mimetype": "application/julia",
   "name": "julia",
   "version": "1.9.0"
  }
 },
 "nbformat": 4,
 "nbformat_minor": 5
}
