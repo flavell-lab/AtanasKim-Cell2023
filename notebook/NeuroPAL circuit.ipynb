{
 "cells": [
  {
   "cell_type": "markdown",
   "id": "4733ce75-2827-4c7d-9a6e-647982c22746",
   "metadata": {},
   "source": [
    "## Comprehensive circuit"
   ]
  },
  {
   "cell_type": "code",
   "execution_count": 1,
   "id": "5a393e53-f3b7-4718-8563-7a19e6408482",
   "metadata": {},
   "outputs": [
    {
     "data": {
      "application/vnd.webio.node+json": {
       "children": [],
       "instanceArgs": {
        "namespace": "html",
        "tag": "div"
       },
       "nodeType": "DOM",
       "props": {},
       "type": "node"
      },
      "text/html": [
       "<div style=\"padding: 1em; background-color: #f8d6da; border: 1px solid #f5c6cb; font-weight: bold;\">\n",
       "<p>The WebIO Jupyter extension was not detected. See the\n",
       "<a href=\"https://juliagizmos.github.io/WebIO.jl/latest/providers/ijulia/\" target=\"_blank\">\n",
       "    WebIO Jupyter integration documentation\n",
       "</a>\n",
       "for more information.\n",
       "</div>\n"
      ],
      "text/plain": [
       "WebIO._IJuliaInit()"
      ]
     },
     "metadata": {
      "@webio": {
       "kernelId": "6597a55c-86e2-4337-b4b9-20f1e2477751"
      }
     },
     "output_type": "display_data"
    }
   ],
   "source": [
    "using NeuroPALData, DelimitedFiles, ANTSUNData, HDF5, JSON, PyPlot,\n",
    "    PyCall, Statistics, Combinatorics, LinearAlgebra, FlavellBase, NaNMath,\n",
    "    Distances, StatsBase, Random, Suppressor, LinearAlgebra, ProgressMeter,\n",
    "    FlavellConstants, EncoderModelGen, HypothesisTests,\n",
    "    CePNEMAnalysis, YAML, Clustering, JLD2, Distributions, MultipleTesting,\n",
    "    KernelDensity, ConnectomePlot, Colors, HierarchicalPosteriorModel, GLM, DataFrames\n",
    "zstd = FlavellBase.standardize\n",
    "\n",
    "rc_params = PyDict(pyimport(\"matplotlib\")[\"rcParams\"]);\n",
    "rc_params[\"font.sans-serif\"] = [\"Arial\"];\n",
    "rc_params[\"font.size\"] = 7;\n",
    "fix_plot() = (margins(0.05); tick_params(direction = \"out\");\n",
    "    ax = gca(); ax[:xaxis][:tick_bottom]();\n",
    "    ax[:yaxis][:tick_left]();\n",
    "    ax[:spines][\"top\"][\"set_visible\"](false);\n",
    "    ax[:spines][\"right\"][\"set_visible\"](false););"
   ]
  },
  {
   "cell_type": "code",
   "execution_count": 2,
   "id": "087bdfca-ea0e-4739-a06b-68e2264ba652",
   "metadata": {},
   "outputs": [
    {
     "data": {
      "text/plain": [
       "\"/data1/prj_kfc/figure/manuscript/cell_draft2/figure4/hc_circuit\""
      ]
     },
     "execution_count": 2,
     "metadata": {},
     "output_type": "execute_result"
    }
   ],
   "source": [
    "path_fig_root = \"/data1/prj_kfc/figure/manuscript/cell_draft2/figure4/hc_circuit/\"\n",
    "mkpath(path_fig_root)"
   ]
  },
  {
   "cell_type": "code",
   "execution_count": 3,
   "id": "bbc5d899-5470-4714-82cd-315ead400601",
   "metadata": {},
   "outputs": [],
   "source": [
    "py_scipy = pyimport(\"scipy\")\n",
    "py_nx = pyimport(\"networkx\")\n",
    "py_copy = pyimport(\"copy\");"
   ]
  },
  {
   "cell_type": "code",
   "execution_count": 4,
   "id": "30e77893-7268-4c63-8822-3bd8badffe86",
   "metadata": {},
   "outputs": [],
   "source": [
    "θh_pos_is_ventral = YAML.load_file(\"/data1/prj_kfc/data/data_constant/pos_is_ventral.yaml\");"
   ]
  },
  {
   "cell_type": "markdown",
   "id": "574b3309-bd36-47c6-8944-2382ee73ac38",
   "metadata": {},
   "source": [
    "## Data"
   ]
  },
  {
   "cell_type": "markdown",
   "id": "f2089358-68cc-4055-8459-3aa11f781e29",
   "metadata": {},
   "source": [
    "### Load data"
   ]
  },
  {
   "cell_type": "code",
   "execution_count": 5,
   "id": "b4c48f69-07e4-4eff-a3da-e0f89b481450",
   "metadata": {},
   "outputs": [],
   "source": [
    "list_uid_baseline = sort([\"2022-06-14-01\", \"2022-06-14-07\",\n",
    "    \"2022-06-14-13\", \"2022-06-28-01\", \"2022-06-28-07\",\n",
    "    \"2022-07-15-06\", \"2022-07-15-12\",\n",
    "    \"2022-07-20-01\", \"2022-07-26-01\", \"2022-08-02-01\",\n",
    "    \"2023-01-09-28\", \"2023-01-17-01\", \"2023-01-19-01\",\n",
    "    \"2023-01-19-08\", \"2023-01-19-15\", \"2023-01-19-22\",\n",
    "    \"2023-01-23-01\", \"2023-01-23-08\", \"2023-01-23-15\", \"2023-01-23-21\",\n",
    "    \"2023-03-07-01\"])\n",
    "\n",
    "list_uid_heat = [\"2022-12-21-06\", \"2023-01-05-01\", \"2023-01-05-18\",\n",
    "    \"2023-01-06-01\", \"2023-01-06-08\", \"2023-01-06-15\", \"2023-01-09-08\",\n",
    "    \"2023-01-09-15\", \"2023-01-09-22\", \"2023-01-10-07\", \"2023-01-10-14\",\n",
    "    \"2023-01-13-07\", \"2023-01-16-01\", \"2023-01-16-08\", \"2023-01-16-15\",\n",
    "    \"2023-01-16-22\", \"2023-01-17-07\", \"2023-01-17-14\", \"2023-01-18-01\"] |> sort;\n",
    "# short: \"2022-05-17-01\", \"2022-05-17-06\""
   ]
  },
  {
   "cell_type": "code",
   "execution_count": 6,
   "id": "54abec49-429a-499d-89de-cf2fe07000ac",
   "metadata": {},
   "outputs": [
    {
     "data": {
      "text/plain": [
       "40"
      ]
     },
     "execution_count": 6,
     "metadata": {},
     "output_type": "execute_result"
    }
   ],
   "source": [
    "list_uid = vcat(list_uid_baseline, list_uid_heat); length(list_uid)"
   ]
  },
  {
   "cell_type": "code",
   "execution_count": 7,
   "id": "0a834a82-7311-47a7-813e-f7fc046b3978",
   "metadata": {},
   "outputs": [
    {
     "name": "stderr",
     "output_type": "stream",
     "text": [
      "\u001b[32mProgress: 100%|█████████████████████████████████████████| Time: 0:00:03\u001b[39m\n"
     ]
    }
   ],
   "source": [
    "list_data_dict = []\n",
    "@showprogress for (idx_uid, data_uid) = enumerate(list_uid)\n",
    "    path_data = \"/scratch/prj_kfc/processed_h5/$(data_uid)-data.h5\"\n",
    "    data_dict = import_data(path_data, custom_keys=[\"neuropal_registration\"])\n",
    "\n",
    "    push!(list_data_dict, data_dict)\n",
    "end"
   ]
  },
  {
   "cell_type": "markdown",
   "id": "fcefc7d8-ceed-4e6b-bbcd-42b27421f4ec",
   "metadata": {},
   "source": [
    "### Load NeuroPAL"
   ]
  },
  {
   "cell_type": "code",
   "execution_count": 8,
   "id": "c1371ac7-81f2-4e28-aec4-7909ab00b13d",
   "metadata": {},
   "outputs": [],
   "source": [
    "list_neuropal_label = load(\"/scratch/prj_kfc/list_neuropal_label.jld2\")[\"list_neuropal_label\"];"
   ]
  },
  {
   "cell_type": "code",
   "execution_count": 9,
   "id": "e8d66b43-4a91-490d-a4ac-c0468e5b0e2b",
   "metadata": {},
   "outputs": [
    {
     "name": "stderr",
     "output_type": "stream",
     "text": [
      "\u001b[32mProgress: 100%|█████████████████████████████████████████| Time: 0:01:11\u001b[39m\n"
     ]
    }
   ],
   "source": [
    "# path_h5_enc = \"/data1/prj_kfc/data/gen_analysis_data/2022-10-14-neuropal-enc.h5\"\n",
    "path_h5_enc = \"/scratch/prj_kfc/2023-03-31-neuropal-baseline-enc.h5\"\n",
    "path_h5_enc_heat = \"/scratch/prj_kfc/2023-03-07-neuropal-heatstim-enc.h5\"\n",
    "list_dict_fit = []\n",
    "\n",
    "@showprogress for uid = list_uid\n",
    "    if uid in list_uid_baseline\n",
    "        push!(list_dict_fit, h5read(path_h5_enc, uid))\n",
    "    elseif uid in list_uid_heat\n",
    "        push!(list_dict_fit, h5read(path_h5_enc_heat, uid))        \n",
    "    else\n",
    "        error(\"$uid does not exist\")\n",
    "    end\n",
    "end"
   ]
  },
  {
   "cell_type": "code",
   "execution_count": 10,
   "id": "18b535a2-e79b-48df-8400-821187ac74f5",
   "metadata": {},
   "outputs": [],
   "source": [
    "list_neuropal_order_info = readdlm(\"/data1/prj_neuropal/data/neuropal_label_prj_kfc/NeuroPAL order LR.csv\",',');"
   ]
  },
  {
   "cell_type": "code",
   "execution_count": 11,
   "id": "bb871c05-d770-4f38-9254-cb0a4e334dc5",
   "metadata": {},
   "outputs": [],
   "source": [
    "list_class_dv = get_list_class_dv(map(x->x[1],list_neuropal_label));"
   ]
  },
  {
   "cell_type": "code",
   "execution_count": 12,
   "id": "3a11a3ce-5a2b-44be-9200-3c6e35bb4ece",
   "metadata": {},
   "outputs": [
    {
     "name": "stderr",
     "output_type": "stream",
     "text": [
      "\u001b[33m\u001b[1m┌ \u001b[22m\u001b[39m\u001b[33m\u001b[1mWarning: \u001b[22m\u001b[39mclass ASE is not in the orderling file\n",
      "\u001b[33m\u001b[1m└ \u001b[22m\u001b[39m\u001b[90m@ NeuroPALData ~/.julia/packages/NeuroPALData/P9Wwv/src/class.jl:100\u001b[39m\n",
      "\u001b[33m\u001b[1m┌ \u001b[22m\u001b[39m\u001b[33m\u001b[1mWarning: \u001b[22m\u001b[39mclass IL1 is not in the orderling file\n",
      "\u001b[33m\u001b[1m└ \u001b[22m\u001b[39m\u001b[90m@ NeuroPALData ~/.julia/packages/NeuroPALData/P9Wwv/src/class.jl:100\u001b[39m\n",
      "\u001b[33m\u001b[1m┌ \u001b[22m\u001b[39m\u001b[33m\u001b[1mWarning: \u001b[22m\u001b[39mclass IL2 is not in the orderling file\n",
      "\u001b[33m\u001b[1m└ \u001b[22m\u001b[39m\u001b[90m@ NeuroPALData ~/.julia/packages/NeuroPALData/P9Wwv/src/class.jl:100\u001b[39m\n",
      "\u001b[33m\u001b[1m┌ \u001b[22m\u001b[39m\u001b[33m\u001b[1mWarning: \u001b[22m\u001b[39mclass RMH is not in the orderling file\n",
      "\u001b[33m\u001b[1m└ \u001b[22m\u001b[39m\u001b[90m@ NeuroPALData ~/.julia/packages/NeuroPALData/P9Wwv/src/class.jl:100\u001b[39m\n",
      "\u001b[33m\u001b[1m┌ \u001b[22m\u001b[39m\u001b[33m\u001b[1mWarning: \u001b[22m\u001b[39mclass SAAD is not in the orderling file\n",
      "\u001b[33m\u001b[1m└ \u001b[22m\u001b[39m\u001b[90m@ NeuroPALData ~/.julia/packages/NeuroPALData/P9Wwv/src/class.jl:100\u001b[39m\n",
      "\u001b[33m\u001b[1m┌ \u001b[22m\u001b[39m\u001b[33m\u001b[1mWarning: \u001b[22m\u001b[39mclass SABV is not in the orderling file\n",
      "\u001b[33m\u001b[1m└ \u001b[22m\u001b[39m\u001b[90m@ NeuroPALData ~/.julia/packages/NeuroPALData/P9Wwv/src/class.jl:100\u001b[39m\n"
     ]
    }
   ],
   "source": [
    "list_class_ordered = generate_list_class_custom_order(list_neuropal_order_info, list_class_dv);"
   ]
  },
  {
   "cell_type": "code",
   "execution_count": 13,
   "id": "f875cb3e-9642-4b34-afd1-4ef30470a292",
   "metadata": {},
   "outputs": [
    {
     "data": {
      "text/plain": [
       "2-element Vector{String}:\n",
       " \"SIA\"\n",
       " \"SMB\""
      ]
     },
     "execution_count": 13,
     "metadata": {},
     "output_type": "execute_result"
    }
   ],
   "source": [
    "list_class_classify_dv_enc = [\"SIA\",\"SMB\"] # classify based on D/V tuning"
   ]
  },
  {
   "cell_type": "code",
   "execution_count": 14,
   "id": "2ae197e5-c863-4f2d-9763-2149d8c9ec63",
   "metadata": {},
   "outputs": [],
   "source": [
    "list_match_dict = get_list_match_dict(list_neuropal_label, list_data_dict=list_data_dict, list_dict_fit=list_dict_fit,\n",
    "    list_class_ordered=list_class_ordered,\n",
    "    list_class_classify_dv_enc=list_class_classify_dv_enc, θ_confidence_label=2.5);"
   ]
  },
  {
   "cell_type": "code",
   "execution_count": 15,
   "id": "fbfe0c21-6e5e-41cd-97c5-c56cb4ea05ac",
   "metadata": {},
   "outputs": [],
   "source": [
    "list_uid_no_pumping = h5read(path_h5_enc, \"list_uid_invalid_pt\")\n",
    "list_uid_pumping = setdiff(list_uid, list_uid_no_pumping)\n",
    "list_idx_uid_pumping = [idx_uid for idx_uid = 1:length(list_uid) if list_uid[idx_uid] in list_uid_pumping];"
   ]
  },
  {
   "cell_type": "code",
   "execution_count": 16,
   "id": "4b35a196-4d15-4a2a-857e-2f3aba10ac40",
   "metadata": {},
   "outputs": [
    {
     "name": "stdout",
     "output_type": "stream",
     "text": [
      "missing (in the ordering file but not in the matches): Any[\"AVG\", \"RIG\", \"DB02\", \"DD01\", \"VB01\", \"ADF\"]\n",
      "n(class): 97\n"
     ]
    }
   ],
   "source": [
    "list_class_dv_ordered = let\n",
    "    list_all_class = unique(vcat(map(x->collect(keys(x[2])), list_match_dict)...))\n",
    "    list_intersect = intersect(map(x->x[2], list_class_ordered), list_all_class)\n",
    "    println(\"missing (in the ordering file but not in the matches): \", setdiff(setdiff(map(x->x[2], list_class_ordered), list_all_class)))\n",
    "    println(\"n(class): $(length(list_intersect))\")\n",
    "    list_intersect\n",
    "end;"
   ]
  },
  {
   "cell_type": "code",
   "execution_count": 17,
   "id": "4089787d-0e69-42f2-a16b-64e4c67868a6",
   "metadata": {},
   "outputs": [],
   "source": [
    "function get_list_use_rg_t(list_uid, list_uid_heat, list_dict_fit; θ_pumping=0.5)\n",
    "    list_all = Tuple{String,Vector{Int}}[]\n",
    "    list_pumping = Tuple{String,Vector{Int}}[]\n",
    "    \n",
    "    for (i_uid, uid) = enumerate(list_uid)\n",
    "        lattice_range_p = list_dict_fit[i_uid][\"lattice_range\"][\"P\"]\n",
    "        \n",
    "        q_heat = uid in list_uid_heat\n",
    "        rg_t = q_heat ? Int[1] : 1:length(lattice_range_p)\n",
    "        \n",
    "        list_rg_t_all = Int[]\n",
    "        list_rg_t_pumping = Int[]\n",
    "        \n",
    "        for i_rg_t = rg_t\n",
    "            # check pumping variance\n",
    "            lattice_p = lattice_range_p[\"$i_rg_t\"]\n",
    "            if abs(lattice_p[2] - lattice_p[1]) .> θ_pumping\n",
    "                push!(list_rg_t_pumping, i_rg_t)\n",
    "            end\n",
    "            \n",
    "            push!(list_rg_t_all, i_rg_t)\n",
    "        end\n",
    "        \n",
    "        push!(list_all, (uid, list_rg_t_all))\n",
    "        push!(list_pumping, (uid, list_rg_t_pumping))\n",
    "    end\n",
    "    \n",
    "    list_all, list_pumping\n",
    "end\n",
    "\n",
    "list_uid_use_all, list_uid_use_pumping = get_list_use_rg_t(list_uid, list_uid_heat, list_dict_fit);"
   ]
  },
  {
   "cell_type": "markdown",
   "id": "5c81dc72-9990-4ebb-98d8-7026e3632669",
   "metadata": {},
   "source": [
    "## Connectome"
   ]
  },
  {
   "cell_type": "markdown",
   "id": "fc6d0196-5447-4565-b2e5-be16004fe7ca",
   "metadata": {},
   "source": [
    "### Connectome - White et al L/R"
   ]
  },
  {
   "cell_type": "code",
   "execution_count": 18,
   "id": "8814f9b3-316f-475e-9890-3615c93aca72",
   "metadata": {},
   "outputs": [],
   "source": [
    "g_wh_lr = get_graph_white(0)\n",
    "ensory_wh_lr, list_muscle_wh_lr = get_sensory_muscle(g_wh_lr);"
   ]
  },
  {
   "cell_type": "code",
   "execution_count": 19,
   "id": "c795f49a-e87a-4454-b4bb-fd59f140e477",
   "metadata": {},
   "outputs": [],
   "source": [
    "g_wh_lr_p = get_graph_white_p(0)\n",
    "list_sensory_wh_lr_p, list_muscle_wh_lr_p = get_sensory_muscle(g_wh_lr_p);"
   ]
  },
  {
   "cell_type": "code",
   "execution_count": 20,
   "id": "8bb582ee-7fd0-4c53-8702-aa24a5b15793",
   "metadata": {},
   "outputs": [],
   "source": [
    "g_wv = get_graph_witvliet(2, merge_lr=true)\n",
    "# list_sensory_wv, list_muscle_wv = get_sensory_muscle(g_wv);\n",
    "\n",
    "g_wv_lr = get_graph_witvliet(2);\n",
    "# list_sensory_wv_lr, list_muscle_wv_lr = get_sensory_muscle(g_wv_lr);"
   ]
  },
  {
   "cell_type": "code",
   "execution_count": 21,
   "id": "d286723c-e10d-4a60-98a7-0b2b73a46d2e",
   "metadata": {},
   "outputs": [],
   "source": [
    "dict_pos_z_non_p = Base.ImmutableDict(ConnectomePlot.dict_pos_z_non_p...)\n",
    "dict_pos_v2_non_p = Base.ImmutableDict(ConnectomePlot.dict_pos_v2_non_p...)\n",
    "dict_pos_v3_non_p = Base.ImmutableDict(ConnectomePlot.dict_pos_v3_non_p...)\n",
    "\n",
    "dict_pos_z_p = Base.ImmutableDict(ConnectomePlot.dict_pos_z_p...)\n",
    "dict_pos_v2_p = Base.ImmutableDict(ConnectomePlot.dict_pos_v2_p...)\n",
    "dict_pos_v3_p = Base.ImmutableDict(ConnectomePlot.dict_pos_v3_p...)\n",
    "\n",
    "dict_pos_v2_patch, dict_pos_z_patch = get_dict_pos_patched();"
   ]
  },
  {
   "cell_type": "markdown",
   "id": "511944ac-75db-441f-9022-f694500823a8",
   "metadata": {},
   "source": [
    "### HB model fit"
   ]
  },
  {
   "cell_type": "code",
   "execution_count": 22,
   "id": "5ae3972b-2f03-439d-8261-43cc16374364",
   "metadata": {},
   "outputs": [
    {
     "data": {
      "text/plain": [
       "shuffle_dict_feature (generic function with 1 method)"
      ]
     },
     "execution_count": 22,
     "metadata": {},
     "output_type": "execute_result"
    }
   ],
   "source": [
    "function shuffle_dict_feature(dict_feature)\n",
    "    shuffled = typeof(dict_feature)()\n",
    "    \n",
    "    ks = collect(keys(dict_feature))\n",
    "    ks_shuffled = shuffle(ks)\n",
    "    \n",
    "    for (k,k_new) = zip(ks, ks_shuffled)\n",
    "        shuffled[k_new] = dict_feature[k]\n",
    "    end\n",
    "    \n",
    "    shuffled\n",
    "end"
   ]
  },
  {
   "cell_type": "code",
   "execution_count": 23,
   "id": "6b1dd633-2485-4518-baca-b83210f39df7",
   "metadata": {},
   "outputs": [],
   "source": [
    "extrapolated_behaviors = load(\"/data1/prj_neuropal/data/extrapolated_behaviors.jld2\")[\"extrapolated_behaviors\"];\n",
    "eb_n_t = size(extrapolated_behaviors,1)\n",
    "eb_list_b = [extrapolated_behaviors[:,i] for i = 1:3];\n",
    "hb_model_result = load(\"/data1/prj_neuropal/data/hierarchical_dict.jld2\")[\"hierarchical_dict\"]\n",
    "hb_model_rel_enc = load(\"/data1/prj_neuropal/data/hierarchical_relative_encoding_strength.jld2\")[\"hierarchical_relative_encoding_strength\"];"
   ]
  },
  {
   "cell_type": "code",
   "execution_count": 24,
   "id": "80265b17-b1d6-404a-9e68-ccf8bd821681",
   "metadata": {},
   "outputs": [],
   "source": [
    "dict_ps = hb_model_result[\"hierarchical_model_params\"]\n",
    "dict_distribution = Dict{String,Dict{String,Vector{Float64}}}()\n",
    "for (class, dict_ps) = dict_ps\n",
    "    ps_mu = dict_ps.mu\n",
    "    ps_sigma = dict_ps.sigma\n",
    "\n",
    "    ps_mu = vcat(ps_mu[1], exp(ps_mu[2]), ps_mu[3:end])\n",
    "    ps_sigma = exp.(ps_sigma)\n",
    "\n",
    "    dict_distribution[class] = Dict(\"mu\"=>ps_mu, \"sigma\"=>ps_sigma)\n",
    "end"
   ]
  },
  {
   "cell_type": "code",
   "execution_count": 25,
   "id": "262661a9-d41c-4161-90aa-d9e0a919c552",
   "metadata": {},
   "outputs": [],
   "source": [
    "hb_tuning = load(\"/data1/prj_neuropal/data/hierarchical_tunings_zstd.jld2\")[\"hierarchical_tunings\"];"
   ]
  },
  {
   "cell_type": "markdown",
   "id": "68943357-c609-4b0b-87cc-735a48f55f33",
   "metadata": {},
   "source": [
    "## Plot"
   ]
  },
  {
   "cell_type": "code",
   "execution_count": 26,
   "id": "86da45ac-2a53-47b9-bb28-300c6c2eb6c0",
   "metadata": {},
   "outputs": [
    {
     "data": {
      "text/plain": [
       "1"
      ]
     },
     "execution_count": 26,
     "metadata": {},
     "output_type": "execute_result"
    }
   ],
   "source": [
    "default_node_size = 400\n",
    "n_min_synapse_chemical = 1\n",
    "n_min_synapse_electrical = 1"
   ]
  },
  {
   "cell_type": "markdown",
   "id": "f3f18462-f2a9-4608-8037-697561039655",
   "metadata": {},
   "source": [
    "### nodes"
   ]
  },
  {
   "cell_type": "code",
   "execution_count": 27,
   "id": "c415a548-9dd1-4ee9-82b1-429496d7dd90",
   "metadata": {},
   "outputs": [],
   "source": [
    "dict_neuron_instance = Dict{String,Any}()\n",
    "let\n",
    "    for neuron = [\"RMED\", \"RMEV\", \"RMEL\", \"RMER\", \"RMDVL\", \"RMDVR\", \"RMDDL\", \"RMDDR\", \"RMDL\", \"RMD\",\n",
    "            \"SMDVL\", \"SMDVR\", \"SMDDL\", \"SMDDR\", \"SMBVL\", \"SMBVR\", \"SMBDL\", \"SMBDR\", \"SAAVL\", \"SAAVR\", \"SAADL\", \"SAADR\"]\n",
    "        dict_neuron_instance[neuron] = [neuron]\n",
    "    end \n",
    "    \n",
    "    for i = 3:7\n",
    "        for neuron = [\"BWM-DL0$i\", \"BWM-DR0$i\", \"BWM-VL0$i\", \"BWM-VR0$i\"]\n",
    "            dict_neuron_instance[neuron] = [neuron]\n",
    "        end\n",
    "    end\n",
    "\n",
    "    # for class = [\"AIN\", \"RIH\", \"URY\", \"IL1\", \"OLQ\", \"RIP\",\n",
    "    #     \"RIC\", \"ADA\", \"AIA\", \"AIM\", \"AUA\", \"RIB\", \"RID\", \"AVB\", \"AIB\", \"RIM\", \"AVE\", \"AVA\",\n",
    "    #         \"AIY\", \"AVK\", \"AVL\",\"RIV\", \"RIS\",\n",
    "    #         \"I1\",\"I2\",\"I3\",\"I4\",\"I5\",\"I6\",\"NSM\",\"M1\",\"M3\",\"M4\",\"M5\",\"MC\",\"MI\"]\n",
    "    \n",
    "    for class = [\"OLQ\",\"OLL\",\"IL1\",\"RIH\",\"CEP\",\"URX\",\"URB\",\n",
    "            \"RIP\",\n",
    "        \"RIC\", \"ADA\", \"AIA\", \"AIM\", \"AUA\", \"RIB\", \"RID\", \"AVB\", \"AIB\", \"RIM\", \"AVE\", \"AVA\",\n",
    "            \"AIY\", \"AVK\", \"AVL\",\"RIV\",\n",
    "            \"I1\",\"I2\",\"I3\",\"I4\",\"I5\",\"I6\",\"NSM\",\"M1\",\"M3\",\"M4\",\"M5\",\"MC\",\"MI\"]\n",
    "        list_ = []\n",
    "            for (k,v) = NeuroPALData.NEURON_REF_DICT\n",
    "                if v[\"class\"] == class\n",
    "                    push!(list_, k)#(k, v[\"class\"], v[\"LR\"]))\n",
    "                end\n",
    "            end\n",
    "        dict_neuron_instance[class] = list_\n",
    "    end\n",
    "end"
   ]
  },
  {
   "cell_type": "code",
   "execution_count": 28,
   "id": "aa93aad5-b680-4544-8e02-77f8f4c6fbaa",
   "metadata": {},
   "outputs": [],
   "source": [
    "dict_node = Dict{String,Dict}()\n",
    "id_to_node_label = Dict{Int,String}()\n",
    "node_label_to_id = Dict{String,Int}()\n",
    "\n",
    "dict_node[\"RMED\"] = Dict(\"pos\"=>(2,0), \"size\"=>default_node_size, \"node_type\"=>\"neuron\", \"node_subtype\"=>\"head\")\n",
    "dict_node[\"RMEV\"] = Dict(\"pos\"=>(-2,0), \"size\"=>default_node_size, \"node_type\"=>\"neuron\", \"node_subtype\"=>\"head\")\n",
    "dict_node[\"RMEL\"] = Dict(\"pos\"=>(0,-4), \"size\"=>default_node_size, \"node_type\"=>\"neuron\", \"node_subtype\"=>\"head\")\n",
    "dict_node[\"RMER\"] = Dict(\"pos\"=>(0,4), \"size\"=>default_node_size, \"node_type\"=>\"neuron\", \"node_subtype\"=>\"head\")\n",
    "\n",
    "dict_node[\"RMDVL\"] = Dict(\"pos\"=>(4,-4), \"size\"=>default_node_size, \"node_type\"=>\"neuron\", \"node_subtype\"=>\"head\")\n",
    "dict_node[\"RMDVR\"] = Dict(\"pos\"=>(4, 4), \"size\"=>default_node_size, \"node_type\"=>\"neuron\", \"node_subtype\"=>\"head\")\n",
    "dict_node[\"RMDDL\"] = Dict(\"pos\"=>(-4,-4), \"size\"=>default_node_size, \"node_type\"=>\"neuron\", \"node_subtype\"=>\"head\")\n",
    "dict_node[\"RMDDR\"] = Dict(\"pos\"=>(-4, 4), \"size\"=>default_node_size, \"node_type\"=>\"neuron\", \"node_subtype\"=>\"head\")\n",
    "dict_node[\"RMDL\"] = Dict(\"pos\"=>(0, -2), \"size\"=>default_node_size, \"node_type\"=>\"neuron\", \"node_subtype\"=>\"head\")\n",
    "dict_node[\"RMDR\"] = Dict(\"pos\"=>(0, 2), \"size\"=>default_node_size, \"node_type\"=>\"neuron\", \"node_subtype\"=>\"head\")\n",
    "\n",
    "dict_node[\"SMDVL\"] = Dict(\"pos\"=>(5.25, -2), \"size\"=>default_node_size, \"node_type\"=>\"neuron\", \"node_subtype\"=>\"head\")\n",
    "dict_node[\"SMDVR\"] = Dict(\"pos\"=>(5.25, 2), \"size\"=>default_node_size, \"node_type\"=>\"neuron\", \"node_subtype\"=>\"head\")\n",
    "dict_node[\"SMDDL\"] = Dict(\"pos\"=>(-5.25, -2), \"size\"=>default_node_size, \"node_type\"=>\"neuron\", \"node_subtype\"=>\"head\")\n",
    "dict_node[\"SMDDR\"] = Dict(\"pos\"=>(-5.25, 2), \"size\"=>default_node_size, \"node_type\"=>\"neuron\", \"node_subtype\"=>\"head\")\n",
    "\n",
    "dict_node[\"SMBVL\"] = Dict(\"pos\"=>(6.5, -4), \"size\"=>default_node_size, \"node_type\"=>\"neuron\", \"node_subtype\"=>\"head\")\n",
    "dict_node[\"SMBVR\"] = Dict(\"pos\"=>(6.5, 4), \"size\"=>default_node_size, \"node_type\"=>\"neuron\", \"node_subtype\"=>\"head\")\n",
    "dict_node[\"SMBDL\"] = Dict(\"pos\"=>(-6.5, -4), \"size\"=>default_node_size, \"node_type\"=>\"neuron\", \"node_subtype\"=>\"head\")\n",
    "dict_node[\"SMBDR\"] = Dict(\"pos\"=>(-6.5, 4), \"size\"=>default_node_size, \"node_type\"=>\"neuron\", \"node_subtype\"=>\"head\")\n",
    "\n",
    "dict_node[\"SAAVL\"] = Dict(\"pos\"=>(5.25, -6), \"size\"=>default_node_size, \"node_type\"=>\"neuron\", \"node_subtype\"=>\"head\")\n",
    "dict_node[\"SAAVR\"] = Dict(\"pos\"=>(5.25, 6), \"size\"=>default_node_size, \"node_type\"=>\"neuron\", \"node_subtype\"=>\"head\")\n",
    "dict_node[\"SAADL\"] = Dict(\"pos\"=>(-5.25, -6), \"size\"=>default_node_size, \"node_type\"=>\"neuron\", \"node_subtype\"=>\"head\")\n",
    "dict_node[\"SAADR\"] = Dict(\"pos\"=>(-5.25, 6), \"size\"=>default_node_size, \"node_type\"=>\"neuron\", \"node_subtype\"=>\"head\")\n",
    "\n",
    "for i = 3:7\n",
    "    dict_node[\"BWM-DL0$i\"] = Dict(\"pos\"=>(-9, -2.), \"size\"=>default_node_size, \"node_type\"=>\"muscle\", \"node_subtype\"=>\"none\")\n",
    "    dict_node[\"BWM-DR0$i\"] = Dict(\"pos\"=>(-9, 2.), \"size\"=>default_node_size, \"node_type\"=>\"muscle\", \"node_subtype\"=>\"none\")\n",
    "    dict_node[\"BWM-VL0$i\"] = Dict(\"pos\"=>(9, -2.), \"size\"=>default_node_size, \"node_type\"=>\"muscle\", \"node_subtype\"=>\"none\")\n",
    "    dict_node[\"BWM-VR0$i\"] = Dict(\"pos\"=>(9, 2.), \"size\"=>default_node_size, \"node_type\"=>\"muscle\", \"node_subtype\"=>\"none\")\n",
    "end\n",
    "\n",
    "dict_node[\"BWM-DL\"] = Dict(\"pos\"=>(-9, -2.), \"size\"=>default_node_size, \"node_type\"=>\"muscle_group\", \"node_subtype\"=>\"none\")\n",
    "dict_node[\"BWM-DR\"] = Dict(\"pos\"=>(-9, 2.), \"size\"=>default_node_size, \"node_type\"=>\"muscle_group\", \"node_subtype\"=>\"none\")\n",
    "dict_node[\"BWM-VL\"] = Dict(\"pos\"=>(9, -2.), \"size\"=>default_node_size, \"node_type\"=>\"muscle_group\", \"node_subtype\"=>\"none\")\n",
    "dict_node[\"BWM-VR\"] = Dict(\"pos\"=>(9, 2.), \"size\"=>default_node_size, \"node_type\"=>\"muscle_group\", \"node_subtype\"=>\"none\")\n",
    "\n",
    "#### middle\n",
    "#    [\"OLQ\",\"OLL\",\"IL1\",\"RIH\",\"CEP\",\"URX\"]\n",
    "dict_node[\"CEP\"] = Dict(\"pos\"=>(-3,-10), \"size\"=>default_node_size, \"node_type\"=>\"neuron\", \"node_subtype\"=>\"middle\")\n",
    "dict_node[\"RIH\"] = Dict(\"pos\"=>(0,-10), \"size\"=>default_node_size, \"node_type\"=>\"neuron\", \"node_subtype\"=>\"middle\")\n",
    "dict_node[\"URX\"] = Dict(\"pos\"=>(-2,-12), \"size\"=>default_node_size, \"node_type\"=>\"neuron\", \"node_subtype\"=>\"middle\")\n",
    "dict_node[\"OLL\"] = Dict(\"pos\"=>(-5,-13), \"size\"=>default_node_size, \"node_type\"=>\"neuron\", \"node_subtype\"=>\"middle\")\n",
    "dict_node[\"OLQ\"] = Dict(\"pos\"=>(2.7,-12), \"size\"=>default_node_size, \"node_type\"=>\"neuron\", \"node_subtype\"=>\"middle\")\n",
    "dict_node[\"IL1\"] = Dict(\"pos\"=>(-7,-10), \"size\"=>default_node_size, \"node_type\"=>\"neuron\", \"node_subtype\"=>\"middle\")\n",
    "dict_node[\"URB\"] = Dict(\"pos\"=>(-9,-13), \"size\"=>default_node_size, \"node_type\"=>\"neuron\", \"node_subtype\"=>\"middle\")\n",
    "\n",
    "# dict_node[\"AIN\"] = Dict(\"pos\"=>(-3,-10), \"size\"=>default_node_size, \"node_type\"=>\"neuron\", \"node_subtype\"=>\"middle\")\n",
    "# dict_node[\"RIH\"] = Dict(\"pos\"=>(0,-10), \"size\"=>default_node_size, \"node_type\"=>\"neuron\", \"node_subtype\"=>\"middle\")\n",
    "# dict_node[\"URY\"] = Dict(\"pos\"=>(-2,-12), \"size\"=>default_node_size, \"node_type\"=>\"neuron\", \"node_subtype\"=>\"middle\")\n",
    "# dict_node[\"RIS\"] = Dict(\"pos\"=>(-5,-13), \"size\"=>default_node_size, \"node_type\"=>\"neuron\", \"node_subtype\"=>\"middle\")\n",
    "# dict_node[\"OLQ\"] = Dict(\"pos\"=>(2.7,-12), \"size\"=>default_node_size, \"node_type\"=>\"neuron\", \"node_subtype\"=>\"middle\")\n",
    "# dict_node[\"IL1\"] = Dict(\"pos\"=>(-7,-10), \"size\"=>default_node_size, \"node_type\"=>\"neuron\", \"node_subtype\"=>\"middle\")\n",
    "\n",
    "dict_node[\"RIP\"] = Dict(\"pos\"=>(0.5,-15.8), \"size\"=>default_node_size, \"node_type\"=>\"neuron\", \"node_subtype\"=>\"middle\")\n",
    "\n",
    "\n",
    "#### locomotion\n",
    "Δx_loc, Δy_loc = -5, -18\n",
    "    # gr\n",
    "dict_node[\"RIC\"] = Dict(\"pos\"=>(-2+Δx_loc,1.25+Δy_loc), \"size\"=>default_node_size, \"node_type\"=>\"neuron\", \"node_subtype\"=>\"locomotion\")\n",
    "dict_node[\"ADA\"] = Dict(\"pos\"=>(2+Δx_loc,0.8+Δy_loc), \"size\"=>default_node_size, \"node_type\"=>\"neuron\", \"node_subtype\"=>\"locomotion\")\n",
    "# dict_node[\"AIY\"] = Dict(\"pos\"=>(0,0), \"size\"=>default_node_size, \"node_type\"=>\"neuron\", \"node_subtype\"=>\"locomotion\")\n",
    "\n",
    "# FWD\n",
    "dict_node[\"AIY\"] = Dict(\"pos\"=>(-5+Δx_loc,-4+Δy_loc), \"size\"=>default_node_size, \"node_type\"=>\"neuron\", \"node_subtype\"=>\"locomotion\")\n",
    "dict_node[\"AIA\"] = Dict(\"pos\"=>(-3+Δx_loc,-2+Δy_loc), \"size\"=>default_node_size, \"node_type\"=>\"neuron\", \"node_subtype\"=>\"locomotion\")\n",
    "dict_node[\"AIM\"] = Dict(\"pos\"=>(-2.5+Δx_loc,-4.5+Δy_loc), \"size\"=>default_node_size, \"node_type\"=>\"neuron\", \"node_subtype\"=>\"locomotion\")\n",
    "dict_node[\"AUA\"] = Dict(\"pos\"=>(-4.3+Δx_loc,-6+Δy_loc), \"size\"=>default_node_size, \"node_type\"=>\"neuron\", \"node_subtype\"=>\"locomotion\")\n",
    "dict_node[\"RIB\"] = Dict(\"pos\"=>(-1.8+Δx_loc,-8+Δy_loc), \"size\"=>default_node_size, \"node_type\"=>\"neuron\", \"node_subtype\"=>\"locomotion\")\n",
    "dict_node[\"RID\"] = Dict(\"pos\"=>(-3+Δx_loc,-10.1+Δy_loc), \"size\"=>default_node_size, \"node_type\"=>\"neuron\", \"node_subtype\"=>\"locomotion\")\n",
    "dict_node[\"AVB\"] = Dict(\"pos\"=>(-1.7+Δx_loc,-12+Δy_loc), \"size\"=>default_node_size, \"node_type\"=>\"neuron\", \"node_subtype\"=>\"locomotion\")\n",
    "dict_node[\"AVK\"] = Dict(\"pos\"=>(-3+Δx_loc,-14+Δy_loc), \"size\"=>default_node_size, \"node_type\"=>\"neuron\", \"node_subtype\"=>\"locomotion\")\n",
    "\n",
    "# REV\n",
    "dict_node[\"AIB\"] = Dict(\"pos\"=>(3+Δx_loc,-2+Δy_loc), \"size\"=>default_node_size, \"node_type\"=>\"neuron\", \"node_subtype\"=>\"locomotion\")\n",
    "dict_node[\"RIM\"] = Dict(\"pos\"=>(1.7+Δx_loc,-5+Δy_loc), \"size\"=>default_node_size, \"node_type\"=>\"neuron\", \"node_subtype\"=>\"locomotion\")\n",
    "dict_node[\"AVE\"] = Dict(\"pos\"=>(3+Δx_loc,-7+Δy_loc), \"size\"=>default_node_size, \"node_type\"=>\"neuron\", \"node_subtype\"=>\"locomotion\")\n",
    "dict_node[\"AVA\"] = Dict(\"pos\"=>(1.5+Δx_loc,-11+Δy_loc), \"size\"=>default_node_size, \"node_type\"=>\"neuron\", \"node_subtype\"=>\"locomotion\")\n",
    "dict_node[\"RIV\"] = Dict(\"pos\"=>(3+Δx_loc,-9+Δy_loc), \"size\"=>default_node_size, \"node_type\"=>\"neuron\", \"node_subtype\"=>\"locomotion\")\n",
    "dict_node[\"AVL\"] = Dict(\"pos\"=>(2.5+Δx_loc,-13.5+Δy_loc), \"size\"=>default_node_size, \"node_type\"=>\"neuron\", \"node_subtype\"=>\"locomotion\")\n",
    "\n",
    "#### feeding\n",
    "Δx_p, Δy_p = 5, -20\n",
    "dict_node[\"I1\"] = Dict(\"pos\"=>(-2+Δx_p, Δy_p), \"size\"=>default_node_size, \"node_type\"=>\"neuron\", \"node_subtype\"=>\"pharyngeal\")\n",
    "dict_node[\"I2\"] = Dict(\"pos\"=>(-4+Δx_p, -2+Δy_p), \"size\"=>default_node_size, \"node_type\"=>\"neuron\", \"node_subtype\"=>\"pharyngeal\")\n",
    "dict_node[\"I3\"] = Dict(\"pos\"=>(-1.5+Δx_p, -2.25+Δy_p), \"size\"=>default_node_size, \"node_type\"=>\"neuron\", \"node_subtype\"=>\"pharyngeal\")\n",
    "dict_node[\"I4\"] = Dict(\"pos\"=>(-4+Δx_p, -4.5+Δy_p), \"size\"=>default_node_size, \"node_type\"=>\"neuron\", \"node_subtype\"=>\"pharyngeal\")\n",
    "dict_node[\"I5\"] = Dict(\"pos\"=>(-0.5+Δx_p, -5+Δy_p), \"size\"=>default_node_size, \"node_type\"=>\"neuron\", \"node_subtype\"=>\"pharyngeal\")\n",
    "dict_node[\"I6\"] = Dict(\"pos\"=>(-2+Δx_p, -6.5+Δy_p), \"size\"=>default_node_size, \"node_type\"=>\"neuron\", \"node_subtype\"=>\"pharyngeal\")\n",
    "dict_node[\"NSM\"] = Dict(\"pos\"=>(Δx_p, 1.5+Δy_p), \"size\"=>default_node_size, \"node_type\"=>\"neuron\", \"node_subtype\"=>\"pharyngeal\")\n",
    "dict_node[\"M1\"] = Dict(\"pos\"=>(2+Δx_p, 0.25+Δy_p), \"size\"=>default_node_size, \"node_type\"=>\"neuron\", \"node_subtype\"=>\"pharyngeal\")\n",
    "dict_node[\"M3\"] = Dict(\"pos\"=>(0.5+Δx_p, -2+Δy_p), \"size\"=>default_node_size, \"node_type\"=>\"neuron\", \"node_subtype\"=>\"pharyngeal\")\n",
    "dict_node[\"M4\"] = Dict(\"pos\"=>(3.25+Δx_p, -2.25+Δy_p), \"size\"=>default_node_size, \"node_type\"=>\"neuron\", \"node_subtype\"=>\"pharyngeal\")\n",
    "dict_node[\"M5\"] = Dict(\"pos\"=>(2+Δx_p, -4+Δy_p), \"size\"=>default_node_size, \"node_type\"=>\"neuron\", \"node_subtype\"=>\"pharyngeal\")\n",
    "dict_node[\"MC\"] = Dict(\"pos\"=>(1+Δx_p, -7+Δy_p), \"size\"=>default_node_size, \"node_type\"=>\"neuron\", \"node_subtype\"=>\"pharyngeal\")\n",
    "dict_node[\"MI\"] = Dict(\"pos\"=>(3+Δx_p, -6+Δy_p), \"size\"=>default_node_size, \"node_type\"=>\"neuron\", \"node_subtype\"=>\"pharyngeal\")\n",
    "\n",
    "let\n",
    "    i_node = 1\n",
    "    for (k,v) = dict_node\n",
    "        id_to_node_label[i_node] = k\n",
    "        v[\"id\"] = i_node\n",
    "        \n",
    "        node_label_to_id[k] = i_node\n",
    "        \n",
    "        i_node += 1\n",
    "    end\n",
    "end"
   ]
  },
  {
   "cell_type": "markdown",
   "id": "213eea93-6b71-4054-aadf-f0fe3bdfda08",
   "metadata": {},
   "source": [
    "### edges"
   ]
  },
  {
   "cell_type": "code",
   "execution_count": 29,
   "id": "1e1916e7-2def-4ed1-abe2-1002e0d103cb",
   "metadata": {},
   "outputs": [],
   "source": [
    "list_synapses_np = let\n",
    "    data_connectome1 = ConnectomePlot.data_connectome_witvliet_7\n",
    "    data_connectome2 = ConnectomePlot.data_connectome_witvliet_8\n",
    "    \n",
    "    list_neuron = sort(collect(keys(dict_neuron_instance)))\n",
    "    list_synapses = Tuple{Int,Int,String,Int}[]\n",
    "    for class_presynaptic = list_neuron, class_postsynaptic = list_neuron\n",
    "        n_synapse_electrical = 0\n",
    "        n_synapse_chemical = 0\n",
    "        \n",
    "        for presynaptic = dict_neuron_instance[class_presynaptic], postsynaptic = dict_neuron_instance[class_postsynaptic]\n",
    "            for data = [data_connectome1, data_connectome2]\n",
    "                list_edges = filter(x->x[\"pre\"] == presynaptic && x[\"post\"] == postsynaptic, data)\n",
    "                if length(list_edges) > 0\n",
    "                    for edge = list_edges\n",
    "                        edge_type = edge[\"typ\"] == 0 ? \"chemical\" : \"electrical\"\n",
    "                        #0: chemical synapse 2: electrical synapse (gap junction)\n",
    "                        edge_count = sum(edge[\"syn\"])\n",
    "\n",
    "                        if edge_type == \"chemical\"\n",
    "                            n_synapse_chemical += edge_count\n",
    "                        else\n",
    "                            n_synapse_electrical += edge_count\n",
    "                        end\n",
    "                    end # edge list\n",
    "                end # if length(list_edges)\n",
    "            end # data\n",
    "            if n_synapse_chemical >= n_min_synapse_chemical\n",
    "                push!(list_synapses, (node_label_to_id[class_presynaptic],\n",
    "                        node_label_to_id[class_postsynaptic], \"chemical\", n_synapse_chemical))\n",
    "            end\n",
    "            if n_synapse_electrical >= n_min_synapse_electrical\n",
    "                push!(list_synapses, (node_label_to_id[class_presynaptic],\n",
    "                        node_label_to_id[class_postsynaptic], \"electrical\", n_synapse_electrical))\n",
    "            end\n",
    "        end\n",
    "    end # neuron\n",
    "    \n",
    "    list_synapses\n",
    "end;"
   ]
  },
  {
   "cell_type": "code",
   "execution_count": 30,
   "id": "a923fa29-0a92-4a0c-a366-2389d5740085",
   "metadata": {},
   "outputs": [
    {
     "data": {
      "text/plain": [
       "1707-element Vector{Tuple{Int64, Int64, String, Int64}}:\n",
       " (12, 12, \"electrical\", 1)\n",
       " (12, 12, \"electrical\", 2)\n",
       " (12, 12, \"electrical\", 2)\n",
       " (12, 67, \"chemical\", 2)\n",
       " (12, 67, \"chemical\", 2)\n",
       " (12, 67, \"chemical\", 2)\n",
       " (12, 38, \"chemical\", 2)\n",
       " (12, 38, \"chemical\", 3)\n",
       " (12, 38, \"chemical\", 5)\n",
       " (12, 38, \"chemical\", 6)\n",
       " (12, 31, \"chemical\", 1)\n",
       " (12, 31, \"chemical\", 4)\n",
       " (12, 31, \"chemical\", 7)\n",
       " ⋮\n",
       " (70, 66, \"electrical\", 1)\n",
       " (70, 66, \"electrical\", 1)\n",
       " (70, 49, \"chemical\", 1)\n",
       " (70, 49, \"chemical\", 1)\n",
       " (70, 69, \"chemical\", 1)\n",
       " (70, 69, \"electrical\", 1)\n",
       " (70, 69, \"chemical\", 1)\n",
       " (70, 69, \"electrical\", 1)\n",
       " (70, 69, \"chemical\", 1)\n",
       " (70, 69, \"electrical\", 1)\n",
       " (70, 69, \"chemical\", 1)\n",
       " (70, 69, \"electrical\", 2)"
      ]
     },
     "execution_count": 30,
     "metadata": {},
     "output_type": "execute_result"
    }
   ],
   "source": [
    "list_synapses_np # (pre, post, type, # synapses)"
   ]
  },
  {
   "cell_type": "code",
   "execution_count": 31,
   "id": "eabb9a70-060e-4486-988f-64bdef010c94",
   "metadata": {},
   "outputs": [],
   "source": [
    "list_synapses_p = let\n",
    "    data_connectome_white = ConnectomePlot.data_connectome_white\n",
    "    \n",
    "    # list_neuron = sort(collect(keys(dict_node)))\n",
    "    list_neuron = [\"I1\",\"I2\",\"I3\",\"I4\",\"I5\",\"I6\",\"NSM\",\"M1\",\"M3\",\"M4\",\"M5\",\"MC\",\"MI\",\"RIP\"]\n",
    "    list_synapses = Tuple{Int,Int,String,Int}[]\n",
    "    for class_presynaptic = list_neuron, class_postsynaptic = list_neuron\n",
    "        n_synapse_electrical = 0\n",
    "        n_synapse_chemical = 0\n",
    "        \n",
    "        for presynaptic = dict_neuron_instance[class_presynaptic], postsynaptic = dict_neuron_instance[class_postsynaptic]\n",
    "            for data = [data_connectome_white]\n",
    "                list_edges = filter(x->x[\"pre\"] == presynaptic && x[\"post\"] == postsynaptic, data)\n",
    "                if length(list_edges) > 0\n",
    "                    for edge = list_edges\n",
    "                        edge_type = edge[\"typ\"] == 0 ? \"chemical\" : \"electrical\"\n",
    "                        #0: chemical synapse 2: electrical synapse (gap junction)\n",
    "                        edge_count = sum(edge[\"syn\"])\n",
    "\n",
    "                        if edge_type == \"chemical\"\n",
    "                            n_synapse_chemical += edge_count\n",
    "                        else\n",
    "                            n_synapse_electrical += edge_count\n",
    "                        end\n",
    "                    end # edge list\n",
    "                end # if length(list_edges)\n",
    "            end # data\n",
    "            if n_synapse_chemical >= n_min_synapse_chemical\n",
    "                push!(list_synapses, (node_label_to_id[class_presynaptic],\n",
    "                        node_label_to_id[class_postsynaptic], \"chemical\", 2 * n_synapse_chemical))\n",
    "            end\n",
    "            if n_synapse_electrical >= n_min_synapse_electrical\n",
    "                push!(list_synapses, (node_label_to_id[class_presynaptic],\n",
    "                        node_label_to_id[class_postsynaptic], \"electrical\", 2 * n_synapse_electrical))\n",
    "            end\n",
    "        end\n",
    "    end # neuron\n",
    "    \n",
    "    list_synapses\n",
    "end;"
   ]
  },
  {
   "cell_type": "code",
   "execution_count": 32,
   "id": "d38aa9e1-3565-44c3-9326-00e00e2bf4b3",
   "metadata": {},
   "outputs": [
    {
     "data": {
      "text/plain": [
       "1680-element Vector{Tuple{Int64, Int64, String, Int64}}:\n",
       " (12, 67, \"chemical\", 2)\n",
       " (12, 67, \"chemical\", 2)\n",
       " (12, 67, \"chemical\", 2)\n",
       " (12, 38, \"chemical\", 2)\n",
       " (12, 38, \"chemical\", 3)\n",
       " (12, 38, \"chemical\", 5)\n",
       " (12, 38, \"chemical\", 6)\n",
       " (12, 31, \"chemical\", 1)\n",
       " (12, 31, \"chemical\", 4)\n",
       " (12, 31, \"chemical\", 7)\n",
       " (12, 31, \"chemical\", 9)\n",
       " (12, 32, \"chemical\", 13)\n",
       " (12, 32, \"chemical\", 36)\n",
       " ⋮\n",
       " (54, 15, \"chemical\", 2)\n",
       " (54, 15, \"electrical\", 2)\n",
       " (54, 45, \"chemical\", 2)\n",
       " (54, 45, \"electrical\", 2)\n",
       " (54, 45, \"chemical\", 4)\n",
       " (54, 45, \"electrical\", 4)\n",
       " (54, 48, \"electrical\", 4)\n",
       " (54, 48, \"electrical\", 8)\n",
       " (59, 60, \"electrical\", 2)\n",
       " (59, 60, \"electrical\", 2)\n",
       " (59, 60, \"electrical\", 2)\n",
       " (59, 60, \"electrical\", 4)"
      ]
     },
     "execution_count": 32,
     "metadata": {},
     "output_type": "execute_result"
    }
   ],
   "source": [
    "list_synapses = vcat(list_synapses_np, list_synapses_p)\n",
    "list_synapses = filter(x->x[1]!=x[2], list_synapses)"
   ]
  },
  {
   "cell_type": "code",
   "execution_count": 33,
   "id": "41d9e26a-8d45-4068-9b85-cb4295da5d22",
   "metadata": {},
   "outputs": [],
   "source": [
    "list_neuron_head_manifest = [\n",
    "      (\"RMD\",\"L\"),\n",
    "        (\"RMD\",\"R\"),\n",
    "        (\"RMDV\",\"L\"),\n",
    "        (\"RMDV\",\"R\"),\n",
    "        (\"RMDD\",\"L\"),\n",
    "        (\"RMDD\",\"R\"),\n",
    "        (\"RME\",\"L\"),\n",
    "        (\"RME\",\"R\"),\n",
    "        (\"RMED\",nothing),\n",
    "        (\"RMEV\",nothing),\n",
    "        (\"SMDV\",\"L\"),\n",
    "        (\"SMDV\",\"R\"),\n",
    "        (\"SMDD\",\"L\"),\n",
    "        (\"SMDD\",\"R\"),\n",
    "        (\"SMBD\",\"L\"),\n",
    "        (\"SMBD\",\"R\"),\n",
    "        (\"SMBV\",\"L\"),\n",
    "        (\"SMBV\",\"R\"),\n",
    "        \n",
    "        (\"SAADL\",nothing), # already split in match dict\n",
    "        (\"SAADR\",nothing), # already split in match dict\n",
    "        (\"SAAV\",\"L\"),\n",
    "        (\"SAAV\",\"R\")\n",
    "];"
   ]
  },
  {
   "cell_type": "markdown",
   "id": "d3c2a312-29a7-4700-8b3d-e19efbc53dc0",
   "metadata": {},
   "source": [
    "### feature compute"
   ]
  },
  {
   "cell_type": "markdown",
   "id": "9cc209ae-f634-4c46-b90c-68cf420046df",
   "metadata": {},
   "source": [
    "#### hc circuit"
   ]
  },
  {
   "cell_type": "code",
   "execution_count": 34,
   "id": "d54b7227-1eb1-47e9-a708-3c7a63ae9006",
   "metadata": {},
   "outputs": [],
   "source": [
    "dict_dorsal_fwd, dict_dorsal_rev, dict_fwd, dict_rev = let\n",
    "    enc_dor_fwd = Dict()\n",
    "    enc_dor_rev = Dict()\n",
    "    enc_fwd = Dict()\n",
    "    enc_rev = Dict()\n",
    "\n",
    "    for (idx_uid, (uid, rg_t)) = enumerate(list_uid_use_all)\n",
    "        dict_fit = list_dict_fit[idx_uid]\n",
    "        dict_match = list_match_dict[idx_uid][2]\n",
    "        \n",
    "        for rg_t = rg_t\n",
    "            dict_ts = dict_fit[\"tuning_strength\"][\"$rg_t\"]\n",
    "            for (idx_class, (class_dv, class_lr)) = enumerate(list_neuron_head_manifest)\n",
    "                neuron_match = nothing\n",
    "                class_full = if isnothing(class_lr)\n",
    "                    class_dv\n",
    "                else\n",
    "                    class_dv * class_lr\n",
    "                end\n",
    "                \n",
    "                if haskey(dict_match, class_dv)\n",
    "                    list_match = if isnothing(class_lr)\n",
    "                        dict_match[class_dv]\n",
    "                    else\n",
    "                        filter(x->(x[1][\"LR\"] == class_lr), dict_match[class_dv])\n",
    "                    end   \n",
    "                    \n",
    "                    if length(list_match) == 0\n",
    "                        # no match\n",
    "                    elseif length(list_match) == 1\n",
    "                        neuron_match = list_match[1]\n",
    "                    else\n",
    "                        error(\"multiple label found\")\n",
    "                    end\n",
    "                    \n",
    "                    if !isnothing(neuron_match)\n",
    "                        (label, roi_gcamp, match_confidence) = neuron_match\n",
    "                        dict_ts_neuron = dict_ts[\"$roi_gcamp\"]\n",
    "                        \n",
    "                        fwd_slope = dict_ts_neuron[\"v_encoding\"][1,2,1,1]\n",
    "                        rev_slope = dict_ts_neuron[\"v_encoding\"][3,4,1,1]\n",
    "                        \n",
    "                        add_list_dict!(enc_fwd, class_full, fwd_slope)\n",
    "                        add_list_dict!(enc_rev, class_full, rev_slope)\n",
    "                        add_list_dict!(enc_dor_fwd, class_full, dict_ts_neuron[\"fwd_θh_encoding_dorsal\"])\n",
    "                        add_list_dict!(enc_dor_rev, class_full, dict_ts_neuron[\"rev_θh_encoding_dorsal\"])\n",
    "                    end\n",
    "                end # if haskey(class_dv)\n",
    "            end # for list_classes for lr\n",
    "        end # for rg_t\n",
    "    end # for list_uid_use_t_all\n",
    "\n",
    "    \n",
    "    dict_dorsal_fwd, dict_dorsal_rev, dict_fwd, dict_rev = Dict(), Dict(), Dict(), Dict()\n",
    "    \n",
    "    for k = keys(enc_dor_fwd)\n",
    "        dict_dorsal_fwd[k] = mean(enc_dor_fwd[k])\n",
    "        dict_dorsal_rev[k] = mean(enc_dor_rev[k])\n",
    "        dict_fwd[k] = mean(enc_fwd[k])\n",
    "        dict_rev[k] = mean(enc_rev[k])\n",
    "    end\n",
    "    \n",
    "    dict_dorsal_fwd, dict_dorsal_rev, dict_fwd, dict_rev\n",
    "end;"
   ]
  },
  {
   "cell_type": "markdown",
   "id": "d8c772b2-b886-4b0d-a91c-3031508d5fcc",
   "metadata": {},
   "source": [
    "#### pumpingness"
   ]
  },
  {
   "cell_type": "code",
   "execution_count": 35,
   "id": "bdbcced7-0b97-4c92-be82-837f5fce510f",
   "metadata": {},
   "outputs": [
    {
     "data": {
      "text/plain": [
       "Dict{Any, Any} with 21 entries:\n",
       "  \"fwd_P_encoding_act\"      => 0.010775\n",
       "  \"θh_ventral\"              => -0.0355316\n",
       "  \"θh_dorsal\"               => 0.0355316\n",
       "  \"P_neg\"                   => -0.030793\n",
       "  \"θh_rect_ventral\"         => 0.0106653\n",
       "  \"P_rect_neg\"              => 0.0106661\n",
       "  \"v_rev\"                   => -0.605013\n",
       "  \"v_rect_neg\"              => 0.19769\n",
       "  \"rev_P_encoding_act\"      => 0.020018\n",
       "  \"rev_P_encoding_inh\"      => -0.020018\n",
       "  \"rev_θh_encoding_dorsal\"  => 0.0230985\n",
       "  \"v_encoding\"              => [0.0 0.779717 0.0 0.0; -0.779717 0.0 0.0 0.0; 0.…\n",
       "  \"fwd_θh_encoding_ventral\" => -0.0124332\n",
       "  \"v_rect_pos\"              => -0.19769\n",
       "  \"v_fwd\"                   => 0.605013\n",
       "  \"fwd_P_encoding_inh\"      => -0.010775\n",
       "  \"P_pos\"                   => 0.030793\n",
       "  \"θh_rect_dorsal\"          => -0.0106653\n",
       "  \"fwd_θh_encoding_dorsal\"  => 0.0124332\n",
       "  \"rev_θh_encoding_ventral\" => -0.0230985\n",
       "  \"P_rect_pos\"              => -0.00924297"
      ]
     },
     "execution_count": 35,
     "metadata": {},
     "output_type": "execute_result"
    }
   ],
   "source": [
    "hb_tuning[\"NSM\"]"
   ]
  },
  {
   "cell_type": "code",
   "execution_count": 36,
   "id": "ab818638-eac6-4bdd-bbcc-df41d873797d",
   "metadata": {},
   "outputs": [
    {
     "data": {
      "text/plain": [
       "0.3557632258092685"
      ]
     },
     "execution_count": 36,
     "metadata": {},
     "output_type": "execute_result"
    }
   ],
   "source": [
    "list_dict_fit[1][\"tuning_strength\"][\"1\"][\"1\"][\"P_pos\"]"
   ]
  },
  {
   "cell_type": "code",
   "execution_count": 37,
   "id": "940166d2-b874-489b-8871-71bc201530ad",
   "metadata": {},
   "outputs": [],
   "source": [
    "dict_pumpingness = let\n",
    "    pumpingness = Dict()\n",
    "\n",
    "    list_class = vcat(sort(collect(keys(dict_neuron_instance))))\n",
    "    \n",
    "    for (idx_uid, (uid, rg_t)) = enumerate(list_uid_use_pumping)\n",
    "        dict_fit = list_dict_fit[idx_uid]\n",
    "        dict_match = list_match_dict[idx_uid][2]\n",
    "        \n",
    "        for rg_t = rg_t\n",
    "            dict_ts = dict_fit[\"tuning_strength\"][\"$rg_t\"]\n",
    "            for class_dv = list_class\n",
    "                \n",
    "                if haskey(dict_match, class_dv)\n",
    "                    list_match = dict_match[class_dv]\n",
    "                    \n",
    "                    if length(list_match) > 0\n",
    "                        for (label, roi_gcamp, match_confidence) = list_match\n",
    "                            dict_ts_neuron = dict_ts[\"$roi_gcamp\"]\n",
    "                            add_list_dict!(pumpingness, class_dv, dict_ts_neuron[\"P_pos\"])\n",
    "                        end\n",
    "                    end\n",
    "                end # if haskey(class_dv)\n",
    "            end # for list_classes for lr\n",
    "        end # for rg_t\n",
    "    end # for list_uid_use_t_all\n",
    "\n",
    "    \n",
    "    dict_pumpingness = Dict()\n",
    "    \n",
    "    for k = keys(pumpingness)\n",
    "        dict_pumpingness[k] = mean(pumpingness[k])\n",
    "    end\n",
    "    \n",
    "    dict_pumpingness\n",
    "end;"
   ]
  },
  {
   "cell_type": "markdown",
   "id": "cc1388ea-c5f2-4367-8fa6-644948b71398",
   "metadata": {},
   "source": [
    "#### decay"
   ]
  },
  {
   "cell_type": "code",
   "execution_count": 38,
   "id": "7cb68166-32bf-4c10-a926-cc82f5f379c2",
   "metadata": {},
   "outputs": [],
   "source": [
    "dict_τ, dict_n = neuropal_aggregate_data(list_dict_fit, list_match_dict, list_uid_use_all, list_class_dv_ordered,\n",
    "    f_aggregate_dataset=median, f_process=get_tau, f_aggregate_rg_t=median, merge_rg_t=true);"
   ]
  },
  {
   "cell_type": "code",
   "execution_count": 39,
   "id": "96eae74b-22b3-4262-b0c3-66a639cac720",
   "metadata": {},
   "outputs": [],
   "source": [
    "#     [\"OLQ\",\"OLL\",\"IL1\",\"RIH\",\"CEP\",\"URX\"]"
   ]
  },
  {
   "cell_type": "code",
   "execution_count": 40,
   "id": "5f997c00-5ab6-4df0-bfe3-39fc8f3c97ae",
   "metadata": {},
   "outputs": [],
   "source": [
    "let\n",
    "    list_neuron_class = [[\"OLQ\", [\"OLQD\", \"OLQV\"]],\n",
    "        [\"IL1\",[\"IL1L\",\"IL1R\"]],\n",
    "        [\"CEP\",[\"CEPD\",\"CEPV\"]]\n",
    "    ]\n",
    "   \n",
    "    for (class, list_subclass) = list_neuron_class\n",
    "        list_τ = [dict_τ[subclass] for subclass = list_subclass]\n",
    "        dict_τ[class] = median(list_τ)\n",
    "    end\n",
    "end"
   ]
  },
  {
   "cell_type": "code",
   "execution_count": 41,
   "id": "0d6aa475-52f8-4b90-bbb2-127044817ac1",
   "metadata": {},
   "outputs": [
    {
     "data": {
      "text/plain": [
       "NaN"
      ]
     },
     "execution_count": 41,
     "metadata": {},
     "output_type": "execute_result"
    }
   ],
   "source": [
    "dict_τ[\"RIP\"] = NaN"
   ]
  },
  {
   "cell_type": "code",
   "execution_count": 42,
   "id": "50bb2f6f-edb7-4750-b4d3-e74820f11a66",
   "metadata": {},
   "outputs": [
    {
     "data": {
      "text/plain": [
       "7.442292721355727"
      ]
     },
     "execution_count": 42,
     "metadata": {},
     "output_type": "execute_result"
    }
   ],
   "source": [
    "dict_τ[\"URB\"]"
   ]
  },
  {
   "cell_type": "markdown",
   "id": "16c2ab3c-318e-4308-959d-ad933e60e3e1",
   "metadata": {},
   "source": [
    "### comprehensive plot"
   ]
  },
  {
   "cell_type": "code",
   "execution_count": 44,
   "id": "5c6bf212-9730-41b6-bb68-8d4bc49813b7",
   "metadata": {},
   "outputs": [
    {
     "data": {
      "image/png": "[encoded data removed]",
      "text/plain": [
       "Figure(PyObject <Figure size 420x700 with 1 Axes>)"
      ]
     },
     "metadata": {},
     "output_type": "display_data"
    }
   ],
   "source": [
    "let\n",
    "    ### color map\n",
    "    # head\n",
    "    cmax = 1\n",
    "    cmin = 0\n",
    "    cmap = ColorMap(\"PiYG\")\n",
    "    vmin, vmax = -0.25,0.25\n",
    "    \n",
    "    # pump\n",
    "    cmaxp = 1\n",
    "    cminp = 0\n",
    "    cmapp = ColorMap(\"PiYG\")\n",
    "    vminp, vmaxp = -0.25,0.25\n",
    "\n",
    "    # ewma\n",
    "    cmax_ewma = 1\n",
    "    cmin_ewma = 0\n",
    "    cmap_ewma = ColorMap(\"viridis\")\n",
    "    vmin_ewma, vmax_ewma = log10(3), log10(45)\n",
    "    \n",
    "    ### size\n",
    "    size_max = default_node_size + 400\n",
    "    size_min = default_node_size - 250\n",
    "    \n",
    "    slope_max = 4\n",
    "    slope_min = -4\n",
    "    \n",
    "    ### graph\n",
    "    g_head = py_nx.Graph(edge_layout=\"curved\")\n",
    "    for (k,v) = dict_node\n",
    "        g_head.add_node(v[\"id\"], pos=v[\"pos\"], node_size=v[\"size\"], node_label=k, node_type=v[\"node_type\"], node_subtype=v[\"node_subtype\"])\n",
    "    end\n",
    "    \n",
    "    for synapse = list_synapses\n",
    "        g_head.add_edge(synapse[1], synapse[2], weight=synapse[4], synapse_type=synapse[3])\n",
    "    end\n",
    "    \n",
    "    node_pos = py_nx.get_node_attributes(g_head, \"pos\")\n",
    "    node_size = [dict_node[id_to_node_label[i]][\"size\"] for i = 1:length(id_to_node_label)]\n",
    "    node_label = py_nx.get_node_attributes(g_head,\"node_label\")\n",
    "    \n",
    "    dict_pos_node_neuron = Dict()\n",
    "    dict_label_node_neuron = Dict()\n",
    "    list_node_color = []\n",
    "    list_node_size = []\n",
    "    list_node_edgecolors = []\n",
    "    for i = 1:length(g_head.nodes)\n",
    "        node_ = g_head.nodes.get(i)\n",
    "        if node_[\"node_type\"] == \"neuron\"\n",
    "            dict_pos_node_neuron[i] = node_[\"pos\"]\n",
    "            node_label_ = node_[\"node_label\"]\n",
    "            dict_label_node_neuron[i] = node_label_\n",
    "    \n",
    "            if node_[\"node_subtype\"] == \"head\"\n",
    "                # color\n",
    "                x_ = dict_dorsal_rev[node_label_]\n",
    "                x_ = clamp(x_, vmin, vmax)\n",
    "                x_ = (cmax - cmin) * (x_ - vmin) / (vmax - vmin) + cmin\n",
    "                push!(list_node_color, cmap(x_))\n",
    "\n",
    "                # size\n",
    "                x_ = - dict_rev[node_label_]\n",
    "                x_ = clamp(x_, slope_min, slope_max)\n",
    "                x_ = (size_max - size_min) * (x_ - slope_min) / (slope_max - slope_min) + size_min\n",
    "                push!(list_node_size, x_)\n",
    "                push!(list_node_edgecolors, (0,0,0,1))\n",
    "            elseif node_[\"node_subtype\"] == \"pharyngeal\"\n",
    "                # color\n",
    "                x_ = dict_pumpingness[node_label_]\n",
    "                x_ = isnan(x_) ? 0. : x_\n",
    "                x_ = clamp(x_, vmin, vmax)\n",
    "                x_ = (cmaxp - cminp) * (x_ - vminp) / (vmaxp - vminp) + cminp\n",
    "                push!(list_node_color, cmapp(x_))\n",
    "\n",
    "                # size\n",
    "                push!(list_node_size, default_node_size)\n",
    "                push!(list_node_edgecolors, (0,0,0,1))\n",
    "            else\n",
    "                # push!(list_node_color, (1,1,1,1))\n",
    "                # color\n",
    "                x_ = dict_τ[node_label_]\n",
    "                x_ = log10(x_)\n",
    "                x_ = clamp(x_, vmin_ewma, vmax_ewma)\n",
    "                x_ = (cmax_ewma - cmin_ewma) * (x_ - vmin_ewma) / (vmax_ewma - vmin_ewma) + cmin_ewma\n",
    "                push!(list_node_color, cmap_ewma(x_))\n",
    "\n",
    "\n",
    "                push!(list_node_size, default_node_size)\n",
    "                push!(list_node_edgecolors, (0,0,0,1))\n",
    "            end\n",
    "        else \n",
    "            push!(list_node_color, zeros(4))\n",
    "            push!(list_node_size, default_node_size)\n",
    "            push!(list_node_edgecolors, zeros(4))\n",
    "        end\n",
    "    end\n",
    "    \n",
    "    figure(figsize=(4.2,7))\n",
    "    #### nodes\n",
    "    py_nx.draw_networkx_nodes(g_head, node_pos, node_size=list_node_size, node_color=list_node_color, edgecolors=list_node_edgecolors)\n",
    "    py_nx.draw_networkx_labels(g_head, dict_pos_node_neuron, labels=dict_label_node_neuron,\n",
    "        font_size=6, font_family=\"Helvetica\", font_weight=\"normal\")\n",
    "    \n",
    "    #### edges\n",
    "    g_edges = g_head.edges\n",
    "    list_chemical = [(u,v) for (u,v) = g_edges if g_edges.get((u,v))[\"synapse_type\"] == \"chemical\"]\n",
    "    list_electrical = [(u,v) for (u,v) = g_edges if g_edges.get((u,v))[\"synapse_type\"] == \"electrical\"]\n",
    "    \n",
    "    ## marking gap junction/electrical synapse with ||\n",
    "    dict_edge_label = Dict()\n",
    "    for (u,v) = g_edges\n",
    "        if g_edges.get((u,v))[\"synapse_type\"] == \"electrical\"\n",
    "            dict_edge_label[(u,v)] = \"||\"\n",
    "        end\n",
    "    end\n",
    "    py_nx.draw_networkx_edge_labels(g_head, node_pos, dict_edge_label,\n",
    "        font_family=\"Helvetica\", font_weight=\"normal\", font_color=(0.7,0.7,0.7,1))\n",
    "\n",
    "    ## electrical\n",
    "    py_nx.draw_networkx_edges(g_head, node_pos, style=\"-\", arrows=false, edge_color=(0.7,0.7,0.7,1),\n",
    "        edgelist=[(u,v) for (u,v) = list_electrical],\n",
    "        width=[g_edges.get((u,v))[\"weight\"] / 10 for (u,v) = list_electrical])\n",
    "    ## chemical\n",
    "    py_nx.draw_networkx_edges(g_head, node_pos, arrows=false, edge_color=(0.7,0.7,0.7,1),\n",
    "        edgelist=[(u,v) for (u,v) = list_chemical],\n",
    "        width=[g_edges.get((u,v))[\"weight\"] / 10 for (u,v) = list_chemical])\n",
    "\n",
    "    #### node - muscle group\n",
    "    dict_pos_node_neuron = Dict()\n",
    "    dict_label_node_neuron = Dict()\n",
    "    list_node_color = []\n",
    "    list_node_size = []\n",
    "    list_node_edgecolors = []\n",
    "    list_node = []\n",
    "    for i = 1:length(g_head.nodes)\n",
    "        node_ = g_head.nodes.get(i)\n",
    "        if node_[\"node_type\"] == \"muscle_group\"\n",
    "            push!(list_node, i)\n",
    "            dict_pos_node_neuron[i] = node_[\"pos\"]\n",
    "            node_label_ = node_[\"node_label\"]\n",
    "            dict_label_node_neuron[i] = node_label_\n",
    "            \n",
    "            push!(list_node_color, (0.5,0.5,0.5,1))\n",
    "            push!(list_node_size, 2 * default_node_size)\n",
    "            push!(list_node_edgecolors, (0,0,0,1))\n",
    "        end\n",
    "    end\n",
    "    py_nx.draw_networkx_nodes(g_head, dict_pos_node_neuron, nodelist=list_node,\n",
    "        node_size=list_node_size, node_color=list_node_color,\n",
    "        edgecolors=list_node_edgecolors, node_shape=\"s\")\n",
    "    py_nx.draw_networkx_labels(g_head, dict_pos_node_neuron, labels=dict_label_node_neuron,\n",
    "        font_size=6, font_family=\"arial\", font_weight=\"normal\")\n",
    "\n",
    "    #### other image settings\n",
    "    axis(\"off\")\n",
    "    ylim(-11-22,11)\n",
    "    xlim(-11-4.4,11)\n",
    "    tight_layout()\n",
    "    path_fig = joinpath(path_fig_root, \"neuropal head rev and others\")\n",
    "    savefig(path_fig * \".pdf\")    \n",
    "    savefig(path_fig * \".png\", dpi=300)\n",
    "end"
   ]
  },
  {
   "cell_type": "code",
   "execution_count": null,
   "id": "c918a371-e6d3-49c0-a415-b06e7edb6df8",
   "metadata": {},
   "outputs": [],
   "source": []
  },
  {
   "cell_type": "code",
   "execution_count": null,
   "id": "fd2ede99-b546-40ad-9876-3b43b41daa7f",
   "metadata": {},
   "outputs": [],
   "source": []
  },
  {
   "cell_type": "code",
   "execution_count": null,
   "id": "24a08822-43e8-45a1-a37f-d2236aba1467",
   "metadata": {},
   "outputs": [],
   "source": []
  },
  {
   "cell_type": "code",
   "execution_count": null,
   "id": "56630662-e185-4b7a-94f6-6b90b06102ac",
   "metadata": {},
   "outputs": [],
   "source": []
  },
  {
   "cell_type": "code",
   "execution_count": null,
   "id": "5cf203d0-2a2e-46af-895c-7010e331a414",
   "metadata": {},
   "outputs": [],
   "source": []
  },
  {
   "cell_type": "code",
   "execution_count": null,
   "id": "ecad5447-4601-4636-82f0-f77ada0b048f",
   "metadata": {},
   "outputs": [],
   "source": []
  }
 ],
 "metadata": {
  "@webio": {
   "lastCommId": "d4ad7938-0aa1-4b4c-b346-3c53d0da9738",
   "lastKernelId": "6597a55c-86e2-4337-b4b9-20f1e2477751"
  },
  "kernelspec": {
   "display_name": "Julia (01t) 1.9.0-beta3",
   "language": "julia",
   "name": "julia-_01t_-1.9"
  },
  "language_info": {
   "file_extension": ".jl",
   "mimetype": "application/julia",
   "name": "julia",
   "version": "1.9.0"
  }
 },
 "nbformat": 4,
 "nbformat_minor": 5
}
