{
 "cells": [
  {
   "cell_type": "code",
   "execution_count": 10,
   "id": "cda371ed-7562-4581-98a9-912d6074a4a9",
   "metadata": {},
   "outputs": [
    {
     "data": {
      "text/plain": [
       "standardize (generic function with 1 method)"
      ]
     },
     "execution_count": 10,
     "metadata": {},
     "output_type": "execute_result"
    }
   ],
   "source": [
    "using HDF5, ANTSUNData, PyPlot, FlavellBase, PyCall, Statistics,\n",
    "    EncoderModelGen, GenAnalysis, AnalysisBase, FlavellConstants, ProgressMeter, StatsBase,\n",
    "    MultivariateStats, LinearAlgebra, ClusterValidityIndices, Clustering\n",
    "zstd = FlavellBase.standardize"
   ]
  },
  {
   "cell_type": "code",
   "execution_count": 11,
   "id": "2937f706-f36a-4aea-a9a8-b37aee2113e9",
   "metadata": {},
   "outputs": [],
   "source": [
    "rc_params = PyDict(pyimport(\"matplotlib\")[\"rcParams\"]);\n",
    "rc_params[\"font.sans-serif\"] = [\"Arial\"];\n",
    "rc_params[\"font.size\"] = 7;\n",
    "fix_plot() = (margins(0.05); tick_params(direction = \"out\");\n",
    "    ax = gca(); ax[:xaxis][:tick_bottom]();\n",
    "    ax[:yaxis][:tick_left]();\n",
    "    ax[:spines][\"top\"][\"set_visible\"](false);\n",
    "    ax[:spines][\"right\"][\"set_visible\"](false););"
   ]
  },
  {
   "cell_type": "code",
   "execution_count": 12,
   "id": "3606ea28-788b-4a5e-b0df-b242d04ac52f",
   "metadata": {},
   "outputs": [
    {
     "data": {
      "text/plain": [
       "\"/data1/prj_kfc/figure/manuscript/cell_draft1/figure1\""
      ]
     },
     "execution_count": 12,
     "metadata": {},
     "output_type": "execute_result"
    }
   ],
   "source": [
    "path_fig_root = \"/data1/prj_kfc/figure/manuscript/cell_draft1/figure1\""
   ]
  },
  {
   "cell_type": "code",
   "execution_count": 13,
   "id": "1f199df2-9029-4932-a37b-7944ee63620b",
   "metadata": {},
   "outputs": [
    {
     "data": {
      "text/plain": [
       "\"/data1/jungsoo/2022-10-14-baseline-enc.h5\""
      ]
     },
     "execution_count": 13,
     "metadata": {},
     "output_type": "execute_result"
    }
   ],
   "source": [
    "path_h5_enc = \"/data1/jungsoo/2022-10-14-baseline-enc.h5\""
   ]
  },
  {
   "cell_type": "code",
   "execution_count": 14,
   "id": "34b37459-0223-47ec-90f3-967d5fed6750",
   "metadata": {},
   "outputs": [
    {
     "data": {
      "text/plain": [
       "14-element Vector{String}:\n",
       " \"2021-05-26-07\"\n",
       " \"2021-06-11-01\"\n",
       " \"2021-08-04-06\"\n",
       " \"2021-08-17-01\"\n",
       " \"2021-08-18-01\"\n",
       " \"2021-09-22-05\"\n",
       " \"2021-10-26-01\"\n",
       " \"2021-11-12-01\"\n",
       " \"2021-11-12-05\"\n",
       " \"2022-01-09-01\"\n",
       " \"2022-01-17-01\"\n",
       " \"2022-04-05-01\"\n",
       " \"2022-04-12-04\"\n",
       " \"2022-04-14-04\""
      ]
     },
     "execution_count": 14,
     "metadata": {},
     "output_type": "execute_result"
    }
   ],
   "source": [
    "list_uid_baseline_merged = [\"2021-05-26-07\", \"2021-06-11-01\", \"2021-08-04-06\", \"2021-08-17-01\", \"2021-08-18-01\", \"2021-09-22-05\", \"2021-10-26-01\", \"2021-11-12-01\", \"2021-11-12-05\", \"2022-01-09-01\"]\n",
    "list_uid_baseline_continuous = [\"2022-01-17-01\", \"2022-04-05-01\", \"2022-04-12-04\", \"2022-04-14-04\"];\n",
    "\n",
    "list_uid = sort(unique(vcat(list_uid_baseline_merged, list_uid_baseline_continuous)))"
   ]
  },
  {
   "cell_type": "code",
   "execution_count": 15,
   "id": "cdce604a-9b26-4173-b86a-33b2a3a1b436",
   "metadata": {},
   "outputs": [
    {
     "data": {
      "text/plain": [
       "0.07179528884124053"
      ]
     },
     "execution_count": 15,
     "metadata": {},
     "output_type": "execute_result"
    }
   ],
   "source": [
    "σ_GFP = 0.07179528884124053"
   ]
  },
  {
   "cell_type": "code",
   "execution_count": 16,
   "id": "e29eef97-71bb-4788-a418-3c156a9b7307",
   "metadata": {},
   "outputs": [
    {
     "data": {
      "text/plain": [
       "5.000000000000001"
      ]
     },
     "execution_count": 16,
     "metadata": {},
     "output_type": "execute_result"
    }
   ],
   "source": [
    "1/(1-0.8)"
   ]
  },
  {
   "cell_type": "code",
   "execution_count": 8,
   "id": "87d33930-b398-4d3c-b766-fa1910705b56",
   "metadata": {},
   "outputs": [
    {
     "data": {
      "text/plain": [
       "find_neuron_snr (generic function with 1 method)"
      ]
     },
     "execution_count": 8,
     "metadata": {},
     "output_type": "execute_result"
    }
   ],
   "source": [
    "function find_neuron_snr(trace_array, θ, σ_GFP)\n",
    "    snr_factor = 1 / (1-θ)\n",
    "    findall(std(trace_array, dims=2)[:] .> (snr_factor * σ_GFP))\n",
    "end"
   ]
  },
  {
   "cell_type": "code",
   "execution_count": 414,
   "id": "c7f4260f-3c7b-4979-8a44-80656498634d",
   "metadata": {},
   "outputs": [
    {
     "name": "stderr",
     "output_type": "stream",
     "text": [
      "\u001b[32mProgress: 100%|█████████████████████████████████████████| Time: 0:01:26\u001b[39m\n"
     ]
    }
   ],
   "source": [
    "list_array_var_explained = []\n",
    "list_overall_var_explained = []\n",
    "let\n",
    "    @showprogress for (idx_uid, data_uid) = enumerate(list_uid)\n",
    "        path_data = \"/data1/jungsoo/data/processed_h5/$(data_uid)-data.h5\"\n",
    "        data_dict =  import_data(path_data)\n",
    "        dict_fit = h5read(path_h5_enc, data_uid);\n",
    "\n",
    "        trace_original = data_dict[\"trace_original\"]\n",
    "\n",
    "        X = trace_original\n",
    "        n_neuron = size(X, 1)\n",
    "        trace_pca = MultivariateStats.fit(PCA, X,\n",
    "            maxoutdim=n_neuron, pratio=1)\n",
    "        \n",
    "        Yt = predict(trace_pca, X)\n",
    "        pca_loadings = loadings(trace_pca)\n",
    "        pca_projection = projection(trace_pca)\n",
    "        list_X_mean = trace_pca.mean\n",
    "\n",
    "        n_neuron, n_pc = size(pca_projection)\n",
    "        array_var_explained = zeros(n_neuron, n_pc)\n",
    "        for idx_neuron = 1:n_neuron\n",
    "            for n_pc = 1:n_pc\n",
    "                x_original = X[idx_neuron,:]\n",
    "                idx_order_projection = sortperm(abs.(pca_loadings[idx_neuron,:]), rev=true)\n",
    "                x_pred = (pca_projection[idx_neuron,idx_order_projection[1:n_pc]]' * Yt[idx_order_projection[1:n_pc],:])[:] .+ list_X_mean[idx_neuron]\n",
    "\n",
    "                r2_pca = 1 - sum((x_original .- x_pred) .^ 2) / sum((x_original .- mean(x_original)) .^ 2)\n",
    "\n",
    "                array_var_explained[idx_neuron, n_pc] = r2_pca\n",
    "            end\n",
    "        end\n",
    "        push!(list_array_var_explained, array_var_explained)\n",
    "        push!(list_overall_var_explained, (principalvars(trace_pca), tprincipalvar(trace_pca), var(trace_pca)))\n",
    "    end\n",
    "end"
   ]
  },
  {
   "cell_type": "code",
   "execution_count": 454,
   "id": "18000bfe-9231-4863-966c-35139364349b",
   "metadata": {},
   "outputs": [
    {
     "data": {
      "image/png": "[encoded data removed]",
      "text/plain": [
       "Figure(PyObject <Figure size 500x300 with 1 Axes>)"
      ]
     },
     "metadata": {},
     "output_type": "display_data"
    }
   ],
   "source": [
    "let\n",
    "    figure(figsize=(5,3))\n",
    "    for (i_θ, θ) = enumerate([0.7, 0.8])\n",
    "        rg_hist = 1:3:50\n",
    "        list_hist_weights = []\n",
    "        for idx_uid = 1:length(list_uid)\n",
    "            data_uid = list_uid[idx_uid]\n",
    "            path_data = \"/data1/jungsoo/data/processed_h5/$(data_uid)-data.h5\"\n",
    "            data_dict =  import_data(path_data)\n",
    "            trace_original = data_dict[\"trace_original\"]\n",
    "            X = trace_original ./ mean(trace_original, dims=2)\n",
    "\n",
    "            idx_neuron_snr = find_neuron_snr(X, θ, σ_GFP)\n",
    "            idx_neuron_use = idx_neuron_snr\n",
    "            \n",
    "            array_ = list_array_var_explained[idx_uid]\n",
    "            n_neuron = size(array_, 2)\n",
    "                \n",
    "            data_ = [findfirst(array_[idx_neuron,:] .> θ) for idx_neuron = idx_neuron_use]\n",
    "\n",
    "            hist_fit = fit(Histogram, data_, rg_hist)\n",
    "            hist_fit = normalize(hist_fit, mode=:density)\n",
    "            push!(list_hist_weights, hist_fit.weights)\n",
    "        end\n",
    "\n",
    "        hist_array = hcat(list_hist_weights...)'\n",
    "        n_sample = size(hist_array, 1)\n",
    "        u = meanprj(hist_array, dims=1)\n",
    "        s = dropdims(std(hist_array, dims=1), dims=1)# / sqrt(n_sample)\n",
    "\n",
    "\n",
    "        y1 = u .- s\n",
    "        y2 = u\n",
    "        y3 = u .+ s\n",
    "\n",
    "        plot(rg_hist[1:end-1],y2, label=\"r^2 > $θ\")\n",
    "        fill_between(rg_hist[1:end-1], y1, y3, alpha=0.2, linewidth=0)\n",
    "        \n",
    "        # overall variance\n",
    "        list_n_pc = []\n",
    "        for idx_uid = 1:length(list_uid)\n",
    "            tvar = list_overall_var_explained[idx_uid][3]\n",
    "            list_var = list_overall_var_explained[idx_uid][1]\n",
    "\n",
    "            push!(list_n_pc, findfirst(cumsum(list_var ./ tvar) .> θ))\n",
    "        end\n",
    "\n",
    "        # axvline(mean(list_n_pc), color=\"C$(i_θ-1)\")\n",
    "        # println(mean(list_n_pc))\n",
    "    end\n",
    "    # axvline(5, color=\"k\")\n",
    "    # axvline(10, color=\"k\")\n",
    "    legend()\n",
    "    xlabel(\"number of components needed\")\n",
    "    ylabel(\"density\")\n",
    "    xlim(0,40)\n",
    "    # ylim(0,10)\n",
    "    fix_plot()\n",
    "end"
   ]
  },
  {
   "cell_type": "code",
   "execution_count": 457,
   "id": "f6593f46-0fd7-4b94-a58f-4d9227d170ec",
   "metadata": {},
   "outputs": [
    {
     "name": "stdout",
     "output_type": "stream",
     "text": [
      "8.142857142857142\n"
     ]
    },
    {
     "data": {
      "image/png": "[encoded data removed]",
      "text/plain": [
       "Figure(PyObject <Figure size 200x175 with 1 Axes>)"
      ]
     },
     "metadata": {},
     "output_type": "display_data"
    }
   ],
   "source": [
    "let\n",
    "    figure(figsize=(2,1.75))\n",
    "    for (i_θ, θ) = enumerate([0.75])\n",
    "        rg_hist = 1:1:40\n",
    "        list_hist_weights = []\n",
    "        for idx_uid = 1:length(list_uid)\n",
    "            data_uid = list_uid[idx_uid]\n",
    "            path_data = \"/data1/jungsoo/data/processed_h5/$(data_uid)-data.h5\"\n",
    "            data_dict =  import_data(path_data)\n",
    "            trace_original = data_dict[\"trace_original\"]\n",
    "            X = trace_original ./ mean(trace_original, dims=2)\n",
    "\n",
    "            idx_neuron_snr = find_neuron_snr(X, θ, σ_GFP)\n",
    "            idx_neuron_use = idx_neuron_snr\n",
    "\n",
    "            array_ = list_array_var_explained[idx_uid]\n",
    "            n_neuron = size(array_, 2)\n",
    "\n",
    "            data_ = [findfirst(array_[idx_neuron,:] .> θ) for idx_neuron = idx_neuron_use]\n",
    "\n",
    "            # hist_fit = fit(Histogram, data_, rg_hist)\n",
    "            # hist_fit = normalize(hist_fit, mode=:density)\n",
    "            ecdf_ = ecdf(data_)\n",
    "            push!(list_hist_weights, ecdf_.(rg_hist))\n",
    "        end\n",
    "\n",
    "        hist_array = hcat(list_hist_weights...)'\n",
    "        n_sample = size(hist_array, 1)\n",
    "        u = meanprj(hist_array, dims=1)\n",
    "        s = dropdims(std(hist_array, dims=1), dims=1)# / sqrt(n_sample)\n",
    "\n",
    "\n",
    "        y1 = u .- s\n",
    "        y2 = u\n",
    "        y3 = u .+ s\n",
    "\n",
    "        plot(rg_hist,y2, label=\"r^2 > $θ\")\n",
    "        fill_between(rg_hist, y1, y3, alpha=0.2, linewidth=0)\n",
    "        \n",
    "        # overall variance\n",
    "        list_n_pc = []\n",
    "        for idx_uid = 1:length(list_uid)\n",
    "            tvar = list_overall_var_explained[idx_uid][3]\n",
    "            list_var = list_overall_var_explained[idx_uid][1]\n",
    "\n",
    "            push!(list_n_pc, findfirst(cumsum(list_var ./ tvar) .> θ))\n",
    "        end\n",
    "\n",
    "        # axvline(mean(list_n_pc), color=\"C$(i_θ-1)\")\n",
    "        println(mean(list_n_pc))\n",
    "        \n",
    "        idx_ = findfirst(y2 .> 0.5)\n",
    "        axvline(rg_hist[idx_], color=\"C$(i_θ-1)\", linestyle=\"--\")\n",
    "        # println(rg_hist[idx_])\n",
    "    end\n",
    "    # legend()\n",
    "    xlabel(\"Number of components needed\")\n",
    "    ylabel(\"ECDF\\n(cumulative fraction of neurons)\")\n",
    "    xlim(0,20)\n",
    "    ylim(0,1)\n",
    "    yticks(0:0.25:1)\n",
    "    axhline(0.5, color=\"k\", linewidth=0.5)\n",
    "    fix_plot()\n",
    "    tight_layout()\n",
    "    path_fig = \"/data1/prj_kfc/figure/manuscript/cell_draft1/figure3/pca_num_comp_ecdf.pdf\"\n",
    "    savefig(path_fig)\n",
    "end"
   ]
  },
  {
   "cell_type": "markdown",
   "id": "409b7cca-1bb7-43df-b044-d131fd4f89be",
   "metadata": {},
   "source": [
    "## Cluster"
   ]
  },
  {
   "cell_type": "code",
   "execution_count": 74,
   "id": "54d0dba4-2a9b-479d-b59a-d048fae6b925",
   "metadata": {},
   "outputs": [
    {
     "name": "stderr",
     "output_type": "stream",
     "text": [
      "\u001b[32mProgress: 100%|█████████████████████████████████████████| Time: 0:00:09\u001b[39m\n"
     ]
    },
    {
     "data": {
      "image/png": "[encoded data removed]",
      "text/plain": [
       "Figure(PyObject <Figure size 350x200 with 1 Axes>)"
      ]
     },
     "metadata": {},
     "output_type": "display_data"
    },
    {
     "data": {
      "image/png": "[encoded data removed]",
      "text/plain": [
       "Figure(PyObject <Figure size 350x200 with 1 Axes>)"
      ]
     },
     "metadata": {},
     "output_type": "display_data"
    },
    {
     "data": {
      "text/plain": [
       "1-element Vector{PyObject}:\n",
       " PyObject <matplotlib.lines.Line2D object at 0x7f145a3a15b0>"
      ]
     },
     "execution_count": 74,
     "metadata": {},
     "output_type": "execute_result"
    }
   ],
   "source": [
    "let\n",
    "    list_cost_all = []\n",
    "    rg_n_clust = 2:30\n",
    "    @showprogress for idx_uid = 1:length(list_uid)\n",
    "        data_uid = list_uid[idx_uid]\n",
    "        path_data = \"/data1/jungsoo/data/processed_h5/$(data_uid)-data.h5\"\n",
    "        data_dict =  import_data(path_data)\n",
    "        dict_fit = h5read(path_h5_enc, data_uid);\n",
    "\n",
    "        trace_original = data_dict[\"trace_original\"]\n",
    "\n",
    "        X = Array(trace_original')\n",
    "        X = Array((trace_original ./ mean(trace_original, dims=2))')\n",
    "        list_cost = []\n",
    "        for n_clust = rg_n_clust\n",
    "            kmns_res = kmeans(X, n_clust)\n",
    "            push!(list_cost, kmns_res.totalcost)\n",
    "        end\n",
    "        push!(list_cost_all, list_cost)\n",
    "    end\n",
    "    \n",
    "    data_ = hcat(list_cost_all...)'\n",
    "    \n",
    "    n_sample = size(data_, 1)\n",
    "    u = meanprj(data_, dims=1)\n",
    "    s = dropdims(std(data_, dims=1), dims=1)# / sqrt(n_sample)\n",
    "\n",
    "    y1 = u .- s\n",
    "    y2 = u\n",
    "    y3 = u .+ s\n",
    "\n",
    "    figure(figsize=(3.5,2))\n",
    "    plot(rg_n_clust,y2)\n",
    "    fill_between(rg_n_clust, y1, y3, alpha=0.2, linewidth=0)\n",
    "    xlabel(\"Number of clusters\")\n",
    "    ylabel(\"K-menas error\")\n",
    "    # ylim(10000,50000)\n",
    "    fix_plot()\n",
    "    tight_layout()\n",
    "\n",
    "    figure(figsize=(3.5,2))\n",
    "    plot(rg_n_clust[2:end], diff(y2))\n",
    "    # path_fig = \"/data1/prj_kfc/figure/manuscript/cell_draft1/figure3/kmeans_error.pdf\"\n",
    "    # savefig(path_fig)\n",
    "end"
   ]
  },
  {
   "cell_type": "code",
   "execution_count": 349,
   "id": "b2ef9c4d-b598-440b-bfa1-edd0de7c5751",
   "metadata": {},
   "outputs": [
    {
     "data": {
      "image/png": "[encoded data removed]",
      "text/plain": [
       "Figure(PyObject <Figure size 300x200 with 1 Axes>)"
      ]
     },
     "metadata": {},
     "output_type": "display_data"
    }
   ],
   "source": [
    "let\n",
    "    list_cost_all = []\n",
    "    rg_n_clust = 2:30\n",
    "\n",
    "    for idx_uid = 1:length(list_uid)\n",
    "        data_uid = list_uid[idx_uid]\n",
    "        path_data = \"/data1/jungsoo/data/processed_h5/$(data_uid)-data.h5\"\n",
    "        data_dict =  import_data(path_data)\n",
    "        dict_fit = h5read(path_h5_enc, data_uid);\n",
    "\n",
    "        trace_original = data_dict[\"trace_original\"]\n",
    "\n",
    "        idx_neuron_c = unique(vcat([dict_fit[\"categorization\"][\"$i\"][\"all\"] for i = 1:2]...))\n",
    "\n",
    "        # X = Array(trace_original')\n",
    "        X = Array((trace_original[idx_neuron_c,:] ./ mean(trace_original[idx_neuron_c,:], dims=2))')\n",
    "        # X = Array(data_dict[\"trace_array\"][idx_neuron_c,:]')\n",
    "        \n",
    "        list_cvi = []\n",
    "        for n_clust = rg_n_clust\n",
    "            kmns_res = kmeans(X, n_clust)\n",
    "            cvi = CH()\n",
    "            data = Array(X')\n",
    "            labels = kmns_res.assignments\n",
    "            \n",
    "            push!(list_cvi, py_sklearn_metrics.calinski_harabasz_score(Array(X'), labels))\n",
    "            # push!(list_cvi, get_cvi!(cvi, data, labels))\n",
    "        end\n",
    "        push!(list_cost_all, list_cvi)\n",
    "    end\n",
    "    \n",
    "    data_ = hcat(list_cost_all...)'\n",
    "    \n",
    "    n_sample = size(data_, 1)\n",
    "    u = meanprj(data_, dims=1)\n",
    "    s = dropdims(std(data_, dims=1), dims=1) / sqrt(n_sample)\n",
    "\n",
    "    y1 = u .- s\n",
    "    y2 = u\n",
    "    y3 = u .+ s\n",
    "\n",
    "    figure(figsize=(3,2))\n",
    "    plot(rg_n_clust,y2)\n",
    "    fill_between(rg_n_clust, y1, y3, alpha=0.2, linewidth=0)\n",
    "    xlabel(\"Number of clusters\")\n",
    "    ylabel(\"Calinski-Harabasz\")\n",
    "\n",
    "    xlim(0,10)\n",
    "    ylim(10,30)\n",
    "    \n",
    "    fix_plot()\n",
    "    tight_layout()\n",
    "\n",
    "    savefig(\"/data1/prj_kfc/figure/manuscript/cell_draft1/figureS4/cluster_CH.pdf\")\n",
    "end"
   ]
  },
  {
   "cell_type": "code",
   "execution_count": 198,
   "id": "c1aae0c1-ae53-4bd5-a6e5-3036111e3613",
   "metadata": {},
   "outputs": [
    {
     "name": "stderr",
     "output_type": "stream",
     "text": [
      "\u001b[32mProgress: 100%|█████████████████████████████████████████| Time: 0:00:06\u001b[39m\n"
     ]
    },
    {
     "data": {
      "image/png": "[encoded data removed]",
      "text/plain": [
       "Figure(PyObject <Figure size 350x200 with 1 Axes>)"
      ]
     },
     "metadata": {},
     "output_type": "display_data"
    }
   ],
   "source": [
    "let\n",
    "    list_cost_all = []\n",
    "    rg_n_clust = 2:50\n",
    "\n",
    "    @showprogress for idx_uid = 1:length(list_uid)\n",
    "        data_uid = list_uid[idx_uid]\n",
    "        path_data = \"/data1/jungsoo/data/processed_h5/$(data_uid)-data.h5\"\n",
    "        data_dict =  import_data(path_data)\n",
    "        dict_fit = h5read(path_h5_enc, data_uid);\n",
    "\n",
    "        trace_original = data_dict[\"trace_original\"]\n",
    "        \n",
    "        idx_neuron_c = unique(vcat([dict_fit[\"categorization\"][\"$i\"][\"all\"] for i = 1:2]...))\n",
    "\n",
    "        # X = Array(trace_original')\n",
    "        X = Array((trace_original[idx_neuron_c,:] ./ mean(trace_original[idx_neuron_c,:], dims=2))')\n",
    "\n",
    "        list_cvi = []\n",
    "        for n_clust = rg_n_clust\n",
    "            kmns_res = kmeans(X, n_clust)\n",
    "\n",
    "            cvi = DB()\n",
    "            data = X\n",
    "            labels = kmns_res.assignments\n",
    "            push!(list_cvi, get_cvi!(cvi, Array(data'), labels))\n",
    "        end\n",
    "        push!(list_cost_all, list_cvi)\n",
    "    end\n",
    "    \n",
    "    data_ = hcat(list_cost_all...)'\n",
    "    \n",
    "    n_sample = size(data_, 1)\n",
    "    u = meanprj(data_, dims=1)\n",
    "    s = dropdims(std(data_, dims=1), dims=1) / sqrt(n_sample)\n",
    "\n",
    "    y1 = u .- s\n",
    "    y2 = u\n",
    "    y3 = u .+ s\n",
    "\n",
    "    figure(figsize=(3.5,2))\n",
    "    plot(rg_n_clust,y2)\n",
    "    fill_between(rg_n_clust, y1, y3, alpha=0.2, linewidth=0)\n",
    "    xlabel(\"Number of clusters\")\n",
    "    ylabel(\"Davies-Bouldin\")\n",
    "    # xlim(0,10)\n",
    "    # ylim(10000,50000)\n",
    "    fix_plot()\n",
    "    tight_layout()\n",
    "\n",
    "end"
   ]
  },
  {
   "cell_type": "code",
   "execution_count": null,
   "id": "07749ec8-f4cd-44cb-b03b-6b1e609bc24a",
   "metadata": {},
   "outputs": [],
   "source": []
  }
 ],
 "metadata": {
  "kernelspec": {
   "display_name": "Julia (16t) 1.8.0",
   "language": "julia",
   "name": "julia-(16t)-1.8"
  },
  "language_info": {
   "file_extension": ".jl",
   "mimetype": "application/julia",
   "name": "julia",
   "version": "1.8.0"
  }
 },
 "nbformat": 4,
 "nbformat_minor": 5
}
